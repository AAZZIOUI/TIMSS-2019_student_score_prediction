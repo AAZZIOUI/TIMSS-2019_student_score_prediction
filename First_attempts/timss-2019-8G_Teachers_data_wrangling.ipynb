{
 "cells": [
  {
   "cell_type": "markdown",
   "metadata": {},
   "source": [
    "# Teachers Data Wrangling:\n",
    "## Table of Contents\n",
    "<ul>\n",
    "<li><a href=\"#intro\">Introduction</a></li>\n",
    "<li><a href=\"#gather\">Gathering data</a></li>\n",
    "<li><a href=\"#assess\">Assessing data</a></li>\n",
    "<li><a href=\"#clean\">Cleaning data</a></li>\n",
    "<li><a href=\"#store\">Storing data</a></li>\n",
    "<li><a href=\"#analyze\">Analyze & Visualize</a></li>\n",
    "</ul>"
   ]
  },
  {
   "cell_type": "code",
   "execution_count": null,
   "metadata": {},
   "outputs": [],
   "source": [
    "import numpy as np\n",
    "import pandas as pd\n",
    "import config # a python file that contains path to TIMSS data files"
   ]
  },
  {
   "cell_type": "code",
   "execution_count": null,
   "metadata": {},
   "outputs": [],
   "source": [
    "# Teachers Data Context\n",
    "\n",
    "df_all_teachers_data = pd.read_spss(config.teacher_data_path_G8)"
   ]
  },
  {
   "cell_type": "code",
   "execution_count": null,
   "metadata": {},
   "outputs": [],
   "source": [
    "# Students-Teachers Data Linkage\n",
    "\n",
    "df_student_teacher_linkage = pd.read_spss(config.student_teacher_linkage_G8)"
   ]
  }
 ],
 "metadata": {
  "language_info": {
   "name": "python"
  }
 },
 "nbformat": 4,
 "nbformat_minor": 2
}
