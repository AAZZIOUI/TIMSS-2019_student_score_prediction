{
 "cells": [
  {
   "cell_type": "code",
   "execution_count": 5,
   "metadata": {},
   "outputs": [],
   "source": [
    "import numpy as np\n",
    "import pandas as pd\n",
    "import config # a python file that contains path to TIMSS data files\n",
    "import sklearn\n",
    "from sklearn.model_selection import train_test_split\n",
    "from sklearn.cluster import DBSCAN\n",
    "from sklearn import metrics\n",
    "#from sklearn import tree\n",
    "#from sklearn import BaggingClassifier\n",
    "#from sklearn import RandomForestClassifier\n",
    "\n",
    "import matplotlib.pyplot as plt\n",
    "%matplotlib inline"
   ]
  },
  {
   "cell_type": "code",
   "execution_count": 2,
   "metadata": {},
   "outputs": [],
   "source": [
    "ml_data_1 = pd.read_csv(config.ml_data_1, index_col=False)"
   ]
  },
  {
   "cell_type": "code",
   "execution_count": 6,
   "metadata": {},
   "outputs": [
    {
     "data": {
      "text/html": [
       "<div>\n",
       "<style scoped>\n",
       "    .dataframe tbody tr th:only-of-type {\n",
       "        vertical-align: middle;\n",
       "    }\n",
       "\n",
       "    .dataframe tbody tr th {\n",
       "        vertical-align: top;\n",
       "    }\n",
       "\n",
       "    .dataframe thead th {\n",
       "        text-align: right;\n",
       "    }\n",
       "</style>\n",
       "<table border=\"1\" class=\"dataframe\">\n",
       "  <thead>\n",
       "    <tr style=\"text-align: right;\">\n",
       "      <th></th>\n",
       "      <th>BSBG05D</th>\n",
       "      <th>BSBG04</th>\n",
       "      <th>BSBG13E</th>\n",
       "      <th>BSBG13D</th>\n",
       "      <th>BSBG14A</th>\n",
       "      <th>BSBM16A</th>\n",
       "      <th>BSBM17D</th>\n",
       "      <th>BSBM18C</th>\n",
       "      <th>BSBM20E</th>\n",
       "      <th>BSBM20I</th>\n",
       "    </tr>\n",
       "  </thead>\n",
       "  <tbody>\n",
       "    <tr>\n",
       "      <th>2022</th>\n",
       "      <td>No</td>\n",
       "      <td>Enough to fill two bookcases (101–200 books)</td>\n",
       "      <td>Agree a lot</td>\n",
       "      <td>Agree a lot</td>\n",
       "      <td>At least once a week</td>\n",
       "      <td>Agree a little</td>\n",
       "      <td>Agree a lot</td>\n",
       "      <td>Every or almost every lesson</td>\n",
       "      <td>Agree a lot</td>\n",
       "      <td>Agree a lot</td>\n",
       "    </tr>\n",
       "  </tbody>\n",
       "</table>\n",
       "</div>"
      ],
      "text/plain": [
       "     BSBG05D                                        BSBG04      BSBG13E  \\\n",
       "2022      No  Enough to fill two bookcases (101–200 books)  Agree a lot   \n",
       "\n",
       "          BSBG13D               BSBG14A         BSBM16A      BSBM17D  \\\n",
       "2022  Agree a lot  At least once a week  Agree a little  Agree a lot   \n",
       "\n",
       "                           BSBM18C      BSBM20E      BSBM20I  \n",
       "2022  Every or almost every lesson  Agree a lot  Agree a lot  "
      ]
     },
     "execution_count": 6,
     "metadata": {},
     "output_type": "execute_result"
    }
   ],
   "source": [
    "x = ml_data_1.drop(columns='mean_PV')\n",
    "x.sample()"
   ]
  },
  {
   "cell_type": "code",
   "execution_count": 7,
   "metadata": {},
   "outputs": [
    {
     "data": {
      "text/plain": [
       "625    503.206364\n",
       "Name: mean_PV, dtype: float64"
      ]
     },
     "execution_count": 7,
     "metadata": {},
     "output_type": "execute_result"
    }
   ],
   "source": [
    "y = ml_data_1.mean_PV\n",
    "y.sample()"
   ]
  },
  {
   "cell_type": "code",
   "execution_count": 8,
   "metadata": {},
   "outputs": [
    {
     "name": "stdout",
     "output_type": "stream",
     "text": [
      "Init: initializing centroids\n",
      "Init: initializing centroids\n",
      "Init: initializing clusters\n",
      "Init: initializing clusters\n",
      "Starting iterations...\n",
      "Starting iterations...\n",
      "Run 1, iteration: 1/100, moves: 509, cost: 33186.0\n",
      "Run 2, iteration: 1/100, moves: 3136, cost: 30471.0\n",
      "Init: initializing centroids\n",
      "Init: initializing clusters\n",
      "Starting iterations...\n",
      "Run 1, iteration: 2/100, moves: 948, cost: 32324.0\n",
      "Run 3, iteration: 1/100, moves: 2416, cost: 30864.0\n",
      "Init: initializing centroids\n",
      "Init: initializing clusters\n",
      "Starting iterations...\n",
      "Run 1, iteration: 3/100, moves: 752, cost: 32324.0\n",
      "Run 4, iteration: 1/100, moves: 2868, cost: 30215.0\n",
      "Run 4, iteration: 2/100, moves: 1705, cost: 30215.0\n",
      "Best run was number 4\n"
     ]
    }
   ],
   "source": [
    "from kmodes.kmodes import KModes\n",
    "\n",
    "# Instantiate the k-modes model\n",
    "km = KModes(n_clusters=5, init='Huang', n_init=4, verbose=2, n_jobs=2)\n",
    "\n",
    "# Fit the model to your categorical data\n",
    "clusters = km.fit_predict(x)\n"
   ]
  },
  {
   "cell_type": "code",
   "execution_count": 9,
   "metadata": {},
   "outputs": [
    {
     "data": {
      "text/plain": [
       "4"
      ]
     },
     "execution_count": 9,
     "metadata": {},
     "output_type": "execute_result"
    }
   ],
   "source": [
    "clusters.max()"
   ]
  },
  {
   "cell_type": "code",
   "execution_count": 11,
   "metadata": {},
   "outputs": [
    {
     "data": {
      "text/plain": [
       "array([2, 2, 2, ..., 2, 0, 0], dtype=uint16)"
      ]
     },
     "execution_count": 11,
     "metadata": {},
     "output_type": "execute_result"
    }
   ],
   "source": [
    "clusters"
   ]
  },
  {
   "cell_type": "markdown",
   "metadata": {},
   "source": [
    "Now that we have our clusters, we will add their numbers to each data point in our labels data in order to separate each cluster alone and build a separate model for each:"
   ]
  },
  {
   "cell_type": "code",
   "execution_count": 12,
   "metadata": {},
   "outputs": [],
   "source": [
    "x['clusters'] = clusters"
   ]
  },
  {
   "cell_type": "code",
   "execution_count": 14,
   "metadata": {},
   "outputs": [
    {
     "data": {
      "text/html": [
       "<div>\n",
       "<style scoped>\n",
       "    .dataframe tbody tr th:only-of-type {\n",
       "        vertical-align: middle;\n",
       "    }\n",
       "\n",
       "    .dataframe tbody tr th {\n",
       "        vertical-align: top;\n",
       "    }\n",
       "\n",
       "    .dataframe thead th {\n",
       "        text-align: right;\n",
       "    }\n",
       "</style>\n",
       "<table border=\"1\" class=\"dataframe\">\n",
       "  <thead>\n",
       "    <tr style=\"text-align: right;\">\n",
       "      <th></th>\n",
       "      <th>clusters</th>\n",
       "    </tr>\n",
       "  </thead>\n",
       "  <tbody>\n",
       "    <tr>\n",
       "      <th>count</th>\n",
       "      <td>8458.000000</td>\n",
       "    </tr>\n",
       "    <tr>\n",
       "      <th>mean</th>\n",
       "      <td>1.386616</td>\n",
       "    </tr>\n",
       "    <tr>\n",
       "      <th>std</th>\n",
       "      <td>1.373483</td>\n",
       "    </tr>\n",
       "    <tr>\n",
       "      <th>min</th>\n",
       "      <td>0.000000</td>\n",
       "    </tr>\n",
       "    <tr>\n",
       "      <th>25%</th>\n",
       "      <td>0.000000</td>\n",
       "    </tr>\n",
       "    <tr>\n",
       "      <th>50%</th>\n",
       "      <td>1.000000</td>\n",
       "    </tr>\n",
       "    <tr>\n",
       "      <th>75%</th>\n",
       "      <td>2.000000</td>\n",
       "    </tr>\n",
       "    <tr>\n",
       "      <th>max</th>\n",
       "      <td>4.000000</td>\n",
       "    </tr>\n",
       "  </tbody>\n",
       "</table>\n",
       "</div>"
      ],
      "text/plain": [
       "          clusters\n",
       "count  8458.000000\n",
       "mean      1.386616\n",
       "std       1.373483\n",
       "min       0.000000\n",
       "25%       0.000000\n",
       "50%       1.000000\n",
       "75%       2.000000\n",
       "max       4.000000"
      ]
     },
     "execution_count": 14,
     "metadata": {},
     "output_type": "execute_result"
    }
   ],
   "source": [
    "x.describe()"
   ]
  },
  {
   "cell_type": "code",
   "execution_count": 30,
   "metadata": {},
   "outputs": [
    {
     "data": {
      "text/html": [
       "<div>\n",
       "<style scoped>\n",
       "    .dataframe tbody tr th:only-of-type {\n",
       "        vertical-align: middle;\n",
       "    }\n",
       "\n",
       "    .dataframe tbody tr th {\n",
       "        vertical-align: top;\n",
       "    }\n",
       "\n",
       "    .dataframe thead th {\n",
       "        text-align: right;\n",
       "    }\n",
       "</style>\n",
       "<table border=\"1\" class=\"dataframe\">\n",
       "  <thead>\n",
       "    <tr style=\"text-align: right;\">\n",
       "      <th></th>\n",
       "      <th>BSBG05D</th>\n",
       "      <th>BSBG04</th>\n",
       "      <th>BSBG13E</th>\n",
       "      <th>BSBG13D</th>\n",
       "      <th>BSBG14A</th>\n",
       "      <th>BSBM16A</th>\n",
       "      <th>BSBM17D</th>\n",
       "      <th>BSBM18C</th>\n",
       "      <th>BSBM20E</th>\n",
       "      <th>BSBM20I</th>\n",
       "      <th>clusters</th>\n",
       "    </tr>\n",
       "  </thead>\n",
       "  <tbody>\n",
       "    <tr>\n",
       "      <th>5080</th>\n",
       "      <td>Yes</td>\n",
       "      <td>None or very few (0–10 books)</td>\n",
       "      <td>Agree a lot</td>\n",
       "      <td>Agree a lot</td>\n",
       "      <td>Never</td>\n",
       "      <td>Disagree a little</td>\n",
       "      <td>Agree a lot</td>\n",
       "      <td>About half the lessons</td>\n",
       "      <td>Agree a little</td>\n",
       "      <td>Agree a lot</td>\n",
       "      <td>2</td>\n",
       "    </tr>\n",
       "    <tr>\n",
       "      <th>5706</th>\n",
       "      <td>No</td>\n",
       "      <td>None or very few (0–10 books)</td>\n",
       "      <td>Agree a lot</td>\n",
       "      <td>Agree a little</td>\n",
       "      <td>A few times a year</td>\n",
       "      <td>Agree a lot</td>\n",
       "      <td>Agree a lot</td>\n",
       "      <td>About half the lessons</td>\n",
       "      <td>Agree a lot</td>\n",
       "      <td>Agree a lot</td>\n",
       "      <td>3</td>\n",
       "    </tr>\n",
       "    <tr>\n",
       "      <th>7975</th>\n",
       "      <td>Yes</td>\n",
       "      <td>Enough to fill one bookcase (26–100 books)</td>\n",
       "      <td>Agree a little</td>\n",
       "      <td>Agree a lot</td>\n",
       "      <td>Never</td>\n",
       "      <td>Agree a lot</td>\n",
       "      <td>Agree a lot</td>\n",
       "      <td>Never</td>\n",
       "      <td>Agree a lot</td>\n",
       "      <td>Agree a lot</td>\n",
       "      <td>0</td>\n",
       "    </tr>\n",
       "    <tr>\n",
       "      <th>3533</th>\n",
       "      <td>No</td>\n",
       "      <td>None or very few (0–10 books)</td>\n",
       "      <td>Agree a lot</td>\n",
       "      <td>Agree a lot</td>\n",
       "      <td>Never</td>\n",
       "      <td>Agree a lot</td>\n",
       "      <td>Agree a lot</td>\n",
       "      <td>Some lessons</td>\n",
       "      <td>Agree a lot</td>\n",
       "      <td>Agree a lot</td>\n",
       "      <td>2</td>\n",
       "    </tr>\n",
       "    <tr>\n",
       "      <th>7779</th>\n",
       "      <td>Yes</td>\n",
       "      <td>Enough to fill one bookcase (26–100 books)</td>\n",
       "      <td>Agree a lot</td>\n",
       "      <td>Agree a lot</td>\n",
       "      <td>At least once a week</td>\n",
       "      <td>Agree a lot</td>\n",
       "      <td>Agree a lot</td>\n",
       "      <td>Every or almost every lesson</td>\n",
       "      <td>Agree a lot</td>\n",
       "      <td>Agree a little</td>\n",
       "      <td>0</td>\n",
       "    </tr>\n",
       "  </tbody>\n",
       "</table>\n",
       "</div>"
      ],
      "text/plain": [
       "     BSBG05D                                      BSBG04         BSBG13E  \\\n",
       "5080     Yes               None or very few (0–10 books)     Agree a lot   \n",
       "5706      No               None or very few (0–10 books)     Agree a lot   \n",
       "7975     Yes  Enough to fill one bookcase (26–100 books)  Agree a little   \n",
       "3533      No               None or very few (0–10 books)     Agree a lot   \n",
       "7779     Yes  Enough to fill one bookcase (26–100 books)     Agree a lot   \n",
       "\n",
       "             BSBG13D               BSBG14A            BSBM16A      BSBM17D  \\\n",
       "5080     Agree a lot                 Never  Disagree a little  Agree a lot   \n",
       "5706  Agree a little    A few times a year        Agree a lot  Agree a lot   \n",
       "7975     Agree a lot                 Never        Agree a lot  Agree a lot   \n",
       "3533     Agree a lot                 Never        Agree a lot  Agree a lot   \n",
       "7779     Agree a lot  At least once a week        Agree a lot  Agree a lot   \n",
       "\n",
       "                           BSBM18C         BSBM20E         BSBM20I  clusters  \n",
       "5080        About half the lessons  Agree a little     Agree a lot         2  \n",
       "5706        About half the lessons     Agree a lot     Agree a lot         3  \n",
       "7975                         Never     Agree a lot     Agree a lot         0  \n",
       "3533                  Some lessons     Agree a lot     Agree a lot         2  \n",
       "7779  Every or almost every lesson     Agree a lot  Agree a little         0  "
      ]
     },
     "execution_count": 30,
     "metadata": {},
     "output_type": "execute_result"
    }
   ],
   "source": [
    "x.sample(5)"
   ]
  },
  {
   "cell_type": "markdown",
   "metadata": {},
   "source": [
    "Let's see what clusters do we have:"
   ]
  },
  {
   "cell_type": "code",
   "execution_count": 16,
   "metadata": {},
   "outputs": [
    {
     "data": {
      "text/plain": [
       "array([2, 3, 0, 4, 1], dtype=uint16)"
      ]
     },
     "execution_count": 16,
     "metadata": {},
     "output_type": "execute_result"
    }
   ],
   "source": [
    "list_of_clusters = x['clusters'].unique()\n",
    "list_of_clusters"
   ]
  },
  {
   "cell_type": "markdown",
   "metadata": {},
   "source": [
    "Let's put each cluster in a different dataframe:"
   ]
  },
  {
   "cell_type": "code",
   "execution_count": 24,
   "metadata": {},
   "outputs": [],
   "source": [
    "x_cluster_0 = x.query('clusters==0')\n",
    "x_cluster_1 = x.query('clusters==1')\n",
    "x_cluster_2 = x.query('clusters==2')\n",
    "x_cluster_3 = x.query('clusters==3')\n",
    "x_cluster_4 = x.query('clusters==4')"
   ]
  },
  {
   "cell_type": "code",
   "execution_count": 29,
   "metadata": {},
   "outputs": [
    {
     "data": {
      "text/plain": [
       "BSBG05D     1025\n",
       "BSBG04      1025\n",
       "BSBG13E     1025\n",
       "BSBG13D     1025\n",
       "BSBG14A     1025\n",
       "BSBM16A     1025\n",
       "BSBM17D     1025\n",
       "BSBM18C     1025\n",
       "BSBM20E     1025\n",
       "BSBM20I     1025\n",
       "clusters    1025\n",
       "dtype: int64"
      ]
     },
     "execution_count": 29,
     "metadata": {},
     "output_type": "execute_result"
    }
   ],
   "source": [
    "x_cluster_4.count()"
   ]
  },
  {
   "cell_type": "code",
   "execution_count": null,
   "metadata": {},
   "outputs": [],
   "source": []
  }
 ],
 "metadata": {
  "kernelspec": {
   "display_name": "Python 3",
   "language": "python",
   "name": "python3"
  },
  "language_info": {
   "codemirror_mode": {
    "name": "ipython",
    "version": 3
   },
   "file_extension": ".py",
   "mimetype": "text/x-python",
   "name": "python",
   "nbconvert_exporter": "python",
   "pygments_lexer": "ipython3",
   "version": "3.11.5"
  }
 },
 "nbformat": 4,
 "nbformat_minor": 2
}
