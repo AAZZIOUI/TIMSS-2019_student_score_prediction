{
 "cells": [
  {
   "cell_type": "code",
   "execution_count": 134,
   "metadata": {},
   "outputs": [],
   "source": [
    "import numpy as np\n",
    "import pandas as pd\n",
    "import config # a python file that contains path to TIMSS data files\n",
    "\n",
    "#from sklearn import tree\n",
    "#from sklearn import BaggingClassifier\n",
    "#from sklearn import RandomForestClassifier\n",
    "\n",
    "import matplotlib.pyplot as plt\n",
    "%matplotlib inline"
   ]
  },
  {
   "cell_type": "code",
   "execution_count": 2,
   "metadata": {},
   "outputs": [],
   "source": [
    "ml_data_1 = pd.read_csv(config.ml_data_1, index_col=False)"
   ]
  },
  {
   "cell_type": "code",
   "execution_count": 6,
   "metadata": {},
   "outputs": [
    {
     "data": {
      "text/html": [
       "<div>\n",
       "<style scoped>\n",
       "    .dataframe tbody tr th:only-of-type {\n",
       "        vertical-align: middle;\n",
       "    }\n",
       "\n",
       "    .dataframe tbody tr th {\n",
       "        vertical-align: top;\n",
       "    }\n",
       "\n",
       "    .dataframe thead th {\n",
       "        text-align: right;\n",
       "    }\n",
       "</style>\n",
       "<table border=\"1\" class=\"dataframe\">\n",
       "  <thead>\n",
       "    <tr style=\"text-align: right;\">\n",
       "      <th></th>\n",
       "      <th>BSBG05D</th>\n",
       "      <th>BSBG04</th>\n",
       "      <th>BSBG13E</th>\n",
       "      <th>BSBG13D</th>\n",
       "      <th>BSBG14A</th>\n",
       "      <th>BSBM16A</th>\n",
       "      <th>BSBM17D</th>\n",
       "      <th>BSBM18C</th>\n",
       "      <th>BSBM20E</th>\n",
       "      <th>BSBM20I</th>\n",
       "    </tr>\n",
       "  </thead>\n",
       "  <tbody>\n",
       "    <tr>\n",
       "      <th>2022</th>\n",
       "      <td>No</td>\n",
       "      <td>Enough to fill two bookcases (101–200 books)</td>\n",
       "      <td>Agree a lot</td>\n",
       "      <td>Agree a lot</td>\n",
       "      <td>At least once a week</td>\n",
       "      <td>Agree a little</td>\n",
       "      <td>Agree a lot</td>\n",
       "      <td>Every or almost every lesson</td>\n",
       "      <td>Agree a lot</td>\n",
       "      <td>Agree a lot</td>\n",
       "    </tr>\n",
       "  </tbody>\n",
       "</table>\n",
       "</div>"
      ],
      "text/plain": [
       "     BSBG05D                                        BSBG04      BSBG13E  \\\n",
       "2022      No  Enough to fill two bookcases (101–200 books)  Agree a lot   \n",
       "\n",
       "          BSBG13D               BSBG14A         BSBM16A      BSBM17D  \\\n",
       "2022  Agree a lot  At least once a week  Agree a little  Agree a lot   \n",
       "\n",
       "                           BSBM18C      BSBM20E      BSBM20I  \n",
       "2022  Every or almost every lesson  Agree a lot  Agree a lot  "
      ]
     },
     "execution_count": 6,
     "metadata": {},
     "output_type": "execute_result"
    }
   ],
   "source": [
    "x = ml_data_1.drop(columns='mean_PV')\n",
    "x.sample()"
   ]
  },
  {
   "cell_type": "code",
   "execution_count": 7,
   "metadata": {},
   "outputs": [
    {
     "data": {
      "text/plain": [
       "625    503.206364\n",
       "Name: mean_PV, dtype: float64"
      ]
     },
     "execution_count": 7,
     "metadata": {},
     "output_type": "execute_result"
    }
   ],
   "source": [
    "y = ml_data_1.mean_PV\n",
    "y.sample()"
   ]
  },
  {
   "cell_type": "code",
   "execution_count": 8,
   "metadata": {},
   "outputs": [
    {
     "name": "stdout",
     "output_type": "stream",
     "text": [
      "Init: initializing centroids\n",
      "Init: initializing centroids\n",
      "Init: initializing clusters\n",
      "Init: initializing clusters\n",
      "Starting iterations...\n",
      "Starting iterations...\n",
      "Run 1, iteration: 1/100, moves: 509, cost: 33186.0\n",
      "Run 2, iteration: 1/100, moves: 3136, cost: 30471.0\n",
      "Init: initializing centroids\n",
      "Init: initializing clusters\n",
      "Starting iterations...\n",
      "Run 1, iteration: 2/100, moves: 948, cost: 32324.0\n",
      "Run 3, iteration: 1/100, moves: 2416, cost: 30864.0\n",
      "Init: initializing centroids\n",
      "Init: initializing clusters\n",
      "Starting iterations...\n",
      "Run 1, iteration: 3/100, moves: 752, cost: 32324.0\n",
      "Run 4, iteration: 1/100, moves: 2868, cost: 30215.0\n",
      "Run 4, iteration: 2/100, moves: 1705, cost: 30215.0\n",
      "Best run was number 4\n"
     ]
    }
   ],
   "source": [
    "from kmodes.kmodes import KModes\n",
    "\n",
    "# Instantiate the k-modes model\n",
    "km = KModes(n_clusters=5, init='Huang', n_init=4, verbose=2, n_jobs=2)\n",
    "\n",
    "# Fit the model to your categorical data\n",
    "clusters = km.fit_predict(x)\n"
   ]
  },
  {
   "cell_type": "code",
   "execution_count": 9,
   "metadata": {},
   "outputs": [
    {
     "data": {
      "text/plain": [
       "4"
      ]
     },
     "execution_count": 9,
     "metadata": {},
     "output_type": "execute_result"
    }
   ],
   "source": [
    "clusters.max()"
   ]
  },
  {
   "cell_type": "code",
   "execution_count": 11,
   "metadata": {},
   "outputs": [
    {
     "data": {
      "text/plain": [
       "array([2, 2, 2, ..., 2, 0, 0], dtype=uint16)"
      ]
     },
     "execution_count": 11,
     "metadata": {},
     "output_type": "execute_result"
    }
   ],
   "source": [
    "clusters"
   ]
  },
  {
   "cell_type": "markdown",
   "metadata": {},
   "source": [
    "Now that we have our clusters, we will add their numbers to each data point in our labels data in order to separate each cluster alone and build a separate model for each:"
   ]
  },
  {
   "cell_type": "code",
   "execution_count": 69,
   "metadata": {},
   "outputs": [],
   "source": [
    "x['clusters'] = clusters\n",
    "x['labels'] = y"
   ]
  },
  {
   "cell_type": "code",
   "execution_count": 61,
   "metadata": {},
   "outputs": [
    {
     "data": {
      "text/html": [
       "<div>\n",
       "<style scoped>\n",
       "    .dataframe tbody tr th:only-of-type {\n",
       "        vertical-align: middle;\n",
       "    }\n",
       "\n",
       "    .dataframe tbody tr th {\n",
       "        vertical-align: top;\n",
       "    }\n",
       "\n",
       "    .dataframe thead th {\n",
       "        text-align: right;\n",
       "    }\n",
       "</style>\n",
       "<table border=\"1\" class=\"dataframe\">\n",
       "  <thead>\n",
       "    <tr style=\"text-align: right;\">\n",
       "      <th></th>\n",
       "      <th>clusters</th>\n",
       "      <th>labels</th>\n",
       "    </tr>\n",
       "  </thead>\n",
       "  <tbody>\n",
       "    <tr>\n",
       "      <th>count</th>\n",
       "      <td>8458.000000</td>\n",
       "      <td>8458.000000</td>\n",
       "    </tr>\n",
       "    <tr>\n",
       "      <th>mean</th>\n",
       "      <td>1.386616</td>\n",
       "      <td>385.328560</td>\n",
       "    </tr>\n",
       "    <tr>\n",
       "      <th>std</th>\n",
       "      <td>1.373483</td>\n",
       "      <td>62.364477</td>\n",
       "    </tr>\n",
       "    <tr>\n",
       "      <th>min</th>\n",
       "      <td>0.000000</td>\n",
       "      <td>194.209476</td>\n",
       "    </tr>\n",
       "    <tr>\n",
       "      <th>25%</th>\n",
       "      <td>0.000000</td>\n",
       "      <td>341.444794</td>\n",
       "    </tr>\n",
       "    <tr>\n",
       "      <th>50%</th>\n",
       "      <td>1.000000</td>\n",
       "      <td>379.916982</td>\n",
       "    </tr>\n",
       "    <tr>\n",
       "      <th>75%</th>\n",
       "      <td>2.000000</td>\n",
       "      <td>423.390834</td>\n",
       "    </tr>\n",
       "    <tr>\n",
       "      <th>max</th>\n",
       "      <td>4.000000</td>\n",
       "      <td>649.182768</td>\n",
       "    </tr>\n",
       "  </tbody>\n",
       "</table>\n",
       "</div>"
      ],
      "text/plain": [
       "          clusters       labels\n",
       "count  8458.000000  8458.000000\n",
       "mean      1.386616   385.328560\n",
       "std       1.373483    62.364477\n",
       "min       0.000000   194.209476\n",
       "25%       0.000000   341.444794\n",
       "50%       1.000000   379.916982\n",
       "75%       2.000000   423.390834\n",
       "max       4.000000   649.182768"
      ]
     },
     "execution_count": 61,
     "metadata": {},
     "output_type": "execute_result"
    }
   ],
   "source": [
    "x.describe()"
   ]
  },
  {
   "cell_type": "code",
   "execution_count": 62,
   "metadata": {},
   "outputs": [
    {
     "data": {
      "text/html": [
       "<div>\n",
       "<style scoped>\n",
       "    .dataframe tbody tr th:only-of-type {\n",
       "        vertical-align: middle;\n",
       "    }\n",
       "\n",
       "    .dataframe tbody tr th {\n",
       "        vertical-align: top;\n",
       "    }\n",
       "\n",
       "    .dataframe thead th {\n",
       "        text-align: right;\n",
       "    }\n",
       "</style>\n",
       "<table border=\"1\" class=\"dataframe\">\n",
       "  <thead>\n",
       "    <tr style=\"text-align: right;\">\n",
       "      <th></th>\n",
       "      <th>BSBG05D</th>\n",
       "      <th>BSBG04</th>\n",
       "      <th>BSBG13E</th>\n",
       "      <th>BSBG13D</th>\n",
       "      <th>BSBG14A</th>\n",
       "      <th>BSBM16A</th>\n",
       "      <th>BSBM17D</th>\n",
       "      <th>BSBM18C</th>\n",
       "      <th>BSBM20E</th>\n",
       "      <th>BSBM20I</th>\n",
       "      <th>clusters</th>\n",
       "      <th>labels</th>\n",
       "    </tr>\n",
       "  </thead>\n",
       "  <tbody>\n",
       "    <tr>\n",
       "      <th>5792</th>\n",
       "      <td>No</td>\n",
       "      <td>None or very few (0–10 books)</td>\n",
       "      <td>Agree a lot</td>\n",
       "      <td>Agree a little</td>\n",
       "      <td>Once or twice a month</td>\n",
       "      <td>Agree a lot</td>\n",
       "      <td>Agree a lot</td>\n",
       "      <td>About half the lessons</td>\n",
       "      <td>Agree a little</td>\n",
       "      <td>Agree a lot</td>\n",
       "      <td>3</td>\n",
       "      <td>349.464136</td>\n",
       "    </tr>\n",
       "    <tr>\n",
       "      <th>788</th>\n",
       "      <td>No</td>\n",
       "      <td>Enough to fill three or more bookcases (more t...</td>\n",
       "      <td>Agree a little</td>\n",
       "      <td>Disagree a little</td>\n",
       "      <td>Never</td>\n",
       "      <td>Disagree a little</td>\n",
       "      <td>Disagree a lot</td>\n",
       "      <td>Every or almost every lesson</td>\n",
       "      <td>Agree a lot</td>\n",
       "      <td>Agree a lot</td>\n",
       "      <td>0</td>\n",
       "      <td>394.031688</td>\n",
       "    </tr>\n",
       "    <tr>\n",
       "      <th>7191</th>\n",
       "      <td>Yes</td>\n",
       "      <td>Enough to fill one shelf (11–25 books)</td>\n",
       "      <td>Agree a little</td>\n",
       "      <td>Agree a little</td>\n",
       "      <td>At least once a week</td>\n",
       "      <td>Agree a little</td>\n",
       "      <td>Agree a little</td>\n",
       "      <td>Every or almost every lesson</td>\n",
       "      <td>Agree a little</td>\n",
       "      <td>Agree a lot</td>\n",
       "      <td>4</td>\n",
       "      <td>432.282972</td>\n",
       "    </tr>\n",
       "    <tr>\n",
       "      <th>7868</th>\n",
       "      <td>No</td>\n",
       "      <td>Enough to fill one shelf (11–25 books)</td>\n",
       "      <td>Agree a lot</td>\n",
       "      <td>Agree a little</td>\n",
       "      <td>Never</td>\n",
       "      <td>Agree a little</td>\n",
       "      <td>Agree a lot</td>\n",
       "      <td>About half the lessons</td>\n",
       "      <td>Agree a little</td>\n",
       "      <td>Agree a little</td>\n",
       "      <td>1</td>\n",
       "      <td>336.710354</td>\n",
       "    </tr>\n",
       "    <tr>\n",
       "      <th>452</th>\n",
       "      <td>No</td>\n",
       "      <td>None or very few (0–10 books)</td>\n",
       "      <td>Disagree a little</td>\n",
       "      <td>Agree a little</td>\n",
       "      <td>Once or twice a month</td>\n",
       "      <td>Disagree a little</td>\n",
       "      <td>Agree a little</td>\n",
       "      <td>Every or almost every lesson</td>\n",
       "      <td>Agree a little</td>\n",
       "      <td>Disagree a little</td>\n",
       "      <td>1</td>\n",
       "      <td>503.218330</td>\n",
       "    </tr>\n",
       "  </tbody>\n",
       "</table>\n",
       "</div>"
      ],
      "text/plain": [
       "     BSBG05D                                             BSBG04  \\\n",
       "5792      No                      None or very few (0–10 books)   \n",
       "788       No  Enough to fill three or more bookcases (more t...   \n",
       "7191     Yes             Enough to fill one shelf (11–25 books)   \n",
       "7868      No             Enough to fill one shelf (11–25 books)   \n",
       "452       No                      None or very few (0–10 books)   \n",
       "\n",
       "                BSBG13E            BSBG13D                BSBG14A  \\\n",
       "5792        Agree a lot     Agree a little  Once or twice a month   \n",
       "788      Agree a little  Disagree a little                  Never   \n",
       "7191     Agree a little     Agree a little   At least once a week   \n",
       "7868        Agree a lot     Agree a little                  Never   \n",
       "452   Disagree a little     Agree a little  Once or twice a month   \n",
       "\n",
       "                BSBM16A         BSBM17D                       BSBM18C  \\\n",
       "5792        Agree a lot     Agree a lot        About half the lessons   \n",
       "788   Disagree a little  Disagree a lot  Every or almost every lesson   \n",
       "7191     Agree a little  Agree a little  Every or almost every lesson   \n",
       "7868     Agree a little     Agree a lot        About half the lessons   \n",
       "452   Disagree a little  Agree a little  Every or almost every lesson   \n",
       "\n",
       "             BSBM20E            BSBM20I  clusters      labels  \n",
       "5792  Agree a little        Agree a lot         3  349.464136  \n",
       "788      Agree a lot        Agree a lot         0  394.031688  \n",
       "7191  Agree a little        Agree a lot         4  432.282972  \n",
       "7868  Agree a little     Agree a little         1  336.710354  \n",
       "452   Agree a little  Disagree a little         1  503.218330  "
      ]
     },
     "execution_count": 62,
     "metadata": {},
     "output_type": "execute_result"
    }
   ],
   "source": [
    "x.sample(5)"
   ]
  },
  {
   "cell_type": "markdown",
   "metadata": {},
   "source": [
    "Let's see what clusters do we have:"
   ]
  },
  {
   "cell_type": "code",
   "execution_count": 63,
   "metadata": {},
   "outputs": [
    {
     "data": {
      "text/plain": [
       "array([2, 3, 0, 4, 1], dtype=uint16)"
      ]
     },
     "execution_count": 63,
     "metadata": {},
     "output_type": "execute_result"
    }
   ],
   "source": [
    "list_of_clusters = x['clusters'].unique()\n",
    "list_of_clusters"
   ]
  },
  {
   "cell_type": "code",
   "execution_count": 72,
   "metadata": {},
   "outputs": [
    {
     "data": {
      "text/html": [
       "<div>\n",
       "<style scoped>\n",
       "    .dataframe tbody tr th:only-of-type {\n",
       "        vertical-align: middle;\n",
       "    }\n",
       "\n",
       "    .dataframe tbody tr th {\n",
       "        vertical-align: top;\n",
       "    }\n",
       "\n",
       "    .dataframe thead th {\n",
       "        text-align: right;\n",
       "    }\n",
       "</style>\n",
       "<table border=\"1\" class=\"dataframe\">\n",
       "  <thead>\n",
       "    <tr style=\"text-align: right;\">\n",
       "      <th></th>\n",
       "      <th>labels</th>\n",
       "      <th>clusters</th>\n",
       "    </tr>\n",
       "  </thead>\n",
       "  <tbody>\n",
       "    <tr>\n",
       "      <th>0</th>\n",
       "      <td>410.811348</td>\n",
       "      <td>2</td>\n",
       "    </tr>\n",
       "    <tr>\n",
       "      <th>1</th>\n",
       "      <td>433.181462</td>\n",
       "      <td>2</td>\n",
       "    </tr>\n",
       "    <tr>\n",
       "      <th>2</th>\n",
       "      <td>418.027694</td>\n",
       "      <td>2</td>\n",
       "    </tr>\n",
       "    <tr>\n",
       "      <th>3</th>\n",
       "      <td>467.300384</td>\n",
       "      <td>3</td>\n",
       "    </tr>\n",
       "    <tr>\n",
       "      <th>4</th>\n",
       "      <td>362.964464</td>\n",
       "      <td>2</td>\n",
       "    </tr>\n",
       "    <tr>\n",
       "      <th>...</th>\n",
       "      <td>...</td>\n",
       "      <td>...</td>\n",
       "    </tr>\n",
       "    <tr>\n",
       "      <th>8453</th>\n",
       "      <td>401.279696</td>\n",
       "      <td>0</td>\n",
       "    </tr>\n",
       "    <tr>\n",
       "      <th>8454</th>\n",
       "      <td>438.474212</td>\n",
       "      <td>4</td>\n",
       "    </tr>\n",
       "    <tr>\n",
       "      <th>8455</th>\n",
       "      <td>401.756130</td>\n",
       "      <td>2</td>\n",
       "    </tr>\n",
       "    <tr>\n",
       "      <th>8456</th>\n",
       "      <td>312.155188</td>\n",
       "      <td>0</td>\n",
       "    </tr>\n",
       "    <tr>\n",
       "      <th>8457</th>\n",
       "      <td>398.748238</td>\n",
       "      <td>0</td>\n",
       "    </tr>\n",
       "  </tbody>\n",
       "</table>\n",
       "<p>8458 rows × 2 columns</p>\n",
       "</div>"
      ],
      "text/plain": [
       "          labels  clusters\n",
       "0     410.811348         2\n",
       "1     433.181462         2\n",
       "2     418.027694         2\n",
       "3     467.300384         3\n",
       "4     362.964464         2\n",
       "...          ...       ...\n",
       "8453  401.279696         0\n",
       "8454  438.474212         4\n",
       "8455  401.756130         2\n",
       "8456  312.155188         0\n",
       "8457  398.748238         0\n",
       "\n",
       "[8458 rows x 2 columns]"
      ]
     },
     "execution_count": 72,
     "metadata": {},
     "output_type": "execute_result"
    }
   ],
   "source": [
    "x[['labels','clusters']]"
   ]
  },
  {
   "cell_type": "markdown",
   "metadata": {},
   "source": [
    "Let's put each cluster in a different dataframe:"
   ]
  },
  {
   "cell_type": "code",
   "execution_count": 99,
   "metadata": {},
   "outputs": [],
   "source": [
    "y_0 = x[['labels','clusters']].query('clusters==0')\n",
    "x_0 = x.query('clusters==0')\n",
    "y_1 = x[['labels','clusters']].query('clusters==1')\n",
    "x_1 = x.query('clusters==1')\n",
    "y_2 = x[['labels','clusters']].query('clusters==2')\n",
    "x_2 = x.query('clusters==2')\n",
    "y_3 = x[['labels','clusters']].query('clusters==3')\n",
    "x_3 = x.query('clusters==3')\n",
    "y_4 = x[['labels','clusters']].query('clusters==4')\n",
    "x_4 = x.query('clusters==4')"
   ]
  },
  {
   "cell_type": "code",
   "execution_count": 81,
   "metadata": {},
   "outputs": [
    {
     "data": {
      "text/plain": [
       "BSBG05D    886\n",
       "BSBG04     886\n",
       "BSBG13E    886\n",
       "BSBG13D    886\n",
       "BSBG14A    886\n",
       "BSBM16A    886\n",
       "BSBM17D    886\n",
       "BSBM18C    886\n",
       "BSBM20E    886\n",
       "BSBM20I    886\n",
       "labels     886\n",
       "dtype: int64"
      ]
     },
     "execution_count": 81,
     "metadata": {},
     "output_type": "execute_result"
    }
   ],
   "source": [
    "x_3.count()"
   ]
  },
  {
   "cell_type": "markdown",
   "metadata": {},
   "source": [
    "Let's do some hyperparameters tuning of xgboost algorithm executed on \"x_0\" dataset using optuna:"
   ]
  },
  {
   "cell_type": "code",
   "execution_count": 55,
   "metadata": {},
   "outputs": [],
   "source": [
    "import optuna\n",
    "import xgboost as xgb\n",
    "import sklearn\n",
    "from sklearn.model_selection import train_test_split\n",
    "from sklearn.metrics import mean_squared_error\n"
   ]
  },
  {
   "cell_type": "code",
   "execution_count": 95,
   "metadata": {},
   "outputs": [
    {
     "data": {
      "text/plain": [
       "Index(['BSBG05D', 'BSBG04', 'BSBG13E', 'BSBG13D', 'BSBG14A', 'BSBM16A',\n",
       "       'BSBM17D', 'BSBM18C', 'BSBM20E', 'BSBM20I', 'clusters', 'labels'],\n",
       "      dtype='object')"
      ]
     },
     "execution_count": 95,
     "metadata": {},
     "output_type": "execute_result"
    }
   ],
   "source": [
    "x_0.columns"
   ]
  },
  {
   "cell_type": "markdown",
   "metadata": {},
   "source": [
    "Let's keep only necessary features by deleting the 'clusters' column"
   ]
  },
  {
   "cell_type": "code",
   "execution_count": 100,
   "metadata": {},
   "outputs": [],
   "source": [
    "df_list_features = [x_0, x_1, x_2, x_3, x_4]\n",
    "df_list_labels = [y_0, y_1, y_3, y_4]\n",
    "for df in df_list_features:\n",
    "    del df['clusters']\n",
    "    del df['labels']\n",
    "for df in df_list_labels:\n",
    "    del df['clusters']"
   ]
  },
  {
   "cell_type": "code",
   "execution_count": 101,
   "metadata": {},
   "outputs": [
    {
     "data": {
      "text/plain": [
       "Index(['BSBG05D', 'BSBG04', 'BSBG13E', 'BSBG13D', 'BSBG14A', 'BSBM16A',\n",
       "       'BSBM17D', 'BSBM18C', 'BSBM20E', 'BSBM20I'],\n",
       "      dtype='object')"
      ]
     },
     "execution_count": 101,
     "metadata": {},
     "output_type": "execute_result"
    }
   ],
   "source": [
    "x_0.columns"
   ]
  },
  {
   "cell_type": "code",
   "execution_count": 102,
   "metadata": {},
   "outputs": [
    {
     "data": {
      "text/plain": [
       "Index(['labels'], dtype='object')"
      ]
     },
     "execution_count": 102,
     "metadata": {},
     "output_type": "execute_result"
    }
   ],
   "source": [
    "y_0.columns"
   ]
  },
  {
   "cell_type": "markdown",
   "metadata": {},
   "source": [
    "Let's start defining our objective function used by optuna, where we will define our parameters:"
   ]
  },
  {
   "cell_type": "code",
   "execution_count": null,
   "metadata": {},
   "outputs": [],
   "source": [
    "#The following line is just to display, on hover, parameters of xgboost regressor\n",
    "\n",
    "xgb.XGBRFRegressor()"
   ]
  },
  {
   "cell_type": "code",
   "execution_count": 103,
   "metadata": {},
   "outputs": [
    {
     "data": {
      "text/plain": [
       "BSBG05D    object\n",
       "BSBG04     object\n",
       "BSBG13E    object\n",
       "BSBG13D    object\n",
       "BSBG14A    object\n",
       "BSBM16A    object\n",
       "BSBM17D    object\n",
       "BSBM18C    object\n",
       "BSBM20E    object\n",
       "BSBM20I    object\n",
       "dtype: object"
      ]
     },
     "execution_count": 103,
     "metadata": {},
     "output_type": "execute_result"
    }
   ],
   "source": [
    "x_0.dtypes"
   ]
  },
  {
   "cell_type": "code",
   "execution_count": 112,
   "metadata": {},
   "outputs": [],
   "source": [
    "x_0 = x_0.astype('category')\n",
    "x_1 = x_1.astype('category')\n",
    "x_2 = x_2.astype('category')\n",
    "x_3 = x_3.astype('category')\n",
    "x_4 = x_4.astype('category')"
   ]
  },
  {
   "cell_type": "code",
   "execution_count": 113,
   "metadata": {},
   "outputs": [
    {
     "data": {
      "text/plain": [
       "BSBG05D    category\n",
       "BSBG04     category\n",
       "BSBG13E    category\n",
       "BSBG13D    category\n",
       "BSBG14A    category\n",
       "BSBM16A    category\n",
       "BSBM17D    category\n",
       "BSBM18C    category\n",
       "BSBM20E    category\n",
       "BSBM20I    category\n",
       "dtype: object"
      ]
     },
     "execution_count": 113,
     "metadata": {},
     "output_type": "execute_result"
    }
   ],
   "source": [
    "x_3.dtypes"
   ]
  },
  {
   "cell_type": "code",
   "execution_count": 120,
   "metadata": {},
   "outputs": [],
   "source": [
    "import category_encoders as ce\n",
    "sklearn.set_config(transform_output=\"pandas\")\n",
    "\n",
    "encoder = ce.CatBoostEncoder(cols=['BSBG05D','BSBG04','BSBG13E','BSBG13D','BSBG14A','BSBM16A','BSBM17D','BSBM18C','BSBM20E','BSBM20I'])\n",
    "encoder.fit(x_3, y_3)\n",
    "X_cleaned = encoder.transform(x_3)\n"
   ]
  },
  {
   "cell_type": "code",
   "execution_count": 121,
   "metadata": {},
   "outputs": [
    {
     "data": {
      "text/plain": [
       "BSBG05D    category\n",
       "BSBG04     category\n",
       "BSBG13E    category\n",
       "BSBG13D    category\n",
       "BSBG14A    category\n",
       "BSBM16A    category\n",
       "BSBM17D    category\n",
       "BSBM18C    category\n",
       "BSBM20E    category\n",
       "BSBM20I    category\n",
       "dtype: object"
      ]
     },
     "execution_count": 121,
     "metadata": {},
     "output_type": "execute_result"
    }
   ],
   "source": [
    "x_3.dtypes"
   ]
  },
  {
   "cell_type": "code",
   "execution_count": 122,
   "metadata": {},
   "outputs": [
    {
     "data": {
      "text/html": [
       "<div>\n",
       "<style scoped>\n",
       "    .dataframe tbody tr th:only-of-type {\n",
       "        vertical-align: middle;\n",
       "    }\n",
       "\n",
       "    .dataframe tbody tr th {\n",
       "        vertical-align: top;\n",
       "    }\n",
       "\n",
       "    .dataframe thead th {\n",
       "        text-align: right;\n",
       "    }\n",
       "</style>\n",
       "<table border=\"1\" class=\"dataframe\">\n",
       "  <thead>\n",
       "    <tr style=\"text-align: right;\">\n",
       "      <th></th>\n",
       "      <th>BSBG05D</th>\n",
       "      <th>BSBG04</th>\n",
       "      <th>BSBG13E</th>\n",
       "      <th>BSBG13D</th>\n",
       "      <th>BSBG14A</th>\n",
       "      <th>BSBM16A</th>\n",
       "      <th>BSBM17D</th>\n",
       "      <th>BSBM18C</th>\n",
       "      <th>BSBM20E</th>\n",
       "      <th>BSBM20I</th>\n",
       "    </tr>\n",
       "  </thead>\n",
       "  <tbody>\n",
       "    <tr>\n",
       "      <th>528</th>\n",
       "      <td>No</td>\n",
       "      <td>None or very few (0–10 books)</td>\n",
       "      <td>Agree a lot</td>\n",
       "      <td>Agree a lot</td>\n",
       "      <td>A few times a year</td>\n",
       "      <td>Agree a lot</td>\n",
       "      <td>Agree a lot</td>\n",
       "      <td>Never</td>\n",
       "      <td>Disagree a lot</td>\n",
       "      <td>Agree a lot</td>\n",
       "    </tr>\n",
       "  </tbody>\n",
       "</table>\n",
       "</div>"
      ],
      "text/plain": [
       "    BSBG05D                         BSBG04      BSBG13E      BSBG13D  \\\n",
       "528      No  None or very few (0–10 books)  Agree a lot  Agree a lot   \n",
       "\n",
       "                BSBG14A      BSBM16A      BSBM17D BSBM18C         BSBM20E  \\\n",
       "528  A few times a year  Agree a lot  Agree a lot   Never  Disagree a lot   \n",
       "\n",
       "         BSBM20I  \n",
       "528  Agree a lot  "
      ]
     },
     "execution_count": 122,
     "metadata": {},
     "output_type": "execute_result"
    }
   ],
   "source": [
    "x_3.sample(1)"
   ]
  },
  {
   "cell_type": "code",
   "execution_count": 128,
   "metadata": {},
   "outputs": [],
   "source": [
    "def objective( trail, data = x_3, target = y_3):\n",
    "    train_x_3, test_x_3, train_y_3, test_y_3 = train_test_split(data,target, test_size=.20, random_state=30)\n",
    "    param = {\n",
    "        'tree_method':'hist',\n",
    "        'enable_categorical':True,\n",
    "        'lambda': trail.suggest_loguniform('lambda', 1e-10, 1e-4), # lambda uses L2 regularization\n",
    "        'alpha': trail.suggest_loguniform('alpha', 1e-10, 1e-4),\n",
    "        'colsample_bytree':trail.suggest_categorical('colsample_bytree', [.1,.2,.3,.4,.5,.8,.9]),\n",
    "        'subsample':trail.suggest_categorical('subsample', [.1,.2,.3,.4,.5,.6,.7,.8,.9]),\n",
    "        'learning_rate':trail.suggest_categorical('learning_rate', [.00001,.0003,.02,.004,.5,1,10]),\n",
    "        'n_estimator': 30000,\n",
    "        'max_depth':trail.suggest_categorical('max_depth', [3,4,5,6,7,8,9,10,11]),\n",
    "        'random_state': trail.suggest_categorical('random_state', [10,30,200,5000]),\n",
    "        'min_child_weight': trail.suggest_int('min_child_weight',1,200),\n",
    "        'verbosity': 3\n",
    "    }\n",
    "    xgb_x_3_model = xgb.XGBRFRegressor(**param)\n",
    "    xgb_x_3_model.fit(train_x_3,train_y_3,eval_set = [(test_x_3,test_y_3)], verbose = True)\n",
    "    prediction_xgb = xgb_x_3_model.predict(test_x_3)\n",
    "    rmse = mean_squared_error(test_y_3,prediction_xgb)\n",
    "    return rmse\n",
    "    "
   ]
  },
  {
   "cell_type": "code",
   "execution_count": 131,
   "metadata": {},
   "outputs": [
    {
     "name": "stderr",
     "output_type": "stream",
     "text": [
      "[I 2023-11-06 18:05:12,573] A new study created in memory with name: no-name-002e7b9b-9996-41b9-aeb9-6cd0266e2264\n"
     ]
    },
    {
     "name": "stdout",
     "output_type": "stream",
     "text": [
      "[18:05:12] ======== Monitor (0): HostSketchContainer ========\n",
      "[18:05:12] AllReduce: 6e-06s, 1 calls @ 6us\n",
      "\n",
      "[18:05:12] MakeCuts: 1.5e-05s, 1 calls @ 15us\n",
      "\n",
      "[18:05:12] DEBUG: /workspace/src/gbm/gbtree.cc:130: Using tree method: 3\n",
      "[0]\tvalidation_0-rmse:62.74974\n"
     ]
    },
    {
     "name": "stderr",
     "output_type": "stream",
     "text": [
      "/tmp/ipykernel_13654/829001706.py:6: FutureWarning: suggest_loguniform has been deprecated in v3.0.0. This feature will be removed in v6.0.0. See https://github.com/optuna/optuna/releases/tag/v3.0.0. Use suggest_float(..., log=True) instead.\n",
      "  'lambda': trail.suggest_loguniform('lambda', 1e-10, 1e-4), # lambda uses L2 regularization\n",
      "/tmp/ipykernel_13654/829001706.py:7: FutureWarning: suggest_loguniform has been deprecated in v3.0.0. This feature will be removed in v6.0.0. See https://github.com/optuna/optuna/releases/tag/v3.0.0. Use suggest_float(..., log=True) instead.\n",
      "  'alpha': trail.suggest_loguniform('alpha', 1e-10, 1e-4),\n",
      "/home/aazzioui/Documents/WS/TIMSS-2019_student_score_prediction/env/lib/python3.11/site-packages/xgboost/core.py:160: UserWarning: [18:05:12] WARNING: /workspace/src/learner.cc:742: \n",
      "Parameters: { \"n_estimator\" } are not used.\n",
      "\n",
      "  warnings.warn(smsg, UserWarning)\n",
      "[I 2023-11-06 18:05:12,681] Trial 0 finished with value: 3937.5303993942935 and parameters: {'lambda': 4.080866374234653e-05, 'alpha': 1.195952477095235e-10, 'colsample_bytree': 0.9, 'subsample': 0.4, 'learning_rate': 1, 'max_depth': 3, 'random_state': 30, 'min_child_weight': 138}. Best is trial 0 with value: 3937.5303993942935.\n",
      "/tmp/ipykernel_13654/829001706.py:6: FutureWarning: suggest_loguniform has been deprecated in v3.0.0. This feature will be removed in v6.0.0. See https://github.com/optuna/optuna/releases/tag/v3.0.0. Use suggest_float(..., log=True) instead.\n",
      "  'lambda': trail.suggest_loguniform('lambda', 1e-10, 1e-4), # lambda uses L2 regularization\n",
      "/tmp/ipykernel_13654/829001706.py:7: FutureWarning: suggest_loguniform has been deprecated in v3.0.0. This feature will be removed in v6.0.0. See https://github.com/optuna/optuna/releases/tag/v3.0.0. Use suggest_float(..., log=True) instead.\n",
      "  'alpha': trail.suggest_loguniform('alpha', 1e-10, 1e-4),\n",
      "/home/aazzioui/Documents/WS/TIMSS-2019_student_score_prediction/env/lib/python3.11/site-packages/xgboost/core.py:160: UserWarning: [18:05:12] WARNING: /workspace/src/learner.cc:742: \n",
      "Parameters: { \"n_estimator\" } are not used.\n",
      "\n",
      "  warnings.warn(smsg, UserWarning)\n"
     ]
    },
    {
     "name": "stdout",
     "output_type": "stream",
     "text": [
      "[18:05:12] ======== Monitor (0): Learner ========\n",
      "[18:05:12] Configure: 0.000842s, 1 calls @ 842us\n",
      "\n",
      "[18:05:12] EvalOneIter: 0.000189s, 1 calls @ 189us\n",
      "\n",
      "[18:05:12] GetGradient: 6e-06s, 1 calls @ 6us\n",
      "\n",
      "[18:05:12] PredictRaw: 3e-06s, 1 calls @ 3us\n",
      "\n",
      "[18:05:12] UpdateOneIter: 0.035939s, 1 calls @ 35939us\n",
      "\n",
      "[18:05:12] ======== Monitor (0): GBTree ========\n",
      "[18:05:12] BoostNewTrees: 0.035005s, 1 calls @ 35005us\n",
      "\n",
      "[18:05:12] CommitModel: 3e-06s, 1 calls @ 3us\n",
      "\n",
      "[18:05:12] ======== Monitor (0): HistUpdater ========\n",
      "[18:05:12] BuildHistogram: 0.00123s, 49 calls @ 1230us\n",
      "\n",
      "[18:05:12] EvaluateSplits: 0.010216s, 149 calls @ 10216us\n",
      "\n",
      "[18:05:12] InitData: 0.000992s, 100 calls @ 992us\n",
      "\n",
      "[18:05:12] InitRoot: 0.011405s, 100 calls @ 11405us\n",
      "\n",
      "[18:05:12] LeafPartition: 1.5e-05s, 100 calls @ 15us\n",
      "\n",
      "[18:05:12] UpdatePosition: 0.017811s, 49 calls @ 17811us\n",
      "\n",
      "[18:05:12] UpdateTree: 0.032267s, 100 calls @ 32267us\n",
      "\n",
      "[18:05:12] DEBUG: /workspace/src/gbm/gbtree.cc:130: Using tree method: 3\n",
      "[18:05:12] ======== Monitor (0): HostSketchContainer ========\n",
      "[18:05:12] AllReduce: 7e-06s, 1 calls @ 7us\n",
      "\n",
      "[18:05:12] MakeCuts: 1.8e-05s, 1 calls @ 18us\n",
      "\n",
      "[18:05:12] DEBUG: /workspace/src/gbm/gbtree.cc:130: Using tree method: 3\n",
      "[0]\tvalidation_0-rmse:76.89242\n"
     ]
    },
    {
     "name": "stderr",
     "output_type": "stream",
     "text": [
      "[I 2023-11-06 18:05:12,921] Trial 1 finished with value: 5912.444335313394 and parameters: {'lambda': 3.0679670173532456e-06, 'alpha': 9.994301187796778e-08, 'colsample_bytree': 0.3, 'subsample': 0.8, 'learning_rate': 10, 'max_depth': 5, 'random_state': 10, 'min_child_weight': 68}. Best is trial 0 with value: 3937.5303993942935.\n"
     ]
    },
    {
     "name": "stdout",
     "output_type": "stream",
     "text": [
      "[18:05:12] ======== Monitor (0): Learner ========\n",
      "[18:05:12] Configure: 0.001011s, 1 calls @ 1011us\n",
      "\n",
      "[18:05:12] EvalOneIter: 0.003566s, 1 calls @ 3566us\n",
      "\n",
      "[18:05:12] GetGradient: 1.3e-05s, 1 calls @ 13us\n",
      "\n",
      "[18:05:12] PredictRaw: 4e-06s, 1 calls @ 4us\n",
      "\n",
      "[18:05:12] UpdateOneIter: 0.120632s, 1 calls @ 120632us\n",
      "\n",
      "[18:05:12] ======== Monitor (0): GBTree ========\n",
      "[18:05:12] BoostNewTrees: 0.105758s, 1 calls @ 105758us\n",
      "\n",
      "[18:05:12] CommitModel: 6e-06s, 1 calls @ 6us\n",
      "\n",
      "[18:05:12] ======== Monitor (0): HistUpdater ========\n",
      "[18:05:12] BuildHistogram: 0.019884s, 291 calls @ 19884us\n",
      "\n",
      "[18:05:12] EvaluateSplits: 0.033691s, 391 calls @ 33691us\n",
      "\n",
      "[18:05:12] InitData: 0.001082s, 100 calls @ 1082us\n",
      "\n",
      "[18:05:12] InitRoot: 0.002253s, 100 calls @ 2253us\n",
      "\n",
      "[18:05:12] LeafPartition: 1.8e-05s, 100 calls @ 18us\n",
      "\n",
      "[18:05:12] UpdatePosition: 0.044542s, 292 calls @ 44542us\n",
      "\n",
      "[18:05:12] UpdateTree: 0.101638s, 100 calls @ 101638us\n",
      "\n",
      "[18:05:12] DEBUG: /workspace/src/gbm/gbtree.cc:130: Using tree method: 3\n",
      "[18:05:13] ======== Monitor (0): HostSketchContainer ========\n",
      "[18:05:13] AllReduce: 0.007426s, 1 calls @ 7426us\n",
      "\n",
      "[18:05:13] MakeCuts: 0.00974s, 1 calls @ 9740us\n",
      "\n",
      "[18:05:13] DEBUG: /workspace/src/gbm/gbtree.cc:130: Using tree method: 3\n"
     ]
    },
    {
     "name": "stderr",
     "output_type": "stream",
     "text": [
      "/tmp/ipykernel_13654/829001706.py:6: FutureWarning: suggest_loguniform has been deprecated in v3.0.0. This feature will be removed in v6.0.0. See https://github.com/optuna/optuna/releases/tag/v3.0.0. Use suggest_float(..., log=True) instead.\n",
      "  'lambda': trail.suggest_loguniform('lambda', 1e-10, 1e-4), # lambda uses L2 regularization\n",
      "/tmp/ipykernel_13654/829001706.py:7: FutureWarning: suggest_loguniform has been deprecated in v3.0.0. This feature will be removed in v6.0.0. See https://github.com/optuna/optuna/releases/tag/v3.0.0. Use suggest_float(..., log=True) instead.\n",
      "  'alpha': trail.suggest_loguniform('alpha', 1e-10, 1e-4),\n",
      "/home/aazzioui/Documents/WS/TIMSS-2019_student_score_prediction/env/lib/python3.11/site-packages/xgboost/core.py:160: UserWarning: [18:05:13] WARNING: /workspace/src/learner.cc:742: \n",
      "Parameters: { \"n_estimator\" } are not used.\n",
      "\n",
      "  warnings.warn(smsg, UserWarning)\n"
     ]
    },
    {
     "name": "stdout",
     "output_type": "stream",
     "text": [
      "[0]\tvalidation_0-rmse:62.91228\n"
     ]
    },
    {
     "name": "stderr",
     "output_type": "stream",
     "text": [
      "[I 2023-11-06 18:05:13,627] Trial 2 finished with value: 3957.9551874544245 and parameters: {'lambda': 5.969519296833869e-09, 'alpha': 2.6088371451549976e-08, 'colsample_bytree': 0.3, 'subsample': 0.9, 'learning_rate': 1e-05, 'max_depth': 4, 'random_state': 30, 'min_child_weight': 3}. Best is trial 0 with value: 3937.5303993942935.\n"
     ]
    },
    {
     "name": "stdout",
     "output_type": "stream",
     "text": [
      "[18:05:13] ======== Monitor (0): Learner ========\n",
      "[18:05:13] Configure: 0.000911s, 1 calls @ 911us\n",
      "\n",
      "[18:05:13] EvalOneIter: 0.007701s, 1 calls @ 7701us\n",
      "\n",
      "[18:05:13] GetGradient: 7e-06s, 1 calls @ 7us\n",
      "\n",
      "[18:05:13] PredictRaw: 4e-06s, 1 calls @ 4us\n",
      "\n",
      "[18:05:13] UpdateOneIter: 0.486634s, 1 calls @ 486634us\n",
      "\n",
      "[18:05:13] ======== Monitor (0): GBTree ========\n",
      "[18:05:13] BoostNewTrees: 0.467871s, 1 calls @ 467871us\n",
      "\n",
      "[18:05:13] CommitModel: 3e-06s, 1 calls @ 3us\n",
      "\n",
      "[18:05:13] ======== Monitor (0): HistUpdater ========\n",
      "[18:05:13] BuildHistogram: 0.130821s, 300 calls @ 130821us\n",
      "\n",
      "[18:05:13] EvaluateSplits: 0.076642s, 400 calls @ 76642us\n",
      "\n",
      "[18:05:13] InitData: 0.024495s, 100 calls @ 24495us\n",
      "\n",
      "[18:05:13] InitRoot: 0.017154s, 100 calls @ 17154us\n",
      "\n",
      "[18:05:13] LeafPartition: 2.1e-05s, 100 calls @ 21us\n",
      "\n",
      "[18:05:13] UpdatePosition: 0.177472s, 400 calls @ 177472us\n",
      "\n",
      "[18:05:13] UpdateTree: 0.426142s, 100 calls @ 426142us\n",
      "\n",
      "[18:05:13] DEBUG: /workspace/src/gbm/gbtree.cc:130: Using tree method: 3\n",
      "[18:05:13] ======== Monitor (0): HostSketchContainer ========\n",
      "[18:05:13] AllReduce: 5e-06s, 1 calls @ 5us\n",
      "\n",
      "[18:05:13] MakeCuts: 1.7e-05s, 1 calls @ 17us\n",
      "\n",
      "[18:05:13] DEBUG: /workspace/src/gbm/gbtree.cc:130: Using tree method: 3\n",
      "[0]\tvalidation_0-rmse:61.13082\n"
     ]
    },
    {
     "name": "stderr",
     "output_type": "stream",
     "text": [
      "/tmp/ipykernel_13654/829001706.py:6: FutureWarning: suggest_loguniform has been deprecated in v3.0.0. This feature will be removed in v6.0.0. See https://github.com/optuna/optuna/releases/tag/v3.0.0. Use suggest_float(..., log=True) instead.\n",
      "  'lambda': trail.suggest_loguniform('lambda', 1e-10, 1e-4), # lambda uses L2 regularization\n",
      "/tmp/ipykernel_13654/829001706.py:7: FutureWarning: suggest_loguniform has been deprecated in v3.0.0. This feature will be removed in v6.0.0. See https://github.com/optuna/optuna/releases/tag/v3.0.0. Use suggest_float(..., log=True) instead.\n",
      "  'alpha': trail.suggest_loguniform('alpha', 1e-10, 1e-4),\n",
      "/home/aazzioui/Documents/WS/TIMSS-2019_student_score_prediction/env/lib/python3.11/site-packages/xgboost/core.py:160: UserWarning: [18:05:13] WARNING: /workspace/src/learner.cc:742: \n",
      "Parameters: { \"n_estimator\" } are not used.\n",
      "\n",
      "  warnings.warn(smsg, UserWarning)\n",
      "[I 2023-11-06 18:05:13,864] Trial 3 finished with value: 3736.9776830708797 and parameters: {'lambda': 1.8442282797530156e-09, 'alpha': 5.629740335915868e-09, 'colsample_bytree': 0.2, 'subsample': 0.4, 'learning_rate': 1, 'max_depth': 11, 'random_state': 30, 'min_child_weight': 53}. Best is trial 3 with value: 3736.9776830708797.\n"
     ]
    },
    {
     "name": "stdout",
     "output_type": "stream",
     "text": [
      "[18:05:13] ======== Monitor (0): Learner ========\n",
      "[18:05:13] Configure: 0.000833s, 1 calls @ 833us\n",
      "\n",
      "[18:05:13] EvalOneIter: 0.001964s, 1 calls @ 1964us\n",
      "\n",
      "[18:05:13] GetGradient: 6e-06s, 1 calls @ 6us\n",
      "\n",
      "[18:05:13] PredictRaw: 2e-06s, 1 calls @ 2us\n",
      "\n",
      "[18:05:13] UpdateOneIter: 0.085078s, 1 calls @ 85078us\n",
      "\n",
      "[18:05:13] ======== Monitor (0): GBTree ========\n",
      "[18:05:13] BoostNewTrees: 0.0841s, 1 calls @ 84100us\n",
      "\n",
      "[18:05:13] CommitModel: 3e-06s, 1 calls @ 3us\n",
      "\n",
      "[18:05:13] ======== Monitor (0): HistUpdater ========\n",
      "[18:05:13] BuildHistogram: 0.007606s, 143 calls @ 7606us\n",
      "\n",
      "[18:05:13] EvaluateSplits: 0.002132s, 243 calls @ 2132us\n",
      "\n",
      "[18:05:13] InitData: 0.001626s, 100 calls @ 1626us\n",
      "\n",
      "[18:05:13] InitRoot: 0.015715s, 100 calls @ 15715us\n",
      "\n",
      "[18:05:13] LeafPartition: 1.6e-05s, 100 calls @ 16us\n",
      "\n",
      "[18:05:13] UpdatePosition: 0.037272s, 143 calls @ 37272us\n",
      "\n",
      "[18:05:13] UpdateTree: 0.064067s, 100 calls @ 64067us\n",
      "\n",
      "[18:05:13] DEBUG: /workspace/src/gbm/gbtree.cc:130: Using tree method: 3\n",
      "[18:05:13] ======== Monitor (0): HostSketchContainer ========\n",
      "[18:05:13] AllReduce: 6e-06s, 1 calls @ 6us\n",
      "\n",
      "[18:05:13] MakeCuts: 1.8e-05s, 1 calls @ 18us\n",
      "\n",
      "[18:05:13] DEBUG: /workspace/src/gbm/gbtree.cc:130: Using tree method: 3\n",
      "[0]\tvalidation_0-rmse:62.91228\n"
     ]
    },
    {
     "name": "stderr",
     "output_type": "stream",
     "text": [
      "/tmp/ipykernel_13654/829001706.py:6: FutureWarning: suggest_loguniform has been deprecated in v3.0.0. This feature will be removed in v6.0.0. See https://github.com/optuna/optuna/releases/tag/v3.0.0. Use suggest_float(..., log=True) instead.\n",
      "  'lambda': trail.suggest_loguniform('lambda', 1e-10, 1e-4), # lambda uses L2 regularization\n",
      "/tmp/ipykernel_13654/829001706.py:7: FutureWarning: suggest_loguniform has been deprecated in v3.0.0. This feature will be removed in v6.0.0. See https://github.com/optuna/optuna/releases/tag/v3.0.0. Use suggest_float(..., log=True) instead.\n",
      "  'alpha': trail.suggest_loguniform('alpha', 1e-10, 1e-4),\n",
      "/home/aazzioui/Documents/WS/TIMSS-2019_student_score_prediction/env/lib/python3.11/site-packages/xgboost/core.py:160: UserWarning: [18:05:13] WARNING: /workspace/src/learner.cc:742: \n",
      "Parameters: { \"n_estimator\" } are not used.\n",
      "\n",
      "  warnings.warn(smsg, UserWarning)\n",
      "[I 2023-11-06 18:05:13,989] Trial 4 finished with value: 3957.9551874544245 and parameters: {'lambda': 1.7595528150428084e-08, 'alpha': 1.0291217956344267e-09, 'colsample_bytree': 0.2, 'subsample': 0.2, 'learning_rate': 10, 'max_depth': 8, 'random_state': 30, 'min_child_weight': 197}. Best is trial 3 with value: 3736.9776830708797.\n"
     ]
    },
    {
     "name": "stdout",
     "output_type": "stream",
     "text": [
      "[18:05:13] ======== Monitor (0): Learner ========\n",
      "[18:05:13] Configure: 0.000856s, 1 calls @ 856us\n",
      "\n",
      "[18:05:13] EvalOneIter: 0.000132s, 1 calls @ 132us\n",
      "\n",
      "[18:05:13] GetGradient: 6e-06s, 1 calls @ 6us\n",
      "\n",
      "[18:05:13] PredictRaw: 2e-06s, 1 calls @ 2us\n",
      "\n",
      "[18:05:13] UpdateOneIter: 0.029689s, 1 calls @ 29689us\n",
      "\n",
      "[18:05:13] ======== Monitor (0): GBTree ========\n",
      "[18:05:13] BoostNewTrees: 0.028743s, 1 calls @ 28743us\n",
      "\n",
      "[18:05:13] CommitModel: 3e-06s, 1 calls @ 3us\n",
      "\n",
      "[18:05:13] ======== Monitor (0): HistUpdater ========\n",
      "[18:05:13] EvaluateSplits: 0.00178s, 100 calls @ 1780us\n",
      "\n",
      "[18:05:13] InitData: 0.001026s, 100 calls @ 1026us\n",
      "\n",
      "[18:05:13] InitRoot: 0.021938s, 100 calls @ 21938us\n",
      "\n",
      "[18:05:13] LeafPartition: 1.3e-05s, 100 calls @ 13us\n",
      "\n",
      "[18:05:13] UpdateTree: 0.023098s, 100 calls @ 23098us\n",
      "\n",
      "[18:05:13] DEBUG: /workspace/src/gbm/gbtree.cc:130: Using tree method: 3\n"
     ]
    },
    {
     "name": "stderr",
     "output_type": "stream",
     "text": [
      "/tmp/ipykernel_13654/829001706.py:6: FutureWarning: suggest_loguniform has been deprecated in v3.0.0. This feature will be removed in v6.0.0. See https://github.com/optuna/optuna/releases/tag/v3.0.0. Use suggest_float(..., log=True) instead.\n",
      "  'lambda': trail.suggest_loguniform('lambda', 1e-10, 1e-4), # lambda uses L2 regularization\n",
      "/tmp/ipykernel_13654/829001706.py:7: FutureWarning: suggest_loguniform has been deprecated in v3.0.0. This feature will be removed in v6.0.0. See https://github.com/optuna/optuna/releases/tag/v3.0.0. Use suggest_float(..., log=True) instead.\n",
      "  'alpha': trail.suggest_loguniform('alpha', 1e-10, 1e-4),\n"
     ]
    },
    {
     "name": "stdout",
     "output_type": "stream",
     "text": [
      "[18:05:14] ======== Monitor (0): HostSketchContainer ========\n",
      "[18:05:14] AllReduce: 0.00452s, 1 calls @ 4520us\n",
      "\n",
      "[18:05:14] MakeCuts: 0.00454s, 1 calls @ 4540us\n",
      "\n",
      "[18:05:14] DEBUG: /workspace/src/gbm/gbtree.cc:130: Using tree method: 3\n"
     ]
    },
    {
     "name": "stderr",
     "output_type": "stream",
     "text": [
      "/home/aazzioui/Documents/WS/TIMSS-2019_student_score_prediction/env/lib/python3.11/site-packages/xgboost/core.py:160: UserWarning: [18:05:14] WARNING: /workspace/src/learner.cc:742: \n",
      "Parameters: { \"n_estimator\" } are not used.\n",
      "\n",
      "  warnings.warn(smsg, UserWarning)\n"
     ]
    },
    {
     "name": "stdout",
     "output_type": "stream",
     "text": [
      "[0]\tvalidation_0-rmse:62.89513\n"
     ]
    },
    {
     "name": "stderr",
     "output_type": "stream",
     "text": [
      "[I 2023-11-06 18:05:14,264] Trial 5 finished with value: 3955.79753592128 and parameters: {'lambda': 1.790299038808744e-06, 'alpha': 5.332150329503782e-09, 'colsample_bytree': 0.5, 'subsample': 0.4, 'learning_rate': 0.004, 'max_depth': 4, 'random_state': 10, 'min_child_weight': 64}. Best is trial 3 with value: 3736.9776830708797.\n",
      "/tmp/ipykernel_13654/829001706.py:6: FutureWarning: suggest_loguniform has been deprecated in v3.0.0. This feature will be removed in v6.0.0. See https://github.com/optuna/optuna/releases/tag/v3.0.0. Use suggest_float(..., log=True) instead.\n",
      "  'lambda': trail.suggest_loguniform('lambda', 1e-10, 1e-4), # lambda uses L2 regularization\n",
      "/tmp/ipykernel_13654/829001706.py:7: FutureWarning: suggest_loguniform has been deprecated in v3.0.0. This feature will be removed in v6.0.0. See https://github.com/optuna/optuna/releases/tag/v3.0.0. Use suggest_float(..., log=True) instead.\n",
      "  'alpha': trail.suggest_loguniform('alpha', 1e-10, 1e-4),\n"
     ]
    },
    {
     "name": "stdout",
     "output_type": "stream",
     "text": [
      "[18:05:14] ======== Monitor (0): Learner ========\n",
      "[18:05:14] Configure: 0.001289s, 1 calls @ 1289us\n",
      "\n",
      "[18:05:14] EvalOneIter: 0.008501s, 1 calls @ 8501us\n",
      "\n",
      "[18:05:14] GetGradient: 7e-06s, 1 calls @ 7us\n",
      "\n",
      "[18:05:14] PredictRaw: 3e-06s, 1 calls @ 3us\n",
      "\n",
      "[18:05:14] UpdateOneIter: 0.133597s, 1 calls @ 133597us\n",
      "\n",
      "[18:05:14] ======== Monitor (0): GBTree ========\n",
      "[18:05:14] BoostNewTrees: 0.13169s, 1 calls @ 131690us\n",
      "\n",
      "[18:05:14] CommitModel: 3e-06s, 1 calls @ 3us\n",
      "\n",
      "[18:05:14] ======== Monitor (0): HistUpdater ========\n",
      "[18:05:14] BuildHistogram: 0.027531s, 201 calls @ 27531us\n",
      "\n",
      "[18:05:14] EvaluateSplits: 0.01179s, 301 calls @ 11790us\n",
      "\n",
      "[18:05:14] InitData: 0.018944s, 100 calls @ 18944us\n",
      "\n",
      "[18:05:14] InitRoot: 0.030015s, 100 calls @ 30015us\n",
      "\n",
      "[18:05:14] LeafPartition: 1.6e-05s, 100 calls @ 16us\n",
      "\n",
      "[18:05:14] UpdatePosition: 0.027358s, 201 calls @ 27358us\n",
      "\n",
      "[18:05:14] UpdateTree: 0.115408s, 100 calls @ 115408us\n",
      "\n",
      "[18:05:14] DEBUG: /workspace/src/gbm/gbtree.cc:130: Using tree method: 3\n",
      "[18:05:14] ======== Monitor (0): HostSketchContainer ========\n",
      "[18:05:14] AllReduce: 6e-06s, 1 calls @ 6us\n",
      "\n",
      "[18:05:14] MakeCuts: 1.6e-05s, 1 calls @ 16us\n",
      "\n",
      "[18:05:14] DEBUG: /workspace/src/gbm/gbtree.cc:130: Using tree method: 3\n",
      "[0]\tvalidation_0-rmse:60.89357\n"
     ]
    },
    {
     "name": "stderr",
     "output_type": "stream",
     "text": [
      "/home/aazzioui/Documents/WS/TIMSS-2019_student_score_prediction/env/lib/python3.11/site-packages/xgboost/core.py:160: UserWarning: [18:05:14] WARNING: /workspace/src/learner.cc:742: \n",
      "Parameters: { \"n_estimator\" } are not used.\n",
      "\n",
      "  warnings.warn(smsg, UserWarning)\n",
      "[I 2023-11-06 18:05:14,422] Trial 6 finished with value: 3708.027130527873 and parameters: {'lambda': 8.843247496738669e-05, 'alpha': 2.8578154867711773e-09, 'colsample_bytree': 0.5, 'subsample': 0.4, 'learning_rate': 0.5, 'max_depth': 4, 'random_state': 30, 'min_child_weight': 58}. Best is trial 6 with value: 3708.027130527873.\n"
     ]
    },
    {
     "name": "stdout",
     "output_type": "stream",
     "text": [
      "[18:05:14] ======== Monitor (0): Learner ========\n",
      "[18:05:14] Configure: 0.001418s, 1 calls @ 1418us\n",
      "\n",
      "[18:05:14] EvalOneIter: 0.000417s, 1 calls @ 417us\n",
      "\n",
      "[18:05:14] GetGradient: 9e-06s, 1 calls @ 9us\n",
      "\n",
      "[18:05:14] PredictRaw: 4e-06s, 1 calls @ 4us\n",
      "\n",
      "[18:05:14] UpdateOneIter: 0.052744s, 1 calls @ 52744us\n",
      "\n",
      "[18:05:14] ======== Monitor (0): GBTree ========\n",
      "[18:05:14] BoostNewTrees: 0.044117s, 1 calls @ 44117us\n",
      "\n",
      "[18:05:14] CommitModel: 4e-06s, 1 calls @ 4us\n",
      "\n",
      "[18:05:14] ======== Monitor (0): HistUpdater ========\n",
      "[18:05:14] BuildHistogram: 0.005086s, 214 calls @ 5086us\n",
      "\n",
      "[18:05:14] EvaluateSplits: 0.016717s, 314 calls @ 16717us\n",
      "\n",
      "[18:05:14] InitData: 0.001066s, 100 calls @ 1066us\n",
      "\n",
      "[18:05:14] InitRoot: 0.023176s, 100 calls @ 23176us\n",
      "\n",
      "[18:05:14] LeafPartition: 1.5e-05s, 100 calls @ 15us\n",
      "\n",
      "[18:05:14] UpdatePosition: 0.009066s, 214 calls @ 9066us\n",
      "\n",
      "[18:05:14] UpdateTree: 0.041396s, 100 calls @ 41396us\n",
      "\n",
      "[18:05:14] DEBUG: /workspace/src/gbm/gbtree.cc:130: Using tree method: 3\n"
     ]
    },
    {
     "name": "stderr",
     "output_type": "stream",
     "text": [
      "/tmp/ipykernel_13654/829001706.py:6: FutureWarning: suggest_loguniform has been deprecated in v3.0.0. This feature will be removed in v6.0.0. See https://github.com/optuna/optuna/releases/tag/v3.0.0. Use suggest_float(..., log=True) instead.\n",
      "  'lambda': trail.suggest_loguniform('lambda', 1e-10, 1e-4), # lambda uses L2 regularization\n",
      "/tmp/ipykernel_13654/829001706.py:7: FutureWarning: suggest_loguniform has been deprecated in v3.0.0. This feature will be removed in v6.0.0. See https://github.com/optuna/optuna/releases/tag/v3.0.0. Use suggest_float(..., log=True) instead.\n",
      "  'alpha': trail.suggest_loguniform('alpha', 1e-10, 1e-4),\n",
      "/home/aazzioui/Documents/WS/TIMSS-2019_student_score_prediction/env/lib/python3.11/site-packages/xgboost/core.py:160: UserWarning: [18:05:14] WARNING: /workspace/src/learner.cc:742: \n",
      "Parameters: { \"n_estimator\" } are not used.\n",
      "\n",
      "  warnings.warn(smsg, UserWarning)\n"
     ]
    },
    {
     "name": "stdout",
     "output_type": "stream",
     "text": [
      "[18:05:14] ======== Monitor (0): HostSketchContainer ========\n",
      "[18:05:14] AllReduce: 6e-06s, 1 calls @ 6us\n",
      "\n",
      "[18:05:14] MakeCuts: 1.6e-05s, 1 calls @ 16us\n",
      "\n",
      "[18:05:14] DEBUG: /workspace/src/gbm/gbtree.cc:130: Using tree method: 3\n",
      "[0]\tvalidation_0-rmse:59.01200\n"
     ]
    },
    {
     "name": "stderr",
     "output_type": "stream",
     "text": [
      "[I 2023-11-06 18:05:14,791] Trial 7 finished with value: 3482.416017038758 and parameters: {'lambda': 2.7763621527377177e-07, 'alpha': 1.743853806356447e-10, 'colsample_bytree': 0.5, 'subsample': 0.9, 'learning_rate': 1, 'max_depth': 6, 'random_state': 5000, 'min_child_weight': 118}. Best is trial 7 with value: 3482.416017038758.\n"
     ]
    },
    {
     "name": "stdout",
     "output_type": "stream",
     "text": [
      "[18:05:14] ======== Monitor (0): Learner ========\n",
      "[18:05:14] Configure: 0.001364s, 1 calls @ 1364us\n",
      "\n",
      "[18:05:14] EvalOneIter: 0.0004s, 1 calls @ 400us\n",
      "\n",
      "[18:05:14] GetGradient: 8e-06s, 1 calls @ 8us\n",
      "\n",
      "[18:05:14] PredictRaw: 4e-06s, 1 calls @ 4us\n",
      "\n",
      "[18:05:14] UpdateOneIter: 0.253419s, 1 calls @ 253419us\n",
      "\n",
      "[18:05:14] ======== Monitor (0): GBTree ========\n",
      "[18:05:14] BoostNewTrees: 0.246572s, 1 calls @ 246572us\n",
      "\n",
      "[18:05:14] CommitModel: 3e-06s, 1 calls @ 3us\n",
      "\n",
      "[18:05:14] ======== Monitor (0): HistUpdater ========\n",
      "[18:05:14] BuildHistogram: 0.095227s, 241 calls @ 95227us\n",
      "\n",
      "[18:05:14] EvaluateSplits: 0.028331s, 341 calls @ 28331us\n",
      "\n",
      "[18:05:14] InitData: 0.00407s, 100 calls @ 4070us\n",
      "\n",
      "[18:05:14] InitRoot: 0.027904s, 100 calls @ 27904us\n",
      "\n",
      "[18:05:14] LeafPartition: 1.7e-05s, 100 calls @ 17us\n",
      "\n",
      "[18:05:14] UpdatePosition: 0.081193s, 241 calls @ 81193us\n",
      "\n",
      "[18:05:14] UpdateTree: 0.236799s, 100 calls @ 236799us\n",
      "\n",
      "[18:05:14] DEBUG: /workspace/src/gbm/gbtree.cc:130: Using tree method: 3\n",
      "[18:05:14] ======== Monitor (0): HostSketchContainer ========\n",
      "[18:05:14] AllReduce: 0.003685s, 1 calls @ 3685us\n",
      "\n",
      "[18:05:14] MakeCuts: 0.003708s, 1 calls @ 3708us\n",
      "\n",
      "[18:05:14] DEBUG: /workspace/src/gbm/gbtree.cc:130: Using tree method: 3\n",
      "[0]\tvalidation_0-rmse:62.81208\n",
      "[18:05:14] ======== Monitor (0): Learner ========\n",
      "[18:05:14] Configure: 0.001366s, 1 calls @ 1366us\n",
      "\n",
      "[18:05:14] EvalOneIter: 0.000489s, 1 calls @ 489us\n",
      "\n",
      "[18:05:14] GetGradient: 6e-06s, 1 calls @ 6us\n",
      "\n",
      "[18:05:14] PredictRaw: 3e-06s, 1 calls @ 3us\n",
      "\n",
      "[18:05:14] UpdateOneIter: 0.04488s, 1 calls @ 44880us\n",
      "\n",
      "[18:05:14] ======== Monitor (0): GBTree ========\n",
      "[18:05:14] BoostNewTrees: 0.043408s, 1 calls @ 43408us\n",
      "\n",
      "[18:05:14] CommitModel: 3e-06s, 1 calls @ 3us\n",
      "\n",
      "[18:05:14] ======== Monitor (0): HistUpdater ========\n",
      "[18:05:14] BuildHistogram: 0.0097s, 298 calls @ 9700us\n",
      "\n",
      "[18:05:14] EvaluateSplits: 0.00917s, 398 calls @ 9170us\n",
      "\n",
      "[18:05:14] InitData: 0.002392s, 100 calls @ 2392us\n",
      "\n",
      "[18:05:14] InitRoot: 0.00276s, 100 calls @ 2760us\n",
      "\n",
      "[18:05:14] LeafPartition: 1.6e-05s, 100 calls @ 16us\n",
      "\n",
      "[18:05:14] UpdatePosition: 0.016565s, 341 calls @ 16565us\n",
      "\n",
      "[18:05:14] UpdateTree: 0.040951s, 100 calls @ 40951us\n",
      "\n",
      "[18:05:14] DEBUG: /workspace/src/gbm/gbtree.cc:130: Using tree method: 3\n"
     ]
    },
    {
     "name": "stderr",
     "output_type": "stream",
     "text": [
      "/tmp/ipykernel_13654/829001706.py:6: FutureWarning: suggest_loguniform has been deprecated in v3.0.0. This feature will be removed in v6.0.0. See https://github.com/optuna/optuna/releases/tag/v3.0.0. Use suggest_float(..., log=True) instead.\n",
      "  'lambda': trail.suggest_loguniform('lambda', 1e-10, 1e-4), # lambda uses L2 regularization\n",
      "/tmp/ipykernel_13654/829001706.py:7: FutureWarning: suggest_loguniform has been deprecated in v3.0.0. This feature will be removed in v6.0.0. See https://github.com/optuna/optuna/releases/tag/v3.0.0. Use suggest_float(..., log=True) instead.\n",
      "  'alpha': trail.suggest_loguniform('alpha', 1e-10, 1e-4),\n",
      "/home/aazzioui/Documents/WS/TIMSS-2019_student_score_prediction/env/lib/python3.11/site-packages/xgboost/core.py:160: UserWarning: [18:05:14] WARNING: /workspace/src/learner.cc:742: \n",
      "Parameters: { \"n_estimator\" } are not used.\n",
      "\n",
      "  warnings.warn(smsg, UserWarning)\n",
      "[I 2023-11-06 18:05:14,948] Trial 8 finished with value: 3945.3571272002064 and parameters: {'lambda': 3.4332875132718614e-05, 'alpha': 1.3719261618467366e-06, 'colsample_bytree': 0.5, 'subsample': 0.6, 'learning_rate': 0.02, 'max_depth': 4, 'random_state': 5000, 'min_child_weight': 55}. Best is trial 7 with value: 3482.416017038758.\n",
      "/tmp/ipykernel_13654/829001706.py:6: FutureWarning: suggest_loguniform has been deprecated in v3.0.0. This feature will be removed in v6.0.0. See https://github.com/optuna/optuna/releases/tag/v3.0.0. Use suggest_float(..., log=True) instead.\n",
      "  'lambda': trail.suggest_loguniform('lambda', 1e-10, 1e-4), # lambda uses L2 regularization\n",
      "/tmp/ipykernel_13654/829001706.py:7: FutureWarning: suggest_loguniform has been deprecated in v3.0.0. This feature will be removed in v6.0.0. See https://github.com/optuna/optuna/releases/tag/v3.0.0. Use suggest_float(..., log=True) instead.\n",
      "  'alpha': trail.suggest_loguniform('alpha', 1e-10, 1e-4),\n"
     ]
    },
    {
     "name": "stdout",
     "output_type": "stream",
     "text": [
      "[18:05:14] ======== Monitor (0): HostSketchContainer ========\n",
      "[18:05:14] AllReduce: 0.00131s, 1 calls @ 1310us\n",
      "\n",
      "[18:05:14] MakeCuts: 0.005809s, 1 calls @ 5809us\n",
      "\n",
      "[18:05:15] DEBUG: /workspace/src/gbm/gbtree.cc:130: Using tree method: 3\n"
     ]
    },
    {
     "name": "stderr",
     "output_type": "stream",
     "text": [
      "/home/aazzioui/Documents/WS/TIMSS-2019_student_score_prediction/env/lib/python3.11/site-packages/xgboost/core.py:160: UserWarning: [18:05:15] WARNING: /workspace/src/learner.cc:742: \n",
      "Parameters: { \"n_estimator\" } are not used.\n",
      "\n",
      "  warnings.warn(smsg, UserWarning)\n"
     ]
    },
    {
     "name": "stdout",
     "output_type": "stream",
     "text": [
      "[0]\tvalidation_0-rmse:62.89031\n"
     ]
    },
    {
     "name": "stderr",
     "output_type": "stream",
     "text": [
      "[I 2023-11-06 18:05:15,412] Trial 9 finished with value: 3955.1908231846423 and parameters: {'lambda': 9.028209861839049e-07, 'alpha': 6.186597615629597e-07, 'colsample_bytree': 0.9, 'subsample': 0.7, 'learning_rate': 0.004, 'max_depth': 5, 'random_state': 5000, 'min_child_weight': 127}. Best is trial 7 with value: 3482.416017038758.\n"
     ]
    },
    {
     "name": "stdout",
     "output_type": "stream",
     "text": [
      "[18:05:15] ======== Monitor (0): Learner ========\n",
      "[18:05:15] Configure: 0.001365s, 1 calls @ 1365us\n",
      "\n",
      "[18:05:15] EvalOneIter: 0.000883s, 1 calls @ 883us\n",
      "\n",
      "[18:05:15] GetGradient: 6e-06s, 1 calls @ 6us\n",
      "\n",
      "[18:05:15] PredictRaw: 2e-06s, 1 calls @ 2us\n",
      "\n",
      "[18:05:15] UpdateOneIter: 0.368244s, 1 calls @ 368244us\n",
      "\n",
      "[18:05:15] ======== Monitor (0): GBTree ========\n",
      "[18:05:15] BoostNewTrees: 0.366783s, 1 calls @ 366783us\n",
      "\n",
      "[18:05:15] CommitModel: 2e-06s, 1 calls @ 2us\n",
      "\n",
      "[18:05:15] ======== Monitor (0): HistUpdater ========\n",
      "[18:05:15] BuildHistogram: 0.078603s, 196 calls @ 78603us\n",
      "\n",
      "[18:05:15] EvaluateSplits: 0.056206s, 296 calls @ 56206us\n",
      "\n",
      "[18:05:15] InitData: 0.016116s, 100 calls @ 16116us\n",
      "\n",
      "[18:05:15] InitRoot: 0.089439s, 100 calls @ 89439us\n",
      "\n",
      "[18:05:15] LeafPartition: 1.7e-05s, 100 calls @ 17us\n",
      "\n",
      "[18:05:15] UpdatePosition: 0.10299s, 196 calls @ 102990us\n",
      "\n",
      "[18:05:15] UpdateTree: 0.332675s, 100 calls @ 332675us\n",
      "\n",
      "[18:05:15] DEBUG: /workspace/src/gbm/gbtree.cc:130: Using tree method: 3\n",
      "[18:05:15] ======== Monitor (0): HostSketchContainer ========\n",
      "[18:05:15] AllReduce: 9e-06s, 1 calls @ 9us\n",
      "\n",
      "[18:05:15] MakeCuts: 2.2e-05s, 1 calls @ 22us\n",
      "\n",
      "[18:05:15] DEBUG: /workspace/src/gbm/gbtree.cc:130: Using tree method: 3\n"
     ]
    },
    {
     "name": "stderr",
     "output_type": "stream",
     "text": [
      "/tmp/ipykernel_13654/829001706.py:6: FutureWarning: suggest_loguniform has been deprecated in v3.0.0. This feature will be removed in v6.0.0. See https://github.com/optuna/optuna/releases/tag/v3.0.0. Use suggest_float(..., log=True) instead.\n",
      "  'lambda': trail.suggest_loguniform('lambda', 1e-10, 1e-4), # lambda uses L2 regularization\n",
      "/tmp/ipykernel_13654/829001706.py:7: FutureWarning: suggest_loguniform has been deprecated in v3.0.0. This feature will be removed in v6.0.0. See https://github.com/optuna/optuna/releases/tag/v3.0.0. Use suggest_float(..., log=True) instead.\n",
      "  'alpha': trail.suggest_loguniform('alpha', 1e-10, 1e-4),\n",
      "/home/aazzioui/Documents/WS/TIMSS-2019_student_score_prediction/env/lib/python3.11/site-packages/xgboost/core.py:160: UserWarning: [18:05:15] WARNING: /workspace/src/learner.cc:742: \n",
      "Parameters: { \"n_estimator\" } are not used.\n",
      "\n",
      "  warnings.warn(smsg, UserWarning)\n"
     ]
    },
    {
     "name": "stdout",
     "output_type": "stream",
     "text": [
      "[0]\tvalidation_0-rmse:62.91073\n"
     ]
    },
    {
     "name": "stderr",
     "output_type": "stream",
     "text": [
      "[I 2023-11-06 18:05:15,803] Trial 10 finished with value: 3957.760024908921 and parameters: {'lambda': 7.958664675454692e-08, 'alpha': 4.95046844611388e-05, 'colsample_bytree': 0.8, 'subsample': 0.9, 'learning_rate': 0.0003, 'max_depth': 6, 'random_state': 200, 'min_child_weight': 175}. Best is trial 7 with value: 3482.416017038758.\n"
     ]
    },
    {
     "name": "stdout",
     "output_type": "stream",
     "text": [
      "[18:05:15] ======== Monitor (0): Learner ========\n",
      "[18:05:15] Configure: 0.000966s, 1 calls @ 966us\n",
      "\n",
      "[18:05:15] EvalOneIter: 0.000274s, 1 calls @ 274us\n",
      "\n",
      "[18:05:15] GetGradient: 8e-06s, 1 calls @ 8us\n",
      "\n",
      "[18:05:15] PredictRaw: 4e-06s, 1 calls @ 4us\n",
      "\n",
      "[18:05:15] UpdateOneIter: 0.131718s, 1 calls @ 131718us\n",
      "\n",
      "[18:05:15] ======== Monitor (0): GBTree ========\n",
      "[18:05:15] BoostNewTrees: 0.120261s, 1 calls @ 120261us\n",
      "\n",
      "[18:05:15] CommitModel: 3e-06s, 1 calls @ 3us\n",
      "\n",
      "[18:05:15] ======== Monitor (0): HistUpdater ========\n",
      "[18:05:15] BuildHistogram: 0.050958s, 183 calls @ 50958us\n",
      "\n",
      "[18:05:15] EvaluateSplits: 0.005965s, 283 calls @ 5965us\n",
      "\n",
      "[18:05:15] InitData: 0.002649s, 100 calls @ 2649us\n",
      "\n",
      "[18:05:15] InitRoot: 0.025959s, 100 calls @ 25959us\n",
      "\n",
      "[18:05:15] LeafPartition: 1.5e-05s, 100 calls @ 15us\n",
      "\n",
      "[18:05:15] UpdatePosition: 0.035129s, 183 calls @ 35129us\n",
      "\n",
      "[18:05:15] UpdateTree: 0.117308s, 100 calls @ 117308us\n",
      "\n",
      "[18:05:15] DEBUG: /workspace/src/gbm/gbtree.cc:130: Using tree method: 3\n"
     ]
    },
    {
     "name": "stderr",
     "output_type": "stream",
     "text": [
      "/tmp/ipykernel_13654/829001706.py:6: FutureWarning: suggest_loguniform has been deprecated in v3.0.0. This feature will be removed in v6.0.0. See https://github.com/optuna/optuna/releases/tag/v3.0.0. Use suggest_float(..., log=True) instead.\n",
      "  'lambda': trail.suggest_loguniform('lambda', 1e-10, 1e-4), # lambda uses L2 regularization\n",
      "/tmp/ipykernel_13654/829001706.py:7: FutureWarning: suggest_loguniform has been deprecated in v3.0.0. This feature will be removed in v6.0.0. See https://github.com/optuna/optuna/releases/tag/v3.0.0. Use suggest_float(..., log=True) instead.\n",
      "  'alpha': trail.suggest_loguniform('alpha', 1e-10, 1e-4),\n"
     ]
    },
    {
     "name": "stdout",
     "output_type": "stream",
     "text": [
      "[18:05:16] ======== Monitor (0): HostSketchContainer ========\n",
      "[18:05:16] AllReduce: 0.013262s, 1 calls @ 13262us\n",
      "\n",
      "[18:05:16] MakeCuts: 0.024892s, 1 calls @ 24892us\n",
      "\n",
      "[18:05:16] DEBUG: /workspace/src/gbm/gbtree.cc:130: Using tree method: 3\n",
      "[0]\tvalidation_0-rmse:62.54929\n"
     ]
    },
    {
     "name": "stderr",
     "output_type": "stream",
     "text": [
      "/home/aazzioui/Documents/WS/TIMSS-2019_student_score_prediction/env/lib/python3.11/site-packages/xgboost/core.py:160: UserWarning: [18:05:16] WARNING: /workspace/src/learner.cc:742: \n",
      "Parameters: { \"n_estimator\" } are not used.\n",
      "\n",
      "  warnings.warn(smsg, UserWarning)\n",
      "[I 2023-11-06 18:05:16,179] Trial 11 finished with value: 3912.4132464699273 and parameters: {'lambda': 1.6956105332477167e-10, 'alpha': 1.2191510969705155e-10, 'colsample_bytree': 0.1, 'subsample': 0.5, 'learning_rate': 0.5, 'max_depth': 6, 'random_state': 5000, 'min_child_weight': 100}. Best is trial 7 with value: 3482.416017038758.\n"
     ]
    },
    {
     "name": "stdout",
     "output_type": "stream",
     "text": [
      "[18:05:16] ======== Monitor (0): Learner ========\n",
      "[18:05:16] Configure: 0.002333s, 1 calls @ 2333us\n",
      "\n",
      "[18:05:16] EvalOneIter: 0.00021s, 1 calls @ 210us\n",
      "\n",
      "[18:05:16] GetGradient: 7e-06s, 1 calls @ 7us\n",
      "\n",
      "[18:05:16] PredictRaw: 2e-06s, 1 calls @ 2us\n",
      "\n",
      "[18:05:16] UpdateOneIter: 0.022191s, 1 calls @ 22191us\n",
      "\n",
      "[18:05:16] ======== Monitor (0): GBTree ========\n",
      "[18:05:16] BoostNewTrees: 0.019644s, 1 calls @ 19644us\n",
      "\n",
      "[18:05:16] CommitModel: 3e-06s, 1 calls @ 3us\n",
      "\n",
      "[18:05:16] ======== Monitor (0): HistUpdater ========\n",
      "[18:05:16] BuildHistogram: 0.001239s, 74 calls @ 1239us\n",
      "\n",
      "[18:05:16] EvaluateSplits: 0.001335s, 174 calls @ 1335us\n",
      "\n",
      "[18:05:16] InitData: 0.007386s, 100 calls @ 7386us\n",
      "\n",
      "[18:05:16] InitRoot: 0.002513s, 100 calls @ 2513us\n",
      "\n",
      "[18:05:16] LeafPartition: 1.3e-05s, 100 calls @ 13us\n",
      "\n",
      "[18:05:16] UpdatePosition: 0.004583s, 74 calls @ 4583us\n",
      "\n",
      "[18:05:16] UpdateTree: 0.016625s, 100 calls @ 16625us\n",
      "\n",
      "[18:05:16] DEBUG: /workspace/src/gbm/gbtree.cc:130: Using tree method: 3\n",
      "[18:05:16] ======== Monitor (0): HostSketchContainer ========\n",
      "[18:05:16] AllReduce: 7e-06s, 1 calls @ 7us\n",
      "\n",
      "[18:05:16] MakeCuts: 1.9e-05s, 1 calls @ 19us\n",
      "\n",
      "[18:05:16] DEBUG: /workspace/src/gbm/gbtree.cc:130: Using tree method: 3\n"
     ]
    },
    {
     "name": "stderr",
     "output_type": "stream",
     "text": [
      "/tmp/ipykernel_13654/829001706.py:6: FutureWarning: suggest_loguniform has been deprecated in v3.0.0. This feature will be removed in v6.0.0. See https://github.com/optuna/optuna/releases/tag/v3.0.0. Use suggest_float(..., log=True) instead.\n",
      "  'lambda': trail.suggest_loguniform('lambda', 1e-10, 1e-4), # lambda uses L2 regularization\n",
      "/tmp/ipykernel_13654/829001706.py:7: FutureWarning: suggest_loguniform has been deprecated in v3.0.0. This feature will be removed in v6.0.0. See https://github.com/optuna/optuna/releases/tag/v3.0.0. Use suggest_float(..., log=True) instead.\n",
      "  'alpha': trail.suggest_loguniform('alpha', 1e-10, 1e-4),\n",
      "/home/aazzioui/Documents/WS/TIMSS-2019_student_score_prediction/env/lib/python3.11/site-packages/xgboost/core.py:160: UserWarning: [18:05:16] WARNING: /workspace/src/learner.cc:742: \n",
      "Parameters: { \"n_estimator\" } are not used.\n",
      "\n",
      "  warnings.warn(smsg, UserWarning)\n"
     ]
    },
    {
     "name": "stdout",
     "output_type": "stream",
     "text": [
      "[0]\tvalidation_0-rmse:61.52619\n"
     ]
    },
    {
     "name": "stderr",
     "output_type": "stream",
     "text": [
      "[I 2023-11-06 18:05:16,447] Trial 12 finished with value: 3785.4719071872278 and parameters: {'lambda': 2.5180825198747777e-07, 'alpha': 1.3780783216483452e-09, 'colsample_bytree': 0.4, 'subsample': 0.1, 'learning_rate': 0.5, 'max_depth': 9, 'random_state': 200, 'min_child_weight': 15}. Best is trial 7 with value: 3482.416017038758.\n"
     ]
    },
    {
     "name": "stdout",
     "output_type": "stream",
     "text": [
      "[18:05:16] ======== Monitor (0): Learner ========\n",
      "[18:05:16] Configure: 0.000842s, 1 calls @ 842us\n",
      "\n",
      "[18:05:16] EvalOneIter: 0.000354s, 1 calls @ 354us\n",
      "\n",
      "[18:05:16] GetGradient: 6e-06s, 1 calls @ 6us\n",
      "\n",
      "[18:05:16] PredictRaw: 3e-06s, 1 calls @ 3us\n",
      "\n",
      "[18:05:16] UpdateOneIter: 0.101836s, 1 calls @ 101836us\n",
      "\n",
      "[18:05:16] ======== Monitor (0): GBTree ========\n",
      "[18:05:16] BoostNewTrees: 0.100891s, 1 calls @ 100891us\n",
      "\n",
      "[18:05:16] CommitModel: 3e-06s, 1 calls @ 3us\n",
      "\n",
      "[18:05:16] ======== Monitor (0): HistUpdater ========\n",
      "[18:05:16] BuildHistogram: 0.030678s, 207 calls @ 30678us\n",
      "\n",
      "[18:05:16] EvaluateSplits: 0.00592s, 307 calls @ 5920us\n",
      "\n",
      "[18:05:16] InitData: 0.008356s, 100 calls @ 8356us\n",
      "\n",
      "[18:05:16] InitRoot: 0.022785s, 100 calls @ 22785us\n",
      "\n",
      "[18:05:16] LeafPartition: 1.7e-05s, 100 calls @ 17us\n",
      "\n",
      "[18:05:16] UpdatePosition: 0.031739s, 207 calls @ 31739us\n",
      "\n",
      "[18:05:16] UpdateTree: 0.098442s, 100 calls @ 98442us\n",
      "\n",
      "[18:05:16] DEBUG: /workspace/src/gbm/gbtree.cc:130: Using tree method: 3\n",
      "[18:05:16] ======== Monitor (0): HostSketchContainer ========\n",
      "[18:05:16] AllReduce: 5e-06s, 1 calls @ 5us\n",
      "\n",
      "[18:05:16] MakeCuts: 1.6e-05s, 1 calls @ 16us\n",
      "\n",
      "[18:05:16] DEBUG: /workspace/src/gbm/gbtree.cc:130: Using tree method: 3\n",
      "[0]\tvalidation_0-rmse:62.87867\n",
      "[18:05:16] ======== Monitor (0): Learner ========\n",
      "[18:05:16] Configure: 0.001101s, 1 calls @ 1101us\n",
      "\n",
      "[18:05:16] EvalOneIter: 0.000374s, 1 calls @ 374us\n",
      "\n",
      "[18:05:16] GetGradient: 1.1e-05s, 1 calls @ 11us\n",
      "\n",
      "[18:05:16] PredictRaw: 5e-06s, 1 calls @ 5us\n",
      "\n",
      "[18:05:16] UpdateOneIter: 0.011175s, 1 calls @ 11175us\n",
      "\n",
      "[18:05:16] ======== Monitor (0): GBTree ========\n",
      "[18:05:16] BoostNewTrees: 0.008598s, 1 calls @ 8598us\n",
      "\n",
      "[18:05:16] CommitModel: 3e-06s, 1 calls @ 3us\n",
      "\n",
      "[18:05:16] ======== Monitor (0): HistUpdater ========\n",
      "[18:05:16] BuildHistogram: 0.000393s, 18 calls @ 393us\n",
      "\n",
      "[18:05:16] EvaluateSplits: 0.002298s, 118 calls @ 2298us\n",
      "\n",
      "[18:05:16] InitData: 0.000922s, 100 calls @ 922us\n",
      "\n",
      "[18:05:16] InitRoot: 0.003806s, 100 calls @ 3806us\n",
      "\n",
      "[18:05:16] LeafPartition: 1.3e-05s, 100 calls @ 13us\n",
      "\n",
      "[18:05:16] UpdatePosition: 0.000721s, 18 calls @ 721us\n",
      "\n",
      "[18:05:16] UpdateTree: 0.006203s, 100 calls @ 6203us\n",
      "\n"
     ]
    },
    {
     "name": "stderr",
     "output_type": "stream",
     "text": [
      "/tmp/ipykernel_13654/829001706.py:6: FutureWarning: suggest_loguniform has been deprecated in v3.0.0. This feature will be removed in v6.0.0. See https://github.com/optuna/optuna/releases/tag/v3.0.0. Use suggest_float(..., log=True) instead.\n",
      "  'lambda': trail.suggest_loguniform('lambda', 1e-10, 1e-4), # lambda uses L2 regularization\n",
      "/tmp/ipykernel_13654/829001706.py:7: FutureWarning: suggest_loguniform has been deprecated in v3.0.0. This feature will be removed in v6.0.0. See https://github.com/optuna/optuna/releases/tag/v3.0.0. Use suggest_float(..., log=True) instead.\n",
      "  'alpha': trail.suggest_loguniform('alpha', 1e-10, 1e-4),\n",
      "/home/aazzioui/Documents/WS/TIMSS-2019_student_score_prediction/env/lib/python3.11/site-packages/xgboost/core.py:160: UserWarning: [18:05:16] WARNING: /workspace/src/learner.cc:742: \n",
      "Parameters: { \"n_estimator\" } are not used.\n",
      "\n",
      "  warnings.warn(smsg, UserWarning)\n",
      "[I 2023-11-06 18:05:16,601] Trial 13 finished with value: 3953.727468453612 and parameters: {'lambda': 7.735030855439952e-05, 'alpha': 7.102110176972233e-10, 'colsample_bytree': 0.5, 'subsample': 0.3, 'learning_rate': 0.5, 'max_depth': 7, 'random_state': 5000, 'min_child_weight': 108}. Best is trial 7 with value: 3482.416017038758.\n"
     ]
    },
    {
     "name": "stdout",
     "output_type": "stream",
     "text": [
      "[18:05:16] DEBUG: /workspace/src/gbm/gbtree.cc:130: Using tree method: 3\n"
     ]
    },
    {
     "name": "stderr",
     "output_type": "stream",
     "text": [
      "/tmp/ipykernel_13654/829001706.py:6: FutureWarning: suggest_loguniform has been deprecated in v3.0.0. This feature will be removed in v6.0.0. See https://github.com/optuna/optuna/releases/tag/v3.0.0. Use suggest_float(..., log=True) instead.\n",
      "  'lambda': trail.suggest_loguniform('lambda', 1e-10, 1e-4), # lambda uses L2 regularization\n",
      "/tmp/ipykernel_13654/829001706.py:7: FutureWarning: suggest_loguniform has been deprecated in v3.0.0. This feature will be removed in v6.0.0. See https://github.com/optuna/optuna/releases/tag/v3.0.0. Use suggest_float(..., log=True) instead.\n",
      "  'alpha': trail.suggest_loguniform('alpha', 1e-10, 1e-4),\n"
     ]
    },
    {
     "name": "stdout",
     "output_type": "stream",
     "text": [
      "[18:05:16] ======== Monitor (0): HostSketchContainer ========\n",
      "[18:05:16] AllReduce: 0.000118s, 1 calls @ 118us\n",
      "\n",
      "[18:05:16] MakeCuts: 0.000131s, 1 calls @ 131us\n",
      "\n",
      "[18:05:16] DEBUG: /workspace/src/gbm/gbtree.cc:130: Using tree method: 3\n"
     ]
    },
    {
     "name": "stderr",
     "output_type": "stream",
     "text": [
      "/home/aazzioui/Documents/WS/TIMSS-2019_student_score_prediction/env/lib/python3.11/site-packages/xgboost/core.py:160: UserWarning: [18:05:16] WARNING: /workspace/src/learner.cc:742: \n",
      "Parameters: { \"n_estimator\" } are not used.\n",
      "\n",
      "  warnings.warn(smsg, UserWarning)\n"
     ]
    },
    {
     "name": "stdout",
     "output_type": "stream",
     "text": [
      "[0]\tvalidation_0-rmse:58.96274\n"
     ]
    },
    {
     "name": "stderr",
     "output_type": "stream",
     "text": [
      "[I 2023-11-06 18:05:17,064] Trial 14 finished with value: 3476.6049532348648 and parameters: {'lambda': 1.0641325911194268e-05, 'alpha': 1.0625285929918762e-10, 'colsample_bytree': 0.5, 'subsample': 0.9, 'learning_rate': 1, 'max_depth': 6, 'random_state': 30, 'min_child_weight': 91}. Best is trial 14 with value: 3476.6049532348648.\n"
     ]
    },
    {
     "name": "stdout",
     "output_type": "stream",
     "text": [
      "[18:05:17] ======== Monitor (0): Learner ========\n",
      "[18:05:17] Configure: 0.005542s, 1 calls @ 5542us\n",
      "\n",
      "[18:05:17] EvalOneIter: 0.000435s, 1 calls @ 435us\n",
      "\n",
      "[18:05:17] GetGradient: 8e-06s, 1 calls @ 8us\n",
      "\n",
      "[18:05:17] PredictRaw: 4e-06s, 1 calls @ 4us\n",
      "\n",
      "[18:05:17] UpdateOneIter: 0.298873s, 1 calls @ 298873us\n",
      "\n",
      "[18:05:17] ======== Monitor (0): GBTree ========\n",
      "[18:05:17] BoostNewTrees: 0.29026s, 1 calls @ 290260us\n",
      "\n",
      "[18:05:17] CommitModel: 3e-06s, 1 calls @ 3us\n",
      "\n",
      "[18:05:17] ======== Monitor (0): HistUpdater ========\n",
      "[18:05:17] BuildHistogram: 0.118615s, 308 calls @ 118615us\n",
      "\n",
      "[18:05:17] EvaluateSplits: 0.046435s, 408 calls @ 46435us\n",
      "\n",
      "[18:05:17] InitData: 0.001963s, 100 calls @ 1963us\n",
      "\n",
      "[18:05:17] InitRoot: 0.00352s, 100 calls @ 3520us\n",
      "\n",
      "[18:05:17] LeafPartition: 1.6e-05s, 100 calls @ 16us\n",
      "\n",
      "[18:05:17] UpdatePosition: 0.108159s, 308 calls @ 108159us\n",
      "\n",
      "[18:05:17] UpdateTree: 0.278584s, 100 calls @ 278584us\n",
      "\n",
      "[18:05:17] DEBUG: /workspace/src/gbm/gbtree.cc:130: Using tree method: 3\n",
      "[18:05:17] ======== Monitor (0): HostSketchContainer ========\n",
      "[18:05:17] AllReduce: 8e-06s, 1 calls @ 8us\n",
      "\n",
      "[18:05:17] MakeCuts: 2.1e-05s, 1 calls @ 21us\n",
      "\n",
      "[18:05:17] DEBUG: /workspace/src/gbm/gbtree.cc:130: Using tree method: 3\n"
     ]
    },
    {
     "name": "stderr",
     "output_type": "stream",
     "text": [
      "/tmp/ipykernel_13654/829001706.py:6: FutureWarning: suggest_loguniform has been deprecated in v3.0.0. This feature will be removed in v6.0.0. See https://github.com/optuna/optuna/releases/tag/v3.0.0. Use suggest_float(..., log=True) instead.\n",
      "  'lambda': trail.suggest_loguniform('lambda', 1e-10, 1e-4), # lambda uses L2 regularization\n",
      "/tmp/ipykernel_13654/829001706.py:7: FutureWarning: suggest_loguniform has been deprecated in v3.0.0. This feature will be removed in v6.0.0. See https://github.com/optuna/optuna/releases/tag/v3.0.0. Use suggest_float(..., log=True) instead.\n",
      "  'alpha': trail.suggest_loguniform('alpha', 1e-10, 1e-4),\n",
      "/home/aazzioui/Documents/WS/TIMSS-2019_student_score_prediction/env/lib/python3.11/site-packages/xgboost/core.py:160: UserWarning: [18:05:17] WARNING: /workspace/src/learner.cc:742: \n",
      "Parameters: { \"n_estimator\" } are not used.\n",
      "\n",
      "  warnings.warn(smsg, UserWarning)\n"
     ]
    },
    {
     "name": "stdout",
     "output_type": "stream",
     "text": [
      "[0]\tvalidation_0-rmse:59.28197\n"
     ]
    },
    {
     "name": "stderr",
     "output_type": "stream",
     "text": [
      "[I 2023-11-06 18:05:17,395] Trial 15 finished with value: 3514.352034719397 and parameters: {'lambda': 7.3168508790107594e-06, 'alpha': 1.1758372250576163e-10, 'colsample_bytree': 0.5, 'subsample': 0.9, 'learning_rate': 1, 'max_depth': 10, 'random_state': 5000, 'min_child_weight': 150}. Best is trial 14 with value: 3476.6049532348648.\n"
     ]
    },
    {
     "name": "stdout",
     "output_type": "stream",
     "text": [
      "[18:05:17] ======== Monitor (0): Learner ========\n",
      "[18:05:17] Configure: 0.000896s, 1 calls @ 896us\n",
      "\n",
      "[18:05:17] EvalOneIter: 0.005392s, 1 calls @ 5392us\n",
      "\n",
      "[18:05:17] GetGradient: 6e-06s, 1 calls @ 6us\n",
      "\n",
      "[18:05:17] PredictRaw: 2e-06s, 1 calls @ 2us\n",
      "\n",
      "[18:05:17] UpdateOneIter: 0.137168s, 1 calls @ 137168us\n",
      "\n",
      "[18:05:17] ======== Monitor (0): GBTree ========\n",
      "[18:05:17] BoostNewTrees: 0.136181s, 1 calls @ 136181us\n",
      "\n",
      "[18:05:17] CommitModel: 3e-06s, 1 calls @ 3us\n",
      "\n",
      "[18:05:17] ======== Monitor (0): HistUpdater ========\n",
      "[18:05:17] BuildHistogram: 0.03753s, 186 calls @ 37530us\n",
      "\n",
      "[18:05:17] EvaluateSplits: 0.003833s, 286 calls @ 3833us\n",
      "\n",
      "[18:05:17] InitData: 0.036371s, 100 calls @ 36371us\n",
      "\n",
      "[18:05:17] InitRoot: 0.022188s, 100 calls @ 22188us\n",
      "\n",
      "[18:05:17] LeafPartition: 1.4e-05s, 100 calls @ 14us\n",
      "\n",
      "[18:05:17] UpdatePosition: 0.023383s, 186 calls @ 23383us\n",
      "\n",
      "[18:05:17] UpdateTree: 0.121872s, 100 calls @ 121872us\n",
      "\n",
      "[18:05:17] DEBUG: /workspace/src/gbm/gbtree.cc:130: Using tree method: 3\n",
      "[18:05:17] ======== Monitor (0): HostSketchContainer ========\n",
      "[18:05:17] AllReduce: 5e-06s, 1 calls @ 5us\n",
      "\n",
      "[18:05:17] MakeCuts: 1.6e-05s, 1 calls @ 16us\n",
      "\n",
      "[18:05:17] DEBUG: /workspace/src/gbm/gbtree.cc:130: Using tree method: 3\n"
     ]
    },
    {
     "name": "stderr",
     "output_type": "stream",
     "text": [
      "/tmp/ipykernel_13654/829001706.py:6: FutureWarning: suggest_loguniform has been deprecated in v3.0.0. This feature will be removed in v6.0.0. See https://github.com/optuna/optuna/releases/tag/v3.0.0. Use suggest_float(..., log=True) instead.\n",
      "  'lambda': trail.suggest_loguniform('lambda', 1e-10, 1e-4), # lambda uses L2 regularization\n",
      "/tmp/ipykernel_13654/829001706.py:7: FutureWarning: suggest_loguniform has been deprecated in v3.0.0. This feature will be removed in v6.0.0. See https://github.com/optuna/optuna/releases/tag/v3.0.0. Use suggest_float(..., log=True) instead.\n",
      "  'alpha': trail.suggest_loguniform('alpha', 1e-10, 1e-4),\n",
      "/home/aazzioui/Documents/WS/TIMSS-2019_student_score_prediction/env/lib/python3.11/site-packages/xgboost/core.py:160: UserWarning: [18:05:17] WARNING: /workspace/src/learner.cc:742: \n",
      "Parameters: { \"n_estimator\" } are not used.\n",
      "\n",
      "  warnings.warn(smsg, UserWarning)\n"
     ]
    },
    {
     "name": "stdout",
     "output_type": "stream",
     "text": [
      "[0]\tvalidation_0-rmse:61.57169\n"
     ]
    },
    {
     "name": "stderr",
     "output_type": "stream",
     "text": [
      "[I 2023-11-06 18:05:17,822] Trial 16 finished with value: 3791.072606200178 and parameters: {'lambda': 7.122759077025682e-06, 'alpha': 4.6772826317718e-10, 'colsample_bytree': 0.1, 'subsample': 0.9, 'learning_rate': 1, 'max_depth': 6, 'random_state': 10, 'min_child_weight': 95}. Best is trial 14 with value: 3476.6049532348648.\n"
     ]
    },
    {
     "name": "stdout",
     "output_type": "stream",
     "text": [
      "[18:05:17] ======== Monitor (0): Learner ========\n",
      "[18:05:17] Configure: 0.001552s, 1 calls @ 1552us\n",
      "\n",
      "[18:05:17] EvalOneIter: 0.000318s, 1 calls @ 318us\n",
      "\n",
      "[18:05:17] GetGradient: 9e-06s, 1 calls @ 9us\n",
      "\n",
      "[18:05:17] PredictRaw: 5e-06s, 1 calls @ 5us\n",
      "\n",
      "[18:05:17] UpdateOneIter: 0.259975s, 1 calls @ 259975us\n",
      "\n",
      "[18:05:17] ======== Monitor (0): GBTree ========\n",
      "[18:05:17] BoostNewTrees: 0.255875s, 1 calls @ 255875us\n",
      "\n",
      "[18:05:17] CommitModel: 3e-06s, 1 calls @ 3us\n",
      "\n",
      "[18:05:17] ======== Monitor (0): HistUpdater ========\n",
      "[18:05:17] BuildHistogram: 0.109148s, 158 calls @ 109148us\n",
      "\n",
      "[18:05:17] EvaluateSplits: 0.047906s, 258 calls @ 47906us\n",
      "\n",
      "[18:05:17] InitData: 0.016141s, 100 calls @ 16141us\n",
      "\n",
      "[18:05:17] InitRoot: 0.009953s, 100 calls @ 9953us\n",
      "\n",
      "[18:05:17] LeafPartition: 1.5e-05s, 100 calls @ 15us\n",
      "\n",
      "[18:05:17] UpdatePosition: 0.055953s, 158 calls @ 55953us\n",
      "\n",
      "[18:05:17] UpdateTree: 0.237168s, 100 calls @ 237168us\n",
      "\n",
      "[18:05:17] DEBUG: /workspace/src/gbm/gbtree.cc:130: Using tree method: 3\n",
      "[18:05:17] ======== Monitor (0): HostSketchContainer ========\n",
      "[18:05:17] AllReduce: 6e-06s, 1 calls @ 6us\n",
      "\n",
      "[18:05:17] MakeCuts: 1.7e-05s, 1 calls @ 17us\n",
      "\n",
      "[18:05:17] DEBUG: /workspace/src/gbm/gbtree.cc:130: Using tree method: 3\n",
      "[0]\tvalidation_0-rmse:57.83025\n"
     ]
    },
    {
     "name": "stderr",
     "output_type": "stream",
     "text": [
      "/tmp/ipykernel_13654/829001706.py:6: FutureWarning: suggest_loguniform has been deprecated in v3.0.0. This feature will be removed in v6.0.0. See https://github.com/optuna/optuna/releases/tag/v3.0.0. Use suggest_float(..., log=True) instead.\n",
      "  'lambda': trail.suggest_loguniform('lambda', 1e-10, 1e-4), # lambda uses L2 regularization\n",
      "/tmp/ipykernel_13654/829001706.py:7: FutureWarning: suggest_loguniform has been deprecated in v3.0.0. This feature will be removed in v6.0.0. See https://github.com/optuna/optuna/releases/tag/v3.0.0. Use suggest_float(..., log=True) instead.\n",
      "  'alpha': trail.suggest_loguniform('alpha', 1e-10, 1e-4),\n",
      "/home/aazzioui/Documents/WS/TIMSS-2019_student_score_prediction/env/lib/python3.11/site-packages/xgboost/core.py:160: UserWarning: [18:05:17] WARNING: /workspace/src/learner.cc:742: \n",
      "Parameters: { \"n_estimator\" } are not used.\n",
      "\n",
      "  warnings.warn(smsg, UserWarning)\n",
      "[I 2023-11-06 18:05:18,027] Trial 17 finished with value: 3344.3378117076277 and parameters: {'lambda': 2.906294183764727e-07, 'alpha': 1.3536102633036238e-08, 'colsample_bytree': 0.8, 'subsample': 0.9, 'learning_rate': 1, 'max_depth': 6, 'random_state': 200, 'min_child_weight': 86}. Best is trial 17 with value: 3344.3378117076277.\n"
     ]
    },
    {
     "name": "stdout",
     "output_type": "stream",
     "text": [
      "[18:05:18] ======== Monitor (0): Learner ========\n",
      "[18:05:18] Configure: 0.000804s, 1 calls @ 804us\n",
      "\n",
      "[18:05:18] EvalOneIter: 0.000478s, 1 calls @ 478us\n",
      "\n",
      "[18:05:18] GetGradient: 6e-06s, 1 calls @ 6us\n",
      "\n",
      "[18:05:18] PredictRaw: 2e-06s, 1 calls @ 2us\n",
      "\n",
      "[18:05:18] UpdateOneIter: 0.068404s, 1 calls @ 68404us\n",
      "\n",
      "[18:05:18] ======== Monitor (0): GBTree ========\n",
      "[18:05:18] BoostNewTrees: 0.06749s, 1 calls @ 67490us\n",
      "\n",
      "[18:05:18] CommitModel: 2e-06s, 1 calls @ 2us\n",
      "\n",
      "[18:05:18] ======== Monitor (0): HistUpdater ========\n",
      "[18:05:18] BuildHistogram: 0.027327s, 356 calls @ 27327us\n",
      "\n",
      "[18:05:18] EvaluateSplits: 0.006014s, 456 calls @ 6014us\n",
      "\n",
      "[18:05:18] InitData: 0.004771s, 100 calls @ 4771us\n",
      "\n",
      "[18:05:18] InitRoot: 0.003044s, 100 calls @ 3044us\n",
      "\n",
      "[18:05:18] LeafPartition: 1.8e-05s, 100 calls @ 18us\n",
      "\n",
      "[18:05:18] UpdatePosition: 0.02293s, 356 calls @ 22930us\n",
      "\n",
      "[18:05:18] UpdateTree: 0.064277s, 100 calls @ 64277us\n",
      "\n",
      "[18:05:18] DEBUG: /workspace/src/gbm/gbtree.cc:130: Using tree method: 3\n",
      "[18:05:18] ======== Monitor (0): HostSketchContainer ========\n",
      "[18:05:18] AllReduce: 7e-06s, 1 calls @ 7us\n",
      "\n",
      "[18:05:18] MakeCuts: 2.3e-05s, 1 calls @ 23us\n",
      "\n",
      "[18:05:18] DEBUG: /workspace/src/gbm/gbtree.cc:130: Using tree method: 3\n",
      "[0]\tvalidation_0-rmse:62.78460\n",
      "[18:05:18] ======== Monitor (0): Learner ========\n",
      "[18:05:18] Configure: 0.000918s, 1 calls @ 918us\n",
      "\n",
      "[18:05:18] EvalOneIter: 0.000478s, 1 calls @ 478us\n",
      "\n",
      "[18:05:18] GetGradient: 6e-06s, 1 calls @ 6us\n",
      "\n",
      "[18:05:18] PredictRaw: 2e-06s, 1 calls @ 2us\n",
      "\n",
      "[18:05:18] UpdateOneIter: 0.0536s, 1 calls @ 53600us\n",
      "\n",
      "[18:05:18] ======== Monitor (0): GBTree ========\n",
      "[18:05:18] BoostNewTrees: 0.052584s, 1 calls @ 52584us\n",
      "\n",
      "[18:05:18] CommitModel: 3e-06s, 1 calls @ 3us\n",
      "\n",
      "[18:05:18] ======== Monitor (0): HistUpdater ========\n",
      "[18:05:18] BuildHistogram: 0.007057s, 313 calls @ 7057us\n",
      "\n",
      "[18:05:18] EvaluateSplits: 0.005495s, 413 calls @ 5495us\n",
      "\n",
      "[18:05:18] InitData: 0.001153s, 100 calls @ 1153us\n",
      "\n",
      "[18:05:18] InitRoot: 0.007073s, 100 calls @ 7073us\n",
      "\n",
      "[18:05:18] LeafPartition: 1.6e-05s, 100 calls @ 16us\n",
      "\n",
      "[18:05:18] UpdatePosition: 0.025125s, 313 calls @ 25125us\n",
      "\n",
      "[18:05:18] UpdateTree: 0.045939s, 100 calls @ 45939us\n",
      "\n",
      "[18:05:18] DEBUG: /workspace/src/gbm/gbtree.cc:130: Using tree method: 3\n"
     ]
    },
    {
     "name": "stderr",
     "output_type": "stream",
     "text": [
      "/tmp/ipykernel_13654/829001706.py:6: FutureWarning: suggest_loguniform has been deprecated in v3.0.0. This feature will be removed in v6.0.0. See https://github.com/optuna/optuna/releases/tag/v3.0.0. Use suggest_float(..., log=True) instead.\n",
      "  'lambda': trail.suggest_loguniform('lambda', 1e-10, 1e-4), # lambda uses L2 regularization\n",
      "/tmp/ipykernel_13654/829001706.py:7: FutureWarning: suggest_loguniform has been deprecated in v3.0.0. This feature will be removed in v6.0.0. See https://github.com/optuna/optuna/releases/tag/v3.0.0. Use suggest_float(..., log=True) instead.\n",
      "  'alpha': trail.suggest_loguniform('alpha', 1e-10, 1e-4),\n",
      "/home/aazzioui/Documents/WS/TIMSS-2019_student_score_prediction/env/lib/python3.11/site-packages/xgboost/core.py:160: UserWarning: [18:05:18] WARNING: /workspace/src/learner.cc:742: \n",
      "Parameters: { \"n_estimator\" } are not used.\n",
      "\n",
      "  warnings.warn(smsg, UserWarning)\n",
      "[I 2023-11-06 18:05:18,235] Trial 18 finished with value: 3941.9056440649165 and parameters: {'lambda': 5.763769141147822e-07, 'alpha': 1.7499780754570686e-08, 'colsample_bytree': 0.8, 'subsample': 0.8, 'learning_rate': 0.02, 'max_depth': 6, 'random_state': 200, 'min_child_weight': 85}. Best is trial 17 with value: 3344.3378117076277.\n",
      "/tmp/ipykernel_13654/829001706.py:6: FutureWarning: suggest_loguniform has been deprecated in v3.0.0. This feature will be removed in v6.0.0. See https://github.com/optuna/optuna/releases/tag/v3.0.0. Use suggest_float(..., log=True) instead.\n",
      "  'lambda': trail.suggest_loguniform('lambda', 1e-10, 1e-4), # lambda uses L2 regularization\n"
     ]
    },
    {
     "name": "stdout",
     "output_type": "stream",
     "text": [
      "[18:05:18] ======== Monitor (0): HostSketchContainer ========\n",
      "[18:05:18] AllReduce: 0.000968s, 1 calls @ 968us\n",
      "\n",
      "[18:05:18] MakeCuts: 0.006911s, 1 calls @ 6911us\n",
      "\n",
      "[18:05:18] DEBUG: /workspace/src/gbm/gbtree.cc:130: Using tree method: 3\n"
     ]
    },
    {
     "name": "stderr",
     "output_type": "stream",
     "text": [
      "/tmp/ipykernel_13654/829001706.py:7: FutureWarning: suggest_loguniform has been deprecated in v3.0.0. This feature will be removed in v6.0.0. See https://github.com/optuna/optuna/releases/tag/v3.0.0. Use suggest_float(..., log=True) instead.\n",
      "  'alpha': trail.suggest_loguniform('alpha', 1e-10, 1e-4),\n",
      "/home/aazzioui/Documents/WS/TIMSS-2019_student_score_prediction/env/lib/python3.11/site-packages/xgboost/core.py:160: UserWarning: [18:05:18] WARNING: /workspace/src/learner.cc:742: \n",
      "Parameters: { \"n_estimator\" } are not used.\n",
      "\n",
      "  warnings.warn(smsg, UserWarning)\n"
     ]
    },
    {
     "name": "stdout",
     "output_type": "stream",
     "text": [
      "[0]\tvalidation_0-rmse:62.91037\n",
      "[18:05:18] ======== Monitor (0): Learner ========\n",
      "[18:05:18] Configure: 0.00085s, 1 calls @ 850us\n",
      "\n",
      "[18:05:18] EvalOneIter: 0.000394s, 1 calls @ 394us\n",
      "\n",
      "[18:05:18] GetGradient: 8e-06s, 1 calls @ 8us\n",
      "\n",
      "[18:05:18] PredictRaw: 6e-06s, 1 calls @ 6us\n",
      "\n",
      "[18:05:18] UpdateOneIter: 0.113801s, 1 calls @ 113801us\n",
      "\n",
      "[18:05:18] ======== Monitor (0): GBTree ========\n",
      "[18:05:18] BoostNewTrees: 0.111572s, 1 calls @ 111572us\n",
      "\n",
      "[18:05:18] CommitModel: 2e-06s, 1 calls @ 2us\n",
      "\n",
      "[18:05:18] ======== Monitor (0): HistUpdater ========\n",
      "[18:05:18] BuildHistogram: 0.035147s, 264 calls @ 35147us\n",
      "\n",
      "[18:05:18] EvaluateSplits: 0.007914s, 364 calls @ 7914us\n",
      "\n",
      "[18:05:18] InitData: 0.001198s, 100 calls @ 1198us\n",
      "\n",
      "[18:05:18] InitRoot: 0.003001s, 100 calls @ 3001us\n",
      "\n",
      "[18:05:18] LeafPartition: 1.7e-05s, 100 calls @ 17us\n",
      "\n",
      "[18:05:18] UpdatePosition: 0.061746s, 264 calls @ 61746us\n",
      "\n",
      "[18:05:18] UpdateTree: 0.108907s, 100 calls @ 108907us\n",
      "\n",
      "[18:05:18] DEBUG: /workspace/src/gbm/gbtree.cc:130: Using tree method: 3\n"
     ]
    },
    {
     "name": "stderr",
     "output_type": "stream",
     "text": [
      "[I 2023-11-06 18:05:18,615] Trial 19 finished with value: 3957.715149654844 and parameters: {'lambda': 4.7800800221199625e-08, 'alpha': 1.194135148074602e-08, 'colsample_bytree': 0.8, 'subsample': 0.3, 'learning_rate': 0.0003, 'max_depth': 10, 'random_state': 200, 'min_child_weight': 39}. Best is trial 17 with value: 3344.3378117076277.\n"
     ]
    },
    {
     "name": "stdout",
     "output_type": "stream",
     "text": [
      "[18:05:18] ======== Monitor (0): HostSketchContainer ========\n",
      "[18:05:18] AllReduce: 9e-06s, 1 calls @ 9us\n",
      "\n",
      "[18:05:18] MakeCuts: 2.1e-05s, 1 calls @ 21us\n",
      "\n",
      "[18:05:18] DEBUG: /workspace/src/gbm/gbtree.cc:130: Using tree method: 3\n",
      "[0]\tvalidation_0-rmse:62.91228\n"
     ]
    },
    {
     "name": "stderr",
     "output_type": "stream",
     "text": [
      "/tmp/ipykernel_13654/829001706.py:6: FutureWarning: suggest_loguniform has been deprecated in v3.0.0. This feature will be removed in v6.0.0. See https://github.com/optuna/optuna/releases/tag/v3.0.0. Use suggest_float(..., log=True) instead.\n",
      "  'lambda': trail.suggest_loguniform('lambda', 1e-10, 1e-4), # lambda uses L2 regularization\n",
      "/tmp/ipykernel_13654/829001706.py:7: FutureWarning: suggest_loguniform has been deprecated in v3.0.0. This feature will be removed in v6.0.0. See https://github.com/optuna/optuna/releases/tag/v3.0.0. Use suggest_float(..., log=True) instead.\n",
      "  'alpha': trail.suggest_loguniform('alpha', 1e-10, 1e-4),\n",
      "/home/aazzioui/Documents/WS/TIMSS-2019_student_score_prediction/env/lib/python3.11/site-packages/xgboost/core.py:160: UserWarning: [18:05:18] WARNING: /workspace/src/learner.cc:742: \n",
      "Parameters: { \"n_estimator\" } are not used.\n",
      "\n",
      "  warnings.warn(smsg, UserWarning)\n",
      "[I 2023-11-06 18:05:18,832] Trial 20 finished with value: 3957.9551874544245 and parameters: {'lambda': 1.1657187562049099e-05, 'alpha': 5.595054273425799e-10, 'colsample_bytree': 0.4, 'subsample': 0.1, 'learning_rate': 1e-05, 'max_depth': 11, 'random_state': 200, 'min_child_weight': 81}. Best is trial 17 with value: 3344.3378117076277.\n",
      "/tmp/ipykernel_13654/829001706.py:6: FutureWarning: suggest_loguniform has been deprecated in v3.0.0. This feature will be removed in v6.0.0. See https://github.com/optuna/optuna/releases/tag/v3.0.0. Use suggest_float(..., log=True) instead.\n",
      "  'lambda': trail.suggest_loguniform('lambda', 1e-10, 1e-4), # lambda uses L2 regularization\n"
     ]
    },
    {
     "name": "stdout",
     "output_type": "stream",
     "text": [
      "[18:05:18] ======== Monitor (0): Learner ========\n",
      "[18:05:18] Configure: 0.001431s, 1 calls @ 1431us\n",
      "\n",
      "[18:05:18] EvalOneIter: 0.00013s, 1 calls @ 130us\n",
      "\n",
      "[18:05:18] GetGradient: 8e-06s, 1 calls @ 8us\n",
      "\n",
      "[18:05:18] PredictRaw: 4e-06s, 1 calls @ 4us\n",
      "\n",
      "[18:05:18] UpdateOneIter: 0.010577s, 1 calls @ 10577us\n",
      "\n",
      "[18:05:18] ======== Monitor (0): GBTree ========\n",
      "[18:05:18] BoostNewTrees: 0.008086s, 1 calls @ 8086us\n",
      "\n",
      "[18:05:18] CommitModel: 3e-06s, 1 calls @ 3us\n",
      "\n",
      "[18:05:18] ======== Monitor (0): HistUpdater ========\n",
      "[18:05:18] EvaluateSplits: 0.00073s, 100 calls @ 730us\n",
      "\n",
      "[18:05:18] InitData: 0.000935s, 100 calls @ 935us\n",
      "\n",
      "[18:05:18] InitRoot: 0.004499s, 100 calls @ 4499us\n",
      "\n",
      "[18:05:18] LeafPartition: 1.3e-05s, 100 calls @ 13us\n",
      "\n",
      "[18:05:18] UpdateTree: 0.005548s, 100 calls @ 5548us\n",
      "\n",
      "[18:05:18] DEBUG: /workspace/src/gbm/gbtree.cc:130: Using tree method: 3\n",
      "[18:05:18] ======== Monitor (0): HostSketchContainer ========\n",
      "[18:05:18] AllReduce: 8e-06s, 1 calls @ 8us\n",
      "\n",
      "[18:05:18] MakeCuts: 2.1e-05s, 1 calls @ 21us\n",
      "\n",
      "[18:05:18] DEBUG: /workspace/src/gbm/gbtree.cc:130: Using tree method: 3\n"
     ]
    },
    {
     "name": "stderr",
     "output_type": "stream",
     "text": [
      "/tmp/ipykernel_13654/829001706.py:7: FutureWarning: suggest_loguniform has been deprecated in v3.0.0. This feature will be removed in v6.0.0. See https://github.com/optuna/optuna/releases/tag/v3.0.0. Use suggest_float(..., log=True) instead.\n",
      "  'alpha': trail.suggest_loguniform('alpha', 1e-10, 1e-4),\n",
      "/home/aazzioui/Documents/WS/TIMSS-2019_student_score_prediction/env/lib/python3.11/site-packages/xgboost/core.py:160: UserWarning: [18:05:18] WARNING: /workspace/src/learner.cc:742: \n",
      "Parameters: { \"n_estimator\" } are not used.\n",
      "\n",
      "  warnings.warn(smsg, UserWarning)\n"
     ]
    },
    {
     "name": "stdout",
     "output_type": "stream",
     "text": [
      "[0]\tvalidation_0-rmse:58.61706\n"
     ]
    },
    {
     "name": "stderr",
     "output_type": "stream",
     "text": [
      "[I 2023-11-06 18:05:19,112] Trial 21 finished with value: 3435.9593471185985 and parameters: {'lambda': 3.0155644432139895e-07, 'alpha': 3.371682147145921e-10, 'colsample_bytree': 0.8, 'subsample': 0.9, 'learning_rate': 1, 'max_depth': 6, 'random_state': 200, 'min_child_weight': 119}. Best is trial 17 with value: 3344.3378117076277.\n"
     ]
    },
    {
     "name": "stdout",
     "output_type": "stream",
     "text": [
      "[18:05:19] ======== Monitor (0): Learner ========\n",
      "[18:05:19] Configure: 0.001039s, 1 calls @ 1039us\n",
      "\n",
      "[18:05:19] EvalOneIter: 0.000348s, 1 calls @ 348us\n",
      "\n",
      "[18:05:19] GetGradient: 7e-06s, 1 calls @ 7us\n",
      "\n",
      "[18:05:19] PredictRaw: 3e-06s, 1 calls @ 3us\n",
      "\n",
      "[18:05:19] UpdateOneIter: 0.113777s, 1 calls @ 113777us\n",
      "\n",
      "[18:05:19] ======== Monitor (0): GBTree ========\n",
      "[18:05:19] BoostNewTrees: 0.112631s, 1 calls @ 112631us\n",
      "\n",
      "[18:05:19] CommitModel: 3e-06s, 1 calls @ 3us\n",
      "\n",
      "[18:05:19] ======== Monitor (0): HistUpdater ========\n",
      "[18:05:19] BuildHistogram: 0.012475s, 235 calls @ 12475us\n",
      "\n",
      "[18:05:19] EvaluateSplits: 0.014032s, 335 calls @ 14032us\n",
      "\n",
      "[18:05:19] InitData: 0.027546s, 100 calls @ 27546us\n",
      "\n",
      "[18:05:19] InitRoot: 0.01052s, 100 calls @ 10520us\n",
      "\n",
      "[18:05:19] LeafPartition: 1.8e-05s, 100 calls @ 18us\n",
      "\n",
      "[18:05:19] UpdatePosition: 0.033412s, 235 calls @ 33412us\n",
      "\n",
      "[18:05:19] UpdateTree: 0.097777s, 100 calls @ 97777us\n",
      "\n",
      "[18:05:19] DEBUG: /workspace/src/gbm/gbtree.cc:130: Using tree method: 3\n",
      "[18:05:19] ======== Monitor (0): HostSketchContainer ========\n",
      "[18:05:19] AllReduce: 6e-06s, 1 calls @ 6us\n",
      "\n",
      "[18:05:19] MakeCuts: 2e-05s, 1 calls @ 20us\n",
      "\n",
      "[18:05:19] DEBUG: /workspace/src/gbm/gbtree.cc:130: Using tree method: 3\n",
      "[0]\tvalidation_0-rmse:58.67466\n",
      "[18:05:19] ======== Monitor (0): Learner ========\n",
      "[18:05:19] Configure: 0.000817s, 1 calls @ 817us\n",
      "\n",
      "[18:05:19] EvalOneIter: 0.000295s, 1 calls @ 295us\n",
      "\n",
      "[18:05:19] GetGradient: 6e-06s, 1 calls @ 6us\n",
      "\n",
      "[18:05:19] PredictRaw: 2e-06s, 1 calls @ 2us\n",
      "\n",
      "[18:05:19] UpdateOneIter: 0.04563s, 1 calls @ 45630us\n",
      "\n",
      "[18:05:19] ======== Monitor (0): GBTree ========\n",
      "[18:05:19] BoostNewTrees: 0.044721s, 1 calls @ 44721us\n",
      "\n",
      "[18:05:19] CommitModel: 3e-06s, 1 calls @ 3us\n",
      "\n",
      "[18:05:19] ======== Monitor (0): HistUpdater ========\n",
      "[18:05:19] BuildHistogram: 0.021197s, 200 calls @ 21197us\n",
      "\n",
      "[18:05:19] EvaluateSplits: 0.002959s, 300 calls @ 2959us\n",
      "\n",
      "[18:05:19] InitData: 0.002399s, 100 calls @ 2399us\n",
      "\n",
      "[18:05:19] InitRoot: 0.002364s, 100 calls @ 2364us\n",
      "\n",
      "[18:05:19] LeafPartition: 1.4e-05s, 100 calls @ 14us\n",
      "\n",
      "[18:05:19] UpdatePosition: 0.00864s, 200 calls @ 8640us\n",
      "\n",
      "[18:05:19] UpdateTree: 0.037309s, 100 calls @ 37309us\n",
      "\n"
     ]
    },
    {
     "name": "stderr",
     "output_type": "stream",
     "text": [
      "/tmp/ipykernel_13654/829001706.py:6: FutureWarning: suggest_loguniform has been deprecated in v3.0.0. This feature will be removed in v6.0.0. See https://github.com/optuna/optuna/releases/tag/v3.0.0. Use suggest_float(..., log=True) instead.\n",
      "  'lambda': trail.suggest_loguniform('lambda', 1e-10, 1e-4), # lambda uses L2 regularization\n",
      "/tmp/ipykernel_13654/829001706.py:7: FutureWarning: suggest_loguniform has been deprecated in v3.0.0. This feature will be removed in v6.0.0. See https://github.com/optuna/optuna/releases/tag/v3.0.0. Use suggest_float(..., log=True) instead.\n",
      "  'alpha': trail.suggest_loguniform('alpha', 1e-10, 1e-4),\n",
      "/home/aazzioui/Documents/WS/TIMSS-2019_student_score_prediction/env/lib/python3.11/site-packages/xgboost/core.py:160: UserWarning: [18:05:19] WARNING: /workspace/src/learner.cc:742: \n",
      "Parameters: { \"n_estimator\" } are not used.\n",
      "\n",
      "  warnings.warn(smsg, UserWarning)\n",
      "[I 2023-11-06 18:05:19,330] Trial 22 finished with value: 3442.7161247667286 and parameters: {'lambda': 1.4942248414737195e-06, 'alpha': 1.4596360199040377e-09, 'colsample_bytree': 0.8, 'subsample': 0.9, 'learning_rate': 1, 'max_depth': 6, 'random_state': 200, 'min_child_weight': 146}. Best is trial 17 with value: 3344.3378117076277.\n"
     ]
    },
    {
     "name": "stdout",
     "output_type": "stream",
     "text": [
      "[18:05:19] DEBUG: /workspace/src/gbm/gbtree.cc:130: Using tree method: 3\n"
     ]
    },
    {
     "name": "stderr",
     "output_type": "stream",
     "text": [
      "/tmp/ipykernel_13654/829001706.py:6: FutureWarning: suggest_loguniform has been deprecated in v3.0.0. This feature will be removed in v6.0.0. See https://github.com/optuna/optuna/releases/tag/v3.0.0. Use suggest_float(..., log=True) instead.\n",
      "  'lambda': trail.suggest_loguniform('lambda', 1e-10, 1e-4), # lambda uses L2 regularization\n",
      "/tmp/ipykernel_13654/829001706.py:7: FutureWarning: suggest_loguniform has been deprecated in v3.0.0. This feature will be removed in v6.0.0. See https://github.com/optuna/optuna/releases/tag/v3.0.0. Use suggest_float(..., log=True) instead.\n",
      "  'alpha': trail.suggest_loguniform('alpha', 1e-10, 1e-4),\n"
     ]
    },
    {
     "name": "stdout",
     "output_type": "stream",
     "text": [
      "[18:05:19] ======== Monitor (0): HostSketchContainer ========\n",
      "[18:05:19] AllReduce: 0.04753s, 1 calls @ 47530us\n",
      "\n",
      "[18:05:19] MakeCuts: 0.060892s, 1 calls @ 60892us\n",
      "\n",
      "[18:05:19] DEBUG: /workspace/src/gbm/gbtree.cc:130: Using tree method: 3\n",
      "[0]\tvalidation_0-rmse:58.75668\n"
     ]
    },
    {
     "name": "stderr",
     "output_type": "stream",
     "text": [
      "/home/aazzioui/Documents/WS/TIMSS-2019_student_score_prediction/env/lib/python3.11/site-packages/xgboost/core.py:160: UserWarning: [18:05:19] WARNING: /workspace/src/learner.cc:742: \n",
      "Parameters: { \"n_estimator\" } are not used.\n",
      "\n",
      "  warnings.warn(smsg, UserWarning)\n",
      "[I 2023-11-06 18:05:19,841] Trial 23 finished with value: 3452.347721215802 and parameters: {'lambda': 2.137595017642391e-07, 'alpha': 2.7818897742103793e-09, 'colsample_bytree': 0.8, 'subsample': 0.9, 'learning_rate': 1, 'max_depth': 6, 'random_state': 200, 'min_child_weight': 161}. Best is trial 17 with value: 3344.3378117076277.\n"
     ]
    },
    {
     "name": "stdout",
     "output_type": "stream",
     "text": [
      "[18:05:19] ======== Monitor (0): Learner ========\n",
      "[18:05:19] Configure: 0.000875s, 1 calls @ 875us\n",
      "\n",
      "[18:05:19] EvalOneIter: 0.000715s, 1 calls @ 715us\n",
      "\n",
      "[18:05:19] GetGradient: 7e-06s, 1 calls @ 7us\n",
      "\n",
      "[18:05:19] PredictRaw: 3e-06s, 1 calls @ 3us\n",
      "\n",
      "[18:05:19] UpdateOneIter: 0.052303s, 1 calls @ 52303us\n",
      "\n",
      "[18:05:19] ======== Monitor (0): GBTree ========\n",
      "[18:05:19] BoostNewTrees: 0.05117s, 1 calls @ 51170us\n",
      "\n",
      "[18:05:19] CommitModel: 2e-06s, 1 calls @ 2us\n",
      "\n",
      "[18:05:19] ======== Monitor (0): HistUpdater ========\n",
      "[18:05:19] BuildHistogram: 0.006527s, 195 calls @ 6527us\n",
      "\n",
      "[18:05:19] EvaluateSplits: 0.002983s, 295 calls @ 2983us\n",
      "\n",
      "[18:05:19] InitData: 0.003064s, 100 calls @ 3064us\n",
      "\n",
      "[18:05:19] InitRoot: 0.00323s, 100 calls @ 3230us\n",
      "\n",
      "[18:05:19] LeafPartition: 1.4e-05s, 100 calls @ 14us\n",
      "\n",
      "[18:05:19] UpdatePosition: 0.030622s, 195 calls @ 30622us\n",
      "\n",
      "[18:05:19] UpdateTree: 0.046172s, 100 calls @ 46172us\n",
      "\n",
      "[18:05:19] DEBUG: /workspace/src/gbm/gbtree.cc:130: Using tree method: 3\n"
     ]
    },
    {
     "name": "stderr",
     "output_type": "stream",
     "text": [
      "/tmp/ipykernel_13654/829001706.py:6: FutureWarning: suggest_loguniform has been deprecated in v3.0.0. This feature will be removed in v6.0.0. See https://github.com/optuna/optuna/releases/tag/v3.0.0. Use suggest_float(..., log=True) instead.\n",
      "  'lambda': trail.suggest_loguniform('lambda', 1e-10, 1e-4), # lambda uses L2 regularization\n",
      "/tmp/ipykernel_13654/829001706.py:7: FutureWarning: suggest_loguniform has been deprecated in v3.0.0. This feature will be removed in v6.0.0. See https://github.com/optuna/optuna/releases/tag/v3.0.0. Use suggest_float(..., log=True) instead.\n",
      "  'alpha': trail.suggest_loguniform('alpha', 1e-10, 1e-4),\n"
     ]
    },
    {
     "name": "stdout",
     "output_type": "stream",
     "text": [
      "[18:05:19] ======== Monitor (0): HostSketchContainer ========\n",
      "[18:05:19] AllReduce: 0.006576s, 1 calls @ 6576us\n",
      "\n",
      "[18:05:19] MakeCuts: 0.034348s, 1 calls @ 34348us\n",
      "\n"
     ]
    },
    {
     "name": "stderr",
     "output_type": "stream",
     "text": [
      "/home/aazzioui/Documents/WS/TIMSS-2019_student_score_prediction/env/lib/python3.11/site-packages/xgboost/core.py:160: UserWarning: [18:05:20] WARNING: /workspace/src/learner.cc:742: \n",
      "Parameters: { \"n_estimator\" } are not used.\n",
      "\n",
      "  warnings.warn(smsg, UserWarning)\n"
     ]
    },
    {
     "name": "stdout",
     "output_type": "stream",
     "text": [
      "[18:05:20] DEBUG: /workspace/src/gbm/gbtree.cc:130: Using tree method: 3\n",
      "[0]\tvalidation_0-rmse:59.76382\n"
     ]
    },
    {
     "name": "stderr",
     "output_type": "stream",
     "text": [
      "[I 2023-11-06 18:05:20,179] Trial 24 finished with value: 3571.71439858629 and parameters: {'lambda': 8.923752197406988e-07, 'alpha': 2.037940342170648e-09, 'colsample_bytree': 0.8, 'subsample': 0.6, 'learning_rate': 1, 'max_depth': 7, 'random_state': 200, 'min_child_weight': 131}. Best is trial 17 with value: 3344.3378117076277.\n"
     ]
    },
    {
     "name": "stdout",
     "output_type": "stream",
     "text": [
      "[18:05:20] ======== Monitor (0): Learner ========\n",
      "[18:05:20] Configure: 0.001013s, 1 calls @ 1013us\n",
      "\n",
      "[18:05:20] EvalOneIter: 0.000264s, 1 calls @ 264us\n",
      "\n",
      "[18:05:20] GetGradient: 6e-06s, 1 calls @ 6us\n",
      "\n",
      "[18:05:20] PredictRaw: 3e-06s, 1 calls @ 3us\n",
      "\n",
      "[18:05:20] UpdateOneIter: 0.100232s, 1 calls @ 100232us\n",
      "\n",
      "[18:05:20] ======== Monitor (0): GBTree ========\n",
      "[18:05:20] BoostNewTrees: 0.099086s, 1 calls @ 99086us\n",
      "\n",
      "[18:05:20] CommitModel: 3e-06s, 1 calls @ 3us\n",
      "\n",
      "[18:05:20] ======== Monitor (0): HistUpdater ========\n",
      "[18:05:20] BuildHistogram: 0.002289s, 137 calls @ 2289us\n",
      "\n",
      "[18:05:20] EvaluateSplits: 0.002842s, 237 calls @ 2842us\n",
      "\n",
      "[18:05:20] InitData: 0.023111s, 100 calls @ 23111us\n",
      "\n",
      "[18:05:20] InitRoot: 0.049696s, 100 calls @ 49696us\n",
      "\n",
      "[18:05:20] LeafPartition: 1.6e-05s, 100 calls @ 16us\n",
      "\n",
      "[18:05:20] UpdatePosition: 0.018434s, 137 calls @ 18434us\n",
      "\n",
      "[18:05:20] UpdateTree: 0.095469s, 100 calls @ 95469us\n",
      "\n",
      "[18:05:20] DEBUG: /workspace/src/gbm/gbtree.cc:130: Using tree method: 3\n"
     ]
    },
    {
     "name": "stderr",
     "output_type": "stream",
     "text": [
      "/tmp/ipykernel_13654/829001706.py:6: FutureWarning: suggest_loguniform has been deprecated in v3.0.0. This feature will be removed in v6.0.0. See https://github.com/optuna/optuna/releases/tag/v3.0.0. Use suggest_float(..., log=True) instead.\n",
      "  'lambda': trail.suggest_loguniform('lambda', 1e-10, 1e-4), # lambda uses L2 regularization\n",
      "/tmp/ipykernel_13654/829001706.py:7: FutureWarning: suggest_loguniform has been deprecated in v3.0.0. This feature will be removed in v6.0.0. See https://github.com/optuna/optuna/releases/tag/v3.0.0. Use suggest_float(..., log=True) instead.\n",
      "  'alpha': trail.suggest_loguniform('alpha', 1e-10, 1e-4),\n"
     ]
    },
    {
     "name": "stdout",
     "output_type": "stream",
     "text": [
      "[18:05:20] ======== Monitor (0): HostSketchContainer ========\n",
      "[18:05:20] AllReduce: 8e-06s, 1 calls @ 8us\n",
      "\n",
      "[18:05:20] MakeCuts: 2.1e-05s, 1 calls @ 21us\n",
      "\n",
      "[18:05:20] DEBUG: /workspace/src/gbm/gbtree.cc:130: Using tree method: 3\n"
     ]
    },
    {
     "name": "stderr",
     "output_type": "stream",
     "text": [
      "/home/aazzioui/Documents/WS/TIMSS-2019_student_score_prediction/env/lib/python3.11/site-packages/xgboost/core.py:160: UserWarning: [18:05:20] WARNING: /workspace/src/learner.cc:742: \n",
      "Parameters: { \"n_estimator\" } are not used.\n",
      "\n",
      "  warnings.warn(smsg, UserWarning)\n"
     ]
    },
    {
     "name": "stdout",
     "output_type": "stream",
     "text": [
      "[0]\tvalidation_0-rmse:61.01262\n",
      "[18:05:20] ======== Monitor (0): Learner ========\n",
      "[18:05:20] Configure: 0.000865s, 1 calls @ 865us\n",
      "\n",
      "[18:05:20] EvalOneIter: 0.00475s, 1 calls @ 4750us\n",
      "\n",
      "[18:05:20] GetGradient: 8e-06s, 1 calls @ 8us\n",
      "\n",
      "[18:05:20] PredictRaw: 4e-06s, 1 calls @ 4us\n",
      "\n",
      "[18:05:20] UpdateOneIter: 0.083357s, 1 calls @ 83357us\n",
      "\n",
      "[18:05:20] ======== Monitor (0): GBTree ========\n",
      "[18:05:20] BoostNewTrees: 0.07977s, 1 calls @ 79770us\n",
      "\n",
      "[18:05:20] CommitModel: 4e-06s, 1 calls @ 4us\n",
      "\n",
      "[18:05:20] ======== Monitor (0): HistUpdater ========\n",
      "[18:05:20] BuildHistogram: 0.03149s, 100 calls @ 31490us\n",
      "\n",
      "[18:05:20] EvaluateSplits: 0.003242s, 200 calls @ 3242us\n",
      "\n",
      "[18:05:20] InitData: 0.006973s, 100 calls @ 6973us\n",
      "\n",
      "[18:05:20] InitRoot: 0.003538s, 100 calls @ 3538us\n",
      "\n",
      "[18:05:20] LeafPartition: 1.4e-05s, 100 calls @ 14us\n",
      "\n",
      "[18:05:20] UpdatePosition: 0.028215s, 100 calls @ 28215us\n",
      "\n",
      "[18:05:20] UpdateTree: 0.072898s, 100 calls @ 72898us\n",
      "\n",
      "[18:05:20] DEBUG: /workspace/src/gbm/gbtree.cc:130: Using tree method: 3\n"
     ]
    },
    {
     "name": "stderr",
     "output_type": "stream",
     "text": [
      "[I 2023-11-06 18:05:20,504] Trial 25 finished with value: 3722.5395219501465 and parameters: {'lambda': 2.488385906777769e-06, 'alpha': 3.959142986195227e-10, 'colsample_bytree': 0.8, 'subsample': 0.7, 'learning_rate': 1, 'max_depth': 9, 'random_state': 200, 'min_child_weight': 175}. Best is trial 17 with value: 3344.3378117076277.\n",
      "/tmp/ipykernel_13654/829001706.py:6: FutureWarning: suggest_loguniform has been deprecated in v3.0.0. This feature will be removed in v6.0.0. See https://github.com/optuna/optuna/releases/tag/v3.0.0. Use suggest_float(..., log=True) instead.\n",
      "  'lambda': trail.suggest_loguniform('lambda', 1e-10, 1e-4), # lambda uses L2 regularization\n"
     ]
    },
    {
     "name": "stdout",
     "output_type": "stream",
     "text": [
      "[18:05:20] ======== Monitor (0): HostSketchContainer ========\n",
      "[18:05:20] AllReduce: 8e-06s, 1 calls @ 8us\n",
      "\n",
      "[18:05:20] MakeCuts: 2.1e-05s, 1 calls @ 21us\n",
      "\n",
      "[18:05:20] DEBUG: /workspace/src/gbm/gbtree.cc:130: Using tree method: 3\n",
      "[0]\tvalidation_0-rmse:62.94514\n"
     ]
    },
    {
     "name": "stderr",
     "output_type": "stream",
     "text": [
      "/tmp/ipykernel_13654/829001706.py:7: FutureWarning: suggest_loguniform has been deprecated in v3.0.0. This feature will be removed in v6.0.0. See https://github.com/optuna/optuna/releases/tag/v3.0.0. Use suggest_float(..., log=True) instead.\n",
      "  'alpha': trail.suggest_loguniform('alpha', 1e-10, 1e-4),\n",
      "/home/aazzioui/Documents/WS/TIMSS-2019_student_score_prediction/env/lib/python3.11/site-packages/xgboost/core.py:160: UserWarning: [18:05:20] WARNING: /workspace/src/learner.cc:742: \n",
      "Parameters: { \"n_estimator\" } are not used.\n",
      "\n",
      "  warnings.warn(smsg, UserWarning)\n",
      "[I 2023-11-06 18:05:20,734] Trial 26 finished with value: 3962.090893059383 and parameters: {'lambda': 1.2272660423486093e-07, 'alpha': 6.8674931288298446e-09, 'colsample_bytree': 0.8, 'subsample': 0.2, 'learning_rate': 1, 'max_depth': 3, 'random_state': 200, 'min_child_weight': 116}. Best is trial 17 with value: 3344.3378117076277.\n"
     ]
    },
    {
     "name": "stdout",
     "output_type": "stream",
     "text": [
      "[18:05:20] ======== Monitor (0): Learner ========\n",
      "[18:05:20] Configure: 0.005741s, 1 calls @ 5741us\n",
      "\n",
      "[18:05:20] EvalOneIter: 0.000147s, 1 calls @ 147us\n",
      "\n",
      "[18:05:20] GetGradient: 7e-06s, 1 calls @ 7us\n",
      "\n",
      "[18:05:20] PredictRaw: 3e-06s, 1 calls @ 3us\n",
      "\n",
      "[18:05:20] UpdateOneIter: 0.021097s, 1 calls @ 21097us\n",
      "\n",
      "[18:05:20] ======== Monitor (0): GBTree ========\n",
      "[18:05:20] BoostNewTrees: 0.014821s, 1 calls @ 14821us\n",
      "\n",
      "[18:05:20] CommitModel: 3e-06s, 1 calls @ 3us\n",
      "\n",
      "[18:05:20] ======== Monitor (0): HistUpdater ========\n",
      "[18:05:20] EvaluateSplits: 0.000921s, 100 calls @ 921us\n",
      "\n",
      "[18:05:20] InitData: 0.006759s, 100 calls @ 6759us\n",
      "\n",
      "[18:05:20] InitRoot: 0.00437s, 100 calls @ 4370us\n",
      "\n",
      "[18:05:20] LeafPartition: 1.5e-05s, 100 calls @ 15us\n",
      "\n",
      "[18:05:20] UpdateTree: 0.011273s, 100 calls @ 11273us\n",
      "\n",
      "[18:05:20] DEBUG: /workspace/src/gbm/gbtree.cc:130: Using tree method: 3\n",
      "[18:05:20] ======== Monitor (0): HostSketchContainer ========\n",
      "[18:05:20] AllReduce: 5e-06s, 1 calls @ 5us\n",
      "\n",
      "[18:05:20] MakeCuts: 1.6e-05s, 1 calls @ 16us\n",
      "\n",
      "[18:05:20] DEBUG: /workspace/src/gbm/gbtree.cc:130: Using tree method: 3\n"
     ]
    },
    {
     "name": "stderr",
     "output_type": "stream",
     "text": [
      "/tmp/ipykernel_13654/829001706.py:6: FutureWarning: suggest_loguniform has been deprecated in v3.0.0. This feature will be removed in v6.0.0. See https://github.com/optuna/optuna/releases/tag/v3.0.0. Use suggest_float(..., log=True) instead.\n",
      "  'lambda': trail.suggest_loguniform('lambda', 1e-10, 1e-4), # lambda uses L2 regularization\n",
      "/tmp/ipykernel_13654/829001706.py:7: FutureWarning: suggest_loguniform has been deprecated in v3.0.0. This feature will be removed in v6.0.0. See https://github.com/optuna/optuna/releases/tag/v3.0.0. Use suggest_float(..., log=True) instead.\n",
      "  'alpha': trail.suggest_loguniform('alpha', 1e-10, 1e-4),\n",
      "/home/aazzioui/Documents/WS/TIMSS-2019_student_score_prediction/env/lib/python3.11/site-packages/xgboost/core.py:160: UserWarning: [18:05:20] WARNING: /workspace/src/learner.cc:742: \n",
      "Parameters: { \"n_estimator\" } are not used.\n",
      "\n",
      "  warnings.warn(smsg, UserWarning)\n"
     ]
    },
    {
     "name": "stdout",
     "output_type": "stream",
     "text": [
      "[0]\tvalidation_0-rmse:61.21816\n",
      "[18:05:21] ======== Monitor (0): Learner ========\n",
      "[18:05:21] Configure: 0.001222s, 1 calls @ 1222us\n",
      "\n",
      "[18:05:21] EvalOneIter: 0.000221s, 1 calls @ 221us\n",
      "\n",
      "[18:05:21] GetGradient: 0.00988s, 1 calls @ 9880us\n",
      "\n",
      "[18:05:21] PredictRaw: 4e-06s, 1 calls @ 4us\n",
      "\n",
      "[18:05:21] UpdateOneIter: 0.168614s, 1 calls @ 168614us\n",
      "\n",
      "[18:05:21] ======== Monitor (0): GBTree ========\n",
      "[18:05:21] BoostNewTrees: 0.119052s, 1 calls @ 119052us\n",
      "\n",
      "[18:05:21] CommitModel: 3e-06s, 1 calls @ 3us\n",
      "\n",
      "[18:05:21] ======== Monitor (0): HistUpdater ========\n",
      "[18:05:21] BuildHistogram: 0.001622s, 100 calls @ 1622us\n",
      "\n",
      "[18:05:21] EvaluateSplits: 0.032356s, 200 calls @ 32356us\n",
      "\n",
      "[18:05:21] InitData: 0.011185s, 100 calls @ 11185us\n",
      "\n",
      "[18:05:21] InitRoot: 0.057741s, 100 calls @ 57741us\n",
      "\n",
      "[18:05:21] LeafPartition: 1.4e-05s, 100 calls @ 14us\n",
      "\n",
      "[18:05:21] UpdatePosition: 0.036481s, 100 calls @ 36481us\n",
      "\n",
      "[18:05:21] UpdateTree: 0.108377s, 100 calls @ 108377us\n",
      "\n",
      "[18:05:21] DEBUG: /workspace/src/gbm/gbtree.cc:130: Using tree method: 3\n"
     ]
    },
    {
     "name": "stderr",
     "output_type": "stream",
     "text": [
      "[I 2023-11-06 18:05:21,069] Trial 27 finished with value: 3747.6631960403015 and parameters: {'lambda': 4.621489075511719e-08, 'alpha': 1.5134152534351387e-09, 'colsample_bytree': 0.8, 'subsample': 0.5, 'learning_rate': 1, 'max_depth': 8, 'random_state': 200, 'min_child_weight': 148}. Best is trial 17 with value: 3344.3378117076277.\n",
      "/tmp/ipykernel_13654/829001706.py:6: FutureWarning: suggest_loguniform has been deprecated in v3.0.0. This feature will be removed in v6.0.0. See https://github.com/optuna/optuna/releases/tag/v3.0.0. Use suggest_float(..., log=True) instead.\n",
      "  'lambda': trail.suggest_loguniform('lambda', 1e-10, 1e-4), # lambda uses L2 regularization\n",
      "/tmp/ipykernel_13654/829001706.py:7: FutureWarning: suggest_loguniform has been deprecated in v3.0.0. This feature will be removed in v6.0.0. See https://github.com/optuna/optuna/releases/tag/v3.0.0. Use suggest_float(..., log=True) instead.\n",
      "  'alpha': trail.suggest_loguniform('alpha', 1e-10, 1e-4),\n"
     ]
    },
    {
     "name": "stdout",
     "output_type": "stream",
     "text": [
      "[18:05:21] ======== Monitor (0): HostSketchContainer ========\n",
      "[18:05:21] AllReduce: 0.024124s, 1 calls @ 24124us\n",
      "\n",
      "[18:05:21] MakeCuts: 0.053453s, 1 calls @ 53453us\n",
      "\n",
      "[18:05:21] DEBUG: /workspace/src/gbm/gbtree.cc:130: Using tree method: 3\n",
      "[0]\tvalidation_0-rmse:62.89043\n",
      "[18:05:21] ======== Monitor (0): Learner ========\n",
      "[18:05:21] Configure: 0.001007s, 1 calls @ 1007us\n",
      "\n",
      "[18:05:21] EvalOneIter: 0.000283s, 1 calls @ 283us\n",
      "\n",
      "[18:05:21] GetGradient: 6e-06s, 1 calls @ 6us\n",
      "\n",
      "[18:05:21] PredictRaw: 2e-06s, 1 calls @ 2us\n",
      "\n",
      "[18:05:21] UpdateOneIter: 0.045157s, 1 calls @ 45157us\n",
      "\n",
      "[18:05:21] ======== Monitor (0): GBTree ========\n",
      "[18:05:21] BoostNewTrees: 0.044059s, 1 calls @ 44059us\n",
      "\n",
      "[18:05:21] CommitModel: 2e-06s, 1 calls @ 2us\n",
      "\n",
      "[18:05:21] ======== Monitor (0): HistUpdater ========\n",
      "[18:05:21] BuildHistogram: 0.017586s, 193 calls @ 17586us\n",
      "\n",
      "[18:05:21] EvaluateSplits: 0.003356s, 293 calls @ 3356us\n",
      "\n",
      "[18:05:21] InitData: 0.006536s, 100 calls @ 6536us\n",
      "\n",
      "[18:05:21] InitRoot: 0.003175s, 100 calls @ 3175us\n",
      "\n",
      "[18:05:21] LeafPartition: 1.4e-05s, 100 calls @ 14us\n",
      "\n",
      "[18:05:21] UpdatePosition: 0.011644s, 193 calls @ 11644us\n",
      "\n",
      "[18:05:21] UpdateTree: 0.041447s, 100 calls @ 41447us\n",
      "\n"
     ]
    },
    {
     "name": "stderr",
     "output_type": "stream",
     "text": [
      "/home/aazzioui/Documents/WS/TIMSS-2019_student_score_prediction/env/lib/python3.11/site-packages/xgboost/core.py:160: UserWarning: [18:05:21] WARNING: /workspace/src/learner.cc:742: \n",
      "Parameters: { \"n_estimator\" } are not used.\n",
      "\n",
      "  warnings.warn(smsg, UserWarning)\n",
      "[I 2023-11-06 18:05:21,643] Trial 28 finished with value: 3955.205661750931 and parameters: {'lambda': 5.038532029699111e-07, 'alpha': 4.5275689718535863e-08, 'colsample_bytree': 0.8, 'subsample': 0.9, 'learning_rate': 0.004, 'max_depth': 6, 'random_state': 200, 'min_child_weight': 166}. Best is trial 17 with value: 3344.3378117076277.\n",
      "/tmp/ipykernel_13654/829001706.py:6: FutureWarning: suggest_loguniform has been deprecated in v3.0.0. This feature will be removed in v6.0.0. See https://github.com/optuna/optuna/releases/tag/v3.0.0. Use suggest_float(..., log=True) instead.\n",
      "  'lambda': trail.suggest_loguniform('lambda', 1e-10, 1e-4), # lambda uses L2 regularization\n",
      "/tmp/ipykernel_13654/829001706.py:7: FutureWarning: suggest_loguniform has been deprecated in v3.0.0. This feature will be removed in v6.0.0. See https://github.com/optuna/optuna/releases/tag/v3.0.0. Use suggest_float(..., log=True) instead.\n",
      "  'alpha': trail.suggest_loguniform('alpha', 1e-10, 1e-4),\n"
     ]
    },
    {
     "name": "stdout",
     "output_type": "stream",
     "text": [
      "[18:05:21] DEBUG: /workspace/src/gbm/gbtree.cc:130: Using tree method: 3\n",
      "[18:05:21] ======== Monitor (0): HostSketchContainer ========\n",
      "[18:05:21] AllReduce: 5e-06s, 1 calls @ 5us\n",
      "\n",
      "[18:05:21] MakeCuts: 1.6e-05s, 1 calls @ 16us\n",
      "\n",
      "[18:05:21] DEBUG: /workspace/src/gbm/gbtree.cc:130: Using tree method: 3\n"
     ]
    },
    {
     "name": "stderr",
     "output_type": "stream",
     "text": [
      "/home/aazzioui/Documents/WS/TIMSS-2019_student_score_prediction/env/lib/python3.11/site-packages/xgboost/core.py:160: UserWarning: [18:05:21] WARNING: /workspace/src/learner.cc:742: \n",
      "Parameters: { \"n_estimator\" } are not used.\n",
      "\n",
      "  warnings.warn(smsg, UserWarning)\n"
     ]
    },
    {
     "name": "stdout",
     "output_type": "stream",
     "text": [
      "[0]\tvalidation_0-rmse:58.57082\n"
     ]
    },
    {
     "name": "stderr",
     "output_type": "stream",
     "text": [
      "[I 2023-11-06 18:05:21,975] Trial 29 finished with value: 3430.540793353332 and parameters: {'lambda': 1.2612466533065205e-06, 'alpha': 2.9612377928488126e-10, 'colsample_bytree': 0.9, 'subsample': 0.9, 'learning_rate': 1, 'max_depth': 6, 'random_state': 200, 'min_child_weight': 141}. Best is trial 17 with value: 3344.3378117076277.\n"
     ]
    },
    {
     "name": "stdout",
     "output_type": "stream",
     "text": [
      "[18:05:21] ======== Monitor (0): Learner ========\n",
      "[18:05:21] Configure: 0.00091s, 1 calls @ 910us\n",
      "\n",
      "[18:05:21] EvalOneIter: 0.000314s, 1 calls @ 314us\n",
      "\n",
      "[18:05:21] GetGradient: 9e-06s, 1 calls @ 9us\n",
      "\n",
      "[18:05:21] PredictRaw: 4e-06s, 1 calls @ 4us\n",
      "\n",
      "[18:05:21] UpdateOneIter: 0.16167s, 1 calls @ 161670us\n",
      "\n",
      "[18:05:21] ======== Monitor (0): GBTree ========\n",
      "[18:05:21] BoostNewTrees: 0.157499s, 1 calls @ 157499us\n",
      "\n",
      "[18:05:21] CommitModel: 3e-06s, 1 calls @ 3us\n",
      "\n",
      "[18:05:21] ======== Monitor (0): HistUpdater ========\n",
      "[18:05:21] BuildHistogram: 0.031191s, 201 calls @ 31191us\n",
      "\n",
      "[18:05:21] EvaluateSplits: 0.047141s, 301 calls @ 47141us\n",
      "\n",
      "[18:05:21] InitData: 0.006869s, 100 calls @ 6869us\n",
      "\n",
      "[18:05:21] InitRoot: 0.030765s, 100 calls @ 30765us\n",
      "\n",
      "[18:05:21] LeafPartition: 1.8e-05s, 100 calls @ 18us\n",
      "\n",
      "[18:05:21] UpdatePosition: 0.065536s, 201 calls @ 65536us\n",
      "\n",
      "[18:05:21] UpdateTree: 0.154248s, 100 calls @ 154248us\n",
      "\n",
      "[18:05:21] DEBUG: /workspace/src/gbm/gbtree.cc:130: Using tree method: 3\n",
      "[18:05:22] ======== Monitor (0): HostSketchContainer ========\n",
      "[18:05:22] AllReduce: 5e-06s, 1 calls @ 5us\n",
      "\n",
      "[18:05:22] MakeCuts: 1.7e-05s, 1 calls @ 17us\n",
      "\n",
      "[18:05:22] DEBUG: /workspace/src/gbm/gbtree.cc:130: Using tree method: 3\n",
      "[0]\tvalidation_0-rmse:62.91029\n"
     ]
    },
    {
     "name": "stderr",
     "output_type": "stream",
     "text": [
      "/tmp/ipykernel_13654/829001706.py:6: FutureWarning: suggest_loguniform has been deprecated in v3.0.0. This feature will be removed in v6.0.0. See https://github.com/optuna/optuna/releases/tag/v3.0.0. Use suggest_float(..., log=True) instead.\n",
      "  'lambda': trail.suggest_loguniform('lambda', 1e-10, 1e-4), # lambda uses L2 regularization\n",
      "/tmp/ipykernel_13654/829001706.py:7: FutureWarning: suggest_loguniform has been deprecated in v3.0.0. This feature will be removed in v6.0.0. See https://github.com/optuna/optuna/releases/tag/v3.0.0. Use suggest_float(..., log=True) instead.\n",
      "  'alpha': trail.suggest_loguniform('alpha', 1e-10, 1e-4),\n",
      "/home/aazzioui/Documents/WS/TIMSS-2019_student_score_prediction/env/lib/python3.11/site-packages/xgboost/core.py:160: UserWarning: [18:05:22] WARNING: /workspace/src/learner.cc:742: \n",
      "Parameters: { \"n_estimator\" } are not used.\n",
      "\n",
      "  warnings.warn(smsg, UserWarning)\n",
      "[I 2023-11-06 18:05:22,187] Trial 30 finished with value: 3957.704921035482 and parameters: {'lambda': 4.2164208557655654e-07, 'alpha': 3.408781546159441e-10, 'colsample_bytree': 0.9, 'subsample': 0.9, 'learning_rate': 0.0003, 'max_depth': 3, 'random_state': 200, 'min_child_weight': 127}. Best is trial 17 with value: 3344.3378117076277.\n"
     ]
    },
    {
     "name": "stdout",
     "output_type": "stream",
     "text": [
      "[18:05:22] ======== Monitor (0): Learner ========\n",
      "[18:05:22] Configure: 0.000914s, 1 calls @ 914us\n",
      "\n",
      "[18:05:22] EvalOneIter: 0.001586s, 1 calls @ 1586us\n",
      "\n",
      "[18:05:22] GetGradient: 6e-06s, 1 calls @ 6us\n",
      "\n",
      "[18:05:22] PredictRaw: 2e-06s, 1 calls @ 2us\n",
      "\n",
      "[18:05:22] UpdateOneIter: 0.062743s, 1 calls @ 62743us\n",
      "\n",
      "[18:05:22] ======== Monitor (0): GBTree ========\n",
      "[18:05:22] BoostNewTrees: 0.061738s, 1 calls @ 61738us\n",
      "\n",
      "[18:05:22] CommitModel: 3e-06s, 1 calls @ 3us\n",
      "\n",
      "[18:05:22] ======== Monitor (0): HistUpdater ========\n",
      "[18:05:22] BuildHistogram: 0.008099s, 200 calls @ 8099us\n",
      "\n",
      "[18:05:22] EvaluateSplits: 0.003497s, 300 calls @ 3497us\n",
      "\n",
      "[18:05:22] InitData: 0.020031s, 100 calls @ 20031us\n",
      "\n",
      "[18:05:22] InitRoot: 0.010861s, 100 calls @ 10861us\n",
      "\n",
      "[18:05:22] LeafPartition: 1.6e-05s, 100 calls @ 16us\n",
      "\n",
      "[18:05:22] UpdatePosition: 0.008154s, 222 calls @ 8154us\n",
      "\n",
      "[18:05:22] UpdateTree: 0.050357s, 100 calls @ 50357us\n",
      "\n",
      "[18:05:22] DEBUG: /workspace/src/gbm/gbtree.cc:130: Using tree method: 3\n",
      "[18:05:22] ======== Monitor (0): HostSketchContainer ========\n",
      "[18:05:22] AllReduce: 7e-06s, 1 calls @ 7us\n",
      "\n",
      "[18:05:22] MakeCuts: 2e-05s, 1 calls @ 20us\n",
      "\n",
      "[18:05:22] DEBUG: /workspace/src/gbm/gbtree.cc:130: Using tree method: 3\n"
     ]
    },
    {
     "name": "stderr",
     "output_type": "stream",
     "text": [
      "/tmp/ipykernel_13654/829001706.py:6: FutureWarning: suggest_loguniform has been deprecated in v3.0.0. This feature will be removed in v6.0.0. See https://github.com/optuna/optuna/releases/tag/v3.0.0. Use suggest_float(..., log=True) instead.\n",
      "  'lambda': trail.suggest_loguniform('lambda', 1e-10, 1e-4), # lambda uses L2 regularization\n",
      "/tmp/ipykernel_13654/829001706.py:7: FutureWarning: suggest_loguniform has been deprecated in v3.0.0. This feature will be removed in v6.0.0. See https://github.com/optuna/optuna/releases/tag/v3.0.0. Use suggest_float(..., log=True) instead.\n",
      "  'alpha': trail.suggest_loguniform('alpha', 1e-10, 1e-4),\n",
      "/home/aazzioui/Documents/WS/TIMSS-2019_student_score_prediction/env/lib/python3.11/site-packages/xgboost/core.py:160: UserWarning: [18:05:22] WARNING: /workspace/src/learner.cc:742: \n",
      "Parameters: { \"n_estimator\" } are not used.\n",
      "\n",
      "  warnings.warn(smsg, UserWarning)\n"
     ]
    },
    {
     "name": "stdout",
     "output_type": "stream",
     "text": [
      "[0]\tvalidation_0-rmse:58.60053\n"
     ]
    },
    {
     "name": "stderr",
     "output_type": "stream",
     "text": [
      "[I 2023-11-06 18:05:22,485] Trial 31 finished with value: 3434.022306746378 and parameters: {'lambda': 9.944761717487854e-07, 'alpha': 3.0600188169857576e-10, 'colsample_bytree': 0.9, 'subsample': 0.9, 'learning_rate': 1, 'max_depth': 6, 'random_state': 200, 'min_child_weight': 143}. Best is trial 17 with value: 3344.3378117076277.\n"
     ]
    },
    {
     "name": "stdout",
     "output_type": "stream",
     "text": [
      "[18:05:22] ======== Monitor (0): Learner ========\n",
      "[18:05:22] Configure: 0.001204s, 1 calls @ 1204us\n",
      "\n",
      "[18:05:22] EvalOneIter: 0.040728s, 1 calls @ 40728us\n",
      "\n",
      "[18:05:22] GetGradient: 1e-05s, 1 calls @ 10us\n",
      "\n",
      "[18:05:22] PredictRaw: 5e-06s, 1 calls @ 5us\n",
      "\n",
      "[18:05:22] UpdateOneIter: 0.071605s, 1 calls @ 71605us\n",
      "\n",
      "[18:05:22] ======== Monitor (0): GBTree ========\n",
      "[18:05:22] BoostNewTrees: 0.053721s, 1 calls @ 53721us\n",
      "\n",
      "[18:05:22] CommitModel: 3e-06s, 1 calls @ 3us\n",
      "\n",
      "[18:05:22] ======== Monitor (0): HistUpdater ========\n",
      "[18:05:22] BuildHistogram: 0.003286s, 200 calls @ 3286us\n",
      "\n",
      "[18:05:22] EvaluateSplits: 0.013137s, 300 calls @ 13137us\n",
      "\n",
      "[18:05:22] InitData: 0.002336s, 100 calls @ 2336us\n",
      "\n",
      "[18:05:22] InitRoot: 0.016952s, 100 calls @ 16952us\n",
      "\n",
      "[18:05:22] LeafPartition: 1.4e-05s, 100 calls @ 14us\n",
      "\n",
      "[18:05:22] UpdatePosition: 0.015516s, 200 calls @ 15516us\n",
      "\n",
      "[18:05:22] UpdateTree: 0.050376s, 100 calls @ 50376us\n",
      "\n",
      "[18:05:22] DEBUG: /workspace/src/gbm/gbtree.cc:130: Using tree method: 3\n"
     ]
    },
    {
     "name": "stderr",
     "output_type": "stream",
     "text": [
      "/tmp/ipykernel_13654/829001706.py:6: FutureWarning: suggest_loguniform has been deprecated in v3.0.0. This feature will be removed in v6.0.0. See https://github.com/optuna/optuna/releases/tag/v3.0.0. Use suggest_float(..., log=True) instead.\n",
      "  'lambda': trail.suggest_loguniform('lambda', 1e-10, 1e-4), # lambda uses L2 regularization\n",
      "/tmp/ipykernel_13654/829001706.py:7: FutureWarning: suggest_loguniform has been deprecated in v3.0.0. This feature will be removed in v6.0.0. See https://github.com/optuna/optuna/releases/tag/v3.0.0. Use suggest_float(..., log=True) instead.\n",
      "  'alpha': trail.suggest_loguniform('alpha', 1e-10, 1e-4),\n"
     ]
    },
    {
     "name": "stdout",
     "output_type": "stream",
     "text": [
      "[18:05:22] ======== Monitor (0): HostSketchContainer ========\n",
      "[18:05:22] AllReduce: 0.003624s, 1 calls @ 3624us\n",
      "\n",
      "[18:05:22] MakeCuts: 0.006115s, 1 calls @ 6115us\n",
      "\n",
      "[18:05:22] DEBUG: /workspace/src/gbm/gbtree.cc:130: Using tree method: 3\n",
      "[0]\tvalidation_0-rmse:150.35463\n"
     ]
    },
    {
     "name": "stderr",
     "output_type": "stream",
     "text": [
      "/home/aazzioui/Documents/WS/TIMSS-2019_student_score_prediction/env/lib/python3.11/site-packages/xgboost/core.py:160: UserWarning: [18:05:22] WARNING: /workspace/src/learner.cc:742: \n",
      "Parameters: { \"n_estimator\" } are not used.\n",
      "\n",
      "  warnings.warn(smsg, UserWarning)\n",
      "[I 2023-11-06 18:05:22,918] Trial 32 finished with value: 22606.51593468078 and parameters: {'lambda': 2.5615426602302245e-06, 'alpha': 3.429432632374566e-10, 'colsample_bytree': 0.9, 'subsample': 0.9, 'learning_rate': 10, 'max_depth': 6, 'random_state': 200, 'min_child_weight': 139}. Best is trial 17 with value: 3344.3378117076277.\n"
     ]
    },
    {
     "name": "stdout",
     "output_type": "stream",
     "text": [
      "[18:05:22] ======== Monitor (0): Learner ========\n",
      "[18:05:22] Configure: 0.000954s, 1 calls @ 954us\n",
      "\n",
      "[18:05:22] EvalOneIter: 0.007161s, 1 calls @ 7161us\n",
      "\n",
      "[18:05:22] GetGradient: 7e-06s, 1 calls @ 7us\n",
      "\n",
      "[18:05:22] PredictRaw: 2e-06s, 1 calls @ 2us\n",
      "\n",
      "[18:05:22] UpdateOneIter: 0.038845s, 1 calls @ 38845us\n",
      "\n",
      "[18:05:22] ======== Monitor (0): GBTree ========\n",
      "[18:05:22] BoostNewTrees: 0.037684s, 1 calls @ 37684us\n",
      "\n",
      "[18:05:22] CommitModel: 3e-06s, 1 calls @ 3us\n",
      "\n",
      "[18:05:22] ======== Monitor (0): HistUpdater ========\n",
      "[18:05:22] BuildHistogram: 0.004394s, 201 calls @ 4394us\n",
      "\n",
      "[18:05:22] EvaluateSplits: 0.003565s, 301 calls @ 3565us\n",
      "\n",
      "[18:05:22] InitData: 0.001031s, 100 calls @ 1031us\n",
      "\n",
      "[18:05:22] InitRoot: 0.01438s, 100 calls @ 14380us\n",
      "\n",
      "[18:05:22] LeafPartition: 1.5e-05s, 100 calls @ 15us\n",
      "\n",
      "[18:05:22] UpdatePosition: 0.012236s, 201 calls @ 12236us\n",
      "\n",
      "[18:05:22] UpdateTree: 0.035297s, 100 calls @ 35297us\n",
      "\n",
      "[18:05:22] DEBUG: /workspace/src/gbm/gbtree.cc:130: Using tree method: 3\n"
     ]
    },
    {
     "name": "stderr",
     "output_type": "stream",
     "text": [
      "/tmp/ipykernel_13654/829001706.py:6: FutureWarning: suggest_loguniform has been deprecated in v3.0.0. This feature will be removed in v6.0.0. See https://github.com/optuna/optuna/releases/tag/v3.0.0. Use suggest_float(..., log=True) instead.\n",
      "  'lambda': trail.suggest_loguniform('lambda', 1e-10, 1e-4), # lambda uses L2 regularization\n",
      "/tmp/ipykernel_13654/829001706.py:7: FutureWarning: suggest_loguniform has been deprecated in v3.0.0. This feature will be removed in v6.0.0. See https://github.com/optuna/optuna/releases/tag/v3.0.0. Use suggest_float(..., log=True) instead.\n",
      "  'alpha': trail.suggest_loguniform('alpha', 1e-10, 1e-4),\n"
     ]
    },
    {
     "name": "stdout",
     "output_type": "stream",
     "text": [
      "[18:05:23] ======== Monitor (0): HostSketchContainer ========\n",
      "[18:05:23] AllReduce: 0.001369s, 1 calls @ 1369us\n",
      "\n",
      "[18:05:23] MakeCuts: 0.012024s, 1 calls @ 12024us\n",
      "\n",
      "[18:05:23] DEBUG: /workspace/src/gbm/gbtree.cc:130: Using tree method: 3\n"
     ]
    },
    {
     "name": "stderr",
     "output_type": "stream",
     "text": [
      "/home/aazzioui/Documents/WS/TIMSS-2019_student_score_prediction/env/lib/python3.11/site-packages/xgboost/core.py:160: UserWarning: [18:05:23] WARNING: /workspace/src/learner.cc:742: \n",
      "Parameters: { \"n_estimator\" } are not used.\n",
      "\n",
      "  warnings.warn(smsg, UserWarning)\n"
     ]
    },
    {
     "name": "stdout",
     "output_type": "stream",
     "text": [
      "[0]\tvalidation_0-rmse:58.51109\n"
     ]
    },
    {
     "name": "stderr",
     "output_type": "stream",
     "text": [
      "[I 2023-11-06 18:05:23,810] Trial 33 finished with value: 3423.547352071917 and parameters: {'lambda': 1.400219145954994e-07, 'alpha': 2.8959656891643045e-10, 'colsample_bytree': 0.9, 'subsample': 0.8, 'learning_rate': 1, 'max_depth': 6, 'random_state': 10, 'min_child_weight': 113}. Best is trial 17 with value: 3344.3378117076277.\n"
     ]
    },
    {
     "name": "stdout",
     "output_type": "stream",
     "text": [
      "[18:05:23] ======== Monitor (0): Learner ========\n",
      "[18:05:23] Configure: 0.002846s, 1 calls @ 2846us\n",
      "\n",
      "[18:05:23] EvalOneIter: 0.000326s, 1 calls @ 326us\n",
      "\n",
      "[18:05:23] GetGradient: 0.026318s, 1 calls @ 26318us\n",
      "\n",
      "[18:05:23] PredictRaw: 5e-06s, 1 calls @ 5us\n",
      "\n",
      "[18:05:23] UpdateOneIter: 0.369067s, 1 calls @ 369067us\n",
      "\n",
      "[18:05:23] ======== Monitor (0): GBTree ========\n",
      "[18:05:23] BoostNewTrees: 0.267649s, 1 calls @ 267649us\n",
      "\n",
      "[18:05:23] CommitModel: 2e-06s, 1 calls @ 2us\n",
      "\n",
      "[18:05:23] ======== Monitor (0): HistUpdater ========\n",
      "[18:05:23] BuildHistogram: 0.061048s, 220 calls @ 61048us\n",
      "\n",
      "[18:05:23] EvaluateSplits: 0.044751s, 320 calls @ 44751us\n",
      "\n",
      "[18:05:23] InitData: 0.013884s, 100 calls @ 13884us\n",
      "\n",
      "[18:05:23] InitRoot: 0.039868s, 100 calls @ 39868us\n",
      "\n",
      "[18:05:23] LeafPartition: 1.5e-05s, 100 calls @ 15us\n",
      "\n",
      "[18:05:23] UpdatePosition: 0.102933s, 220 calls @ 102933us\n",
      "\n",
      "[18:05:23] UpdateTree: 0.245663s, 100 calls @ 245663us\n",
      "\n",
      "[18:05:23] DEBUG: /workspace/src/gbm/gbtree.cc:130: Using tree method: 3\n",
      "[18:05:23] ======== Monitor (0): HostSketchContainer ========\n",
      "[18:05:23] AllReduce: 6e-06s, 1 calls @ 6us\n",
      "\n",
      "[18:05:23] MakeCuts: 1.9e-05s, 1 calls @ 19us\n",
      "\n",
      "[18:05:23] DEBUG: /workspace/src/gbm/gbtree.cc:130: Using tree method: 3\n"
     ]
    },
    {
     "name": "stderr",
     "output_type": "stream",
     "text": [
      "/tmp/ipykernel_13654/829001706.py:6: FutureWarning: suggest_loguniform has been deprecated in v3.0.0. This feature will be removed in v6.0.0. See https://github.com/optuna/optuna/releases/tag/v3.0.0. Use suggest_float(..., log=True) instead.\n",
      "  'lambda': trail.suggest_loguniform('lambda', 1e-10, 1e-4), # lambda uses L2 regularization\n",
      "/tmp/ipykernel_13654/829001706.py:7: FutureWarning: suggest_loguniform has been deprecated in v3.0.0. This feature will be removed in v6.0.0. See https://github.com/optuna/optuna/releases/tag/v3.0.0. Use suggest_float(..., log=True) instead.\n",
      "  'alpha': trail.suggest_loguniform('alpha', 1e-10, 1e-4),\n",
      "/home/aazzioui/Documents/WS/TIMSS-2019_student_score_prediction/env/lib/python3.11/site-packages/xgboost/core.py:160: UserWarning: [18:05:23] WARNING: /workspace/src/learner.cc:742: \n",
      "Parameters: { \"n_estimator\" } are not used.\n",
      "\n",
      "  warnings.warn(smsg, UserWarning)\n"
     ]
    },
    {
     "name": "stdout",
     "output_type": "stream",
     "text": [
      "[0]\tvalidation_0-rmse:62.91228\n"
     ]
    },
    {
     "name": "stderr",
     "output_type": "stream",
     "text": [
      "[I 2023-11-06 18:05:24,128] Trial 34 finished with value: 3957.9551874544245 and parameters: {'lambda': 1.2467317569567016e-07, 'alpha': 9.62093288406913e-10, 'colsample_bytree': 0.9, 'subsample': 0.8, 'learning_rate': 1e-05, 'max_depth': 5, 'random_state': 10, 'min_child_weight': 110}. Best is trial 17 with value: 3344.3378117076277.\n"
     ]
    },
    {
     "name": "stdout",
     "output_type": "stream",
     "text": [
      "[18:05:24] ======== Monitor (0): Learner ========\n",
      "[18:05:24] Configure: 0.000877s, 1 calls @ 877us\n",
      "\n",
      "[18:05:24] EvalOneIter: 0.000335s, 1 calls @ 335us\n",
      "\n",
      "[18:05:24] GetGradient: 6e-06s, 1 calls @ 6us\n",
      "\n",
      "[18:05:24] PredictRaw: 2e-06s, 1 calls @ 2us\n",
      "\n",
      "[18:05:24] UpdateOneIter: 0.102541s, 1 calls @ 102541us\n",
      "\n",
      "[18:05:24] ======== Monitor (0): GBTree ========\n",
      "[18:05:24] BoostNewTrees: 0.101576s, 1 calls @ 101576us\n",
      "\n",
      "[18:05:24] CommitModel: 3e-06s, 1 calls @ 3us\n",
      "\n",
      "[18:05:24] ======== Monitor (0): HistUpdater ========\n",
      "[18:05:24] BuildHistogram: 0.045573s, 221 calls @ 45573us\n",
      "\n",
      "[18:05:24] EvaluateSplits: 0.005978s, 321 calls @ 5978us\n",
      "\n",
      "[18:05:24] InitData: 0.001479s, 100 calls @ 1479us\n",
      "\n",
      "[18:05:24] InitRoot: 0.006504s, 100 calls @ 6504us\n",
      "\n",
      "[18:05:24] LeafPartition: 1.8e-05s, 100 calls @ 18us\n",
      "\n",
      "[18:05:24] UpdatePosition: 0.02947s, 221 calls @ 29470us\n",
      "\n",
      "[18:05:24] UpdateTree: 0.086495s, 100 calls @ 86495us\n",
      "\n",
      "[18:05:24] DEBUG: /workspace/src/gbm/gbtree.cc:130: Using tree method: 3\n"
     ]
    },
    {
     "name": "stderr",
     "output_type": "stream",
     "text": [
      "/tmp/ipykernel_13654/829001706.py:6: FutureWarning: suggest_loguniform has been deprecated in v3.0.0. This feature will be removed in v6.0.0. See https://github.com/optuna/optuna/releases/tag/v3.0.0. Use suggest_float(..., log=True) instead.\n",
      "  'lambda': trail.suggest_loguniform('lambda', 1e-10, 1e-4), # lambda uses L2 regularization\n",
      "/tmp/ipykernel_13654/829001706.py:7: FutureWarning: suggest_loguniform has been deprecated in v3.0.0. This feature will be removed in v6.0.0. See https://github.com/optuna/optuna/releases/tag/v3.0.0. Use suggest_float(..., log=True) instead.\n",
      "  'alpha': trail.suggest_loguniform('alpha', 1e-10, 1e-4),\n"
     ]
    },
    {
     "name": "stdout",
     "output_type": "stream",
     "text": [
      "[18:05:24] ======== Monitor (0): HostSketchContainer ========\n",
      "[18:05:24] AllReduce: 0.023558s, 1 calls @ 23558us\n",
      "\n",
      "[18:05:24] MakeCuts: 0.040476s, 1 calls @ 40476us\n",
      "\n",
      "[18:05:24] DEBUG: /workspace/src/gbm/gbtree.cc:130: Using tree method: 3\n",
      "[0]\tvalidation_0-rmse:57.63640\n"
     ]
    },
    {
     "name": "stderr",
     "output_type": "stream",
     "text": [
      "/home/aazzioui/Documents/WS/TIMSS-2019_student_score_prediction/env/lib/python3.11/site-packages/xgboost/core.py:160: UserWarning: [18:05:24] WARNING: /workspace/src/learner.cc:742: \n",
      "Parameters: { \"n_estimator\" } are not used.\n",
      "\n",
      "  warnings.warn(smsg, UserWarning)\n",
      "[I 2023-11-06 18:05:24,552] Trial 35 finished with value: 3321.9547424479506 and parameters: {'lambda': 9.056947559166678e-07, 'alpha': 4.341286143548778e-09, 'colsample_bytree': 0.9, 'subsample': 0.8, 'learning_rate': 1, 'max_depth': 6, 'random_state': 10, 'min_child_weight': 76}. Best is trial 35 with value: 3321.9547424479506.\n"
     ]
    },
    {
     "name": "stdout",
     "output_type": "stream",
     "text": [
      "[18:05:24] ======== Monitor (0): Learner ========\n",
      "[18:05:24] Configure: 0.00118s, 1 calls @ 1180us\n",
      "\n",
      "[18:05:24] EvalOneIter: 0.000456s, 1 calls @ 456us\n",
      "\n",
      "[18:05:24] GetGradient: 6e-06s, 1 calls @ 6us\n",
      "\n",
      "[18:05:24] PredictRaw: 3e-06s, 1 calls @ 3us\n",
      "\n",
      "[18:05:24] UpdateOneIter: 0.035682s, 1 calls @ 35682us\n",
      "\n",
      "[18:05:24] ======== Monitor (0): GBTree ========\n",
      "[18:05:24] BoostNewTrees: 0.034385s, 1 calls @ 34385us\n",
      "\n",
      "[18:05:24] CommitModel: 3e-06s, 1 calls @ 3us\n",
      "\n",
      "[18:05:24] ======== Monitor (0): HistUpdater ========\n",
      "[18:05:24] BuildHistogram: 0.010039s, 368 calls @ 10039us\n",
      "\n",
      "[18:05:24] EvaluateSplits: 0.006369s, 468 calls @ 6369us\n",
      "\n",
      "[18:05:24] InitData: 0.00304s, 100 calls @ 3040us\n",
      "\n",
      "[18:05:24] InitRoot: 0.002792s, 100 calls @ 2792us\n",
      "\n",
      "[18:05:24] LeafPartition: 1.7e-05s, 100 calls @ 17us\n",
      "\n",
      "[18:05:24] UpdatePosition: 0.009551s, 368 calls @ 9551us\n",
      "\n",
      "[18:05:24] UpdateTree: 0.031901s, 100 calls @ 31901us\n",
      "\n",
      "[18:05:24] DEBUG: /workspace/src/gbm/gbtree.cc:130: Using tree method: 3\n"
     ]
    },
    {
     "name": "stderr",
     "output_type": "stream",
     "text": [
      "/tmp/ipykernel_13654/829001706.py:6: FutureWarning: suggest_loguniform has been deprecated in v3.0.0. This feature will be removed in v6.0.0. See https://github.com/optuna/optuna/releases/tag/v3.0.0. Use suggest_float(..., log=True) instead.\n",
      "  'lambda': trail.suggest_loguniform('lambda', 1e-10, 1e-4), # lambda uses L2 regularization\n",
      "/tmp/ipykernel_13654/829001706.py:7: FutureWarning: suggest_loguniform has been deprecated in v3.0.0. This feature will be removed in v6.0.0. See https://github.com/optuna/optuna/releases/tag/v3.0.0. Use suggest_float(..., log=True) instead.\n",
      "  'alpha': trail.suggest_loguniform('alpha', 1e-10, 1e-4),\n"
     ]
    },
    {
     "name": "stdout",
     "output_type": "stream",
     "text": [
      "[18:05:24] ======== Monitor (0): HostSketchContainer ========\n",
      "[18:05:24] AllReduce: 0.028049s, 1 calls @ 28049us\n",
      "\n",
      "[18:05:24] MakeCuts: 0.069766s, 1 calls @ 69766us\n",
      "\n",
      "[18:05:24] DEBUG: /workspace/src/gbm/gbtree.cc:130: Using tree method: 3\n",
      "[0]\tvalidation_0-rmse:75.44926\n"
     ]
    },
    {
     "name": "stderr",
     "output_type": "stream",
     "text": [
      "/home/aazzioui/Documents/WS/TIMSS-2019_student_score_prediction/env/lib/python3.11/site-packages/xgboost/core.py:160: UserWarning: [18:05:24] WARNING: /workspace/src/learner.cc:742: \n",
      "Parameters: { \"n_estimator\" } are not used.\n",
      "\n",
      "  warnings.warn(smsg, UserWarning)\n",
      "[I 2023-11-06 18:05:25,112] Trial 36 finished with value: 5692.590464771299 and parameters: {'lambda': 1.5039903413849684e-08, 'alpha': 4.567790698557758e-09, 'colsample_bytree': 0.3, 'subsample': 0.8, 'learning_rate': 10, 'max_depth': 11, 'random_state': 10, 'min_child_weight': 75}. Best is trial 35 with value: 3321.9547424479506.\n"
     ]
    },
    {
     "name": "stdout",
     "output_type": "stream",
     "text": [
      "[18:05:25] ======== Monitor (0): Learner ========\n",
      "[18:05:25] Configure: 0.004477s, 1 calls @ 4477us\n",
      "\n",
      "[18:05:25] EvalOneIter: 0.000391s, 1 calls @ 391us\n",
      "\n",
      "[18:05:25] GetGradient: 8e-06s, 1 calls @ 8us\n",
      "\n",
      "[18:05:25] PredictRaw: 4e-06s, 1 calls @ 4us\n",
      "\n",
      "[18:05:25] UpdateOneIter: 0.079328s, 1 calls @ 79328us\n",
      "\n",
      "[18:05:25] ======== Monitor (0): GBTree ========\n",
      "[18:05:25] BoostNewTrees: 0.03126s, 1 calls @ 31260us\n",
      "\n",
      "[18:05:25] CommitModel: 3e-06s, 1 calls @ 3us\n",
      "\n",
      "[18:05:25] ======== Monitor (0): HistUpdater ========\n",
      "[18:05:25] BuildHistogram: 0.010291s, 268 calls @ 10291us\n",
      "\n",
      "[18:05:25] EvaluateSplits: 0.003731s, 368 calls @ 3731us\n",
      "\n",
      "[18:05:25] InitData: 0.001136s, 100 calls @ 1136us\n",
      "\n",
      "[18:05:25] InitRoot: 0.003839s, 100 calls @ 3839us\n",
      "\n",
      "[18:05:25] LeafPartition: 1.6e-05s, 100 calls @ 16us\n",
      "\n",
      "[18:05:25] UpdatePosition: 0.009646s, 268 calls @ 9646us\n",
      "\n",
      "[18:05:25] UpdateTree: 0.028742s, 100 calls @ 28742us\n",
      "\n",
      "[18:05:25] DEBUG: /workspace/src/gbm/gbtree.cc:130: Using tree method: 3\n"
     ]
    },
    {
     "name": "stderr",
     "output_type": "stream",
     "text": [
      "/tmp/ipykernel_13654/829001706.py:6: FutureWarning: suggest_loguniform has been deprecated in v3.0.0. This feature will be removed in v6.0.0. See https://github.com/optuna/optuna/releases/tag/v3.0.0. Use suggest_float(..., log=True) instead.\n",
      "  'lambda': trail.suggest_loguniform('lambda', 1e-10, 1e-4), # lambda uses L2 regularization\n",
      "/tmp/ipykernel_13654/829001706.py:7: FutureWarning: suggest_loguniform has been deprecated in v3.0.0. This feature will be removed in v6.0.0. See https://github.com/optuna/optuna/releases/tag/v3.0.0. Use suggest_float(..., log=True) instead.\n",
      "  'alpha': trail.suggest_loguniform('alpha', 1e-10, 1e-4),\n"
     ]
    },
    {
     "name": "stdout",
     "output_type": "stream",
     "text": [
      "[18:05:25] ======== Monitor (0): HostSketchContainer ========\n",
      "[18:05:25] AllReduce: 0.010775s, 1 calls @ 10775us\n",
      "\n",
      "[18:05:25] MakeCuts: 0.014682s, 1 calls @ 14682us\n",
      "\n",
      "[18:05:25] DEBUG: /workspace/src/gbm/gbtree.cc:130: Using tree method: 3\n",
      "[0]\tvalidation_0-rmse:57.69375\n"
     ]
    },
    {
     "name": "stderr",
     "output_type": "stream",
     "text": [
      "/home/aazzioui/Documents/WS/TIMSS-2019_student_score_prediction/env/lib/python3.11/site-packages/xgboost/core.py:160: UserWarning: [18:05:25] WARNING: /workspace/src/learner.cc:742: \n",
      "Parameters: { \"n_estimator\" } are not used.\n",
      "\n",
      "  warnings.warn(smsg, UserWarning)\n",
      "[I 2023-11-06 18:05:25,506] Trial 37 finished with value: 3328.568783649275 and parameters: {'lambda': 1.1713619346087286e-06, 'alpha': 9.09060696606531e-09, 'colsample_bytree': 0.9, 'subsample': 0.8, 'learning_rate': 1, 'max_depth': 8, 'random_state': 10, 'min_child_weight': 44}. Best is trial 35 with value: 3321.9547424479506.\n"
     ]
    },
    {
     "name": "stdout",
     "output_type": "stream",
     "text": [
      "[18:05:25] ======== Monitor (0): Learner ========\n",
      "[18:05:25] Configure: 0.001343s, 1 calls @ 1343us\n",
      "\n",
      "[18:05:25] EvalOneIter: 0.000594s, 1 calls @ 594us\n",
      "\n",
      "[18:05:25] GetGradient: 1.2e-05s, 1 calls @ 12us\n",
      "\n",
      "[18:05:25] PredictRaw: 5e-06s, 1 calls @ 5us\n",
      "\n",
      "[18:05:25] UpdateOneIter: 0.057302s, 1 calls @ 57302us\n",
      "\n",
      "[18:05:25] ======== Monitor (0): GBTree ========\n",
      "[18:05:25] BoostNewTrees: 0.054155s, 1 calls @ 54155us\n",
      "\n",
      "[18:05:25] CommitModel: 3e-06s, 1 calls @ 3us\n",
      "\n",
      "[18:05:25] ======== Monitor (0): HistUpdater ========\n",
      "[18:05:25] BuildHistogram: 0.016743s, 490 calls @ 16743us\n",
      "\n",
      "[18:05:25] EvaluateSplits: 0.00895s, 590 calls @ 8950us\n",
      "\n",
      "[18:05:25] InitData: 0.002388s, 100 calls @ 2388us\n",
      "\n",
      "[18:05:25] InitRoot: 0.004664s, 100 calls @ 4664us\n",
      "\n",
      "[18:05:25] LeafPartition: 2e-05s, 100 calls @ 20us\n",
      "\n",
      "[18:05:25] UpdatePosition: 0.018293s, 490 calls @ 18293us\n",
      "\n",
      "[18:05:25] UpdateTree: 0.051704s, 100 calls @ 51704us\n",
      "\n",
      "[18:05:25] DEBUG: /workspace/src/gbm/gbtree.cc:130: Using tree method: 3\n"
     ]
    },
    {
     "name": "stderr",
     "output_type": "stream",
     "text": [
      "/tmp/ipykernel_13654/829001706.py:6: FutureWarning: suggest_loguniform has been deprecated in v3.0.0. This feature will be removed in v6.0.0. See https://github.com/optuna/optuna/releases/tag/v3.0.0. Use suggest_float(..., log=True) instead.\n",
      "  'lambda': trail.suggest_loguniform('lambda', 1e-10, 1e-4), # lambda uses L2 regularization\n",
      "/tmp/ipykernel_13654/829001706.py:7: FutureWarning: suggest_loguniform has been deprecated in v3.0.0. This feature will be removed in v6.0.0. See https://github.com/optuna/optuna/releases/tag/v3.0.0. Use suggest_float(..., log=True) instead.\n",
      "  'alpha': trail.suggest_loguniform('alpha', 1e-10, 1e-4),\n"
     ]
    },
    {
     "name": "stdout",
     "output_type": "stream",
     "text": [
      "[18:05:25] ======== Monitor (0): HostSketchContainer ========\n",
      "[18:05:25] AllReduce: 6e-06s, 1 calls @ 6us\n",
      "\n",
      "[18:05:25] MakeCuts: 1.5e-05s, 1 calls @ 15us\n",
      "\n",
      "[18:05:25] DEBUG: /workspace/src/gbm/gbtree.cc:130: Using tree method: 3\n"
     ]
    },
    {
     "name": "stderr",
     "output_type": "stream",
     "text": [
      "/home/aazzioui/Documents/WS/TIMSS-2019_student_score_prediction/env/lib/python3.11/site-packages/xgboost/core.py:160: UserWarning: [18:05:25] WARNING: /workspace/src/learner.cc:742: \n",
      "Parameters: { \"n_estimator\" } are not used.\n",
      "\n",
      "  warnings.warn(smsg, UserWarning)\n"
     ]
    },
    {
     "name": "stdout",
     "output_type": "stream",
     "text": [
      "[0]\tvalidation_0-rmse:62.86487\n"
     ]
    },
    {
     "name": "stderr",
     "output_type": "stream",
     "text": [
      "[I 2023-11-06 18:05:25,863] Trial 38 finished with value: 3951.9917245550414 and parameters: {'lambda': 5.00585594040869e-06, 'alpha': 8.807934855750583e-09, 'colsample_bytree': 0.2, 'subsample': 0.8, 'learning_rate': 0.02, 'max_depth': 8, 'random_state': 10, 'min_child_weight': 40}. Best is trial 35 with value: 3321.9547424479506.\n"
     ]
    },
    {
     "name": "stdout",
     "output_type": "stream",
     "text": [
      "[18:05:25] ======== Monitor (0): Learner ========\n",
      "[18:05:25] Configure: 0.001001s, 1 calls @ 1001us\n",
      "\n",
      "[18:05:25] EvalOneIter: 0.011562s, 1 calls @ 11562us\n",
      "\n",
      "[18:05:25] GetGradient: 6e-06s, 1 calls @ 6us\n",
      "\n",
      "[18:05:25] PredictRaw: 2e-06s, 1 calls @ 2us\n",
      "\n",
      "[18:05:25] UpdateOneIter: 0.190754s, 1 calls @ 190754us\n",
      "\n",
      "[18:05:25] ======== Monitor (0): GBTree ========\n",
      "[18:05:25] BoostNewTrees: 0.189658s, 1 calls @ 189658us\n",
      "\n",
      "[18:05:25] CommitModel: 3e-06s, 1 calls @ 3us\n",
      "\n",
      "[18:05:25] ======== Monitor (0): HistUpdater ========\n",
      "[18:05:25] BuildHistogram: 0.065542s, 280 calls @ 65542us\n",
      "\n",
      "[18:05:25] EvaluateSplits: 0.021592s, 380 calls @ 21592us\n",
      "\n",
      "[18:05:25] InitData: 0.024594s, 100 calls @ 24594us\n",
      "\n",
      "[18:05:25] InitRoot: 0.02849s, 100 calls @ 28490us\n",
      "\n",
      "[18:05:25] LeafPartition: 1.8e-05s, 100 calls @ 18us\n",
      "\n",
      "[18:05:25] UpdatePosition: 0.019113s, 280 calls @ 19113us\n",
      "\n",
      "[18:05:25] UpdateTree: 0.15943s, 100 calls @ 159430us\n",
      "\n",
      "[18:05:25] DEBUG: /workspace/src/gbm/gbtree.cc:130: Using tree method: 3\n",
      "[18:05:26] ======== Monitor (0): HostSketchContainer ========\n",
      "[18:05:26] AllReduce: 7e-06s, 1 calls @ 7us\n",
      "\n",
      "[18:05:26] MakeCuts: 1.9e-05s, 1 calls @ 19us\n",
      "\n",
      "[18:05:26] DEBUG: /workspace/src/gbm/gbtree.cc:130: Using tree method: 3\n"
     ]
    },
    {
     "name": "stderr",
     "output_type": "stream",
     "text": [
      "/tmp/ipykernel_13654/829001706.py:6: FutureWarning: suggest_loguniform has been deprecated in v3.0.0. This feature will be removed in v6.0.0. See https://github.com/optuna/optuna/releases/tag/v3.0.0. Use suggest_float(..., log=True) instead.\n",
      "  'lambda': trail.suggest_loguniform('lambda', 1e-10, 1e-4), # lambda uses L2 regularization\n",
      "/tmp/ipykernel_13654/829001706.py:7: FutureWarning: suggest_loguniform has been deprecated in v3.0.0. This feature will be removed in v6.0.0. See https://github.com/optuna/optuna/releases/tag/v3.0.0. Use suggest_float(..., log=True) instead.\n",
      "  'alpha': trail.suggest_loguniform('alpha', 1e-10, 1e-4),\n",
      "/home/aazzioui/Documents/WS/TIMSS-2019_student_score_prediction/env/lib/python3.11/site-packages/xgboost/core.py:160: UserWarning: [18:05:26] WARNING: /workspace/src/learner.cc:742: \n",
      "Parameters: { \"n_estimator\" } are not used.\n",
      "\n",
      "  warnings.warn(smsg, UserWarning)\n"
     ]
    },
    {
     "name": "stdout",
     "output_type": "stream",
     "text": [
      "[0]\tvalidation_0-rmse:57.70250\n"
     ]
    },
    {
     "name": "stderr",
     "output_type": "stream",
     "text": [
      "[I 2023-11-06 18:05:26,273] Trial 39 finished with value: 3329.5788671087 and parameters: {'lambda': 3.7484706286935823e-06, 'alpha': 2.687707217600955e-08, 'colsample_bytree': 0.9, 'subsample': 0.8, 'learning_rate': 1, 'max_depth': 8, 'random_state': 10, 'min_child_weight': 41}. Best is trial 35 with value: 3321.9547424479506.\n"
     ]
    },
    {
     "name": "stdout",
     "output_type": "stream",
     "text": [
      "[18:05:26] ======== Monitor (0): Learner ========\n",
      "[18:05:26] Configure: 0.00081s, 1 calls @ 810us\n",
      "\n",
      "[18:05:26] EvalOneIter: 0.000584s, 1 calls @ 584us\n",
      "\n",
      "[18:05:26] GetGradient: 6e-06s, 1 calls @ 6us\n",
      "\n",
      "[18:05:26] PredictRaw: 2e-06s, 1 calls @ 2us\n",
      "\n",
      "[18:05:26] UpdateOneIter: 0.181875s, 1 calls @ 181875us\n",
      "\n",
      "[18:05:26] ======== Monitor (0): GBTree ========\n",
      "[18:05:26] BoostNewTrees: 0.180969s, 1 calls @ 180969us\n",
      "\n",
      "[18:05:26] CommitModel: 3e-06s, 1 calls @ 3us\n",
      "\n",
      "[18:05:26] ======== Monitor (0): HistUpdater ========\n",
      "[18:05:26] BuildHistogram: 0.018938s, 516 calls @ 18938us\n",
      "\n",
      "[18:05:26] EvaluateSplits: 0.056156s, 616 calls @ 56156us\n",
      "\n",
      "[18:05:26] InitData: 0.001417s, 100 calls @ 1417us\n",
      "\n",
      "[18:05:26] InitRoot: 0.003211s, 100 calls @ 3211us\n",
      "\n",
      "[18:05:26] LeafPartition: 2.2e-05s, 100 calls @ 22us\n",
      "\n",
      "[18:05:26] UpdatePosition: 0.080183s, 516 calls @ 80183us\n",
      "\n",
      "[18:05:26] UpdateTree: 0.160892s, 100 calls @ 160892us\n",
      "\n",
      "[18:05:26] DEBUG: /workspace/src/gbm/gbtree.cc:130: Using tree method: 3\n"
     ]
    },
    {
     "name": "stderr",
     "output_type": "stream",
     "text": [
      "/tmp/ipykernel_13654/829001706.py:6: FutureWarning: suggest_loguniform has been deprecated in v3.0.0. This feature will be removed in v6.0.0. See https://github.com/optuna/optuna/releases/tag/v3.0.0. Use suggest_float(..., log=True) instead.\n",
      "  'lambda': trail.suggest_loguniform('lambda', 1e-10, 1e-4), # lambda uses L2 regularization\n",
      "/tmp/ipykernel_13654/829001706.py:7: FutureWarning: suggest_loguniform has been deprecated in v3.0.0. This feature will be removed in v6.0.0. See https://github.com/optuna/optuna/releases/tag/v3.0.0. Use suggest_float(..., log=True) instead.\n",
      "  'alpha': trail.suggest_loguniform('alpha', 1e-10, 1e-4),\n"
     ]
    },
    {
     "name": "stdout",
     "output_type": "stream",
     "text": [
      "[18:05:26] ======== Monitor (0): HostSketchContainer ========\n",
      "[18:05:26] AllReduce: 0.000999s, 1 calls @ 999us\n",
      "\n",
      "[18:05:26] MakeCuts: 0.022617s, 1 calls @ 22617us\n",
      "\n",
      "[18:05:26] DEBUG: /workspace/src/gbm/gbtree.cc:130: Using tree method: 3\n"
     ]
    },
    {
     "name": "stderr",
     "output_type": "stream",
     "text": [
      "/home/aazzioui/Documents/WS/TIMSS-2019_student_score_prediction/env/lib/python3.11/site-packages/xgboost/core.py:160: UserWarning: [18:05:26] WARNING: /workspace/src/learner.cc:742: \n",
      "Parameters: { \"n_estimator\" } are not used.\n",
      "\n",
      "  warnings.warn(smsg, UserWarning)\n"
     ]
    },
    {
     "name": "stdout",
     "output_type": "stream",
     "text": [
      "[0]\tvalidation_0-rmse:62.91228\n"
     ]
    },
    {
     "name": "stderr",
     "output_type": "stream",
     "text": [
      "[I 2023-11-06 18:05:27,220] Trial 40 finished with value: 3957.9551874544245 and parameters: {'lambda': 4.370601501324445e-06, 'alpha': 3.23164275196616e-08, 'colsample_bytree': 0.9, 'subsample': 0.8, 'learning_rate': 1e-05, 'max_depth': 8, 'random_state': 10, 'min_child_weight': 41}. Best is trial 35 with value: 3321.9547424479506.\n"
     ]
    },
    {
     "name": "stdout",
     "output_type": "stream",
     "text": [
      "[18:05:27] ======== Monitor (0): Learner ========\n",
      "[18:05:27] Configure: 0.00587s, 1 calls @ 5870us\n",
      "\n",
      "[18:05:27] EvalOneIter: 0.000572s, 1 calls @ 572us\n",
      "\n",
      "[18:05:27] GetGradient: 0.028628s, 1 calls @ 28628us\n",
      "\n",
      "[18:05:27] PredictRaw: 9e-06s, 1 calls @ 9us\n",
      "\n",
      "[18:05:27] UpdateOneIter: 0.361076s, 1 calls @ 361076us\n",
      "\n",
      "[18:05:27] ======== Monitor (0): GBTree ========\n",
      "[18:05:27] BoostNewTrees: 0.276556s, 1 calls @ 276556us\n",
      "\n",
      "[18:05:27] CommitModel: 2e-06s, 1 calls @ 2us\n",
      "\n",
      "[18:05:27] ======== Monitor (0): HistUpdater ========\n",
      "[18:05:27] BuildHistogram: 0.020558s, 516 calls @ 20558us\n",
      "\n",
      "[18:05:27] EvaluateSplits: 0.03804s, 616 calls @ 38040us\n",
      "\n",
      "[18:05:27] InitData: 0.043353s, 100 calls @ 43353us\n",
      "\n",
      "[18:05:27] InitRoot: 0.07226s, 100 calls @ 72260us\n",
      "\n",
      "[18:05:27] LeafPartition: 2.1e-05s, 100 calls @ 21us\n",
      "\n",
      "[18:05:27] UpdatePosition: 0.047429s, 516 calls @ 47429us\n",
      "\n",
      "[18:05:27] UpdateTree: 0.22049s, 100 calls @ 220490us\n",
      "\n",
      "[18:05:27] DEBUG: /workspace/src/gbm/gbtree.cc:130: Using tree method: 3\n"
     ]
    },
    {
     "name": "stderr",
     "output_type": "stream",
     "text": [
      "/tmp/ipykernel_13654/829001706.py:6: FutureWarning: suggest_loguniform has been deprecated in v3.0.0. This feature will be removed in v6.0.0. See https://github.com/optuna/optuna/releases/tag/v3.0.0. Use suggest_float(..., log=True) instead.\n",
      "  'lambda': trail.suggest_loguniform('lambda', 1e-10, 1e-4), # lambda uses L2 regularization\n",
      "/tmp/ipykernel_13654/829001706.py:7: FutureWarning: suggest_loguniform has been deprecated in v3.0.0. This feature will be removed in v6.0.0. See https://github.com/optuna/optuna/releases/tag/v3.0.0. Use suggest_float(..., log=True) instead.\n",
      "  'alpha': trail.suggest_loguniform('alpha', 1e-10, 1e-4),\n"
     ]
    },
    {
     "name": "stdout",
     "output_type": "stream",
     "text": [
      "[18:05:27] ======== Monitor (0): HostSketchContainer ========\n",
      "[18:05:27] AllReduce: 0.025518s, 1 calls @ 25518us\n",
      "\n",
      "[18:05:27] MakeCuts: 0.037572s, 1 calls @ 37572us\n",
      "\n",
      "[18:05:27] DEBUG: /workspace/src/gbm/gbtree.cc:130: Using tree method: 3\n",
      "[0]\tvalidation_0-rmse:57.04496\n"
     ]
    },
    {
     "name": "stderr",
     "output_type": "stream",
     "text": [
      "/home/aazzioui/Documents/WS/TIMSS-2019_student_score_prediction/env/lib/python3.11/site-packages/xgboost/core.py:160: UserWarning: [18:05:27] WARNING: /workspace/src/learner.cc:742: \n",
      "Parameters: { \"n_estimator\" } are not used.\n",
      "\n",
      "  warnings.warn(smsg, UserWarning)\n",
      "[I 2023-11-06 18:05:27,733] Trial 41 finished with value: 3254.127844839837 and parameters: {'lambda': 2.088939929939822e-06, 'alpha': 1.3490867979708102e-08, 'colsample_bytree': 0.9, 'subsample': 0.8, 'learning_rate': 1, 'max_depth': 8, 'random_state': 10, 'min_child_weight': 27}. Best is trial 41 with value: 3254.127844839837.\n"
     ]
    },
    {
     "name": "stdout",
     "output_type": "stream",
     "text": [
      "[18:05:27] ======== Monitor (0): Learner ========\n",
      "[18:05:27] Configure: 0.001103s, 1 calls @ 1103us\n",
      "\n",
      "[18:05:27] EvalOneIter: 0.00394s, 1 calls @ 3940us\n",
      "\n",
      "[18:05:27] GetGradient: 7e-06s, 1 calls @ 7us\n",
      "\n",
      "[18:05:27] PredictRaw: 3e-06s, 1 calls @ 3us\n",
      "\n",
      "[18:05:27] UpdateOneIter: 0.09293s, 1 calls @ 92930us\n",
      "\n",
      "[18:05:27] ======== Monitor (0): GBTree ========\n",
      "[18:05:27] BoostNewTrees: 0.091471s, 1 calls @ 91471us\n",
      "\n",
      "[18:05:27] CommitModel: 3e-06s, 1 calls @ 3us\n",
      "\n",
      "[18:05:27] ======== Monitor (0): HistUpdater ========\n",
      "[18:05:27] BuildHistogram: 0.037304s, 633 calls @ 37304us\n",
      "\n",
      "[18:05:27] EvaluateSplits: 0.01455s, 733 calls @ 14550us\n",
      "\n",
      "[18:05:27] InitData: 0.001446s, 100 calls @ 1446us\n",
      "\n",
      "[18:05:27] InitRoot: 0.004515s, 100 calls @ 4515us\n",
      "\n",
      "[18:05:27] LeafPartition: 1.9e-05s, 100 calls @ 19us\n",
      "\n",
      "[18:05:27] UpdatePosition: 0.029458s, 640 calls @ 29458us\n",
      "\n",
      "[18:05:27] UpdateTree: 0.089034s, 100 calls @ 89034us\n",
      "\n",
      "[18:05:27] DEBUG: /workspace/src/gbm/gbtree.cc:130: Using tree method: 3\n"
     ]
    },
    {
     "name": "stderr",
     "output_type": "stream",
     "text": [
      "/tmp/ipykernel_13654/829001706.py:6: FutureWarning: suggest_loguniform has been deprecated in v3.0.0. This feature will be removed in v6.0.0. See https://github.com/optuna/optuna/releases/tag/v3.0.0. Use suggest_float(..., log=True) instead.\n",
      "  'lambda': trail.suggest_loguniform('lambda', 1e-10, 1e-4), # lambda uses L2 regularization\n",
      "/tmp/ipykernel_13654/829001706.py:7: FutureWarning: suggest_loguniform has been deprecated in v3.0.0. This feature will be removed in v6.0.0. See https://github.com/optuna/optuna/releases/tag/v3.0.0. Use suggest_float(..., log=True) instead.\n",
      "  'alpha': trail.suggest_loguniform('alpha', 1e-10, 1e-4),\n"
     ]
    },
    {
     "name": "stdout",
     "output_type": "stream",
     "text": [
      "[18:05:27] ======== Monitor (0): HostSketchContainer ========\n",
      "[18:05:27] AllReduce: 0.000779s, 1 calls @ 779us\n",
      "\n",
      "[18:05:27] MakeCuts: 0.009575s, 1 calls @ 9575us\n",
      "\n",
      "[18:05:27] DEBUG: /workspace/src/gbm/gbtree.cc:130: Using tree method: 3\n",
      "[0]\tvalidation_0-rmse:56.72358\n"
     ]
    },
    {
     "name": "stderr",
     "output_type": "stream",
     "text": [
      "/home/aazzioui/Documents/WS/TIMSS-2019_student_score_prediction/env/lib/python3.11/site-packages/xgboost/core.py:160: UserWarning: [18:05:27] WARNING: /workspace/src/learner.cc:742: \n",
      "Parameters: { \"n_estimator\" } are not used.\n",
      "\n",
      "  warnings.warn(smsg, UserWarning)\n",
      "[I 2023-11-06 18:05:28,148] Trial 42 finished with value: 3217.5641720682884 and parameters: {'lambda': 2.3385580497252395e-06, 'alpha': 1.7163781142558537e-08, 'colsample_bytree': 0.9, 'subsample': 0.8, 'learning_rate': 1, 'max_depth': 8, 'random_state': 10, 'min_child_weight': 22}. Best is trial 42 with value: 3217.5641720682884.\n"
     ]
    },
    {
     "name": "stdout",
     "output_type": "stream",
     "text": [
      "[18:05:28] ======== Monitor (0): Learner ========\n",
      "[18:05:28] Configure: 0.000904s, 1 calls @ 904us\n",
      "\n",
      "[18:05:28] EvalOneIter: 0.000814s, 1 calls @ 814us\n",
      "\n",
      "[18:05:28] GetGradient: 6e-06s, 1 calls @ 6us\n",
      "\n",
      "[18:05:28] PredictRaw: 3e-06s, 1 calls @ 3us\n",
      "\n",
      "[18:05:28] UpdateOneIter: 0.107877s, 1 calls @ 107877us\n",
      "\n",
      "[18:05:28] ======== Monitor (0): GBTree ========\n",
      "[18:05:28] BoostNewTrees: 0.106768s, 1 calls @ 106768us\n",
      "\n",
      "[18:05:28] CommitModel: 4e-06s, 1 calls @ 4us\n",
      "\n",
      "[18:05:28] ======== Monitor (0): HistUpdater ========\n",
      "[18:05:28] BuildHistogram: 0.025861s, 687 calls @ 25861us\n",
      "\n",
      "[18:05:28] EvaluateSplits: 0.021006s, 787 calls @ 21006us\n",
      "\n",
      "[18:05:28] InitData: 0.001541s, 100 calls @ 1541us\n",
      "\n",
      "[18:05:28] InitRoot: 0.003357s, 100 calls @ 3357us\n",
      "\n",
      "[18:05:28] LeafPartition: 2.1e-05s, 100 calls @ 21us\n",
      "\n",
      "[18:05:28] UpdatePosition: 0.049805s, 728 calls @ 49805us\n",
      "\n",
      "[18:05:28] UpdateTree: 0.103828s, 100 calls @ 103828us\n",
      "\n",
      "[18:05:28] DEBUG: /workspace/src/gbm/gbtree.cc:130: Using tree method: 3\n"
     ]
    },
    {
     "name": "stderr",
     "output_type": "stream",
     "text": [
      "/tmp/ipykernel_13654/829001706.py:6: FutureWarning: suggest_loguniform has been deprecated in v3.0.0. This feature will be removed in v6.0.0. See https://github.com/optuna/optuna/releases/tag/v3.0.0. Use suggest_float(..., log=True) instead.\n",
      "  'lambda': trail.suggest_loguniform('lambda', 1e-10, 1e-4), # lambda uses L2 regularization\n",
      "/tmp/ipykernel_13654/829001706.py:7: FutureWarning: suggest_loguniform has been deprecated in v3.0.0. This feature will be removed in v6.0.0. See https://github.com/optuna/optuna/releases/tag/v3.0.0. Use suggest_float(..., log=True) instead.\n",
      "  'alpha': trail.suggest_loguniform('alpha', 1e-10, 1e-4),\n",
      "/home/aazzioui/Documents/WS/TIMSS-2019_student_score_prediction/env/lib/python3.11/site-packages/xgboost/core.py:160: UserWarning: [18:05:28] WARNING: /workspace/src/learner.cc:742: \n",
      "Parameters: { \"n_estimator\" } are not used.\n",
      "\n",
      "  warnings.warn(smsg, UserWarning)\n"
     ]
    },
    {
     "name": "stdout",
     "output_type": "stream",
     "text": [
      "[18:05:28] ======== Monitor (0): HostSketchContainer ========\n",
      "[18:05:28] AllReduce: 0.010104s, 1 calls @ 10104us\n",
      "\n",
      "[18:05:28] MakeCuts: 0.010126s, 1 calls @ 10126us\n",
      "\n",
      "[18:05:28] DEBUG: /workspace/src/gbm/gbtree.cc:130: Using tree method: 3\n",
      "[0]\tvalidation_0-rmse:56.74327\n",
      "[18:05:28] ======== Monitor (0): Learner ========\n",
      "[18:05:28] Configure: 0.000871s, 1 calls @ 871us\n",
      "\n",
      "[18:05:28] EvalOneIter: 0.000809s, 1 calls @ 809us\n",
      "\n",
      "[18:05:28] GetGradient: 6e-06s, 1 calls @ 6us\n",
      "\n",
      "[18:05:28] PredictRaw: 2e-06s, 1 calls @ 2us\n",
      "\n",
      "[18:05:28] UpdateOneIter: 0.133531s, 1 calls @ 133531us\n",
      "\n",
      "[18:05:28] ======== Monitor (0): GBTree ========\n",
      "[18:05:28] BoostNewTrees: 0.132458s, 1 calls @ 132458us\n",
      "\n",
      "[18:05:28] CommitModel: 3e-06s, 1 calls @ 3us\n",
      "\n",
      "[18:05:28] ======== Monitor (0): HistUpdater ========\n",
      "[18:05:28] BuildHistogram: 0.036638s, 700 calls @ 36638us\n",
      "\n",
      "[18:05:28] EvaluateSplits: 0.032208s, 800 calls @ 32208us\n",
      "\n",
      "[18:05:28] InitData: 0.001652s, 100 calls @ 1652us\n",
      "\n",
      "[18:05:28] InitRoot: 0.0048s, 100 calls @ 4800us\n",
      "\n",
      "[18:05:28] LeafPartition: 2.2e-05s, 100 calls @ 22us\n",
      "\n",
      "[18:05:28] UpdatePosition: 0.052241s, 790 calls @ 52241us\n",
      "\n",
      "[18:05:28] UpdateTree: 0.129424s, 100 calls @ 129424us\n",
      "\n",
      "[18:05:28] DEBUG: /workspace/src/gbm/gbtree.cc:130: Using tree method: 3\n"
     ]
    },
    {
     "name": "stderr",
     "output_type": "stream",
     "text": [
      "[I 2023-11-06 18:05:28,537] Trial 43 finished with value: 3219.798411011833 and parameters: {'lambda': 3.1574293757955664e-06, 'alpha': 6.908525573610912e-08, 'colsample_bytree': 0.9, 'subsample': 0.8, 'learning_rate': 1, 'max_depth': 8, 'random_state': 10, 'min_child_weight': 15}. Best is trial 42 with value: 3217.5641720682884.\n"
     ]
    },
    {
     "name": "stdout",
     "output_type": "stream",
     "text": [
      "[18:05:28] ======== Monitor (0): HostSketchContainer ========\n",
      "[18:05:28] AllReduce: 6e-06s, 1 calls @ 6us\n",
      "\n",
      "[18:05:28] MakeCuts: 1.6e-05s, 1 calls @ 16us\n",
      "\n",
      "[18:05:28] DEBUG: /workspace/src/gbm/gbtree.cc:130: Using tree method: 3\n"
     ]
    },
    {
     "name": "stderr",
     "output_type": "stream",
     "text": [
      "/tmp/ipykernel_13654/829001706.py:6: FutureWarning: suggest_loguniform has been deprecated in v3.0.0. This feature will be removed in v6.0.0. See https://github.com/optuna/optuna/releases/tag/v3.0.0. Use suggest_float(..., log=True) instead.\n",
      "  'lambda': trail.suggest_loguniform('lambda', 1e-10, 1e-4), # lambda uses L2 regularization\n",
      "/tmp/ipykernel_13654/829001706.py:7: FutureWarning: suggest_loguniform has been deprecated in v3.0.0. This feature will be removed in v6.0.0. See https://github.com/optuna/optuna/releases/tag/v3.0.0. Use suggest_float(..., log=True) instead.\n",
      "  'alpha': trail.suggest_loguniform('alpha', 1e-10, 1e-4),\n",
      "/home/aazzioui/Documents/WS/TIMSS-2019_student_score_prediction/env/lib/python3.11/site-packages/xgboost/core.py:160: UserWarning: [18:05:28] WARNING: /workspace/src/learner.cc:742: \n",
      "Parameters: { \"n_estimator\" } are not used.\n",
      "\n",
      "  warnings.warn(smsg, UserWarning)\n"
     ]
    },
    {
     "name": "stdout",
     "output_type": "stream",
     "text": [
      "[0]\tvalidation_0-rmse:62.86867\n"
     ]
    },
    {
     "name": "stderr",
     "output_type": "stream",
     "text": [
      "[I 2023-11-06 18:05:29,329] Trial 44 finished with value: 3952.469195077951 and parameters: {'lambda': 1.7542140577025318e-06, 'alpha': 6.261556733087112e-08, 'colsample_bytree': 0.9, 'subsample': 0.8, 'learning_rate': 0.004, 'max_depth': 8, 'random_state': 10, 'min_child_weight': 15}. Best is trial 42 with value: 3217.5641720682884.\n"
     ]
    },
    {
     "name": "stdout",
     "output_type": "stream",
     "text": [
      "[18:05:29] ======== Monitor (0): Learner ========\n",
      "[18:05:29] Configure: 0.002857s, 1 calls @ 2857us\n",
      "\n",
      "[18:05:29] EvalOneIter: 0.000797s, 1 calls @ 797us\n",
      "\n",
      "[18:05:29] GetGradient: 9e-06s, 1 calls @ 9us\n",
      "\n",
      "[18:05:29] PredictRaw: 5e-06s, 1 calls @ 5us\n",
      "\n",
      "[18:05:29] UpdateOneIter: 0.611849s, 1 calls @ 611849us\n",
      "\n",
      "[18:05:29] ======== Monitor (0): GBTree ========\n",
      "[18:05:29] BoostNewTrees: 0.603467s, 1 calls @ 603467us\n",
      "\n",
      "[18:05:29] CommitModel: 2e-06s, 1 calls @ 2us\n",
      "\n",
      "[18:05:29] ======== Monitor (0): HistUpdater ========\n",
      "[18:05:29] BuildHistogram: 0.21593s, 700 calls @ 215930us\n",
      "\n",
      "[18:05:29] EvaluateSplits: 0.120644s, 800 calls @ 120644us\n",
      "\n",
      "[18:05:29] InitData: 0.030965s, 100 calls @ 30965us\n",
      "\n",
      "[18:05:29] InitRoot: 0.020071s, 100 calls @ 20071us\n",
      "\n",
      "[18:05:29] LeafPartition: 2.4e-05s, 100 calls @ 24us\n",
      "\n",
      "[18:05:29] UpdatePosition: 0.196923s, 790 calls @ 196923us\n",
      "\n",
      "[18:05:29] UpdateTree: 0.588426s, 100 calls @ 588426us\n",
      "\n",
      "[18:05:29] DEBUG: /workspace/src/gbm/gbtree.cc:130: Using tree method: 3\n"
     ]
    },
    {
     "name": "stderr",
     "output_type": "stream",
     "text": [
      "/tmp/ipykernel_13654/829001706.py:6: FutureWarning: suggest_loguniform has been deprecated in v3.0.0. This feature will be removed in v6.0.0. See https://github.com/optuna/optuna/releases/tag/v3.0.0. Use suggest_float(..., log=True) instead.\n",
      "  'lambda': trail.suggest_loguniform('lambda', 1e-10, 1e-4), # lambda uses L2 regularization\n",
      "/tmp/ipykernel_13654/829001706.py:7: FutureWarning: suggest_loguniform has been deprecated in v3.0.0. This feature will be removed in v6.0.0. See https://github.com/optuna/optuna/releases/tag/v3.0.0. Use suggest_float(..., log=True) instead.\n",
      "  'alpha': trail.suggest_loguniform('alpha', 1e-10, 1e-4),\n"
     ]
    },
    {
     "name": "stdout",
     "output_type": "stream",
     "text": [
      "[18:05:29] ======== Monitor (0): HostSketchContainer ========\n",
      "[18:05:29] AllReduce: 0.013473s, 1 calls @ 13473us\n",
      "\n",
      "[18:05:29] MakeCuts: 0.037476s, 1 calls @ 37476us\n",
      "\n",
      "[18:05:29] DEBUG: /workspace/src/gbm/gbtree.cc:130: Using tree method: 3\n",
      "[0]\tvalidation_0-rmse:56.72358\n"
     ]
    },
    {
     "name": "stderr",
     "output_type": "stream",
     "text": [
      "/home/aazzioui/Documents/WS/TIMSS-2019_student_score_prediction/env/lib/python3.11/site-packages/xgboost/core.py:160: UserWarning: [18:05:29] WARNING: /workspace/src/learner.cc:742: \n",
      "Parameters: { \"n_estimator\" } are not used.\n",
      "\n",
      "  warnings.warn(smsg, UserWarning)\n",
      "[I 2023-11-06 18:05:29,867] Trial 45 finished with value: 3217.5641720682884 and parameters: {'lambda': 2.096720679009538e-05, 'alpha': 1.0657465026230079e-07, 'colsample_bytree': 0.9, 'subsample': 0.8, 'learning_rate': 1, 'max_depth': 8, 'random_state': 10, 'min_child_weight': 22}. Best is trial 42 with value: 3217.5641720682884.\n"
     ]
    },
    {
     "name": "stdout",
     "output_type": "stream",
     "text": [
      "[18:05:29] ======== Monitor (0): Learner ========\n",
      "[18:05:29] Configure: 0.000946s, 1 calls @ 946us\n",
      "\n",
      "[18:05:29] EvalOneIter: 0.000881s, 1 calls @ 881us\n",
      "\n",
      "[18:05:29] GetGradient: 7e-06s, 1 calls @ 7us\n",
      "\n",
      "[18:05:29] PredictRaw: 2e-06s, 1 calls @ 2us\n",
      "\n",
      "[18:05:29] UpdateOneIter: 0.083588s, 1 calls @ 83588us\n",
      "\n",
      "[18:05:29] ======== Monitor (0): GBTree ========\n",
      "[18:05:29] BoostNewTrees: 0.079961s, 1 calls @ 79961us\n",
      "\n",
      "[18:05:29] CommitModel: 3e-06s, 1 calls @ 3us\n",
      "\n",
      "[18:05:29] ======== Monitor (0): HistUpdater ========\n",
      "[18:05:29] BuildHistogram: 0.0145s, 687 calls @ 14500us\n",
      "\n",
      "[18:05:29] EvaluateSplits: 0.029324s, 787 calls @ 29324us\n",
      "\n",
      "[18:05:29] InitData: 0.001394s, 100 calls @ 1394us\n",
      "\n",
      "[18:05:29] InitRoot: 0.003s, 100 calls @ 3000us\n",
      "\n",
      "[18:05:29] LeafPartition: 2.2e-05s, 100 calls @ 22us\n",
      "\n",
      "[18:05:29] UpdatePosition: 0.026831s, 728 calls @ 26831us\n",
      "\n",
      "[18:05:29] UpdateTree: 0.077516s, 100 calls @ 77516us\n",
      "\n",
      "[18:05:29] DEBUG: /workspace/src/gbm/gbtree.cc:130: Using tree method: 3\n"
     ]
    },
    {
     "name": "stderr",
     "output_type": "stream",
     "text": [
      "/tmp/ipykernel_13654/829001706.py:6: FutureWarning: suggest_loguniform has been deprecated in v3.0.0. This feature will be removed in v6.0.0. See https://github.com/optuna/optuna/releases/tag/v3.0.0. Use suggest_float(..., log=True) instead.\n",
      "  'lambda': trail.suggest_loguniform('lambda', 1e-10, 1e-4), # lambda uses L2 regularization\n",
      "/tmp/ipykernel_13654/829001706.py:7: FutureWarning: suggest_loguniform has been deprecated in v3.0.0. This feature will be removed in v6.0.0. See https://github.com/optuna/optuna/releases/tag/v3.0.0. Use suggest_float(..., log=True) instead.\n",
      "  'alpha': trail.suggest_loguniform('alpha', 1e-10, 1e-4),\n"
     ]
    },
    {
     "name": "stdout",
     "output_type": "stream",
     "text": [
      "[18:05:30] ======== Monitor (0): HostSketchContainer ========\n",
      "[18:05:30] AllReduce: 0.002444s, 1 calls @ 2444us\n",
      "\n",
      "[18:05:30] MakeCuts: 0.007645s, 1 calls @ 7645us\n",
      "\n",
      "[18:05:30] DEBUG: /workspace/src/gbm/gbtree.cc:130: Using tree method: 3\n"
     ]
    },
    {
     "name": "stderr",
     "output_type": "stream",
     "text": [
      "/home/aazzioui/Documents/WS/TIMSS-2019_student_score_prediction/env/lib/python3.11/site-packages/xgboost/core.py:160: UserWarning: [18:05:30] WARNING: /workspace/src/learner.cc:742: \n",
      "Parameters: { \"n_estimator\" } are not used.\n",
      "\n",
      "  warnings.warn(smsg, UserWarning)\n"
     ]
    },
    {
     "name": "stdout",
     "output_type": "stream",
     "text": [
      "[0]\tvalidation_0-rmse:57.00292\n"
     ]
    },
    {
     "name": "stderr",
     "output_type": "stream",
     "text": [
      "[I 2023-11-06 18:05:30,664] Trial 46 finished with value: 3249.3328092239203 and parameters: {'lambda': 2.8640202642428672e-05, 'alpha': 1.3956047169243067e-07, 'colsample_bytree': 0.9, 'subsample': 0.8, 'learning_rate': 1, 'max_depth': 8, 'random_state': 10, 'min_child_weight': 1}. Best is trial 42 with value: 3217.5641720682884.\n"
     ]
    },
    {
     "name": "stdout",
     "output_type": "stream",
     "text": [
      "[18:05:30] ======== Monitor (0): Learner ========\n",
      "[18:05:30] Configure: 0.00087s, 1 calls @ 870us\n",
      "\n",
      "[18:05:30] EvalOneIter: 0.003076s, 1 calls @ 3076us\n",
      "\n",
      "[18:05:30] GetGradient: 6e-06s, 1 calls @ 6us\n",
      "\n",
      "[18:05:30] PredictRaw: 2e-06s, 1 calls @ 2us\n",
      "\n",
      "[18:05:30] UpdateOneIter: 0.415111s, 1 calls @ 415111us\n",
      "\n",
      "[18:05:30] ======== Monitor (0): GBTree ========\n",
      "[18:05:30] BoostNewTrees: 0.414044s, 1 calls @ 414044us\n",
      "\n",
      "[18:05:30] CommitModel: 3e-06s, 1 calls @ 3us\n",
      "\n",
      "[18:05:30] ======== Monitor (0): HistUpdater ========\n",
      "[18:05:30] BuildHistogram: 0.085248s, 700 calls @ 85248us\n",
      "\n",
      "[18:05:30] EvaluateSplits: 0.129514s, 800 calls @ 129514us\n",
      "\n",
      "[18:05:30] InitData: 0.004103s, 100 calls @ 4103us\n",
      "\n",
      "[18:05:30] InitRoot: 0.04237s, 100 calls @ 42370us\n",
      "\n",
      "[18:05:30] LeafPartition: 2.8e-05s, 100 calls @ 28us\n",
      "\n",
      "[18:05:30] UpdatePosition: 0.130491s, 800 calls @ 130491us\n",
      "\n",
      "[18:05:30] UpdateTree: 0.408137s, 100 calls @ 408137us\n",
      "\n",
      "[18:05:30] DEBUG: /workspace/src/gbm/gbtree.cc:130: Using tree method: 3\n",
      "[18:05:30] ======== Monitor (0): HostSketchContainer ========\n",
      "[18:05:30] AllReduce: 6e-06s, 1 calls @ 6us\n",
      "\n",
      "[18:05:30] MakeCuts: 1.7e-05s, 1 calls @ 17us\n",
      "\n",
      "[18:05:30] DEBUG: /workspace/src/gbm/gbtree.cc:130: Using tree method: 3\n"
     ]
    },
    {
     "name": "stderr",
     "output_type": "stream",
     "text": [
      "/tmp/ipykernel_13654/829001706.py:6: FutureWarning: suggest_loguniform has been deprecated in v3.0.0. This feature will be removed in v6.0.0. See https://github.com/optuna/optuna/releases/tag/v3.0.0. Use suggest_float(..., log=True) instead.\n",
      "  'lambda': trail.suggest_loguniform('lambda', 1e-10, 1e-4), # lambda uses L2 regularization\n",
      "/tmp/ipykernel_13654/829001706.py:7: FutureWarning: suggest_loguniform has been deprecated in v3.0.0. This feature will be removed in v6.0.0. See https://github.com/optuna/optuna/releases/tag/v3.0.0. Use suggest_float(..., log=True) instead.\n",
      "  'alpha': trail.suggest_loguniform('alpha', 1e-10, 1e-4),\n",
      "/home/aazzioui/Documents/WS/TIMSS-2019_student_score_prediction/env/lib/python3.11/site-packages/xgboost/core.py:160: UserWarning: [18:05:30] WARNING: /workspace/src/learner.cc:742: \n",
      "Parameters: { \"n_estimator\" } are not used.\n",
      "\n",
      "  warnings.warn(smsg, UserWarning)\n"
     ]
    },
    {
     "name": "stdout",
     "output_type": "stream",
     "text": [
      "[0]\tvalidation_0-rmse:105.68643\n"
     ]
    },
    {
     "name": "stderr",
     "output_type": "stream",
     "text": [
      "[I 2023-11-06 18:05:31,084] Trial 47 finished with value: 11169.621133911032 and parameters: {'lambda': 2.6752658443762774e-05, 'alpha': 1.3988180293269768e-07, 'colsample_bytree': 0.3, 'subsample': 0.4, 'learning_rate': 10, 'max_depth': 8, 'random_state': 10, 'min_child_weight': 2}. Best is trial 42 with value: 3217.5641720682884.\n"
     ]
    },
    {
     "name": "stdout",
     "output_type": "stream",
     "text": [
      "[18:05:31] ======== Monitor (0): Learner ========\n",
      "[18:05:31] Configure: 0.000836s, 1 calls @ 836us\n",
      "\n",
      "[18:05:31] EvalOneIter: 0.000717s, 1 calls @ 717us\n",
      "\n",
      "[18:05:31] GetGradient: 6e-06s, 1 calls @ 6us\n",
      "\n",
      "[18:05:31] PredictRaw: 2e-06s, 1 calls @ 2us\n",
      "\n",
      "[18:05:31] UpdateOneIter: 0.2644s, 1 calls @ 264400us\n",
      "\n",
      "[18:05:31] ======== Monitor (0): GBTree ========\n",
      "[18:05:31] BoostNewTrees: 0.263475s, 1 calls @ 263475us\n",
      "\n",
      "[18:05:31] CommitModel: 3e-06s, 1 calls @ 3us\n",
      "\n",
      "[18:05:31] ======== Monitor (0): HistUpdater ========\n",
      "[18:05:31] BuildHistogram: 0.063771s, 668 calls @ 63771us\n",
      "\n",
      "[18:05:31] EvaluateSplits: 0.03551s, 768 calls @ 35510us\n",
      "\n",
      "[18:05:31] InitData: 0.00942s, 100 calls @ 9420us\n",
      "\n",
      "[18:05:31] InitRoot: 0.016147s, 100 calls @ 16147us\n",
      "\n",
      "[18:05:31] LeafPartition: 2.4e-05s, 100 calls @ 24us\n",
      "\n",
      "[18:05:31] UpdatePosition: 0.124291s, 691 calls @ 124291us\n",
      "\n",
      "[18:05:31] UpdateTree: 0.253271s, 100 calls @ 253271us\n",
      "\n",
      "[18:05:31] DEBUG: /workspace/src/gbm/gbtree.cc:130: Using tree method: 3\n"
     ]
    },
    {
     "name": "stderr",
     "output_type": "stream",
     "text": [
      "/tmp/ipykernel_13654/829001706.py:6: FutureWarning: suggest_loguniform has been deprecated in v3.0.0. This feature will be removed in v6.0.0. See https://github.com/optuna/optuna/releases/tag/v3.0.0. Use suggest_float(..., log=True) instead.\n",
      "  'lambda': trail.suggest_loguniform('lambda', 1e-10, 1e-4), # lambda uses L2 regularization\n",
      "/tmp/ipykernel_13654/829001706.py:7: FutureWarning: suggest_loguniform has been deprecated in v3.0.0. This feature will be removed in v6.0.0. See https://github.com/optuna/optuna/releases/tag/v3.0.0. Use suggest_float(..., log=True) instead.\n",
      "  'alpha': trail.suggest_loguniform('alpha', 1e-10, 1e-4),\n"
     ]
    },
    {
     "name": "stdout",
     "output_type": "stream",
     "text": [
      "[18:05:31] ======== Monitor (0): HostSketchContainer ========\n",
      "[18:05:31] AllReduce: 0.010639s, 1 calls @ 10639us\n",
      "\n",
      "[18:05:31] MakeCuts: 0.014182s, 1 calls @ 14182us\n",
      "\n",
      "[18:05:31] DEBUG: /workspace/src/gbm/gbtree.cc:130: Using tree method: 3\n"
     ]
    },
    {
     "name": "stderr",
     "output_type": "stream",
     "text": [
      "/home/aazzioui/Documents/WS/TIMSS-2019_student_score_prediction/env/lib/python3.11/site-packages/xgboost/core.py:160: UserWarning: [18:05:31] WARNING: /workspace/src/learner.cc:742: \n",
      "Parameters: { \"n_estimator\" } are not used.\n",
      "\n",
      "  warnings.warn(smsg, UserWarning)\n"
     ]
    },
    {
     "name": "stdout",
     "output_type": "stream",
     "text": [
      "[0]\tvalidation_0-rmse:56.67629\n"
     ]
    },
    {
     "name": "stderr",
     "output_type": "stream",
     "text": [
      "[I 2023-11-06 18:05:31,946] Trial 48 finished with value: 3212.201303442292 and parameters: {'lambda': 1.8976825865078828e-05, 'alpha': 1.3215429864140456e-07, 'colsample_bytree': 0.9, 'subsample': 0.8, 'learning_rate': 1, 'max_depth': 8, 'random_state': 10, 'min_child_weight': 21}. Best is trial 48 with value: 3212.201303442292.\n"
     ]
    },
    {
     "name": "stdout",
     "output_type": "stream",
     "text": [
      "[18:05:31] ======== Monitor (0): Learner ========\n",
      "[18:05:31] Configure: 0.00296s, 1 calls @ 2960us\n",
      "\n",
      "[18:05:31] EvalOneIter: 0.00076s, 1 calls @ 760us\n",
      "\n",
      "[18:05:31] GetGradient: 1.3e-05s, 1 calls @ 13us\n",
      "\n",
      "[18:05:31] PredictRaw: 4e-06s, 1 calls @ 4us\n",
      "\n",
      "[18:05:31] UpdateOneIter: 0.315717s, 1 calls @ 315717us\n",
      "\n",
      "[18:05:31] ======== Monitor (0): GBTree ========\n",
      "[18:05:31] BoostNewTrees: 0.25878s, 1 calls @ 258780us\n",
      "\n",
      "[18:05:31] CommitModel: 3e-06s, 1 calls @ 3us\n",
      "\n",
      "[18:05:31] ======== Monitor (0): HistUpdater ========\n",
      "[18:05:31] BuildHistogram: 0.076584s, 690 calls @ 76584us\n",
      "\n",
      "[18:05:31] EvaluateSplits: 0.063971s, 790 calls @ 63971us\n",
      "\n",
      "[18:05:31] InitData: 0.014579s, 100 calls @ 14579us\n",
      "\n",
      "[18:05:31] InitRoot: 0.007944s, 100 calls @ 7944us\n",
      "\n",
      "[18:05:31] LeafPartition: 2.2e-05s, 100 calls @ 22us\n",
      "\n",
      "[18:05:31] UpdatePosition: 0.070502s, 743 calls @ 70502us\n",
      "\n",
      "[18:05:31] UpdateTree: 0.235201s, 100 calls @ 235201us\n",
      "\n",
      "[18:05:31] DEBUG: /workspace/src/gbm/gbtree.cc:130: Using tree method: 3\n"
     ]
    },
    {
     "name": "stderr",
     "output_type": "stream",
     "text": [
      "/tmp/ipykernel_13654/829001706.py:6: FutureWarning: suggest_loguniform has been deprecated in v3.0.0. This feature will be removed in v6.0.0. See https://github.com/optuna/optuna/releases/tag/v3.0.0. Use suggest_float(..., log=True) instead.\n",
      "  'lambda': trail.suggest_loguniform('lambda', 1e-10, 1e-4), # lambda uses L2 regularization\n",
      "/tmp/ipykernel_13654/829001706.py:7: FutureWarning: suggest_loguniform has been deprecated in v3.0.0. This feature will be removed in v6.0.0. See https://github.com/optuna/optuna/releases/tag/v3.0.0. Use suggest_float(..., log=True) instead.\n",
      "  'alpha': trail.suggest_loguniform('alpha', 1e-10, 1e-4),\n"
     ]
    },
    {
     "name": "stdout",
     "output_type": "stream",
     "text": [
      "[18:05:32] ======== Monitor (0): HostSketchContainer ========\n",
      "[18:05:32] AllReduce: 0.022531s, 1 calls @ 22531us\n",
      "\n",
      "[18:05:32] MakeCuts: 0.044525s, 1 calls @ 44525us\n",
      "\n",
      "[18:05:32] DEBUG: /workspace/src/gbm/gbtree.cc:130: Using tree method: 3\n",
      "[0]\tvalidation_0-rmse:61.74029\n"
     ]
    },
    {
     "name": "stderr",
     "output_type": "stream",
     "text": [
      "/home/aazzioui/Documents/WS/TIMSS-2019_student_score_prediction/env/lib/python3.11/site-packages/xgboost/core.py:160: UserWarning: [18:05:32] WARNING: /workspace/src/learner.cc:742: \n",
      "Parameters: { \"n_estimator\" } are not used.\n",
      "\n",
      "  warnings.warn(smsg, UserWarning)\n",
      "[I 2023-11-06 18:05:32,513] Trial 49 finished with value: 3811.8637697724953 and parameters: {'lambda': 2.1074183918641434e-05, 'alpha': 1.5929858811712572e-07, 'colsample_bytree': 0.2, 'subsample': 0.8, 'learning_rate': 0.5, 'max_depth': 8, 'random_state': 10, 'min_child_weight': 15}. Best is trial 48 with value: 3212.201303442292.\n"
     ]
    },
    {
     "name": "stdout",
     "output_type": "stream",
     "text": [
      "[18:05:32] ======== Monitor (0): Learner ========\n",
      "[18:05:32] Configure: 0.001021s, 1 calls @ 1021us\n",
      "\n",
      "[18:05:32] EvalOneIter: 0.001555s, 1 calls @ 1555us\n",
      "\n",
      "[18:05:32] GetGradient: 6e-06s, 1 calls @ 6us\n",
      "\n",
      "[18:05:32] PredictRaw: 2e-06s, 1 calls @ 2us\n",
      "\n",
      "[18:05:32] UpdateOneIter: 0.132587s, 1 calls @ 132587us\n",
      "\n",
      "[18:05:32] ======== Monitor (0): GBTree ========\n",
      "[18:05:32] BoostNewTrees: 0.131468s, 1 calls @ 131468us\n",
      "\n",
      "[18:05:32] CommitModel: 3e-06s, 1 calls @ 3us\n",
      "\n",
      "[18:05:32] ======== Monitor (0): HistUpdater ========\n",
      "[18:05:32] BuildHistogram: 0.043562s, 367 calls @ 43562us\n",
      "\n",
      "[18:05:32] EvaluateSplits: 0.0173s, 467 calls @ 17300us\n",
      "\n",
      "[18:05:32] InitData: 0.009861s, 100 calls @ 9861us\n",
      "\n",
      "[18:05:32] InitRoot: 0.008289s, 100 calls @ 8289us\n",
      "\n",
      "[18:05:32] LeafPartition: 1.7e-05s, 100 calls @ 17us\n",
      "\n",
      "[18:05:32] UpdatePosition: 0.049439s, 367 calls @ 49439us\n",
      "\n",
      "[18:05:32] UpdateTree: 0.128978s, 100 calls @ 128978us\n",
      "\n",
      "[18:05:32] DEBUG: /workspace/src/gbm/gbtree.cc:130: Using tree method: 3\n"
     ]
    },
    {
     "name": "stderr",
     "output_type": "stream",
     "text": [
      "/tmp/ipykernel_13654/829001706.py:6: FutureWarning: suggest_loguniform has been deprecated in v3.0.0. This feature will be removed in v6.0.0. See https://github.com/optuna/optuna/releases/tag/v3.0.0. Use suggest_float(..., log=True) instead.\n",
      "  'lambda': trail.suggest_loguniform('lambda', 1e-10, 1e-4), # lambda uses L2 regularization\n",
      "/tmp/ipykernel_13654/829001706.py:7: FutureWarning: suggest_loguniform has been deprecated in v3.0.0. This feature will be removed in v6.0.0. See https://github.com/optuna/optuna/releases/tag/v3.0.0. Use suggest_float(..., log=True) instead.\n",
      "  'alpha': trail.suggest_loguniform('alpha', 1e-10, 1e-4),\n"
     ]
    },
    {
     "name": "stdout",
     "output_type": "stream",
     "text": [
      "[18:05:32] ======== Monitor (0): HostSketchContainer ========\n",
      "[18:05:32] AllReduce: 0.016359s, 1 calls @ 16359us\n",
      "\n",
      "[18:05:32] MakeCuts: 0.03882s, 1 calls @ 38820us\n",
      "\n",
      "[18:05:32] DEBUG: /workspace/src/gbm/gbtree.cc:130: Using tree method: 3\n",
      "[0]\tvalidation_0-rmse:62.88213\n"
     ]
    },
    {
     "name": "stderr",
     "output_type": "stream",
     "text": [
      "/home/aazzioui/Documents/WS/TIMSS-2019_student_score_prediction/env/lib/python3.11/site-packages/xgboost/core.py:160: UserWarning: [18:05:32] WARNING: /workspace/src/learner.cc:742: \n",
      "Parameters: { \"n_estimator\" } are not used.\n",
      "\n",
      "  warnings.warn(smsg, UserWarning)\n",
      "[I 2023-11-06 18:05:32,944] Trial 50 finished with value: 3954.162517752158 and parameters: {'lambda': 6.021086713897928e-05, 'alpha': 2.75138732773336e-07, 'colsample_bytree': 0.1, 'subsample': 0.6, 'learning_rate': 0.02, 'max_depth': 8, 'random_state': 10, 'min_child_weight': 25}. Best is trial 48 with value: 3212.201303442292.\n"
     ]
    },
    {
     "name": "stdout",
     "output_type": "stream",
     "text": [
      "[18:05:32] ======== Monitor (0): Learner ========\n",
      "[18:05:32] Configure: 0.000892s, 1 calls @ 892us\n",
      "\n",
      "[18:05:32] EvalOneIter: 0.000309s, 1 calls @ 309us\n",
      "\n",
      "[18:05:32] GetGradient: 7e-06s, 1 calls @ 7us\n",
      "\n",
      "[18:05:32] PredictRaw: 2e-06s, 1 calls @ 2us\n",
      "\n",
      "[18:05:32] UpdateOneIter: 0.049632s, 1 calls @ 49632us\n",
      "\n",
      "[18:05:32] ======== Monitor (0): GBTree ========\n",
      "[18:05:32] BoostNewTrees: 0.048539s, 1 calls @ 48539us\n",
      "\n",
      "[18:05:32] CommitModel: 3e-06s, 1 calls @ 3us\n",
      "\n",
      "[18:05:32] ======== Monitor (0): HistUpdater ========\n",
      "[18:05:32] BuildHistogram: 0.01444s, 240 calls @ 14440us\n",
      "\n",
      "[18:05:32] EvaluateSplits: 0.003111s, 340 calls @ 3111us\n",
      "\n",
      "[18:05:32] InitData: 0.00102s, 100 calls @ 1020us\n",
      "\n",
      "[18:05:32] InitRoot: 0.002412s, 100 calls @ 2412us\n",
      "\n",
      "[18:05:32] LeafPartition: 1.7e-05s, 100 calls @ 17us\n",
      "\n",
      "[18:05:32] UpdatePosition: 0.016643s, 240 calls @ 16643us\n",
      "\n",
      "[18:05:32] UpdateTree: 0.046143s, 100 calls @ 46143us\n",
      "\n",
      "[18:05:32] DEBUG: /workspace/src/gbm/gbtree.cc:130: Using tree method: 3\n"
     ]
    },
    {
     "name": "stderr",
     "output_type": "stream",
     "text": [
      "/tmp/ipykernel_13654/829001706.py:6: FutureWarning: suggest_loguniform has been deprecated in v3.0.0. This feature will be removed in v6.0.0. See https://github.com/optuna/optuna/releases/tag/v3.0.0. Use suggest_float(..., log=True) instead.\n",
      "  'lambda': trail.suggest_loguniform('lambda', 1e-10, 1e-4), # lambda uses L2 regularization\n",
      "/tmp/ipykernel_13654/829001706.py:7: FutureWarning: suggest_loguniform has been deprecated in v3.0.0. This feature will be removed in v6.0.0. See https://github.com/optuna/optuna/releases/tag/v3.0.0. Use suggest_float(..., log=True) instead.\n",
      "  'alpha': trail.suggest_loguniform('alpha', 1e-10, 1e-4),\n"
     ]
    },
    {
     "name": "stdout",
     "output_type": "stream",
     "text": [
      "[18:05:33] ======== Monitor (0): HostSketchContainer ========\n",
      "[18:05:33] AllReduce: 6e-06s, 1 calls @ 6us\n",
      "\n",
      "[18:05:33] MakeCuts: 1.8e-05s, 1 calls @ 18us\n",
      "\n"
     ]
    },
    {
     "name": "stderr",
     "output_type": "stream",
     "text": [
      "/home/aazzioui/Documents/WS/TIMSS-2019_student_score_prediction/env/lib/python3.11/site-packages/xgboost/core.py:160: UserWarning: [18:05:33] WARNING: /workspace/src/learner.cc:742: \n",
      "Parameters: { \"n_estimator\" } are not used.\n",
      "\n",
      "  warnings.warn(smsg, UserWarning)\n"
     ]
    },
    {
     "name": "stdout",
     "output_type": "stream",
     "text": [
      "[18:05:33] DEBUG: /workspace/src/gbm/gbtree.cc:130: Using tree method: 3\n",
      "[0]\tvalidation_0-rmse:56.92653\n"
     ]
    },
    {
     "name": "stderr",
     "output_type": "stream",
     "text": [
      "[I 2023-11-06 18:05:33,545] Trial 51 finished with value: 3240.6294403603247 and parameters: {'lambda': 1.618365108213923e-05, 'alpha': 5.5623899550444645e-08, 'colsample_bytree': 0.9, 'subsample': 0.8, 'learning_rate': 1, 'max_depth': 8, 'random_state': 10, 'min_child_weight': 24}. Best is trial 48 with value: 3212.201303442292.\n"
     ]
    },
    {
     "name": "stdout",
     "output_type": "stream",
     "text": [
      "[18:05:33] ======== Monitor (0): Learner ========\n",
      "[18:05:33] Configure: 0.004815s, 1 calls @ 4815us\n",
      "\n",
      "[18:05:33] EvalOneIter: 0.00701s, 1 calls @ 7010us\n",
      "\n",
      "[18:05:33] GetGradient: 9e-06s, 1 calls @ 9us\n",
      "\n",
      "[18:05:33] PredictRaw: 5e-06s, 1 calls @ 5us\n",
      "\n",
      "[18:05:33] UpdateOneIter: 0.372325s, 1 calls @ 372325us\n",
      "\n",
      "[18:05:33] ======== Monitor (0): GBTree ========\n",
      "[18:05:33] BoostNewTrees: 0.360542s, 1 calls @ 360542us\n",
      "\n",
      "[18:05:33] CommitModel: 3e-06s, 1 calls @ 3us\n",
      "\n",
      "[18:05:33] ======== Monitor (0): HistUpdater ========\n",
      "[18:05:33] BuildHistogram: 0.073472s, 671 calls @ 73472us\n",
      "\n",
      "[18:05:33] EvaluateSplits: 0.037469s, 771 calls @ 37469us\n",
      "\n",
      "[18:05:33] InitData: 0.012026s, 100 calls @ 12026us\n",
      "\n",
      "[18:05:33] InitRoot: 0.013575s, 100 calls @ 13575us\n",
      "\n",
      "[18:05:33] LeafPartition: 2.5e-05s, 100 calls @ 25us\n",
      "\n",
      "[18:05:33] UpdatePosition: 0.169403s, 695 calls @ 169403us\n",
      "\n",
      "[18:05:33] UpdateTree: 0.31168s, 100 calls @ 311680us\n",
      "\n",
      "[18:05:33] DEBUG: /workspace/src/gbm/gbtree.cc:130: Using tree method: 3\n",
      "[18:05:33] ======== Monitor (0): HostSketchContainer ========\n",
      "[18:05:33] AllReduce: 5e-06s, 1 calls @ 5us\n",
      "\n",
      "[18:05:33] MakeCuts: 1.6e-05s, 1 calls @ 16us\n",
      "\n",
      "[18:05:33] DEBUG: /workspace/src/gbm/gbtree.cc:130: Using tree method: 3\n"
     ]
    },
    {
     "name": "stderr",
     "output_type": "stream",
     "text": [
      "/tmp/ipykernel_13654/829001706.py:6: FutureWarning: suggest_loguniform has been deprecated in v3.0.0. This feature will be removed in v6.0.0. See https://github.com/optuna/optuna/releases/tag/v3.0.0. Use suggest_float(..., log=True) instead.\n",
      "  'lambda': trail.suggest_loguniform('lambda', 1e-10, 1e-4), # lambda uses L2 regularization\n",
      "/tmp/ipykernel_13654/829001706.py:7: FutureWarning: suggest_loguniform has been deprecated in v3.0.0. This feature will be removed in v6.0.0. See https://github.com/optuna/optuna/releases/tag/v3.0.0. Use suggest_float(..., log=True) instead.\n",
      "  'alpha': trail.suggest_loguniform('alpha', 1e-10, 1e-4),\n",
      "/home/aazzioui/Documents/WS/TIMSS-2019_student_score_prediction/env/lib/python3.11/site-packages/xgboost/core.py:160: UserWarning: [18:05:33] WARNING: /workspace/src/learner.cc:742: \n",
      "Parameters: { \"n_estimator\" } are not used.\n",
      "\n",
      "  warnings.warn(smsg, UserWarning)\n"
     ]
    },
    {
     "name": "stdout",
     "output_type": "stream",
     "text": [
      "[0]\tvalidation_0-rmse:57.04496\n"
     ]
    },
    {
     "name": "stderr",
     "output_type": "stream",
     "text": [
      "[I 2023-11-06 18:05:33,989] Trial 52 finished with value: 3254.127844839837 and parameters: {'lambda': 4.896610341461839e-05, 'alpha': 7.642583011510272e-08, 'colsample_bytree': 0.9, 'subsample': 0.8, 'learning_rate': 1, 'max_depth': 8, 'random_state': 10, 'min_child_weight': 27}. Best is trial 48 with value: 3212.201303442292.\n"
     ]
    },
    {
     "name": "stdout",
     "output_type": "stream",
     "text": [
      "[18:05:33] ======== Monitor (0): Learner ========\n",
      "[18:05:33] Configure: 0.000852s, 1 calls @ 852us\n",
      "\n",
      "[18:05:33] EvalOneIter: 0.001948s, 1 calls @ 1948us\n",
      "\n",
      "[18:05:33] GetGradient: 7e-06s, 1 calls @ 7us\n",
      "\n",
      "[18:05:33] PredictRaw: 2e-06s, 1 calls @ 2us\n",
      "\n",
      "[18:05:33] UpdateOneIter: 0.292131s, 1 calls @ 292131us\n",
      "\n",
      "[18:05:33] ======== Monitor (0): GBTree ========\n",
      "[18:05:33] BoostNewTrees: 0.291188s, 1 calls @ 291188us\n",
      "\n",
      "[18:05:33] CommitModel: 2e-06s, 1 calls @ 2us\n",
      "\n",
      "[18:05:33] ======== Monitor (0): HistUpdater ========\n",
      "[18:05:33] BuildHistogram: 0.082803s, 633 calls @ 82803us\n",
      "\n",
      "[18:05:33] EvaluateSplits: 0.09315s, 733 calls @ 93150us\n",
      "\n",
      "[18:05:33] InitData: 0.002128s, 100 calls @ 2128us\n",
      "\n",
      "[18:05:33] InitRoot: 0.003393s, 100 calls @ 3393us\n",
      "\n",
      "[18:05:33] LeafPartition: 2.5e-05s, 100 calls @ 25us\n",
      "\n",
      "[18:05:33] UpdatePosition: 0.100764s, 640 calls @ 100764us\n",
      "\n",
      "[18:05:33] UpdateTree: 0.287983s, 100 calls @ 287983us\n",
      "\n",
      "[18:05:33] DEBUG: /workspace/src/gbm/gbtree.cc:130: Using tree method: 3\n"
     ]
    },
    {
     "name": "stderr",
     "output_type": "stream",
     "text": [
      "/tmp/ipykernel_13654/829001706.py:6: FutureWarning: suggest_loguniform has been deprecated in v3.0.0. This feature will be removed in v6.0.0. See https://github.com/optuna/optuna/releases/tag/v3.0.0. Use suggest_float(..., log=True) instead.\n",
      "  'lambda': trail.suggest_loguniform('lambda', 1e-10, 1e-4), # lambda uses L2 regularization\n",
      "/tmp/ipykernel_13654/829001706.py:7: FutureWarning: suggest_loguniform has been deprecated in v3.0.0. This feature will be removed in v6.0.0. See https://github.com/optuna/optuna/releases/tag/v3.0.0. Use suggest_float(..., log=True) instead.\n",
      "  'alpha': trail.suggest_loguniform('alpha', 1e-10, 1e-4),\n"
     ]
    },
    {
     "name": "stdout",
     "output_type": "stream",
     "text": [
      "[18:05:34] ======== Monitor (0): HostSketchContainer ========\n",
      "[18:05:34] AllReduce: 0.013326s, 1 calls @ 13326us\n",
      "\n",
      "[18:05:34] MakeCuts: 0.029524s, 1 calls @ 29524us\n",
      "\n",
      "[18:05:34] DEBUG: /workspace/src/gbm/gbtree.cc:130: Using tree method: 3\n"
     ]
    },
    {
     "name": "stderr",
     "output_type": "stream",
     "text": [
      "/home/aazzioui/Documents/WS/TIMSS-2019_student_score_prediction/env/lib/python3.11/site-packages/xgboost/core.py:160: UserWarning: [18:05:34] WARNING: /workspace/src/learner.cc:742: \n",
      "Parameters: { \"n_estimator\" } are not used.\n",
      "\n",
      "  warnings.warn(smsg, UserWarning)\n"
     ]
    },
    {
     "name": "stdout",
     "output_type": "stream",
     "text": [
      "[0]\tvalidation_0-rmse:57.42172\n"
     ]
    },
    {
     "name": "stderr",
     "output_type": "stream",
     "text": [
      "[I 2023-11-06 18:05:34,653] Trial 53 finished with value: 3297.253546683633 and parameters: {'lambda': 1.6770747413496295e-05, 'alpha': 4.346484012412109e-08, 'colsample_bytree': 0.9, 'subsample': 0.2, 'learning_rate': 1, 'max_depth': 8, 'random_state': 30, 'min_child_weight': 11}. Best is trial 48 with value: 3212.201303442292.\n"
     ]
    },
    {
     "name": "stdout",
     "output_type": "stream",
     "text": [
      "[18:05:34] ======== Monitor (0): Learner ========\n",
      "[18:05:34] Configure: 0.000877s, 1 calls @ 877us\n",
      "\n",
      "[18:05:34] EvalOneIter: 0.000588s, 1 calls @ 588us\n",
      "\n",
      "[18:05:34] GetGradient: 8e-06s, 1 calls @ 8us\n",
      "\n",
      "[18:05:34] PredictRaw: 5e-06s, 1 calls @ 5us\n",
      "\n",
      "[18:05:34] UpdateOneIter: 0.232323s, 1 calls @ 232323us\n",
      "\n",
      "[18:05:34] ======== Monitor (0): GBTree ========\n",
      "[18:05:34] BoostNewTrees: 0.231241s, 1 calls @ 231241us\n",
      "\n",
      "[18:05:34] CommitModel: 3e-06s, 1 calls @ 3us\n",
      "\n",
      "[18:05:34] ======== Monitor (0): HistUpdater ========\n",
      "[18:05:34] BuildHistogram: 0.06827s, 541 calls @ 68270us\n",
      "\n",
      "[18:05:34] EvaluateSplits: 0.034068s, 641 calls @ 34068us\n",
      "\n",
      "[18:05:34] InitData: 0.001452s, 100 calls @ 1452us\n",
      "\n",
      "[18:05:34] InitRoot: 0.003022s, 100 calls @ 3022us\n",
      "\n",
      "[18:05:34] LeafPartition: 2.2e-05s, 100 calls @ 22us\n",
      "\n",
      "[18:05:34] UpdatePosition: 0.11325s, 543 calls @ 113250us\n",
      "\n",
      "[18:05:34] UpdateTree: 0.222257s, 100 calls @ 222257us\n",
      "\n",
      "[18:05:34] DEBUG: /workspace/src/gbm/gbtree.cc:130: Using tree method: 3\n",
      "[18:05:34] ======== Monitor (0): HostSketchContainer ========\n",
      "[18:05:34] AllReduce: 6e-06s, 1 calls @ 6us\n",
      "\n",
      "[18:05:34] MakeCuts: 1.7e-05s, 1 calls @ 17us\n",
      "\n",
      "[18:05:34] DEBUG: /workspace/src/gbm/gbtree.cc:130: Using tree method: 3\n"
     ]
    },
    {
     "name": "stderr",
     "output_type": "stream",
     "text": [
      "/tmp/ipykernel_13654/829001706.py:6: FutureWarning: suggest_loguniform has been deprecated in v3.0.0. This feature will be removed in v6.0.0. See https://github.com/optuna/optuna/releases/tag/v3.0.0. Use suggest_float(..., log=True) instead.\n",
      "  'lambda': trail.suggest_loguniform('lambda', 1e-10, 1e-4), # lambda uses L2 regularization\n",
      "/tmp/ipykernel_13654/829001706.py:7: FutureWarning: suggest_loguniform has been deprecated in v3.0.0. This feature will be removed in v6.0.0. See https://github.com/optuna/optuna/releases/tag/v3.0.0. Use suggest_float(..., log=True) instead.\n",
      "  'alpha': trail.suggest_loguniform('alpha', 1e-10, 1e-4),\n",
      "/home/aazzioui/Documents/WS/TIMSS-2019_student_score_prediction/env/lib/python3.11/site-packages/xgboost/core.py:160: UserWarning: [18:05:34] WARNING: /workspace/src/learner.cc:742: \n",
      "Parameters: { \"n_estimator\" } are not used.\n",
      "\n",
      "  warnings.warn(smsg, UserWarning)\n"
     ]
    },
    {
     "name": "stdout",
     "output_type": "stream",
     "text": [
      "[0]\tvalidation_0-rmse:57.09149\n"
     ]
    },
    {
     "name": "stderr",
     "output_type": "stream",
     "text": [
      "[I 2023-11-06 18:05:34,965] Trial 54 finished with value: 3259.4383478868253 and parameters: {'lambda': 3.5618417842861904e-05, 'alpha': 2.977370356609817e-07, 'colsample_bytree': 0.9, 'subsample': 0.8, 'learning_rate': 1, 'max_depth': 4, 'random_state': 10, 'min_child_weight': 8}. Best is trial 48 with value: 3212.201303442292.\n"
     ]
    },
    {
     "name": "stdout",
     "output_type": "stream",
     "text": [
      "[18:05:34] ======== Monitor (0): Learner ========\n",
      "[18:05:34] Configure: 0.000839s, 1 calls @ 839us\n",
      "\n",
      "[18:05:34] EvalOneIter: 0.000537s, 1 calls @ 537us\n",
      "\n",
      "[18:05:34] GetGradient: 7e-06s, 1 calls @ 7us\n",
      "\n",
      "[18:05:34] PredictRaw: 2e-06s, 1 calls @ 2us\n",
      "\n",
      "[18:05:34] UpdateOneIter: 0.125621s, 1 calls @ 125621us\n",
      "\n",
      "[18:05:34] ======== Monitor (0): GBTree ========\n",
      "[18:05:34] BoostNewTrees: 0.124692s, 1 calls @ 124692us\n",
      "\n",
      "[18:05:34] CommitModel: 3e-06s, 1 calls @ 3us\n",
      "\n",
      "[18:05:34] ======== Monitor (0): HistUpdater ========\n",
      "[18:05:34] BuildHistogram: 0.049645s, 300 calls @ 49645us\n",
      "\n",
      "[18:05:34] EvaluateSplits: 0.021416s, 400 calls @ 21416us\n",
      "\n",
      "[18:05:34] InitData: 0.001579s, 100 calls @ 1579us\n",
      "\n",
      "[18:05:34] InitRoot: 0.00786s, 100 calls @ 7860us\n",
      "\n",
      "[18:05:34] LeafPartition: 2e-05s, 100 calls @ 20us\n",
      "\n",
      "[18:05:34] UpdatePosition: 0.040991s, 400 calls @ 40991us\n",
      "\n",
      "[18:05:34] UpdateTree: 0.122335s, 100 calls @ 122335us\n",
      "\n",
      "[18:05:34] DEBUG: /workspace/src/gbm/gbtree.cc:130: Using tree method: 3\n"
     ]
    },
    {
     "name": "stderr",
     "output_type": "stream",
     "text": [
      "/tmp/ipykernel_13654/829001706.py:6: FutureWarning: suggest_loguniform has been deprecated in v3.0.0. This feature will be removed in v6.0.0. See https://github.com/optuna/optuna/releases/tag/v3.0.0. Use suggest_float(..., log=True) instead.\n",
      "  'lambda': trail.suggest_loguniform('lambda', 1e-10, 1e-4), # lambda uses L2 regularization\n",
      "/tmp/ipykernel_13654/829001706.py:7: FutureWarning: suggest_loguniform has been deprecated in v3.0.0. This feature will be removed in v6.0.0. See https://github.com/optuna/optuna/releases/tag/v3.0.0. Use suggest_float(..., log=True) instead.\n",
      "  'alpha': trail.suggest_loguniform('alpha', 1e-10, 1e-4),\n"
     ]
    },
    {
     "name": "stdout",
     "output_type": "stream",
     "text": [
      "[18:05:35] ======== Monitor (0): HostSketchContainer ========\n",
      "[18:05:35] AllReduce: 8e-06s, 1 calls @ 8us\n",
      "\n",
      "[18:05:35] MakeCuts: 2.2e-05s, 1 calls @ 22us\n",
      "\n",
      "[18:05:35] DEBUG: /workspace/src/gbm/gbtree.cc:130: Using tree method: 3\n"
     ]
    },
    {
     "name": "stderr",
     "output_type": "stream",
     "text": [
      "/home/aazzioui/Documents/WS/TIMSS-2019_student_score_prediction/env/lib/python3.11/site-packages/xgboost/core.py:160: UserWarning: [18:05:35] WARNING: /workspace/src/learner.cc:742: \n",
      "Parameters: { \"n_estimator\" } are not used.\n",
      "\n",
      "  warnings.warn(smsg, UserWarning)\n"
     ]
    },
    {
     "name": "stdout",
     "output_type": "stream",
     "text": [
      "[0]\tvalidation_0-rmse:62.91064\n"
     ]
    },
    {
     "name": "stderr",
     "output_type": "stream",
     "text": [
      "[I 2023-11-06 18:05:35,694] Trial 55 finished with value: 3957.748881814542 and parameters: {'lambda': 1.5028340075206145e-05, 'alpha': 8.831086646331498e-08, 'colsample_bytree': 0.4, 'subsample': 0.7, 'learning_rate': 0.0003, 'max_depth': 8, 'random_state': 10, 'min_child_weight': 24}. Best is trial 48 with value: 3212.201303442292.\n"
     ]
    },
    {
     "name": "stdout",
     "output_type": "stream",
     "text": [
      "[18:05:35] ======== Monitor (0): Learner ========\n",
      "[18:05:35] Configure: 0.013613s, 1 calls @ 13613us\n",
      "\n",
      "[18:05:35] EvalOneIter: 0.001894s, 1 calls @ 1894us\n",
      "\n",
      "[18:05:35] GetGradient: 0.035533s, 1 calls @ 35533us\n",
      "\n",
      "[18:05:35] PredictRaw: 1.8e-05s, 1 calls @ 18us\n",
      "\n",
      "[18:05:35] UpdateOneIter: 0.476291s, 1 calls @ 476291us\n",
      "\n",
      "[18:05:35] ======== Monitor (0): GBTree ========\n",
      "[18:05:35] BoostNewTrees: 0.384533s, 1 calls @ 384533us\n",
      "\n",
      "[18:05:35] CommitModel: 3e-06s, 1 calls @ 3us\n",
      "\n",
      "[18:05:35] ======== Monitor (0): HistUpdater ========\n",
      "[18:05:35] BuildHistogram: 0.145888s, 540 calls @ 145888us\n",
      "\n",
      "[18:05:35] EvaluateSplits: 0.044073s, 640 calls @ 44073us\n",
      "\n",
      "[18:05:35] InitData: 0.025185s, 100 calls @ 25185us\n",
      "\n",
      "[18:05:35] InitRoot: 0.030984s, 100 calls @ 30984us\n",
      "\n",
      "[18:05:35] LeafPartition: 2e-05s, 100 calls @ 20us\n",
      "\n",
      "[18:05:35] UpdatePosition: 0.121348s, 540 calls @ 121348us\n",
      "\n",
      "[18:05:35] UpdateTree: 0.368912s, 100 calls @ 368912us\n",
      "\n",
      "[18:05:35] DEBUG: /workspace/src/gbm/gbtree.cc:130: Using tree method: 3\n",
      "[18:05:35] ======== Monitor (0): HostSketchContainer ========\n",
      "[18:05:35] AllReduce: 0.000482s, 1 calls @ 482us\n",
      "\n",
      "[18:05:35] MakeCuts: 0.000494s, 1 calls @ 494us\n",
      "\n",
      "[18:05:35] DEBUG: /workspace/src/gbm/gbtree.cc:130: Using tree method: 3\n",
      "[0]\tvalidation_0-rmse:58.57601\n"
     ]
    },
    {
     "name": "stderr",
     "output_type": "stream",
     "text": [
      "/tmp/ipykernel_13654/829001706.py:6: FutureWarning: suggest_loguniform has been deprecated in v3.0.0. This feature will be removed in v6.0.0. See https://github.com/optuna/optuna/releases/tag/v3.0.0. Use suggest_float(..., log=True) instead.\n",
      "  'lambda': trail.suggest_loguniform('lambda', 1e-10, 1e-4), # lambda uses L2 regularization\n",
      "/tmp/ipykernel_13654/829001706.py:7: FutureWarning: suggest_loguniform has been deprecated in v3.0.0. This feature will be removed in v6.0.0. See https://github.com/optuna/optuna/releases/tag/v3.0.0. Use suggest_float(..., log=True) instead.\n",
      "  'alpha': trail.suggest_loguniform('alpha', 1e-10, 1e-4),\n",
      "/home/aazzioui/Documents/WS/TIMSS-2019_student_score_prediction/env/lib/python3.11/site-packages/xgboost/core.py:160: UserWarning: [18:05:35] WARNING: /workspace/src/learner.cc:742: \n",
      "Parameters: { \"n_estimator\" } are not used.\n",
      "\n",
      "  warnings.warn(smsg, UserWarning)\n",
      "[I 2023-11-06 18:05:35,918] Trial 56 finished with value: 3431.148483866667 and parameters: {'lambda': 9.024587179185336e-05, 'alpha': 2.1395275148905622e-08, 'colsample_bytree': 0.9, 'subsample': 0.3, 'learning_rate': 1, 'max_depth': 8, 'random_state': 10, 'min_child_weight': 50}. Best is trial 48 with value: 3212.201303442292.\n"
     ]
    },
    {
     "name": "stdout",
     "output_type": "stream",
     "text": [
      "[18:05:35] ======== Monitor (0): Learner ========\n",
      "[18:05:35] Configure: 0.000828s, 1 calls @ 828us\n",
      "\n",
      "[18:05:35] EvalOneIter: 0.01136s, 1 calls @ 11360us\n",
      "\n",
      "[18:05:35] GetGradient: 0.011276s, 1 calls @ 11276us\n",
      "\n",
      "[18:05:35] PredictRaw: 4e-06s, 1 calls @ 4us\n",
      "\n",
      "[18:05:35] UpdateOneIter: 0.067702s, 1 calls @ 67702us\n",
      "\n",
      "[18:05:35] ======== Monitor (0): GBTree ========\n",
      "[18:05:35] BoostNewTrees: 0.053506s, 1 calls @ 53506us\n",
      "\n",
      "[18:05:35] CommitModel: 3e-06s, 1 calls @ 3us\n",
      "\n",
      "[18:05:35] ======== Monitor (0): HistUpdater ========\n",
      "[18:05:35] BuildHistogram: 0.018419s, 204 calls @ 18419us\n",
      "\n",
      "[18:05:35] EvaluateSplits: 0.004756s, 304 calls @ 4756us\n",
      "\n",
      "[18:05:35] InitData: 0.005463s, 100 calls @ 5463us\n",
      "\n",
      "[18:05:35] InitRoot: 0.006079s, 100 calls @ 6079us\n",
      "\n",
      "[18:05:35] LeafPartition: 1.5e-05s, 100 calls @ 15us\n",
      "\n",
      "[18:05:35] UpdatePosition: 0.016358s, 204 calls @ 16358us\n",
      "\n",
      "[18:05:35] UpdateTree: 0.049428s, 100 calls @ 49428us\n",
      "\n",
      "[18:05:35] DEBUG: /workspace/src/gbm/gbtree.cc:130: Using tree method: 3\n",
      "[18:05:35] ======== Monitor (0): HostSketchContainer ========\n",
      "[18:05:35] AllReduce: 5e-06s, 1 calls @ 5us\n",
      "\n",
      "[18:05:35] MakeCuts: 1.6e-05s, 1 calls @ 16us\n",
      "\n",
      "[18:05:35] DEBUG: /workspace/src/gbm/gbtree.cc:130: Using tree method: 3\n",
      "[0]\tvalidation_0-rmse:62.02540\n"
     ]
    },
    {
     "name": "stderr",
     "output_type": "stream",
     "text": [
      "/tmp/ipykernel_13654/829001706.py:6: FutureWarning: suggest_loguniform has been deprecated in v3.0.0. This feature will be removed in v6.0.0. See https://github.com/optuna/optuna/releases/tag/v3.0.0. Use suggest_float(..., log=True) instead.\n",
      "  'lambda': trail.suggest_loguniform('lambda', 1e-10, 1e-4), # lambda uses L2 regularization\n",
      "/tmp/ipykernel_13654/829001706.py:7: FutureWarning: suggest_loguniform has been deprecated in v3.0.0. This feature will be removed in v6.0.0. See https://github.com/optuna/optuna/releases/tag/v3.0.0. Use suggest_float(..., log=True) instead.\n",
      "  'alpha': trail.suggest_loguniform('alpha', 1e-10, 1e-4),\n",
      "/home/aazzioui/Documents/WS/TIMSS-2019_student_score_prediction/env/lib/python3.11/site-packages/xgboost/core.py:160: UserWarning: [18:05:35] WARNING: /workspace/src/learner.cc:742: \n",
      "Parameters: { \"n_estimator\" } are not used.\n",
      "\n",
      "  warnings.warn(smsg, UserWarning)\n",
      "[I 2023-11-06 18:05:36,192] Trial 57 finished with value: 3847.1501050474753 and parameters: {'lambda': 7.365989921330906e-06, 'alpha': 5.97173914887254e-08, 'colsample_bytree': 0.9, 'subsample': 0.1, 'learning_rate': 1, 'max_depth': 10, 'random_state': 30, 'min_child_weight': 33}. Best is trial 48 with value: 3212.201303442292.\n"
     ]
    },
    {
     "name": "stdout",
     "output_type": "stream",
     "text": [
      "[18:05:36] ======== Monitor (0): Learner ========\n",
      "[18:05:36] Configure: 0.000818s, 1 calls @ 818us\n",
      "\n",
      "[18:05:36] EvalOneIter: 0.000199s, 1 calls @ 199us\n",
      "\n",
      "[18:05:36] GetGradient: 8e-06s, 1 calls @ 8us\n",
      "\n",
      "[18:05:36] PredictRaw: 5e-06s, 1 calls @ 5us\n",
      "\n",
      "[18:05:36] UpdateOneIter: 0.093245s, 1 calls @ 93245us\n",
      "\n",
      "[18:05:36] ======== Monitor (0): GBTree ========\n",
      "[18:05:36] BoostNewTrees: 0.070023s, 1 calls @ 70023us\n",
      "\n",
      "[18:05:36] CommitModel: 3e-06s, 1 calls @ 3us\n",
      "\n",
      "[18:05:36] ======== Monitor (0): HistUpdater ========\n",
      "[18:05:36] BuildHistogram: 0.00531s, 69 calls @ 5310us\n",
      "\n",
      "[18:05:36] EvaluateSplits: 0.001626s, 169 calls @ 1626us\n",
      "\n",
      "[18:05:36] InitData: 0.015287s, 100 calls @ 15287us\n",
      "\n",
      "[18:05:36] InitRoot: 0.031803s, 100 calls @ 31803us\n",
      "\n",
      "[18:05:36] LeafPartition: 1.5e-05s, 100 calls @ 15us\n",
      "\n",
      "[18:05:36] UpdatePosition: 0.008968s, 69 calls @ 8968us\n",
      "\n",
      "[18:05:36] UpdateTree: 0.062437s, 100 calls @ 62437us\n",
      "\n",
      "[18:05:36] DEBUG: /workspace/src/gbm/gbtree.cc:130: Using tree method: 3\n",
      "[18:05:36] ======== Monitor (0): HostSketchContainer ========\n",
      "[18:05:36] AllReduce: 6e-06s, 1 calls @ 6us\n",
      "\n",
      "[18:05:36] MakeCuts: 0.001597s, 1 calls @ 1597us\n",
      "\n"
     ]
    },
    {
     "name": "stderr",
     "output_type": "stream",
     "text": [
      "/tmp/ipykernel_13654/829001706.py:6: FutureWarning: suggest_loguniform has been deprecated in v3.0.0. This feature will be removed in v6.0.0. See https://github.com/optuna/optuna/releases/tag/v3.0.0. Use suggest_float(..., log=True) instead.\n",
      "  'lambda': trail.suggest_loguniform('lambda', 1e-10, 1e-4), # lambda uses L2 regularization\n",
      "/tmp/ipykernel_13654/829001706.py:7: FutureWarning: suggest_loguniform has been deprecated in v3.0.0. This feature will be removed in v6.0.0. See https://github.com/optuna/optuna/releases/tag/v3.0.0. Use suggest_float(..., log=True) instead.\n",
      "  'alpha': trail.suggest_loguniform('alpha', 1e-10, 1e-4),\n",
      "/home/aazzioui/Documents/WS/TIMSS-2019_student_score_prediction/env/lib/python3.11/site-packages/xgboost/core.py:160: UserWarning: [18:05:36] WARNING: /workspace/src/learner.cc:742: \n",
      "Parameters: { \"n_estimator\" } are not used.\n",
      "\n",
      "  warnings.warn(smsg, UserWarning)\n"
     ]
    },
    {
     "name": "stdout",
     "output_type": "stream",
     "text": [
      "[18:05:36] DEBUG: /workspace/src/gbm/gbtree.cc:130: Using tree method: 3\n",
      "[0]\tvalidation_0-rmse:62.88024\n"
     ]
    },
    {
     "name": "stderr",
     "output_type": "stream",
     "text": [
      "[I 2023-11-06 18:05:36,932] Trial 58 finished with value: 3953.9249189217808 and parameters: {'lambda': 3.4371010438014406e-05, 'alpha': 1.4096893645231568e-07, 'colsample_bytree': 0.9, 'subsample': 0.8, 'learning_rate': 0.004, 'max_depth': 9, 'random_state': 10, 'min_child_weight': 60}. Best is trial 48 with value: 3212.201303442292.\n"
     ]
    },
    {
     "name": "stdout",
     "output_type": "stream",
     "text": [
      "[18:05:36] ======== Monitor (0): Learner ========\n",
      "[18:05:36] Configure: 0.00113s, 1 calls @ 1130us\n",
      "\n",
      "[18:05:36] EvalOneIter: 0.048518s, 1 calls @ 48518us\n",
      "\n",
      "[18:05:36] GetGradient: 8e-06s, 1 calls @ 8us\n",
      "\n",
      "[18:05:36] PredictRaw: 5e-06s, 1 calls @ 5us\n",
      "\n",
      "[18:05:36] UpdateOneIter: 0.48128s, 1 calls @ 481280us\n",
      "\n",
      "[18:05:36] ======== Monitor (0): GBTree ========\n",
      "[18:05:36] BoostNewTrees: 0.470426s, 1 calls @ 470426us\n",
      "\n",
      "[18:05:36] CommitModel: 2e-06s, 1 calls @ 2us\n",
      "\n",
      "[18:05:36] ======== Monitor (0): HistUpdater ========\n",
      "[18:05:36] BuildHistogram: 0.124191s, 430 calls @ 124191us\n",
      "\n",
      "[18:05:36] EvaluateSplits: 0.085334s, 530 calls @ 85334us\n",
      "\n",
      "[18:05:36] InitData: 0.008382s, 100 calls @ 8382us\n",
      "\n",
      "[18:05:36] InitRoot: 0.08737s, 100 calls @ 87370us\n",
      "\n",
      "[18:05:36] LeafPartition: 0.001669s, 100 calls @ 1669us\n",
      "\n",
      "[18:05:36] UpdatePosition: 0.206614s, 430 calls @ 206614us\n",
      "\n",
      "[18:05:36] UpdateTree: 0.463318s, 100 calls @ 463318us\n",
      "\n",
      "[18:05:36] DEBUG: /workspace/src/gbm/gbtree.cc:130: Using tree method: 3\n",
      "[18:05:37] ======== Monitor (0): HostSketchContainer ========\n",
      "[18:05:37] AllReduce: 1e-05s, 1 calls @ 10us\n",
      "\n",
      "[18:05:37] MakeCuts: 2.3e-05s, 1 calls @ 23us\n",
      "\n",
      "[18:05:37] DEBUG: /workspace/src/gbm/gbtree.cc:130: Using tree method: 3\n"
     ]
    },
    {
     "name": "stderr",
     "output_type": "stream",
     "text": [
      "/tmp/ipykernel_13654/829001706.py:6: FutureWarning: suggest_loguniform has been deprecated in v3.0.0. This feature will be removed in v6.0.0. See https://github.com/optuna/optuna/releases/tag/v3.0.0. Use suggest_float(..., log=True) instead.\n",
      "  'lambda': trail.suggest_loguniform('lambda', 1e-10, 1e-4), # lambda uses L2 regularization\n",
      "/tmp/ipykernel_13654/829001706.py:7: FutureWarning: suggest_loguniform has been deprecated in v3.0.0. This feature will be removed in v6.0.0. See https://github.com/optuna/optuna/releases/tag/v3.0.0. Use suggest_float(..., log=True) instead.\n",
      "  'alpha': trail.suggest_loguniform('alpha', 1e-10, 1e-4),\n",
      "/home/aazzioui/Documents/WS/TIMSS-2019_student_score_prediction/env/lib/python3.11/site-packages/xgboost/core.py:160: UserWarning: [18:05:37] WARNING: /workspace/src/learner.cc:742: \n",
      "Parameters: { \"n_estimator\" } are not used.\n",
      "\n",
      "  warnings.warn(smsg, UserWarning)\n"
     ]
    },
    {
     "name": "stdout",
     "output_type": "stream",
     "text": [
      "[0]\tvalidation_0-rmse:61.96754\n"
     ]
    },
    {
     "name": "stderr",
     "output_type": "stream",
     "text": [
      "[I 2023-11-06 18:05:37,327] Trial 59 finished with value: 3839.976544865964 and parameters: {'lambda': 1.1988211923148253e-05, 'alpha': 4.609285572236661e-07, 'colsample_bytree': 0.1, 'subsample': 0.5, 'learning_rate': 1, 'max_depth': 7, 'random_state': 5000, 'min_child_weight': 6}. Best is trial 48 with value: 3212.201303442292.\n"
     ]
    },
    {
     "name": "stdout",
     "output_type": "stream",
     "text": [
      "[18:05:37] ======== Monitor (0): Learner ========\n",
      "[18:05:37] Configure: 0.000807s, 1 calls @ 807us\n",
      "\n",
      "[18:05:37] EvalOneIter: 0.000347s, 1 calls @ 347us\n",
      "\n",
      "[18:05:37] GetGradient: 0.000528s, 1 calls @ 528us\n",
      "\n",
      "[18:05:37] PredictRaw: 4e-06s, 1 calls @ 4us\n",
      "\n",
      "[18:05:37] UpdateOneIter: 0.215732s, 1 calls @ 215732us\n",
      "\n",
      "[18:05:37] ======== Monitor (0): GBTree ========\n",
      "[18:05:37] BoostNewTrees: 0.21188s, 1 calls @ 211880us\n",
      "\n",
      "[18:05:37] CommitModel: 3e-06s, 1 calls @ 3us\n",
      "\n",
      "[18:05:37] ======== Monitor (0): HistUpdater ========\n",
      "[18:05:37] BuildHistogram: 0.083595s, 263 calls @ 83595us\n",
      "\n",
      "[18:05:37] EvaluateSplits: 0.016385s, 363 calls @ 16385us\n",
      "\n",
      "[18:05:37] InitData: 0.024723s, 100 calls @ 24723us\n",
      "\n",
      "[18:05:37] InitRoot: 0.040279s, 100 calls @ 40279us\n",
      "\n",
      "[18:05:37] LeafPartition: 1.5e-05s, 100 calls @ 15us\n",
      "\n",
      "[18:05:37] UpdatePosition: 0.053031s, 263 calls @ 53031us\n",
      "\n",
      "[18:05:37] UpdateTree: 0.209082s, 100 calls @ 209082us\n",
      "\n",
      "[18:05:37] DEBUG: /workspace/src/gbm/gbtree.cc:130: Using tree method: 3\n",
      "[18:05:37] ======== Monitor (0): HostSketchContainer ========\n",
      "[18:05:37] AllReduce: 5e-06s, 1 calls @ 5us\n",
      "\n",
      "[18:05:37] MakeCuts: 1.7e-05s, 1 calls @ 17us\n",
      "\n",
      "[18:05:37] DEBUG: /workspace/src/gbm/gbtree.cc:130: Using tree method: 3\n"
     ]
    },
    {
     "name": "stderr",
     "output_type": "stream",
     "text": [
      "/tmp/ipykernel_13654/829001706.py:6: FutureWarning: suggest_loguniform has been deprecated in v3.0.0. This feature will be removed in v6.0.0. See https://github.com/optuna/optuna/releases/tag/v3.0.0. Use suggest_float(..., log=True) instead.\n",
      "  'lambda': trail.suggest_loguniform('lambda', 1e-10, 1e-4), # lambda uses L2 regularization\n",
      "/tmp/ipykernel_13654/829001706.py:7: FutureWarning: suggest_loguniform has been deprecated in v3.0.0. This feature will be removed in v6.0.0. See https://github.com/optuna/optuna/releases/tag/v3.0.0. Use suggest_float(..., log=True) instead.\n",
      "  'alpha': trail.suggest_loguniform('alpha', 1e-10, 1e-4),\n",
      "/home/aazzioui/Documents/WS/TIMSS-2019_student_score_prediction/env/lib/python3.11/site-packages/xgboost/core.py:160: UserWarning: [18:05:37] WARNING: /workspace/src/learner.cc:742: \n",
      "Parameters: { \"n_estimator\" } are not used.\n",
      "\n",
      "  warnings.warn(smsg, UserWarning)\n"
     ]
    },
    {
     "name": "stdout",
     "output_type": "stream",
     "text": [
      "[0]\tvalidation_0-rmse:61.17681\n"
     ]
    },
    {
     "name": "stderr",
     "output_type": "stream",
     "text": [
      "[I 2023-11-06 18:05:37,674] Trial 60 finished with value: 3742.602318063014 and parameters: {'lambda': 2.0405812300128815e-05, 'alpha': 3.246576773952527e-08, 'colsample_bytree': 0.3, 'subsample': 0.8, 'learning_rate': 0.5, 'max_depth': 5, 'random_state': 10, 'min_child_weight': 19}. Best is trial 48 with value: 3212.201303442292.\n"
     ]
    },
    {
     "name": "stdout",
     "output_type": "stream",
     "text": [
      "[18:05:37] ======== Monitor (0): Learner ========\n",
      "[18:05:37] Configure: 0.001145s, 1 calls @ 1145us\n",
      "\n",
      "[18:05:37] EvalOneIter: 0.000555s, 1 calls @ 555us\n",
      "\n",
      "[18:05:37] GetGradient: 9e-06s, 1 calls @ 9us\n",
      "\n",
      "[18:05:37] PredictRaw: 5e-06s, 1 calls @ 5us\n",
      "\n",
      "[18:05:37] UpdateOneIter: 0.135039s, 1 calls @ 135039us\n",
      "\n",
      "[18:05:37] ======== Monitor (0): GBTree ========\n",
      "[18:05:37] BoostNewTrees: 0.12338s, 1 calls @ 123380us\n",
      "\n",
      "[18:05:37] CommitModel: 2e-06s, 1 calls @ 2us\n",
      "\n",
      "[18:05:37] ======== Monitor (0): HistUpdater ========\n",
      "[18:05:37] BuildHistogram: 0.042575s, 399 calls @ 42575us\n",
      "\n",
      "[18:05:37] EvaluateSplits: 0.009149s, 499 calls @ 9149us\n",
      "\n",
      "[18:05:37] InitData: 0.001601s, 100 calls @ 1601us\n",
      "\n",
      "[18:05:37] InitRoot: 0.002548s, 100 calls @ 2548us\n",
      "\n",
      "[18:05:37] LeafPartition: 1.9e-05s, 100 calls @ 19us\n",
      "\n",
      "[18:05:37] UpdatePosition: 0.061856s, 472 calls @ 61856us\n",
      "\n",
      "[18:05:37] UpdateTree: 0.118879s, 100 calls @ 118879us\n",
      "\n",
      "[18:05:37] DEBUG: /workspace/src/gbm/gbtree.cc:130: Using tree method: 3\n",
      "[18:05:37] ======== Monitor (0): HostSketchContainer ========\n",
      "[18:05:37] AllReduce: 6e-06s, 1 calls @ 6us\n",
      "\n",
      "[18:05:37] MakeCuts: 1.7e-05s, 1 calls @ 17us\n",
      "\n"
     ]
    },
    {
     "name": "stderr",
     "output_type": "stream",
     "text": [
      "/tmp/ipykernel_13654/829001706.py:6: FutureWarning: suggest_loguniform has been deprecated in v3.0.0. This feature will be removed in v6.0.0. See https://github.com/optuna/optuna/releases/tag/v3.0.0. Use suggest_float(..., log=True) instead.\n",
      "  'lambda': trail.suggest_loguniform('lambda', 1e-10, 1e-4), # lambda uses L2 regularization\n",
      "/tmp/ipykernel_13654/829001706.py:7: FutureWarning: suggest_loguniform has been deprecated in v3.0.0. This feature will be removed in v6.0.0. See https://github.com/optuna/optuna/releases/tag/v3.0.0. Use suggest_float(..., log=True) instead.\n",
      "  'alpha': trail.suggest_loguniform('alpha', 1e-10, 1e-4),\n",
      "/home/aazzioui/Documents/WS/TIMSS-2019_student_score_prediction/env/lib/python3.11/site-packages/xgboost/core.py:160: UserWarning: [18:05:37] WARNING: /workspace/src/learner.cc:742: \n",
      "Parameters: { \"n_estimator\" } are not used.\n",
      "\n",
      "  warnings.warn(smsg, UserWarning)\n"
     ]
    },
    {
     "name": "stdout",
     "output_type": "stream",
     "text": [
      "[18:05:37] DEBUG: /workspace/src/gbm/gbtree.cc:130: Using tree method: 3\n",
      "[0]\tvalidation_0-rmse:57.59469\n"
     ]
    },
    {
     "name": "stderr",
     "output_type": "stream",
     "text": [
      "[I 2023-11-06 18:05:38,131] Trial 61 finished with value: 3317.1479447194424 and parameters: {'lambda': 2.5240215132306255e-05, 'alpha': 1.5794883096304456e-08, 'colsample_bytree': 0.9, 'subsample': 0.8, 'learning_rate': 1, 'max_depth': 8, 'random_state': 10, 'min_child_weight': 32}. Best is trial 48 with value: 3212.201303442292.\n"
     ]
    },
    {
     "name": "stdout",
     "output_type": "stream",
     "text": [
      "[18:05:38] ======== Monitor (0): Learner ========\n",
      "[18:05:38] Configure: 0.000891s, 1 calls @ 891us\n",
      "\n",
      "[18:05:38] EvalOneIter: 0.002221s, 1 calls @ 2221us\n",
      "\n",
      "[18:05:38] GetGradient: 7e-06s, 1 calls @ 7us\n",
      "\n",
      "[18:05:38] PredictRaw: 2e-06s, 1 calls @ 2us\n",
      "\n",
      "[18:05:38] UpdateOneIter: 0.247935s, 1 calls @ 247935us\n",
      "\n",
      "[18:05:38] ======== Monitor (0): GBTree ========\n",
      "[18:05:38] BoostNewTrees: 0.246954s, 1 calls @ 246954us\n",
      "\n",
      "[18:05:38] CommitModel: 3e-06s, 1 calls @ 3us\n",
      "\n",
      "[18:05:38] ======== Monitor (0): HistUpdater ========\n",
      "[18:05:38] BuildHistogram: 0.121773s, 588 calls @ 121773us\n",
      "\n",
      "[18:05:38] EvaluateSplits: 0.018382s, 688 calls @ 18382us\n",
      "\n",
      "[18:05:38] InitData: 0.016685s, 100 calls @ 16685us\n",
      "\n",
      "[18:05:38] InitRoot: 0.017392s, 100 calls @ 17392us\n",
      "\n",
      "[18:05:38] LeafPartition: 2.2e-05s, 100 calls @ 22us\n",
      "\n",
      "[18:05:38] UpdatePosition: 0.059373s, 588 calls @ 59373us\n",
      "\n",
      "[18:05:38] UpdateTree: 0.24013s, 100 calls @ 240130us\n",
      "\n",
      "[18:05:38] DEBUG: /workspace/src/gbm/gbtree.cc:130: Using tree method: 3\n",
      "[18:05:38] ======== Monitor (0): HostSketchContainer ========\n",
      "[18:05:38] AllReduce: 7e-06s, 1 calls @ 7us\n",
      "\n",
      "[18:05:38] MakeCuts: 1.9e-05s, 1 calls @ 19us\n",
      "\n"
     ]
    },
    {
     "name": "stderr",
     "output_type": "stream",
     "text": [
      "/tmp/ipykernel_13654/829001706.py:6: FutureWarning: suggest_loguniform has been deprecated in v3.0.0. This feature will be removed in v6.0.0. See https://github.com/optuna/optuna/releases/tag/v3.0.0. Use suggest_float(..., log=True) instead.\n",
      "  'lambda': trail.suggest_loguniform('lambda', 1e-10, 1e-4), # lambda uses L2 regularization\n",
      "/tmp/ipykernel_13654/829001706.py:7: FutureWarning: suggest_loguniform has been deprecated in v3.0.0. This feature will be removed in v6.0.0. See https://github.com/optuna/optuna/releases/tag/v3.0.0. Use suggest_float(..., log=True) instead.\n",
      "  'alpha': trail.suggest_loguniform('alpha', 1e-10, 1e-4),\n"
     ]
    },
    {
     "name": "stdout",
     "output_type": "stream",
     "text": [
      "[18:05:38] DEBUG: /workspace/src/gbm/gbtree.cc:130: Using tree method: 3\n"
     ]
    },
    {
     "name": "stderr",
     "output_type": "stream",
     "text": [
      "/home/aazzioui/Documents/WS/TIMSS-2019_student_score_prediction/env/lib/python3.11/site-packages/xgboost/core.py:160: UserWarning: [18:05:38] WARNING: /workspace/src/learner.cc:742: \n",
      "Parameters: { \"n_estimator\" } are not used.\n",
      "\n",
      "  warnings.warn(smsg, UserWarning)\n"
     ]
    },
    {
     "name": "stdout",
     "output_type": "stream",
     "text": [
      "[0]\tvalidation_0-rmse:56.53818\n"
     ]
    },
    {
     "name": "stderr",
     "output_type": "stream",
     "text": [
      "[I 2023-11-06 18:05:39,073] Trial 62 finished with value: 3196.5659548540225 and parameters: {'lambda': 7.299989624269285e-06, 'alpha': 1.0551190096037222e-07, 'colsample_bytree': 0.9, 'subsample': 0.8, 'learning_rate': 1, 'max_depth': 8, 'random_state': 10, 'min_child_weight': 19}. Best is trial 62 with value: 3196.5659548540225.\n"
     ]
    },
    {
     "name": "stdout",
     "output_type": "stream",
     "text": [
      "[18:05:39] ======== Monitor (0): Learner ========\n",
      "[18:05:39] Configure: 0.01674s, 1 calls @ 16740us\n",
      "\n",
      "[18:05:39] EvalOneIter: 0.000793s, 1 calls @ 793us\n",
      "\n",
      "[18:05:39] GetGradient: 0.001177s, 1 calls @ 1177us\n",
      "\n",
      "[18:05:39] PredictRaw: 9e-06s, 1 calls @ 9us\n",
      "\n",
      "[18:05:39] UpdateOneIter: 0.46488s, 1 calls @ 464880us\n",
      "\n",
      "[18:05:39] ======== Monitor (0): GBTree ========\n",
      "[18:05:39] BoostNewTrees: 0.334631s, 1 calls @ 334631us\n",
      "\n",
      "[18:05:39] CommitModel: 1e-05s, 1 calls @ 10us\n",
      "\n",
      "[18:05:39] ======== Monitor (0): HistUpdater ========\n",
      "[18:05:39] BuildHistogram: 0.11342s, 695 calls @ 113420us\n",
      "\n",
      "[18:05:39] EvaluateSplits: 0.057765s, 795 calls @ 57765us\n",
      "\n",
      "[18:05:39] InitData: 0.021058s, 100 calls @ 21058us\n",
      "\n",
      "[18:05:39] InitRoot: 0.027941s, 100 calls @ 27941us\n",
      "\n",
      "[18:05:39] LeafPartition: 2.2e-05s, 100 calls @ 22us\n",
      "\n",
      "[18:05:39] UpdatePosition: 0.091031s, 762 calls @ 91031us\n",
      "\n",
      "[18:05:39] UpdateTree: 0.31438s, 100 calls @ 314380us\n",
      "\n",
      "[18:05:39] DEBUG: /workspace/src/gbm/gbtree.cc:130: Using tree method: 3\n",
      "[18:05:39] ======== Monitor (0): HostSketchContainer ========\n",
      "[18:05:39] AllReduce: 6e-06s, 1 calls @ 6us\n",
      "\n",
      "[18:05:39] MakeCuts: 1.8e-05s, 1 calls @ 18us\n",
      "\n",
      "[18:05:39] DEBUG: /workspace/src/gbm/gbtree.cc:130: Using tree method: 3\n"
     ]
    },
    {
     "name": "stderr",
     "output_type": "stream",
     "text": [
      "/tmp/ipykernel_13654/829001706.py:6: FutureWarning: suggest_loguniform has been deprecated in v3.0.0. This feature will be removed in v6.0.0. See https://github.com/optuna/optuna/releases/tag/v3.0.0. Use suggest_float(..., log=True) instead.\n",
      "  'lambda': trail.suggest_loguniform('lambda', 1e-10, 1e-4), # lambda uses L2 regularization\n",
      "/tmp/ipykernel_13654/829001706.py:7: FutureWarning: suggest_loguniform has been deprecated in v3.0.0. This feature will be removed in v6.0.0. See https://github.com/optuna/optuna/releases/tag/v3.0.0. Use suggest_float(..., log=True) instead.\n",
      "  'alpha': trail.suggest_loguniform('alpha', 1e-10, 1e-4),\n",
      "/home/aazzioui/Documents/WS/TIMSS-2019_student_score_prediction/env/lib/python3.11/site-packages/xgboost/core.py:160: UserWarning: [18:05:39] WARNING: /workspace/src/learner.cc:742: \n",
      "Parameters: { \"n_estimator\" } are not used.\n",
      "\n",
      "  warnings.warn(smsg, UserWarning)\n"
     ]
    },
    {
     "name": "stdout",
     "output_type": "stream",
     "text": [
      "[0]\tvalidation_0-rmse:57.00292\n"
     ]
    },
    {
     "name": "stderr",
     "output_type": "stream",
     "text": [
      "[I 2023-11-06 18:05:39,661] Trial 63 finished with value: 3249.3328092239203 and parameters: {'lambda': 7.17871702251777e-06, 'alpha': 1.0704796872755056e-07, 'colsample_bytree': 0.9, 'subsample': 0.8, 'learning_rate': 1, 'max_depth': 8, 'random_state': 10, 'min_child_weight': 1}. Best is trial 62 with value: 3196.5659548540225.\n"
     ]
    },
    {
     "name": "stdout",
     "output_type": "stream",
     "text": [
      "[18:05:39] ======== Monitor (0): Learner ========\n",
      "[18:05:39] Configure: 0.002393s, 1 calls @ 2393us\n",
      "\n",
      "[18:05:39] EvalOneIter: 0.00109s, 1 calls @ 1090us\n",
      "\n",
      "[18:05:39] GetGradient: 6e-06s, 1 calls @ 6us\n",
      "\n",
      "[18:05:39] PredictRaw: 3e-06s, 1 calls @ 3us\n",
      "\n",
      "[18:05:39] UpdateOneIter: 0.382969s, 1 calls @ 382969us\n",
      "\n",
      "[18:05:39] ======== Monitor (0): GBTree ========\n",
      "[18:05:39] BoostNewTrees: 0.38048s, 1 calls @ 380480us\n",
      "\n",
      "[18:05:39] CommitModel: 2e-06s, 1 calls @ 2us\n",
      "\n",
      "[18:05:39] ======== Monitor (0): HistUpdater ========\n",
      "[18:05:39] BuildHistogram: 0.096994s, 700 calls @ 96994us\n",
      "\n",
      "[18:05:39] EvaluateSplits: 0.111095s, 800 calls @ 111095us\n",
      "\n",
      "[18:05:39] InitData: 0.003703s, 100 calls @ 3703us\n",
      "\n",
      "[18:05:39] InitRoot: 0.024079s, 100 calls @ 24079us\n",
      "\n",
      "[18:05:39] LeafPartition: 2.6e-05s, 100 calls @ 26us\n",
      "\n",
      "[18:05:39] UpdatePosition: 0.121244s, 800 calls @ 121244us\n",
      "\n",
      "[18:05:39] UpdateTree: 0.378044s, 100 calls @ 378044us\n",
      "\n",
      "[18:05:39] DEBUG: /workspace/src/gbm/gbtree.cc:130: Using tree method: 3\n",
      "[18:05:39] ======== Monitor (0): HostSketchContainer ========\n",
      "[18:05:39] AllReduce: 0.010963s, 1 calls @ 10963us\n",
      "\n",
      "[18:05:39] MakeCuts: 0.012438s, 1 calls @ 12438us\n",
      "\n",
      "[18:05:39] DEBUG: /workspace/src/gbm/gbtree.cc:130: Using tree method: 3\n"
     ]
    },
    {
     "name": "stderr",
     "output_type": "stream",
     "text": [
      "/tmp/ipykernel_13654/829001706.py:6: FutureWarning: suggest_loguniform has been deprecated in v3.0.0. This feature will be removed in v6.0.0. See https://github.com/optuna/optuna/releases/tag/v3.0.0. Use suggest_float(..., log=True) instead.\n",
      "  'lambda': trail.suggest_loguniform('lambda', 1e-10, 1e-4), # lambda uses L2 regularization\n",
      "/tmp/ipykernel_13654/829001706.py:7: FutureWarning: suggest_loguniform has been deprecated in v3.0.0. This feature will be removed in v6.0.0. See https://github.com/optuna/optuna/releases/tag/v3.0.0. Use suggest_float(..., log=True) instead.\n",
      "  'alpha': trail.suggest_loguniform('alpha', 1e-10, 1e-4),\n",
      "/home/aazzioui/Documents/WS/TIMSS-2019_student_score_prediction/env/lib/python3.11/site-packages/xgboost/core.py:160: UserWarning: [18:05:39] WARNING: /workspace/src/learner.cc:742: \n",
      "Parameters: { \"n_estimator\" } are not used.\n",
      "\n",
      "  warnings.warn(smsg, UserWarning)\n"
     ]
    },
    {
     "name": "stdout",
     "output_type": "stream",
     "text": [
      "[0]\tvalidation_0-rmse:59.00594\n"
     ]
    },
    {
     "name": "stderr",
     "output_type": "stream",
     "text": [
      "[I 2023-11-06 18:05:39,964] Trial 64 finished with value: 3481.700606960806 and parameters: {'lambda': 5.013415046907501e-05, 'alpha': 2.0451813201698649e-07, 'colsample_bytree': 0.4, 'subsample': 0.4, 'learning_rate': 1, 'max_depth': 8, 'random_state': 10, 'min_child_weight': 21}. Best is trial 62 with value: 3196.5659548540225.\n"
     ]
    },
    {
     "name": "stdout",
     "output_type": "stream",
     "text": [
      "[18:05:39] ======== Monitor (0): Learner ========\n",
      "[18:05:39] Configure: 0.000814s, 1 calls @ 814us\n",
      "\n",
      "[18:05:39] EvalOneIter: 0.001439s, 1 calls @ 1439us\n",
      "\n",
      "[18:05:39] GetGradient: 8e-06s, 1 calls @ 8us\n",
      "\n",
      "[18:05:39] PredictRaw: 4e-06s, 1 calls @ 4us\n",
      "\n",
      "[18:05:39] UpdateOneIter: 0.119711s, 1 calls @ 119711us\n",
      "\n",
      "[18:05:39] ======== Monitor (0): GBTree ========\n",
      "[18:05:39] BoostNewTrees: 0.110868s, 1 calls @ 110868us\n",
      "\n",
      "[18:05:39] CommitModel: 3e-06s, 1 calls @ 3us\n",
      "\n",
      "[18:05:39] ======== Monitor (0): HistUpdater ========\n",
      "[18:05:39] BuildHistogram: 0.007184s, 457 calls @ 7184us\n",
      "\n",
      "[18:05:39] EvaluateSplits: 0.03151s, 557 calls @ 31510us\n",
      "\n",
      "[18:05:39] InitData: 0.003377s, 100 calls @ 3377us\n",
      "\n",
      "[18:05:39] InitRoot: 0.018443s, 100 calls @ 18443us\n",
      "\n",
      "[18:05:39] LeafPartition: 1.8e-05s, 100 calls @ 18us\n",
      "\n",
      "[18:05:39] UpdatePosition: 0.037509s, 457 calls @ 37509us\n",
      "\n",
      "[18:05:39] UpdateTree: 0.098735s, 100 calls @ 98735us\n",
      "\n",
      "[18:05:39] DEBUG: /workspace/src/gbm/gbtree.cc:130: Using tree method: 3\n"
     ]
    },
    {
     "name": "stderr",
     "output_type": "stream",
     "text": [
      "/tmp/ipykernel_13654/829001706.py:6: FutureWarning: suggest_loguniform has been deprecated in v3.0.0. This feature will be removed in v6.0.0. See https://github.com/optuna/optuna/releases/tag/v3.0.0. Use suggest_float(..., log=True) instead.\n",
      "  'lambda': trail.suggest_loguniform('lambda', 1e-10, 1e-4), # lambda uses L2 regularization\n",
      "/tmp/ipykernel_13654/829001706.py:7: FutureWarning: suggest_loguniform has been deprecated in v3.0.0. This feature will be removed in v6.0.0. See https://github.com/optuna/optuna/releases/tag/v3.0.0. Use suggest_float(..., log=True) instead.\n",
      "  'alpha': trail.suggest_loguniform('alpha', 1e-10, 1e-4),\n"
     ]
    },
    {
     "name": "stdout",
     "output_type": "stream",
     "text": [
      "[18:05:40] ======== Monitor (0): HostSketchContainer ========\n",
      "[18:05:40] AllReduce: 0.017272s, 1 calls @ 17272us\n",
      "\n",
      "[18:05:40] MakeCuts: 0.046928s, 1 calls @ 46928us\n",
      "\n",
      "[18:05:40] DEBUG: /workspace/src/gbm/gbtree.cc:130: Using tree method: 3\n"
     ]
    },
    {
     "name": "stderr",
     "output_type": "stream",
     "text": [
      "/home/aazzioui/Documents/WS/TIMSS-2019_student_score_prediction/env/lib/python3.11/site-packages/xgboost/core.py:160: UserWarning: [18:05:40] WARNING: /workspace/src/learner.cc:742: \n",
      "Parameters: { \"n_estimator\" } are not used.\n",
      "\n",
      "  warnings.warn(smsg, UserWarning)\n"
     ]
    },
    {
     "name": "stdout",
     "output_type": "stream",
     "text": [
      "[0]\tvalidation_0-rmse:57.59469\n"
     ]
    },
    {
     "name": "stderr",
     "output_type": "stream",
     "text": [
      "[I 2023-11-06 18:05:41,391] Trial 65 finished with value: 3317.1479447194424 and parameters: {'lambda': 8.544884247268966e-06, 'alpha': 9.307337141907827e-08, 'colsample_bytree': 0.9, 'subsample': 0.8, 'learning_rate': 1, 'max_depth': 8, 'random_state': 10, 'min_child_weight': 32}. Best is trial 62 with value: 3196.5659548540225.\n"
     ]
    },
    {
     "name": "stdout",
     "output_type": "stream",
     "text": [
      "[18:05:41] ======== Monitor (0): Learner ========\n",
      "[18:05:41] Configure: 0.00737s, 1 calls @ 7370us\n",
      "\n",
      "[18:05:41] EvalOneIter: 0.00071s, 1 calls @ 710us\n",
      "\n",
      "[18:05:41] GetGradient: 0.02006s, 1 calls @ 20060us\n",
      "\n",
      "[18:05:41] PredictRaw: 6e-06s, 1 calls @ 6us\n",
      "\n",
      "[18:05:41] UpdateOneIter: 0.741712s, 1 calls @ 741712us\n",
      "\n",
      "[18:05:41] ======== Monitor (0): GBTree ========\n",
      "[18:05:41] BoostNewTrees: 0.6183s, 1 calls @ 618300us\n",
      "\n",
      "[18:05:41] CommitModel: 2e-06s, 1 calls @ 2us\n",
      "\n",
      "[18:05:41] ======== Monitor (0): HistUpdater ========\n",
      "[18:05:41] BuildHistogram: 0.299383s, 588 calls @ 299383us\n",
      "\n",
      "[18:05:41] EvaluateSplits: 0.082562s, 688 calls @ 82562us\n",
      "\n",
      "[18:05:41] InitData: 0.004544s, 100 calls @ 4544us\n",
      "\n",
      "[18:05:41] InitRoot: 0.004524s, 100 calls @ 4524us\n",
      "\n",
      "[18:05:41] LeafPartition: 2.3e-05s, 100 calls @ 23us\n",
      "\n",
      "[18:05:41] UpdatePosition: 0.199274s, 588 calls @ 199274us\n",
      "\n",
      "[18:05:41] UpdateTree: 0.59196s, 100 calls @ 591960us\n",
      "\n",
      "[18:05:41] DEBUG: /workspace/src/gbm/gbtree.cc:130: Using tree method: 3\n",
      "[18:05:41] ======== Monitor (0): HostSketchContainer ========\n",
      "[18:05:41] AllReduce: 6e-06s, 1 calls @ 6us\n",
      "\n",
      "[18:05:41] MakeCuts: 1.7e-05s, 1 calls @ 17us\n",
      "\n",
      "[18:05:41] DEBUG: /workspace/src/gbm/gbtree.cc:130: Using tree method: 3\n"
     ]
    },
    {
     "name": "stderr",
     "output_type": "stream",
     "text": [
      "/tmp/ipykernel_13654/829001706.py:6: FutureWarning: suggest_loguniform has been deprecated in v3.0.0. This feature will be removed in v6.0.0. See https://github.com/optuna/optuna/releases/tag/v3.0.0. Use suggest_float(..., log=True) instead.\n",
      "  'lambda': trail.suggest_loguniform('lambda', 1e-10, 1e-4), # lambda uses L2 regularization\n",
      "/tmp/ipykernel_13654/829001706.py:7: FutureWarning: suggest_loguniform has been deprecated in v3.0.0. This feature will be removed in v6.0.0. See https://github.com/optuna/optuna/releases/tag/v3.0.0. Use suggest_float(..., log=True) instead.\n",
      "  'alpha': trail.suggest_loguniform('alpha', 1e-10, 1e-4),\n",
      "/home/aazzioui/Documents/WS/TIMSS-2019_student_score_prediction/env/lib/python3.11/site-packages/xgboost/core.py:160: UserWarning: [18:05:41] WARNING: /workspace/src/learner.cc:742: \n",
      "Parameters: { \"n_estimator\" } are not used.\n",
      "\n",
      "  warnings.warn(smsg, UserWarning)\n"
     ]
    },
    {
     "name": "stdout",
     "output_type": "stream",
     "text": [
      "[0]\tvalidation_0-rmse:57.66652\n"
     ]
    },
    {
     "name": "stderr",
     "output_type": "stream",
     "text": [
      "[I 2023-11-06 18:05:41,933] Trial 66 finished with value: 3325.427034043228 and parameters: {'lambda': 1.1593166824196786e-05, 'alpha': 4.9041276855419656e-08, 'colsample_bytree': 0.5, 'subsample': 0.8, 'learning_rate': 1, 'max_depth': 4, 'random_state': 10, 'min_child_weight': 12}. Best is trial 62 with value: 3196.5659548540225.\n"
     ]
    },
    {
     "name": "stdout",
     "output_type": "stream",
     "text": [
      "[18:05:41] ======== Monitor (0): Learner ========\n",
      "[18:05:41] Configure: 0.001222s, 1 calls @ 1222us\n",
      "\n",
      "[18:05:41] EvalOneIter: 0.000555s, 1 calls @ 555us\n",
      "\n",
      "[18:05:41] GetGradient: 0.000381s, 1 calls @ 381us\n",
      "\n",
      "[18:05:41] PredictRaw: 3e-06s, 1 calls @ 3us\n",
      "\n",
      "[18:05:41] UpdateOneIter: 0.348232s, 1 calls @ 348232us\n",
      "\n",
      "[18:05:41] ======== Monitor (0): GBTree ========\n",
      "[18:05:41] BoostNewTrees: 0.346133s, 1 calls @ 346133us\n",
      "\n",
      "[18:05:41] CommitModel: 3e-06s, 1 calls @ 3us\n",
      "\n",
      "[18:05:41] ======== Monitor (0): HistUpdater ========\n",
      "[18:05:41] BuildHistogram: 0.101986s, 300 calls @ 101986us\n",
      "\n",
      "[18:05:41] EvaluateSplits: 0.03883s, 400 calls @ 38830us\n",
      "\n",
      "[18:05:41] InitData: 0.008943s, 100 calls @ 8943us\n",
      "\n",
      "[18:05:41] InitRoot: 0.039706s, 100 calls @ 39706us\n",
      "\n",
      "[18:05:41] LeafPartition: 2e-05s, 100 calls @ 20us\n",
      "\n",
      "[18:05:41] UpdatePosition: 0.153553s, 400 calls @ 153553us\n",
      "\n",
      "[18:05:41] UpdateTree: 0.335795s, 100 calls @ 335795us\n",
      "\n",
      "[18:05:41] DEBUG: /workspace/src/gbm/gbtree.cc:130: Using tree method: 3\n",
      "[18:05:42] ======== Monitor (0): HostSketchContainer ========\n",
      "[18:05:42] AllReduce: 7e-06s, 1 calls @ 7us\n",
      "\n",
      "[18:05:42] MakeCuts: 2.1e-05s, 1 calls @ 21us\n",
      "\n"
     ]
    },
    {
     "name": "stderr",
     "output_type": "stream",
     "text": [
      "/tmp/ipykernel_13654/829001706.py:6: FutureWarning: suggest_loguniform has been deprecated in v3.0.0. This feature will be removed in v6.0.0. See https://github.com/optuna/optuna/releases/tag/v3.0.0. Use suggest_float(..., log=True) instead.\n",
      "  'lambda': trail.suggest_loguniform('lambda', 1e-10, 1e-4), # lambda uses L2 regularization\n",
      "/tmp/ipykernel_13654/829001706.py:7: FutureWarning: suggest_loguniform has been deprecated in v3.0.0. This feature will be removed in v6.0.0. See https://github.com/optuna/optuna/releases/tag/v3.0.0. Use suggest_float(..., log=True) instead.\n",
      "  'alpha': trail.suggest_loguniform('alpha', 1e-10, 1e-4),\n"
     ]
    },
    {
     "name": "stdout",
     "output_type": "stream",
     "text": [
      "[18:05:42] DEBUG: /workspace/src/gbm/gbtree.cc:130: Using tree method: 3\n",
      "[0]\tvalidation_0-rmse:62.91113\n"
     ]
    },
    {
     "name": "stderr",
     "output_type": "stream",
     "text": [
      "/home/aazzioui/Documents/WS/TIMSS-2019_student_score_prediction/env/lib/python3.11/site-packages/xgboost/core.py:160: UserWarning: [18:05:42] WARNING: /workspace/src/learner.cc:742: \n",
      "Parameters: { \"n_estimator\" } are not used.\n",
      "\n",
      "  warnings.warn(smsg, UserWarning)\n",
      "[I 2023-11-06 18:05:42,418] Trial 67 finished with value: 3957.8100771676045 and parameters: {'lambda': 4.800962073004638e-06, 'alpha': 7.142229352695589e-07, 'colsample_bytree': 0.9, 'subsample': 0.2, 'learning_rate': 0.0003, 'max_depth': 3, 'random_state': 10, 'min_child_weight': 47}. Best is trial 62 with value: 3196.5659548540225.\n"
     ]
    },
    {
     "name": "stdout",
     "output_type": "stream",
     "text": [
      "[18:05:42] ======== Monitor (0): Learner ========\n",
      "[18:05:42] Configure: 0.00126s, 1 calls @ 1260us\n",
      "\n",
      "[18:05:42] EvalOneIter: 0.000289s, 1 calls @ 289us\n",
      "\n",
      "[18:05:42] GetGradient: 7e-06s, 1 calls @ 7us\n",
      "\n",
      "[18:05:42] PredictRaw: 4e-06s, 1 calls @ 4us\n",
      "\n",
      "[18:05:42] UpdateOneIter: 0.071339s, 1 calls @ 71339us\n",
      "\n",
      "[18:05:42] ======== Monitor (0): GBTree ========\n",
      "[18:05:42] BoostNewTrees: 0.069614s, 1 calls @ 69614us\n",
      "\n",
      "[18:05:42] CommitModel: 3e-06s, 1 calls @ 3us\n",
      "\n",
      "[18:05:42] ======== Monitor (0): HistUpdater ========\n",
      "[18:05:42] BuildHistogram: 0.002139s, 129 calls @ 2139us\n",
      "\n",
      "[18:05:42] EvaluateSplits: 0.003623s, 229 calls @ 3623us\n",
      "\n",
      "[18:05:42] InitData: 0.001073s, 100 calls @ 1073us\n",
      "\n",
      "[18:05:42] InitRoot: 0.035016s, 100 calls @ 35016us\n",
      "\n",
      "[18:05:42] LeafPartition: 1.7e-05s, 100 calls @ 17us\n",
      "\n",
      "[18:05:42] UpdatePosition: 0.026864s, 129 calls @ 26864us\n",
      "\n",
      "[18:05:42] UpdateTree: 0.067191s, 100 calls @ 67191us\n",
      "\n",
      "[18:05:42] DEBUG: /workspace/src/gbm/gbtree.cc:130: Using tree method: 3\n"
     ]
    },
    {
     "name": "stderr",
     "output_type": "stream",
     "text": [
      "/tmp/ipykernel_13654/829001706.py:6: FutureWarning: suggest_loguniform has been deprecated in v3.0.0. This feature will be removed in v6.0.0. See https://github.com/optuna/optuna/releases/tag/v3.0.0. Use suggest_float(..., log=True) instead.\n",
      "  'lambda': trail.suggest_loguniform('lambda', 1e-10, 1e-4), # lambda uses L2 regularization\n",
      "/tmp/ipykernel_13654/829001706.py:7: FutureWarning: suggest_loguniform has been deprecated in v3.0.0. This feature will be removed in v6.0.0. See https://github.com/optuna/optuna/releases/tag/v3.0.0. Use suggest_float(..., log=True) instead.\n",
      "  'alpha': trail.suggest_loguniform('alpha', 1e-10, 1e-4),\n"
     ]
    },
    {
     "name": "stdout",
     "output_type": "stream",
     "text": [
      "[18:05:42] ======== Monitor (0): HostSketchContainer ========\n",
      "[18:05:42] AllReduce: 0.008405s, 1 calls @ 8405us\n",
      "\n",
      "[18:05:42] MakeCuts: 0.012815s, 1 calls @ 12815us\n",
      "\n",
      "[18:05:42] DEBUG: /workspace/src/gbm/gbtree.cc:130: Using tree method: 3\n",
      "[0]\tvalidation_0-rmse:60.81539\n"
     ]
    },
    {
     "name": "stderr",
     "output_type": "stream",
     "text": [
      "/home/aazzioui/Documents/WS/TIMSS-2019_student_score_prediction/env/lib/python3.11/site-packages/xgboost/core.py:160: UserWarning: [18:05:42] WARNING: /workspace/src/learner.cc:742: \n",
      "Parameters: { \"n_estimator\" } are not used.\n",
      "\n",
      "  warnings.warn(smsg, UserWarning)\n",
      "[I 2023-11-06 18:05:42,899] Trial 68 finished with value: 3698.5120165376675 and parameters: {'lambda': 1.6307645848040086e-05, 'alpha': 2.1369815472063984e-08, 'colsample_bytree': 0.2, 'subsample': 0.1, 'learning_rate': 1, 'max_depth': 11, 'random_state': 5000, 'min_child_weight': 7}. Best is trial 62 with value: 3196.5659548540225.\n"
     ]
    },
    {
     "name": "stdout",
     "output_type": "stream",
     "text": [
      "[18:05:42] ======== Monitor (0): Learner ========\n",
      "[18:05:42] Configure: 0.002277s, 1 calls @ 2277us\n",
      "\n",
      "[18:05:42] EvalOneIter: 0.000373s, 1 calls @ 373us\n",
      "\n",
      "[18:05:42] GetGradient: 1e-05s, 1 calls @ 10us\n",
      "\n",
      "[18:05:42] PredictRaw: 4e-06s, 1 calls @ 4us\n",
      "\n",
      "[18:05:42] UpdateOneIter: 0.048143s, 1 calls @ 48143us\n",
      "\n",
      "[18:05:42] ======== Monitor (0): GBTree ========\n",
      "[18:05:42] BoostNewTrees: 0.040492s, 1 calls @ 40492us\n",
      "\n",
      "[18:05:42] CommitModel: 3e-06s, 1 calls @ 3us\n",
      "\n",
      "[18:05:42] ======== Monitor (0): HistUpdater ========\n",
      "[18:05:42] BuildHistogram: 0.011084s, 251 calls @ 11084us\n",
      "\n",
      "[18:05:42] EvaluateSplits: 0.005773s, 351 calls @ 5773us\n",
      "\n",
      "[18:05:42] InitData: 0.001015s, 100 calls @ 1015us\n",
      "\n",
      "[18:05:42] InitRoot: 0.004043s, 100 calls @ 4043us\n",
      "\n",
      "[18:05:42] LeafPartition: 1.6e-05s, 100 calls @ 16us\n",
      "\n",
      "[18:05:42] UpdatePosition: 0.017603s, 251 calls @ 17603us\n",
      "\n",
      "[18:05:42] UpdateTree: 0.0381s, 100 calls @ 38100us\n",
      "\n",
      "[18:05:42] DEBUG: /workspace/src/gbm/gbtree.cc:130: Using tree method: 3\n"
     ]
    },
    {
     "name": "stderr",
     "output_type": "stream",
     "text": [
      "/tmp/ipykernel_13654/829001706.py:6: FutureWarning: suggest_loguniform has been deprecated in v3.0.0. This feature will be removed in v6.0.0. See https://github.com/optuna/optuna/releases/tag/v3.0.0. Use suggest_float(..., log=True) instead.\n",
      "  'lambda': trail.suggest_loguniform('lambda', 1e-10, 1e-4), # lambda uses L2 regularization\n",
      "/tmp/ipykernel_13654/829001706.py:7: FutureWarning: suggest_loguniform has been deprecated in v3.0.0. This feature will be removed in v6.0.0. See https://github.com/optuna/optuna/releases/tag/v3.0.0. Use suggest_float(..., log=True) instead.\n",
      "  'alpha': trail.suggest_loguniform('alpha', 1e-10, 1e-4),\n"
     ]
    },
    {
     "name": "stdout",
     "output_type": "stream",
     "text": [
      "[18:05:43] ======== Monitor (0): HostSketchContainer ========\n",
      "[18:05:43] AllReduce: 0.013048s, 1 calls @ 13048us\n",
      "\n",
      "[18:05:43] MakeCuts: 0.037191s, 1 calls @ 37191us\n",
      "\n",
      "[18:05:43] DEBUG: /workspace/src/gbm/gbtree.cc:130: Using tree method: 3\n",
      "[0]\tvalidation_0-rmse:62.91228\n",
      "[18:05:43] ======== Monitor (0): Learner ========\n",
      "[18:05:43] Configure: 0.00165s, 1 calls @ 1650us\n",
      "\n",
      "[18:05:43] EvalOneIter: 0.007024s, 1 calls @ 7024us\n",
      "\n",
      "[18:05:43] GetGradient: 6e-06s, 1 calls @ 6us\n",
      "\n",
      "[18:05:43] PredictRaw: 3e-06s, 1 calls @ 3us\n",
      "\n",
      "[18:05:43] UpdateOneIter: 0.102673s, 1 calls @ 102673us\n",
      "\n",
      "[18:05:43] ======== Monitor (0): GBTree ========\n",
      "[18:05:43] BoostNewTrees: 0.100915s, 1 calls @ 100915us\n",
      "\n",
      "[18:05:43] CommitModel: 3e-06s, 1 calls @ 3us\n",
      "\n",
      "[18:05:43] ======== Monitor (0): HistUpdater ========\n",
      "[18:05:43] BuildHistogram: 0.014238s, 485 calls @ 14238us\n",
      "\n",
      "[18:05:43] EvaluateSplits: 0.026446s, 585 calls @ 26446us\n",
      "\n",
      "[18:05:43] InitData: 0.001283s, 100 calls @ 1283us\n",
      "\n",
      "[18:05:43] InitRoot: 0.004096s, 100 calls @ 4096us\n",
      "\n",
      "[18:05:43] LeafPartition: 2e-05s, 100 calls @ 20us\n",
      "\n",
      "[18:05:43] UpdatePosition: 0.050808s, 485 calls @ 50808us\n",
      "\n",
      "[18:05:43] UpdateTree: 0.096986s, 100 calls @ 96986us\n",
      "\n",
      "[18:05:43] DEBUG: /workspace/src/gbm/gbtree.cc:130: Using tree method: 3\n"
     ]
    },
    {
     "name": "stderr",
     "output_type": "stream",
     "text": [
      "/home/aazzioui/Documents/WS/TIMSS-2019_student_score_prediction/env/lib/python3.11/site-packages/xgboost/core.py:160: UserWarning: [18:05:43] WARNING: /workspace/src/learner.cc:742: \n",
      "Parameters: { \"n_estimator\" } are not used.\n",
      "\n",
      "  warnings.warn(smsg, UserWarning)\n",
      "[I 2023-11-06 18:05:43,659] Trial 69 finished with value: 3957.9551874544245 and parameters: {'lambda': 2.9247345212687935e-06, 'alpha': 7.800423268516051e-08, 'colsample_bytree': 0.9, 'subsample': 0.3, 'learning_rate': 1e-05, 'max_depth': 8, 'random_state': 30, 'min_child_weight': 19}. Best is trial 62 with value: 3196.5659548540225.\n",
      "/tmp/ipykernel_13654/829001706.py:6: FutureWarning: suggest_loguniform has been deprecated in v3.0.0. This feature will be removed in v6.0.0. See https://github.com/optuna/optuna/releases/tag/v3.0.0. Use suggest_float(..., log=True) instead.\n",
      "  'lambda': trail.suggest_loguniform('lambda', 1e-10, 1e-4), # lambda uses L2 regularization\n",
      "/tmp/ipykernel_13654/829001706.py:7: FutureWarning: suggest_loguniform has been deprecated in v3.0.0. This feature will be removed in v6.0.0. See https://github.com/optuna/optuna/releases/tag/v3.0.0. Use suggest_float(..., log=True) instead.\n",
      "  'alpha': trail.suggest_loguniform('alpha', 1e-10, 1e-4),\n",
      "/home/aazzioui/Documents/WS/TIMSS-2019_student_score_prediction/env/lib/python3.11/site-packages/xgboost/core.py:160: UserWarning: [18:05:43] WARNING: /workspace/src/learner.cc:742: \n",
      "Parameters: { \"n_estimator\" } are not used.\n",
      "\n",
      "  warnings.warn(smsg, UserWarning)\n"
     ]
    },
    {
     "name": "stdout",
     "output_type": "stream",
     "text": [
      "[18:05:43] ======== Monitor (0): HostSketchContainer ========\n",
      "[18:05:43] AllReduce: 0.003207s, 1 calls @ 3207us\n",
      "\n",
      "[18:05:43] MakeCuts: 0.003232s, 1 calls @ 3232us\n",
      "\n",
      "[18:05:43] DEBUG: /workspace/src/gbm/gbtree.cc:130: Using tree method: 3\n",
      "[0]\tvalidation_0-rmse:62.74528\n"
     ]
    },
    {
     "name": "stderr",
     "output_type": "stream",
     "text": [
      "[I 2023-11-06 18:05:44,208] Trial 70 finished with value: 3936.9706714359722 and parameters: {'lambda': 9.871035702697295e-05, 'alpha': 4.035195475520393e-08, 'colsample_bytree': 0.9, 'subsample': 0.6, 'learning_rate': 0.02, 'max_depth': 8, 'random_state': 10, 'min_child_weight': 33}. Best is trial 62 with value: 3196.5659548540225.\n"
     ]
    },
    {
     "name": "stdout",
     "output_type": "stream",
     "text": [
      "[18:05:44] ======== Monitor (0): Learner ========\n",
      "[18:05:44] Configure: 0.004999s, 1 calls @ 4999us\n",
      "\n",
      "[18:05:44] EvalOneIter: 0.000569s, 1 calls @ 569us\n",
      "\n",
      "[18:05:44] GetGradient: 8e-06s, 1 calls @ 8us\n",
      "\n",
      "[18:05:44] PredictRaw: 4e-06s, 1 calls @ 4us\n",
      "\n",
      "[18:05:44] UpdateOneIter: 0.316377s, 1 calls @ 316377us\n",
      "\n",
      "[18:05:44] ======== Monitor (0): GBTree ========\n",
      "[18:05:44] BoostNewTrees: 0.294844s, 1 calls @ 294844us\n",
      "\n",
      "[18:05:44] CommitModel: 3e-06s, 1 calls @ 3us\n",
      "\n",
      "[18:05:44] ======== Monitor (0): HistUpdater ========\n",
      "[18:05:44] BuildHistogram: 0.075805s, 488 calls @ 75805us\n",
      "\n",
      "[18:05:44] EvaluateSplits: 0.057863s, 588 calls @ 57863us\n",
      "\n",
      "[18:05:44] InitData: 0.031041s, 100 calls @ 31041us\n",
      "\n",
      "[18:05:44] InitRoot: 0.011895s, 100 calls @ 11895us\n",
      "\n",
      "[18:05:44] LeafPartition: 2.3e-05s, 100 calls @ 23us\n",
      "\n",
      "[18:05:44] UpdatePosition: 0.10895s, 488 calls @ 108950us\n",
      "\n",
      "[18:05:44] UpdateTree: 0.278974s, 100 calls @ 278974us\n",
      "\n",
      "[18:05:44] DEBUG: /workspace/src/gbm/gbtree.cc:130: Using tree method: 3\n",
      "[18:05:44] ======== Monitor (0): HostSketchContainer ========\n",
      "[18:05:44] AllReduce: 6e-06s, 1 calls @ 6us\n",
      "\n",
      "[18:05:44] MakeCuts: 1.8e-05s, 1 calls @ 18us\n",
      "\n",
      "[18:05:44] DEBUG: /workspace/src/gbm/gbtree.cc:130: Using tree method: 3\n"
     ]
    },
    {
     "name": "stderr",
     "output_type": "stream",
     "text": [
      "/tmp/ipykernel_13654/829001706.py:6: FutureWarning: suggest_loguniform has been deprecated in v3.0.0. This feature will be removed in v6.0.0. See https://github.com/optuna/optuna/releases/tag/v3.0.0. Use suggest_float(..., log=True) instead.\n",
      "  'lambda': trail.suggest_loguniform('lambda', 1e-10, 1e-4), # lambda uses L2 regularization\n",
      "/tmp/ipykernel_13654/829001706.py:7: FutureWarning: suggest_loguniform has been deprecated in v3.0.0. This feature will be removed in v6.0.0. See https://github.com/optuna/optuna/releases/tag/v3.0.0. Use suggest_float(..., log=True) instead.\n",
      "  'alpha': trail.suggest_loguniform('alpha', 1e-10, 1e-4),\n",
      "/home/aazzioui/Documents/WS/TIMSS-2019_student_score_prediction/env/lib/python3.11/site-packages/xgboost/core.py:160: UserWarning: [18:05:44] WARNING: /workspace/src/learner.cc:742: \n",
      "Parameters: { \"n_estimator\" } are not used.\n",
      "\n",
      "  warnings.warn(smsg, UserWarning)\n"
     ]
    },
    {
     "name": "stdout",
     "output_type": "stream",
     "text": [
      "[0]\tvalidation_0-rmse:60.88420\n"
     ]
    },
    {
     "name": "stderr",
     "output_type": "stream",
     "text": [
      "[I 2023-11-06 18:05:44,606] Trial 71 finished with value: 3706.8857647401196 and parameters: {'lambda': 6.16521133944981e-06, 'alpha': 1.3007094934335344e-07, 'colsample_bytree': 0.9, 'subsample': 0.8, 'learning_rate': 1, 'max_depth': 8, 'random_state': 10, 'min_child_weight': 198}. Best is trial 62 with value: 3196.5659548540225.\n"
     ]
    },
    {
     "name": "stdout",
     "output_type": "stream",
     "text": [
      "[18:05:44] ======== Monitor (0): Learner ========\n",
      "[18:05:44] Configure: 0.000834s, 1 calls @ 834us\n",
      "\n",
      "[18:05:44] EvalOneIter: 0.000947s, 1 calls @ 947us\n",
      "\n",
      "[18:05:44] GetGradient: 6e-06s, 1 calls @ 6us\n",
      "\n",
      "[18:05:44] PredictRaw: 2e-06s, 1 calls @ 2us\n",
      "\n",
      "[18:05:44] UpdateOneIter: 0.215481s, 1 calls @ 215481us\n",
      "\n",
      "[18:05:44] ======== Monitor (0): GBTree ========\n",
      "[18:05:44] BoostNewTrees: 0.214557s, 1 calls @ 214557us\n",
      "\n",
      "[18:05:44] CommitModel: 3e-06s, 1 calls @ 3us\n",
      "\n",
      "[18:05:44] ======== Monitor (0): HistUpdater ========\n",
      "[18:05:44] BuildHistogram: 0.048976s, 100 calls @ 48976us\n",
      "\n",
      "[18:05:44] EvaluateSplits: 0.030129s, 200 calls @ 30129us\n",
      "\n",
      "[18:05:44] InitData: 0.032618s, 100 calls @ 32618us\n",
      "\n",
      "[18:05:44] InitRoot: 0.048393s, 100 calls @ 48393us\n",
      "\n",
      "[18:05:44] LeafPartition: 1.9e-05s, 100 calls @ 19us\n",
      "\n",
      "[18:05:44] UpdatePosition: 0.013763s, 100 calls @ 13763us\n",
      "\n",
      "[18:05:44] UpdateTree: 0.170489s, 100 calls @ 170489us\n",
      "\n",
      "[18:05:44] DEBUG: /workspace/src/gbm/gbtree.cc:130: Using tree method: 3\n",
      "[18:05:44] ======== Monitor (0): HostSketchContainer ========\n",
      "[18:05:44] AllReduce: 6e-06s, 1 calls @ 6us\n",
      "\n",
      "[18:05:44] MakeCuts: 1.7e-05s, 1 calls @ 17us\n",
      "\n"
     ]
    },
    {
     "name": "stderr",
     "output_type": "stream",
     "text": [
      "/tmp/ipykernel_13654/829001706.py:6: FutureWarning: suggest_loguniform has been deprecated in v3.0.0. This feature will be removed in v6.0.0. See https://github.com/optuna/optuna/releases/tag/v3.0.0. Use suggest_float(..., log=True) instead.\n",
      "  'lambda': trail.suggest_loguniform('lambda', 1e-10, 1e-4), # lambda uses L2 regularization\n",
      "/tmp/ipykernel_13654/829001706.py:7: FutureWarning: suggest_loguniform has been deprecated in v3.0.0. This feature will be removed in v6.0.0. See https://github.com/optuna/optuna/releases/tag/v3.0.0. Use suggest_float(..., log=True) instead.\n",
      "  'alpha': trail.suggest_loguniform('alpha', 1e-10, 1e-4),\n",
      "/home/aazzioui/Documents/WS/TIMSS-2019_student_score_prediction/env/lib/python3.11/site-packages/xgboost/core.py:160: UserWarning: [18:05:44] WARNING: /workspace/src/learner.cc:742: \n",
      "Parameters: { \"n_estimator\" } are not used.\n",
      "\n",
      "  warnings.warn(smsg, UserWarning)\n"
     ]
    },
    {
     "name": "stdout",
     "output_type": "stream",
     "text": [
      "[18:05:44] DEBUG: /workspace/src/gbm/gbtree.cc:130: Using tree method: 3\n",
      "[0]\tvalidation_0-rmse:56.43682\n"
     ]
    },
    {
     "name": "stderr",
     "output_type": "stream",
     "text": [
      "[I 2023-11-06 18:05:45,328] Trial 72 finished with value: 3185.1145320175206 and parameters: {'lambda': 8.625751708628921e-06, 'alpha': 9.999372837428588e-08, 'colsample_bytree': 0.9, 'subsample': 0.8, 'learning_rate': 1, 'max_depth': 8, 'random_state': 10, 'min_child_weight': 2}. Best is trial 72 with value: 3185.1145320175206.\n"
     ]
    },
    {
     "name": "stdout",
     "output_type": "stream",
     "text": [
      "[18:05:45] ======== Monitor (0): Learner ========\n",
      "[18:05:45] Configure: 0.002534s, 1 calls @ 2534us\n",
      "\n",
      "[18:05:45] EvalOneIter: 0.009632s, 1 calls @ 9632us\n",
      "\n",
      "[18:05:45] GetGradient: 1e-05s, 1 calls @ 10us\n",
      "\n",
      "[18:05:45] PredictRaw: 4e-06s, 1 calls @ 4us\n",
      "\n",
      "[18:05:45] UpdateOneIter: 0.483363s, 1 calls @ 483363us\n",
      "\n",
      "[18:05:45] ======== Monitor (0): GBTree ========\n",
      "[18:05:45] BoostNewTrees: 0.476013s, 1 calls @ 476013us\n",
      "\n",
      "[18:05:45] CommitModel: 3e-06s, 1 calls @ 3us\n",
      "\n",
      "[18:05:45] ======== Monitor (0): HistUpdater ========\n",
      "[18:05:45] BuildHistogram: 0.151543s, 700 calls @ 151543us\n",
      "\n",
      "[18:05:45] EvaluateSplits: 0.112177s, 800 calls @ 112177us\n",
      "\n",
      "[18:05:45] InitData: 0.004691s, 100 calls @ 4691us\n",
      "\n",
      "[18:05:45] InitRoot: 0.010337s, 100 calls @ 10337us\n",
      "\n",
      "[18:05:45] LeafPartition: 2.7e-05s, 100 calls @ 27us\n",
      "\n",
      "[18:05:45] UpdatePosition: 0.175114s, 800 calls @ 175114us\n",
      "\n",
      "[18:05:45] UpdateTree: 0.472006s, 100 calls @ 472006us\n",
      "\n",
      "[18:05:45] DEBUG: /workspace/src/gbm/gbtree.cc:130: Using tree method: 3\n",
      "[18:05:45] ======== Monitor (0): HostSketchContainer ========\n",
      "[18:05:45] AllReduce: 0.010728s, 1 calls @ 10728us\n",
      "\n",
      "[18:05:45] MakeCuts: 0.018645s, 1 calls @ 18645us\n",
      "\n"
     ]
    },
    {
     "name": "stderr",
     "output_type": "stream",
     "text": [
      "/tmp/ipykernel_13654/829001706.py:6: FutureWarning: suggest_loguniform has been deprecated in v3.0.0. This feature will be removed in v6.0.0. See https://github.com/optuna/optuna/releases/tag/v3.0.0. Use suggest_float(..., log=True) instead.\n",
      "  'lambda': trail.suggest_loguniform('lambda', 1e-10, 1e-4), # lambda uses L2 regularization\n",
      "/tmp/ipykernel_13654/829001706.py:7: FutureWarning: suggest_loguniform has been deprecated in v3.0.0. This feature will be removed in v6.0.0. See https://github.com/optuna/optuna/releases/tag/v3.0.0. Use suggest_float(..., log=True) instead.\n",
      "  'alpha': trail.suggest_loguniform('alpha', 1e-10, 1e-4),\n"
     ]
    },
    {
     "name": "stdout",
     "output_type": "stream",
     "text": [
      "[18:05:45] DEBUG: /workspace/src/gbm/gbtree.cc:130: Using tree method: 3\n"
     ]
    },
    {
     "name": "stderr",
     "output_type": "stream",
     "text": [
      "/home/aazzioui/Documents/WS/TIMSS-2019_student_score_prediction/env/lib/python3.11/site-packages/xgboost/core.py:160: UserWarning: [18:05:45] WARNING: /workspace/src/learner.cc:742: \n",
      "Parameters: { \"n_estimator\" } are not used.\n",
      "\n",
      "  warnings.warn(smsg, UserWarning)\n"
     ]
    },
    {
     "name": "stdout",
     "output_type": "stream",
     "text": [
      "[0]\tvalidation_0-rmse:57.00292\n"
     ]
    },
    {
     "name": "stderr",
     "output_type": "stream",
     "text": [
      "[I 2023-11-06 18:05:46,975] Trial 73 finished with value: 3249.3328092239203 and parameters: {'lambda': 9.843502213628067e-06, 'alpha': 1.7979242837397692e-07, 'colsample_bytree': 0.9, 'subsample': 0.8, 'learning_rate': 1, 'max_depth': 8, 'random_state': 10, 'min_child_weight': 1}. Best is trial 72 with value: 3185.1145320175206.\n"
     ]
    },
    {
     "name": "stdout",
     "output_type": "stream",
     "text": [
      "[18:05:46] ======== Monitor (0): Learner ========\n",
      "[18:05:46] Configure: 0.004507s, 1 calls @ 4507us\n",
      "\n",
      "[18:05:46] EvalOneIter: 0.009005s, 1 calls @ 9005us\n",
      "\n",
      "[18:05:46] GetGradient: 8e-06s, 1 calls @ 8us\n",
      "\n",
      "[18:05:46] PredictRaw: 4e-06s, 1 calls @ 4us\n",
      "\n",
      "[18:05:46] UpdateOneIter: 1.28995s, 1 calls @ 1289946us\n",
      "\n",
      "[18:05:46] ======== Monitor (0): GBTree ========\n",
      "[18:05:46] BoostNewTrees: 1.24964s, 1 calls @ 1249642us\n",
      "\n",
      "[18:05:46] CommitModel: 3e-06s, 1 calls @ 3us\n",
      "\n",
      "[18:05:46] ======== Monitor (0): HistUpdater ========\n",
      "[18:05:46] BuildHistogram: 0.388341s, 700 calls @ 388341us\n",
      "\n",
      "[18:05:46] EvaluateSplits: 0.213049s, 800 calls @ 213049us\n",
      "\n",
      "[18:05:46] InitData: 0.040094s, 100 calls @ 40094us\n",
      "\n",
      "[18:05:46] InitRoot: 0.073161s, 100 calls @ 73161us\n",
      "\n",
      "[18:05:46] LeafPartition: 2.9e-05s, 100 calls @ 29us\n",
      "\n",
      "[18:05:46] UpdatePosition: 0.480206s, 800 calls @ 480206us\n",
      "\n",
      "[18:05:46] UpdateTree: 1.22162s, 100 calls @ 1221618us\n",
      "\n",
      "[18:05:46] DEBUG: /workspace/src/gbm/gbtree.cc:130: Using tree method: 3\n"
     ]
    },
    {
     "name": "stderr",
     "output_type": "stream",
     "text": [
      "/tmp/ipykernel_13654/829001706.py:6: FutureWarning: suggest_loguniform has been deprecated in v3.0.0. This feature will be removed in v6.0.0. See https://github.com/optuna/optuna/releases/tag/v3.0.0. Use suggest_float(..., log=True) instead.\n",
      "  'lambda': trail.suggest_loguniform('lambda', 1e-10, 1e-4), # lambda uses L2 regularization\n",
      "/tmp/ipykernel_13654/829001706.py:7: FutureWarning: suggest_loguniform has been deprecated in v3.0.0. This feature will be removed in v6.0.0. See https://github.com/optuna/optuna/releases/tag/v3.0.0. Use suggest_float(..., log=True) instead.\n",
      "  'alpha': trail.suggest_loguniform('alpha', 1e-10, 1e-4),\n"
     ]
    },
    {
     "name": "stdout",
     "output_type": "stream",
     "text": [
      "[18:05:47] ======== Monitor (0): HostSketchContainer ========\n",
      "[18:05:47] AllReduce: 0.01347s, 1 calls @ 13470us\n",
      "\n",
      "[18:05:47] MakeCuts: 0.045265s, 1 calls @ 45265us\n",
      "\n",
      "[18:05:47] DEBUG: /workspace/src/gbm/gbtree.cc:130: Using tree method: 3\n"
     ]
    },
    {
     "name": "stderr",
     "output_type": "stream",
     "text": [
      "/home/aazzioui/Documents/WS/TIMSS-2019_student_score_prediction/env/lib/python3.11/site-packages/xgboost/core.py:160: UserWarning: [18:05:47] WARNING: /workspace/src/learner.cc:742: \n",
      "Parameters: { \"n_estimator\" } are not used.\n",
      "\n",
      "  warnings.warn(smsg, UserWarning)\n"
     ]
    },
    {
     "name": "stdout",
     "output_type": "stream",
     "text": [
      "[0]\tvalidation_0-rmse:56.41208\n"
     ]
    },
    {
     "name": "stderr",
     "output_type": "stream",
     "text": [
      "[I 2023-11-06 18:05:48,289] Trial 74 finished with value: 3182.322467967953 and parameters: {'lambda': 3.453361289361467e-06, 'alpha': 5.317573701981963e-08, 'colsample_bytree': 0.9, 'subsample': 0.8, 'learning_rate': 1, 'max_depth': 10, 'random_state': 10, 'min_child_weight': 17}. Best is trial 74 with value: 3182.322467967953.\n"
     ]
    },
    {
     "name": "stdout",
     "output_type": "stream",
     "text": [
      "[18:05:48] ======== Monitor (0): Learner ========\n",
      "[18:05:48] Configure: 0.001564s, 1 calls @ 1564us\n",
      "\n",
      "[18:05:48] EvalOneIter: 0.000783s, 1 calls @ 783us\n",
      "\n",
      "[18:05:48] GetGradient: 0.014677s, 1 calls @ 14677us\n",
      "\n",
      "[18:05:48] PredictRaw: 5e-06s, 1 calls @ 5us\n",
      "\n",
      "[18:05:48] UpdateOneIter: 0.623137s, 1 calls @ 623137us\n",
      "\n",
      "[18:05:48] ======== Monitor (0): GBTree ========\n",
      "[18:05:48] BoostNewTrees: 0.536247s, 1 calls @ 536247us\n",
      "\n",
      "[18:05:48] CommitModel: 3e-06s, 1 calls @ 3us\n",
      "\n",
      "[18:05:48] ======== Monitor (0): HistUpdater ========\n",
      "[18:05:48] BuildHistogram: 0.177277s, 801 calls @ 177277us\n",
      "\n",
      "[18:05:48] EvaluateSplits: 0.07441s, 901 calls @ 74410us\n",
      "\n",
      "[18:05:48] InitData: 0.02567s, 100 calls @ 25670us\n",
      "\n",
      "[18:05:48] InitRoot: 0.101894s, 100 calls @ 101894us\n",
      "\n",
      "[18:05:48] LeafPartition: 2.2e-05s, 100 calls @ 22us\n",
      "\n",
      "[18:05:48] UpdatePosition: 0.159693s, 805 calls @ 159693us\n",
      "\n",
      "[18:05:48] UpdateTree: 0.517148s, 100 calls @ 517148us\n",
      "\n",
      "[18:05:48] DEBUG: /workspace/src/gbm/gbtree.cc:130: Using tree method: 3\n",
      "[18:05:48] ======== Monitor (0): HostSketchContainer ========\n",
      "[18:05:48] AllReduce: 5e-06s, 1 calls @ 5us\n",
      "\n",
      "[18:05:48] MakeCuts: 1.5e-05s, 1 calls @ 15us\n",
      "\n",
      "[18:05:48] DEBUG: /workspace/src/gbm/gbtree.cc:130: Using tree method: 3\n"
     ]
    },
    {
     "name": "stderr",
     "output_type": "stream",
     "text": [
      "/tmp/ipykernel_13654/829001706.py:6: FutureWarning: suggest_loguniform has been deprecated in v3.0.0. This feature will be removed in v6.0.0. See https://github.com/optuna/optuna/releases/tag/v3.0.0. Use suggest_float(..., log=True) instead.\n",
      "  'lambda': trail.suggest_loguniform('lambda', 1e-10, 1e-4), # lambda uses L2 regularization\n",
      "/tmp/ipykernel_13654/829001706.py:7: FutureWarning: suggest_loguniform has been deprecated in v3.0.0. This feature will be removed in v6.0.0. See https://github.com/optuna/optuna/releases/tag/v3.0.0. Use suggest_float(..., log=True) instead.\n",
      "  'alpha': trail.suggest_loguniform('alpha', 1e-10, 1e-4),\n",
      "/home/aazzioui/Documents/WS/TIMSS-2019_student_score_prediction/env/lib/python3.11/site-packages/xgboost/core.py:160: UserWarning: [18:05:48] WARNING: /workspace/src/learner.cc:742: \n",
      "Parameters: { \"n_estimator\" } are not used.\n",
      "\n",
      "  warnings.warn(smsg, UserWarning)\n"
     ]
    },
    {
     "name": "stdout",
     "output_type": "stream",
     "text": [
      "[0]\tvalidation_0-rmse:56.57443\n"
     ]
    },
    {
     "name": "stderr",
     "output_type": "stream",
     "text": [
      "[I 2023-11-06 18:05:49,146] Trial 75 finished with value: 3200.666022364923 and parameters: {'lambda': 3.2701625274466512e-06, 'alpha': 5.812031553113274e-08, 'colsample_bytree': 0.9, 'subsample': 0.7, 'learning_rate': 1, 'max_depth': 10, 'random_state': 10, 'min_child_weight': 15}. Best is trial 74 with value: 3182.322467967953.\n"
     ]
    },
    {
     "name": "stdout",
     "output_type": "stream",
     "text": [
      "[18:05:49] ======== Monitor (0): Learner ========\n",
      "[18:05:49] Configure: 0.000981s, 1 calls @ 981us\n",
      "\n",
      "[18:05:49] EvalOneIter: 0.001226s, 1 calls @ 1226us\n",
      "\n",
      "[18:05:49] GetGradient: 8e-06s, 1 calls @ 8us\n",
      "\n",
      "[18:05:49] PredictRaw: 4e-06s, 1 calls @ 4us\n",
      "\n",
      "[18:05:49] UpdateOneIter: 0.658189s, 1 calls @ 658189us\n",
      "\n",
      "[18:05:49] ======== Monitor (0): GBTree ========\n",
      "[18:05:49] BoostNewTrees: 0.647818s, 1 calls @ 647818us\n",
      "\n",
      "[18:05:49] CommitModel: 2e-06s, 1 calls @ 2us\n",
      "\n",
      "[18:05:49] ======== Monitor (0): HistUpdater ========\n",
      "[18:05:49] BuildHistogram: 0.25436s, 807 calls @ 254360us\n",
      "\n",
      "[18:05:49] EvaluateSplits: 0.158392s, 907 calls @ 158392us\n",
      "\n",
      "[18:05:49] InitData: 0.00327s, 100 calls @ 3270us\n",
      "\n",
      "[18:05:49] InitRoot: 0.003602s, 100 calls @ 3602us\n",
      "\n",
      "[18:05:49] LeafPartition: 2.4e-05s, 100 calls @ 24us\n",
      "\n",
      "[18:05:49] UpdatePosition: 0.208402s, 815 calls @ 208402us\n",
      "\n",
      "[18:05:49] UpdateTree: 0.632556s, 100 calls @ 632556us\n",
      "\n",
      "[18:05:49] DEBUG: /workspace/src/gbm/gbtree.cc:130: Using tree method: 3\n"
     ]
    },
    {
     "name": "stderr",
     "output_type": "stream",
     "text": [
      "/tmp/ipykernel_13654/829001706.py:6: FutureWarning: suggest_loguniform has been deprecated in v3.0.0. This feature will be removed in v6.0.0. See https://github.com/optuna/optuna/releases/tag/v3.0.0. Use suggest_float(..., log=True) instead.\n",
      "  'lambda': trail.suggest_loguniform('lambda', 1e-10, 1e-4), # lambda uses L2 regularization\n",
      "/tmp/ipykernel_13654/829001706.py:7: FutureWarning: suggest_loguniform has been deprecated in v3.0.0. This feature will be removed in v6.0.0. See https://github.com/optuna/optuna/releases/tag/v3.0.0. Use suggest_float(..., log=True) instead.\n",
      "  'alpha': trail.suggest_loguniform('alpha', 1e-10, 1e-4),\n"
     ]
    },
    {
     "name": "stdout",
     "output_type": "stream",
     "text": [
      "[18:05:49] ======== Monitor (0): HostSketchContainer ========\n",
      "[18:05:49] AllReduce: 0.016634s, 1 calls @ 16634us\n",
      "\n",
      "[18:05:49] MakeCuts: 0.02561s, 1 calls @ 25610us\n",
      "\n",
      "[18:05:49] DEBUG: /workspace/src/gbm/gbtree.cc:130: Using tree method: 3\n"
     ]
    },
    {
     "name": "stderr",
     "output_type": "stream",
     "text": [
      "/home/aazzioui/Documents/WS/TIMSS-2019_student_score_prediction/env/lib/python3.11/site-packages/xgboost/core.py:160: UserWarning: [18:05:49] WARNING: /workspace/src/learner.cc:742: \n",
      "Parameters: { \"n_estimator\" } are not used.\n",
      "\n",
      "  warnings.warn(smsg, UserWarning)\n"
     ]
    },
    {
     "name": "stdout",
     "output_type": "stream",
     "text": [
      "[0]\tvalidation_0-rmse:56.26813\n"
     ]
    },
    {
     "name": "stderr",
     "output_type": "stream",
     "text": [
      "[I 2023-11-06 18:05:49,944] Trial 76 finished with value: 3166.1022077493108 and parameters: {'lambda': 3.378996640660574e-06, 'alpha': 2.8431726962713403e-08, 'colsample_bytree': 0.9, 'subsample': 0.7, 'learning_rate': 1, 'max_depth': 10, 'random_state': 10, 'min_child_weight': 12}. Best is trial 76 with value: 3166.1022077493108.\n"
     ]
    },
    {
     "name": "stdout",
     "output_type": "stream",
     "text": [
      "[18:05:49] ======== Monitor (0): Learner ========\n",
      "[18:05:49] Configure: 0.001066s, 1 calls @ 1066us\n",
      "\n",
      "[18:05:49] EvalOneIter: 0.02131s, 1 calls @ 21310us\n",
      "\n",
      "[18:05:49] GetGradient: 7e-06s, 1 calls @ 7us\n",
      "\n",
      "[18:05:49] PredictRaw: 3e-06s, 1 calls @ 3us\n",
      "\n",
      "[18:05:49] UpdateOneIter: 0.351911s, 1 calls @ 351911us\n",
      "\n",
      "[18:05:49] ======== Monitor (0): GBTree ========\n",
      "[18:05:49] BoostNewTrees: 0.3506s, 1 calls @ 350600us\n",
      "\n",
      "[18:05:49] CommitModel: 3e-06s, 1 calls @ 3us\n",
      "\n",
      "[18:05:49] ======== Monitor (0): HistUpdater ========\n",
      "[18:05:49] BuildHistogram: 0.087192s, 854 calls @ 87192us\n",
      "\n",
      "[18:05:49] EvaluateSplits: 0.062066s, 954 calls @ 62066us\n",
      "\n",
      "[18:05:49] InitData: 0.016962s, 100 calls @ 16962us\n",
      "\n",
      "[18:05:49] InitRoot: 0.069894s, 100 calls @ 69894us\n",
      "\n",
      "[18:05:49] LeafPartition: 2.6e-05s, 100 calls @ 26us\n",
      "\n",
      "[18:05:49] UpdatePosition: 0.125516s, 867 calls @ 125516us\n",
      "\n",
      "[18:05:49] UpdateTree: 0.343277s, 100 calls @ 343277us\n",
      "\n",
      "[18:05:49] DEBUG: /workspace/src/gbm/gbtree.cc:130: Using tree method: 3\n"
     ]
    },
    {
     "name": "stderr",
     "output_type": "stream",
     "text": [
      "/tmp/ipykernel_13654/829001706.py:6: FutureWarning: suggest_loguniform has been deprecated in v3.0.0. This feature will be removed in v6.0.0. See https://github.com/optuna/optuna/releases/tag/v3.0.0. Use suggest_float(..., log=True) instead.\n",
      "  'lambda': trail.suggest_loguniform('lambda', 1e-10, 1e-4), # lambda uses L2 regularization\n",
      "/tmp/ipykernel_13654/829001706.py:7: FutureWarning: suggest_loguniform has been deprecated in v3.0.0. This feature will be removed in v6.0.0. See https://github.com/optuna/optuna/releases/tag/v3.0.0. Use suggest_float(..., log=True) instead.\n",
      "  'alpha': trail.suggest_loguniform('alpha', 1e-10, 1e-4),\n"
     ]
    },
    {
     "name": "stdout",
     "output_type": "stream",
     "text": [
      "[18:05:50] ======== Monitor (0): HostSketchContainer ========\n",
      "[18:05:50] AllReduce: 0.025307s, 1 calls @ 25307us\n",
      "\n",
      "[18:05:50] MakeCuts: 0.054209s, 1 calls @ 54209us\n",
      "\n",
      "[18:05:50] DEBUG: /workspace/src/gbm/gbtree.cc:130: Using tree method: 3\n",
      "[0]\tvalidation_0-rmse:57.92725\n"
     ]
    },
    {
     "name": "stderr",
     "output_type": "stream",
     "text": [
      "/home/aazzioui/Documents/WS/TIMSS-2019_student_score_prediction/env/lib/python3.11/site-packages/xgboost/core.py:160: UserWarning: [18:05:50] WARNING: /workspace/src/learner.cc:742: \n",
      "Parameters: { \"n_estimator\" } are not used.\n",
      "\n",
      "  warnings.warn(smsg, UserWarning)\n",
      "[I 2023-11-06 18:05:50,551] Trial 77 finished with value: 3355.5659631103144 and parameters: {'lambda': 3.7253971807478618e-06, 'alpha': 2.614735372189272e-08, 'colsample_bytree': 0.1, 'subsample': 0.7, 'learning_rate': 10, 'max_depth': 10, 'random_state': 10, 'min_child_weight': 10}. Best is trial 76 with value: 3166.1022077493108.\n",
      "/tmp/ipykernel_13654/829001706.py:6: FutureWarning: suggest_loguniform has been deprecated in v3.0.0. This feature will be removed in v6.0.0. See https://github.com/optuna/optuna/releases/tag/v3.0.0. Use suggest_float(..., log=True) instead.\n",
      "  'lambda': trail.suggest_loguniform('lambda', 1e-10, 1e-4), # lambda uses L2 regularization\n",
      "/tmp/ipykernel_13654/829001706.py:7: FutureWarning: suggest_loguniform has been deprecated in v3.0.0. This feature will be removed in v6.0.0. See https://github.com/optuna/optuna/releases/tag/v3.0.0. Use suggest_float(..., log=True) instead.\n",
      "  'alpha': trail.suggest_loguniform('alpha', 1e-10, 1e-4),\n"
     ]
    },
    {
     "name": "stdout",
     "output_type": "stream",
     "text": [
      "[18:05:50] ======== Monitor (0): Learner ========\n",
      "[18:05:50] Configure: 0.000944s, 1 calls @ 944us\n",
      "\n",
      "[18:05:50] EvalOneIter: 0.000322s, 1 calls @ 322us\n",
      "\n",
      "[18:05:50] GetGradient: 9e-06s, 1 calls @ 9us\n",
      "\n",
      "[18:05:50] PredictRaw: 5e-06s, 1 calls @ 5us\n",
      "\n",
      "[18:05:50] UpdateOneIter: 0.068363s, 1 calls @ 68363us\n",
      "\n",
      "[18:05:50] ======== Monitor (0): GBTree ========\n",
      "[18:05:50] BoostNewTrees: 0.035982s, 1 calls @ 35982us\n",
      "\n",
      "[18:05:50] CommitModel: 3e-06s, 1 calls @ 3us\n",
      "\n",
      "[18:05:50] ======== Monitor (0): HistUpdater ========\n",
      "[18:05:50] BuildHistogram: 0.004591s, 249 calls @ 4591us\n",
      "\n",
      "[18:05:50] EvaluateSplits: 0.003814s, 349 calls @ 3814us\n",
      "\n",
      "[18:05:50] InitData: 0.001139s, 100 calls @ 1139us\n",
      "\n",
      "[18:05:50] InitRoot: 0.002654s, 100 calls @ 2654us\n",
      "\n",
      "[18:05:50] LeafPartition: 1.4e-05s, 100 calls @ 14us\n",
      "\n",
      "[18:05:50] UpdatePosition: 0.0197s, 249 calls @ 19700us\n",
      "\n",
      "[18:05:50] UpdateTree: 0.031946s, 100 calls @ 31946us\n",
      "\n",
      "[18:05:50] DEBUG: /workspace/src/gbm/gbtree.cc:130: Using tree method: 3\n",
      "[18:05:50] ======== Monitor (0): HostSketchContainer ========\n",
      "[18:05:50] AllReduce: 0.031971s, 1 calls @ 31971us\n",
      "\n",
      "[18:05:50] MakeCuts: 0.0456s, 1 calls @ 45600us\n",
      "\n",
      "[18:05:50] DEBUG: /workspace/src/gbm/gbtree.cc:130: Using tree method: 3\n"
     ]
    },
    {
     "name": "stderr",
     "output_type": "stream",
     "text": [
      "/home/aazzioui/Documents/WS/TIMSS-2019_student_score_prediction/env/lib/python3.11/site-packages/xgboost/core.py:160: UserWarning: [18:05:50] WARNING: /workspace/src/learner.cc:742: \n",
      "Parameters: { \"n_estimator\" } are not used.\n",
      "\n",
      "  warnings.warn(smsg, UserWarning)\n"
     ]
    },
    {
     "name": "stdout",
     "output_type": "stream",
     "text": [
      "[0]\tvalidation_0-rmse:56.45681\n"
     ]
    },
    {
     "name": "stderr",
     "output_type": "stream",
     "text": [
      "[I 2023-11-06 18:05:51,765] Trial 78 finished with value: 3187.3711211575096 and parameters: {'lambda': 2.193323608729069e-06, 'alpha': 3.441537040444077e-08, 'colsample_bytree': 0.9, 'subsample': 0.7, 'learning_rate': 1, 'max_depth': 10, 'random_state': 10, 'min_child_weight': 19}. Best is trial 76 with value: 3166.1022077493108.\n"
     ]
    },
    {
     "name": "stdout",
     "output_type": "stream",
     "text": [
      "[18:05:51] ======== Monitor (0): Learner ========\n",
      "[18:05:51] Configure: 0.000895s, 1 calls @ 895us\n",
      "\n",
      "[18:05:51] EvalOneIter: 0.011037s, 1 calls @ 11037us\n",
      "\n",
      "[18:05:51] GetGradient: 7e-06s, 1 calls @ 7us\n",
      "\n",
      "[18:05:51] PredictRaw: 5e-06s, 1 calls @ 5us\n",
      "\n",
      "[18:05:51] UpdateOneIter: 0.779674s, 1 calls @ 779674us\n",
      "\n",
      "[18:05:51] ======== Monitor (0): GBTree ========\n",
      "[18:05:51] BoostNewTrees: 0.754403s, 1 calls @ 754403us\n",
      "\n",
      "[18:05:51] CommitModel: 3e-06s, 1 calls @ 3us\n",
      "\n",
      "[18:05:51] ======== Monitor (0): HistUpdater ========\n",
      "[18:05:51] BuildHistogram: 0.31562s, 727 calls @ 315620us\n",
      "\n",
      "[18:05:51] EvaluateSplits: 0.085678s, 827 calls @ 85678us\n",
      "\n",
      "[18:05:51] InitData: 0.019173s, 100 calls @ 19173us\n",
      "\n",
      "[18:05:51] InitRoot: 0.114645s, 100 calls @ 114645us\n",
      "\n",
      "[18:05:51] LeafPartition: 2.5e-05s, 100 calls @ 25us\n",
      "\n",
      "[18:05:51] UpdatePosition: 0.246325s, 727 calls @ 246325us\n",
      "\n",
      "[18:05:51] UpdateTree: 0.748697s, 100 calls @ 748697us\n",
      "\n",
      "[18:05:51] DEBUG: /workspace/src/gbm/gbtree.cc:130: Using tree method: 3\n",
      "[18:05:51] ======== Monitor (0): HostSketchContainer ========\n",
      "[18:05:51] AllReduce: 5e-06s, 1 calls @ 5us\n",
      "\n",
      "[18:05:51] MakeCuts: 1.7e-05s, 1 calls @ 17us\n",
      "\n",
      "[18:05:51] DEBUG: /workspace/src/gbm/gbtree.cc:130: Using tree method: 3\n"
     ]
    },
    {
     "name": "stderr",
     "output_type": "stream",
     "text": [
      "/tmp/ipykernel_13654/829001706.py:6: FutureWarning: suggest_loguniform has been deprecated in v3.0.0. This feature will be removed in v6.0.0. See https://github.com/optuna/optuna/releases/tag/v3.0.0. Use suggest_float(..., log=True) instead.\n",
      "  'lambda': trail.suggest_loguniform('lambda', 1e-10, 1e-4), # lambda uses L2 regularization\n",
      "/tmp/ipykernel_13654/829001706.py:7: FutureWarning: suggest_loguniform has been deprecated in v3.0.0. This feature will be removed in v6.0.0. See https://github.com/optuna/optuna/releases/tag/v3.0.0. Use suggest_float(..., log=True) instead.\n",
      "  'alpha': trail.suggest_loguniform('alpha', 1e-10, 1e-4),\n",
      "/home/aazzioui/Documents/WS/TIMSS-2019_student_score_prediction/env/lib/python3.11/site-packages/xgboost/core.py:160: UserWarning: [18:05:51] WARNING: /workspace/src/learner.cc:742: \n",
      "Parameters: { \"n_estimator\" } are not used.\n",
      "\n",
      "  warnings.warn(smsg, UserWarning)\n"
     ]
    },
    {
     "name": "stdout",
     "output_type": "stream",
     "text": [
      "[0]\tvalidation_0-rmse:58.36585\n"
     ]
    },
    {
     "name": "stderr",
     "output_type": "stream",
     "text": [
      "[I 2023-11-06 18:05:52,206] Trial 79 finished with value: 3406.5720500389343 and parameters: {'lambda': 2.1542483346034435e-06, 'alpha': 1.9203307476313535e-08, 'colsample_bytree': 0.5, 'subsample': 0.7, 'learning_rate': 1, 'max_depth': 10, 'random_state': 5000, 'min_child_weight': 35}. Best is trial 76 with value: 3166.1022077493108.\n"
     ]
    },
    {
     "name": "stdout",
     "output_type": "stream",
     "text": [
      "[18:05:52] ======== Monitor (0): Learner ========\n",
      "[18:05:52] Configure: 0.000852s, 1 calls @ 852us\n",
      "\n",
      "[18:05:52] EvalOneIter: 0.018731s, 1 calls @ 18731us\n",
      "\n",
      "[18:05:52] GetGradient: 6e-06s, 1 calls @ 6us\n",
      "\n",
      "[18:05:52] PredictRaw: 2e-06s, 1 calls @ 2us\n",
      "\n",
      "[18:05:52] UpdateOneIter: 0.233033s, 1 calls @ 233033us\n",
      "\n",
      "[18:05:52] ======== Monitor (0): GBTree ========\n",
      "[18:05:52] BoostNewTrees: 0.232092s, 1 calls @ 232092us\n",
      "\n",
      "[18:05:52] CommitModel: 3e-06s, 1 calls @ 3us\n",
      "\n",
      "[18:05:52] ======== Monitor (0): HistUpdater ========\n",
      "[18:05:52] BuildHistogram: 0.055523s, 486 calls @ 55523us\n",
      "\n",
      "[18:05:52] EvaluateSplits: 0.040388s, 586 calls @ 40388us\n",
      "\n",
      "[18:05:52] InitData: 0.003843s, 100 calls @ 3843us\n",
      "\n",
      "[18:05:52] InitRoot: 0.012781s, 100 calls @ 12781us\n",
      "\n",
      "[18:05:52] LeafPartition: 2e-05s, 100 calls @ 20us\n",
      "\n",
      "[18:05:52] UpdatePosition: 0.116173s, 486 calls @ 116173us\n",
      "\n",
      "[18:05:52] UpdateTree: 0.228316s, 100 calls @ 228316us\n",
      "\n",
      "[18:05:52] DEBUG: /workspace/src/gbm/gbtree.cc:130: Using tree method: 3\n"
     ]
    },
    {
     "name": "stderr",
     "output_type": "stream",
     "text": [
      "/tmp/ipykernel_13654/829001706.py:6: FutureWarning: suggest_loguniform has been deprecated in v3.0.0. This feature will be removed in v6.0.0. See https://github.com/optuna/optuna/releases/tag/v3.0.0. Use suggest_float(..., log=True) instead.\n",
      "  'lambda': trail.suggest_loguniform('lambda', 1e-10, 1e-4), # lambda uses L2 regularization\n",
      "/tmp/ipykernel_13654/829001706.py:7: FutureWarning: suggest_loguniform has been deprecated in v3.0.0. This feature will be removed in v6.0.0. See https://github.com/optuna/optuna/releases/tag/v3.0.0. Use suggest_float(..., log=True) instead.\n",
      "  'alpha': trail.suggest_loguniform('alpha', 1e-10, 1e-4),\n"
     ]
    },
    {
     "name": "stdout",
     "output_type": "stream",
     "text": [
      "[18:05:52] ======== Monitor (0): HostSketchContainer ========\n",
      "[18:05:52] AllReduce: 6e-06s, 1 calls @ 6us\n",
      "\n",
      "[18:05:52] MakeCuts: 1.8e-05s, 1 calls @ 18us\n",
      "\n",
      "[18:05:52] DEBUG: /workspace/src/gbm/gbtree.cc:130: Using tree method: 3\n"
     ]
    },
    {
     "name": "stderr",
     "output_type": "stream",
     "text": [
      "/home/aazzioui/Documents/WS/TIMSS-2019_student_score_prediction/env/lib/python3.11/site-packages/xgboost/core.py:160: UserWarning: [18:05:52] WARNING: /workspace/src/learner.cc:742: \n",
      "Parameters: { \"n_estimator\" } are not used.\n",
      "\n",
      "  warnings.warn(smsg, UserWarning)\n"
     ]
    },
    {
     "name": "stdout",
     "output_type": "stream",
     "text": [
      "[0]\tvalidation_0-rmse:62.87101\n"
     ]
    },
    {
     "name": "stderr",
     "output_type": "stream",
     "text": [
      "[I 2023-11-06 18:05:53,130] Trial 80 finished with value: 3952.7637919341646 and parameters: {'lambda': 1.2847298656009656e-06, 'alpha': 4.0709647991191505e-08, 'colsample_bytree': 0.9, 'subsample': 0.7, 'learning_rate': 0.004, 'max_depth': 10, 'random_state': 10, 'min_child_weight': 17}. Best is trial 76 with value: 3166.1022077493108.\n"
     ]
    },
    {
     "name": "stdout",
     "output_type": "stream",
     "text": [
      "[18:05:53] ======== Monitor (0): Learner ========\n",
      "[18:05:53] Configure: 0.001031s, 1 calls @ 1031us\n",
      "\n",
      "[18:05:53] EvalOneIter: 0.000764s, 1 calls @ 764us\n",
      "\n",
      "[18:05:53] GetGradient: 0.002728s, 1 calls @ 2728us\n",
      "\n",
      "[18:05:53] PredictRaw: 5e-06s, 1 calls @ 5us\n",
      "\n",
      "[18:05:53] UpdateOneIter: 0.508039s, 1 calls @ 508039us\n",
      "\n",
      "[18:05:53] ======== Monitor (0): GBTree ========\n",
      "[18:05:53] BoostNewTrees: 0.461855s, 1 calls @ 461855us\n",
      "\n",
      "[18:05:53] CommitModel: 2e-06s, 1 calls @ 2us\n",
      "\n",
      "[18:05:53] ======== Monitor (0): HistUpdater ========\n",
      "[18:05:53] BuildHistogram: 0.095006s, 757 calls @ 95006us\n",
      "\n",
      "[18:05:53] EvaluateSplits: 0.090755s, 857 calls @ 90755us\n",
      "\n",
      "[18:05:53] InitData: 0.034548s, 100 calls @ 34548us\n",
      "\n",
      "[18:05:53] InitRoot: 0.047854s, 100 calls @ 47854us\n",
      "\n",
      "[18:05:53] LeafPartition: 2.6e-05s, 100 calls @ 26us\n",
      "\n",
      "[18:05:53] UpdatePosition: 0.151319s, 758 calls @ 151319us\n",
      "\n",
      "[18:05:53] UpdateTree: 0.427119s, 100 calls @ 427119us\n",
      "\n",
      "[18:05:53] DEBUG: /workspace/src/gbm/gbtree.cc:130: Using tree method: 3\n"
     ]
    },
    {
     "name": "stderr",
     "output_type": "stream",
     "text": [
      "/tmp/ipykernel_13654/829001706.py:6: FutureWarning: suggest_loguniform has been deprecated in v3.0.0. This feature will be removed in v6.0.0. See https://github.com/optuna/optuna/releases/tag/v3.0.0. Use suggest_float(..., log=True) instead.\n",
      "  'lambda': trail.suggest_loguniform('lambda', 1e-10, 1e-4), # lambda uses L2 regularization\n",
      "/tmp/ipykernel_13654/829001706.py:7: FutureWarning: suggest_loguniform has been deprecated in v3.0.0. This feature will be removed in v6.0.0. See https://github.com/optuna/optuna/releases/tag/v3.0.0. Use suggest_float(..., log=True) instead.\n",
      "  'alpha': trail.suggest_loguniform('alpha', 1e-10, 1e-4),\n"
     ]
    },
    {
     "name": "stdout",
     "output_type": "stream",
     "text": [
      "[18:05:53] ======== Monitor (0): HostSketchContainer ========\n",
      "[18:05:53] AllReduce: 0.0095s, 1 calls @ 9500us\n",
      "\n",
      "[18:05:53] MakeCuts: 0.012866s, 1 calls @ 12866us\n",
      "\n",
      "[18:05:53] DEBUG: /workspace/src/gbm/gbtree.cc:130: Using tree method: 3\n"
     ]
    },
    {
     "name": "stderr",
     "output_type": "stream",
     "text": [
      "/home/aazzioui/Documents/WS/TIMSS-2019_student_score_prediction/env/lib/python3.11/site-packages/xgboost/core.py:160: UserWarning: [18:05:53] WARNING: /workspace/src/learner.cc:742: \n",
      "Parameters: { \"n_estimator\" } are not used.\n",
      "\n",
      "  warnings.warn(smsg, UserWarning)\n"
     ]
    },
    {
     "name": "stdout",
     "output_type": "stream",
     "text": [
      "[0]\tvalidation_0-rmse:57.42836\n"
     ]
    },
    {
     "name": "stderr",
     "output_type": "stream",
     "text": [
      "[I 2023-11-06 18:05:54,174] Trial 81 finished with value: 3298.0170852402357 and parameters: {'lambda': 5.46869668986222e-06, 'alpha': 1.0818072909336293e-07, 'colsample_bytree': 0.9, 'subsample': 0.7, 'learning_rate': 1, 'max_depth': 10, 'random_state': 10, 'min_child_weight': 28}. Best is trial 76 with value: 3166.1022077493108.\n"
     ]
    },
    {
     "name": "stdout",
     "output_type": "stream",
     "text": [
      "[18:05:54] ======== Monitor (0): Learner ========\n",
      "[18:05:54] Configure: 0.003664s, 1 calls @ 3664us\n",
      "\n",
      "[18:05:54] EvalOneIter: 0.001103s, 1 calls @ 1103us\n",
      "\n",
      "[18:05:54] GetGradient: 0.026497s, 1 calls @ 26497us\n",
      "\n",
      "[18:05:54] PredictRaw: 5e-06s, 1 calls @ 5us\n",
      "\n",
      "[18:05:54] UpdateOneIter: 0.495971s, 1 calls @ 495971us\n",
      "\n",
      "[18:05:54] ======== Monitor (0): GBTree ========\n",
      "[18:05:54] BoostNewTrees: 0.419389s, 1 calls @ 419389us\n",
      "\n",
      "[18:05:54] CommitModel: 3e-06s, 1 calls @ 3us\n",
      "\n",
      "[18:05:54] ======== Monitor (0): HistUpdater ========\n",
      "[18:05:54] BuildHistogram: 0.088487s, 573 calls @ 88487us\n",
      "\n",
      "[18:05:54] EvaluateSplits: 0.061521s, 673 calls @ 61521us\n",
      "\n",
      "[18:05:54] InitData: 0.037192s, 100 calls @ 37192us\n",
      "\n",
      "[18:05:54] InitRoot: 0.072565s, 100 calls @ 72565us\n",
      "\n",
      "[18:05:54] LeafPartition: 2.3e-05s, 100 calls @ 23us\n",
      "\n",
      "[18:05:54] UpdatePosition: 0.110311s, 573 calls @ 110311us\n",
      "\n",
      "[18:05:54] UpdateTree: 0.37451s, 100 calls @ 374510us\n",
      "\n",
      "[18:05:54] DEBUG: /workspace/src/gbm/gbtree.cc:130: Using tree method: 3\n"
     ]
    },
    {
     "name": "stderr",
     "output_type": "stream",
     "text": [
      "/tmp/ipykernel_13654/829001706.py:6: FutureWarning: suggest_loguniform has been deprecated in v3.0.0. This feature will be removed in v6.0.0. See https://github.com/optuna/optuna/releases/tag/v3.0.0. Use suggest_float(..., log=True) instead.\n",
      "  'lambda': trail.suggest_loguniform('lambda', 1e-10, 1e-4), # lambda uses L2 regularization\n",
      "/tmp/ipykernel_13654/829001706.py:7: FutureWarning: suggest_loguniform has been deprecated in v3.0.0. This feature will be removed in v6.0.0. See https://github.com/optuna/optuna/releases/tag/v3.0.0. Use suggest_float(..., log=True) instead.\n",
      "  'alpha': trail.suggest_loguniform('alpha', 1e-10, 1e-4),\n"
     ]
    },
    {
     "name": "stdout",
     "output_type": "stream",
     "text": [
      "[18:05:54] ======== Monitor (0): HostSketchContainer ========\n",
      "[18:05:54] AllReduce: 0.009656s, 1 calls @ 9656us\n",
      "\n",
      "[18:05:54] MakeCuts: 0.015743s, 1 calls @ 15743us\n",
      "\n",
      "[18:05:54] DEBUG: /workspace/src/gbm/gbtree.cc:130: Using tree method: 3\n"
     ]
    },
    {
     "name": "stderr",
     "output_type": "stream",
     "text": [
      "/home/aazzioui/Documents/WS/TIMSS-2019_student_score_prediction/env/lib/python3.11/site-packages/xgboost/core.py:160: UserWarning: [18:05:54] WARNING: /workspace/src/learner.cc:742: \n",
      "Parameters: { \"n_estimator\" } are not used.\n",
      "\n",
      "  warnings.warn(smsg, UserWarning)\n"
     ]
    },
    {
     "name": "stdout",
     "output_type": "stream",
     "text": [
      "[0]\tvalidation_0-rmse:55.80125\n"
     ]
    },
    {
     "name": "stderr",
     "output_type": "stream",
     "text": [
      "[I 2023-11-06 18:05:55,005] Trial 82 finished with value: 3113.7799515735524 and parameters: {'lambda': 3.449534806585137e-06, 'alpha': 3.2802741606939684e-08, 'colsample_bytree': 0.9, 'subsample': 0.7, 'learning_rate': 1, 'max_depth': 10, 'random_state': 10, 'min_child_weight': 7}. Best is trial 82 with value: 3113.7799515735524.\n"
     ]
    },
    {
     "name": "stdout",
     "output_type": "stream",
     "text": [
      "[18:05:54] ======== Monitor (0): Learner ========\n",
      "[18:05:54] Configure: 0.000871s, 1 calls @ 871us\n",
      "\n",
      "[18:05:54] EvalOneIter: 0.006778s, 1 calls @ 6778us\n",
      "\n",
      "[18:05:54] GetGradient: 6e-06s, 1 calls @ 6us\n",
      "\n",
      "[18:05:54] PredictRaw: 3e-06s, 1 calls @ 3us\n",
      "\n",
      "[18:05:54] UpdateOneIter: 0.360568s, 1 calls @ 360568us\n",
      "\n",
      "[18:05:54] ======== Monitor (0): GBTree ========\n",
      "[18:05:54] BoostNewTrees: 0.359487s, 1 calls @ 359487us\n",
      "\n",
      "[18:05:54] CommitModel: 2e-06s, 1 calls @ 2us\n",
      "\n",
      "[18:05:54] ======== Monitor (0): HistUpdater ========\n",
      "[18:05:54] BuildHistogram: 0.167237s, 900 calls @ 167237us\n",
      "\n",
      "[18:05:54] EvaluateSplits: 0.048045s, 1000 calls @ 48045us\n",
      "\n",
      "[18:05:54] InitData: 0.010938s, 100 calls @ 10938us\n",
      "\n",
      "[18:05:54] InitRoot: 0.003686s, 100 calls @ 3686us\n",
      "\n",
      "[18:05:54] LeafPartition: 2.4e-05s, 100 calls @ 24us\n",
      "\n",
      "[18:05:54] UpdatePosition: 0.118434s, 986 calls @ 118434us\n",
      "\n",
      "[18:05:54] UpdateTree: 0.356194s, 100 calls @ 356194us\n",
      "\n",
      "[18:05:54] DEBUG: /workspace/src/gbm/gbtree.cc:130: Using tree method: 3\n",
      "[18:05:55] ======== Monitor (0): HostSketchContainer ========\n",
      "[18:05:55] AllReduce: 5e-06s, 1 calls @ 5us\n",
      "\n",
      "[18:05:55] MakeCuts: 1.6e-05s, 1 calls @ 16us\n",
      "\n",
      "[18:05:55] DEBUG: /workspace/src/gbm/gbtree.cc:130: Using tree method: 3\n"
     ]
    },
    {
     "name": "stderr",
     "output_type": "stream",
     "text": [
      "/tmp/ipykernel_13654/829001706.py:6: FutureWarning: suggest_loguniform has been deprecated in v3.0.0. This feature will be removed in v6.0.0. See https://github.com/optuna/optuna/releases/tag/v3.0.0. Use suggest_float(..., log=True) instead.\n",
      "  'lambda': trail.suggest_loguniform('lambda', 1e-10, 1e-4), # lambda uses L2 regularization\n",
      "/tmp/ipykernel_13654/829001706.py:7: FutureWarning: suggest_loguniform has been deprecated in v3.0.0. This feature will be removed in v6.0.0. See https://github.com/optuna/optuna/releases/tag/v3.0.0. Use suggest_float(..., log=True) instead.\n",
      "  'alpha': trail.suggest_loguniform('alpha', 1e-10, 1e-4),\n",
      "/home/aazzioui/Documents/WS/TIMSS-2019_student_score_prediction/env/lib/python3.11/site-packages/xgboost/core.py:160: UserWarning: [18:05:55] WARNING: /workspace/src/learner.cc:742: \n",
      "Parameters: { \"n_estimator\" } are not used.\n",
      "\n",
      "  warnings.warn(smsg, UserWarning)\n"
     ]
    },
    {
     "name": "stdout",
     "output_type": "stream",
     "text": [
      "[0]\tvalidation_0-rmse:55.80125\n"
     ]
    },
    {
     "name": "stderr",
     "output_type": "stream",
     "text": [
      "[I 2023-11-06 18:05:55,807] Trial 83 finished with value: 3113.7799515735524 and parameters: {'lambda': 1.746020424341974e-06, 'alpha': 3.1002332528192384e-08, 'colsample_bytree': 0.9, 'subsample': 0.7, 'learning_rate': 1, 'max_depth': 10, 'random_state': 10, 'min_child_weight': 7}. Best is trial 82 with value: 3113.7799515735524.\n"
     ]
    },
    {
     "name": "stdout",
     "output_type": "stream",
     "text": [
      "[18:05:55] ======== Monitor (0): Learner ========\n",
      "[18:05:55] Configure: 0.002557s, 1 calls @ 2557us\n",
      "\n",
      "[18:05:55] EvalOneIter: 0.000996s, 1 calls @ 996us\n",
      "\n",
      "[18:05:55] GetGradient: 0.020002s, 1 calls @ 20002us\n",
      "\n",
      "[18:05:55] PredictRaw: 5e-06s, 1 calls @ 5us\n",
      "\n",
      "[18:05:55] UpdateOneIter: 0.59706s, 1 calls @ 597060us\n",
      "\n",
      "[18:05:55] ======== Monitor (0): GBTree ========\n",
      "[18:05:55] BoostNewTrees: 0.527424s, 1 calls @ 527424us\n",
      "\n",
      "[18:05:55] CommitModel: 3e-06s, 1 calls @ 3us\n",
      "\n",
      "[18:05:55] ======== Monitor (0): HistUpdater ========\n",
      "[18:05:55] BuildHistogram: 0.168563s, 900 calls @ 168563us\n",
      "\n",
      "[18:05:55] EvaluateSplits: 0.095107s, 1000 calls @ 95107us\n",
      "\n",
      "[18:05:55] InitData: 0.013142s, 100 calls @ 13142us\n",
      "\n",
      "[18:05:55] InitRoot: 0.054254s, 100 calls @ 54254us\n",
      "\n",
      "[18:05:55] LeafPartition: 2.2e-05s, 100 calls @ 22us\n",
      "\n",
      "[18:05:55] UpdatePosition: 0.171171s, 986 calls @ 171171us\n",
      "\n",
      "[18:05:55] UpdateTree: 0.503592s, 100 calls @ 503592us\n",
      "\n",
      "[18:05:55] DEBUG: /workspace/src/gbm/gbtree.cc:130: Using tree method: 3\n",
      "[18:05:55] ======== Monitor (0): HostSketchContainer ========\n",
      "[18:05:55] AllReduce: 9e-06s, 1 calls @ 9us\n",
      "\n",
      "[18:05:55] MakeCuts: 2.3e-05s, 1 calls @ 23us\n",
      "\n",
      "[18:05:55] DEBUG: /workspace/src/gbm/gbtree.cc:130: Using tree method: 3\n"
     ]
    },
    {
     "name": "stderr",
     "output_type": "stream",
     "text": [
      "/tmp/ipykernel_13654/829001706.py:6: FutureWarning: suggest_loguniform has been deprecated in v3.0.0. This feature will be removed in v6.0.0. See https://github.com/optuna/optuna/releases/tag/v3.0.0. Use suggest_float(..., log=True) instead.\n",
      "  'lambda': trail.suggest_loguniform('lambda', 1e-10, 1e-4), # lambda uses L2 regularization\n",
      "/tmp/ipykernel_13654/829001706.py:7: FutureWarning: suggest_loguniform has been deprecated in v3.0.0. This feature will be removed in v6.0.0. See https://github.com/optuna/optuna/releases/tag/v3.0.0. Use suggest_float(..., log=True) instead.\n",
      "  'alpha': trail.suggest_loguniform('alpha', 1e-10, 1e-4),\n",
      "/home/aazzioui/Documents/WS/TIMSS-2019_student_score_prediction/env/lib/python3.11/site-packages/xgboost/core.py:160: UserWarning: [18:05:55] WARNING: /workspace/src/learner.cc:742: \n",
      "Parameters: { \"n_estimator\" } are not used.\n",
      "\n",
      "  warnings.warn(smsg, UserWarning)\n"
     ]
    },
    {
     "name": "stdout",
     "output_type": "stream",
     "text": [
      "[0]\tvalidation_0-rmse:55.71074\n"
     ]
    },
    {
     "name": "stderr",
     "output_type": "stream",
     "text": [
      "[I 2023-11-06 18:05:56,764] Trial 84 finished with value: 3103.686250579581 and parameters: {'lambda': 3.709591043437966e-06, 'alpha': 3.470264495040167e-08, 'colsample_bytree': 0.9, 'subsample': 0.7, 'learning_rate': 1, 'max_depth': 10, 'random_state': 10, 'min_child_weight': 6}. Best is trial 84 with value: 3103.686250579581.\n"
     ]
    },
    {
     "name": "stdout",
     "output_type": "stream",
     "text": [
      "[18:05:56] ======== Monitor (0): Learner ========\n",
      "[18:05:56] Configure: 0.003805s, 1 calls @ 3805us\n",
      "\n",
      "[18:05:56] EvalOneIter: 0.001037s, 1 calls @ 1037us\n",
      "\n",
      "[18:05:56] GetGradient: 0.019638s, 1 calls @ 19638us\n",
      "\n",
      "[18:05:56] PredictRaw: 5e-06s, 1 calls @ 5us\n",
      "\n",
      "[18:05:56] UpdateOneIter: 0.699203s, 1 calls @ 699203us\n",
      "\n",
      "[18:05:56] ======== Monitor (0): GBTree ========\n",
      "[18:05:56] BoostNewTrees: 0.547856s, 1 calls @ 547856us\n",
      "\n",
      "[18:05:56] CommitModel: 2e-06s, 1 calls @ 2us\n",
      "\n",
      "[18:05:56] ======== Monitor (0): HistUpdater ========\n",
      "[18:05:56] BuildHistogram: 0.106312s, 900 calls @ 106312us\n",
      "\n",
      "[18:05:56] EvaluateSplits: 0.143993s, 1000 calls @ 143993us\n",
      "\n",
      "[18:05:56] InitData: 0.017332s, 100 calls @ 17332us\n",
      "\n",
      "[18:05:56] InitRoot: 0.110212s, 100 calls @ 110212us\n",
      "\n",
      "[18:05:56] LeafPartition: 2.4e-05s, 100 calls @ 24us\n",
      "\n",
      "[18:05:56] UpdatePosition: 0.186901s, 997 calls @ 186901us\n",
      "\n",
      "[18:05:56] UpdateTree: 0.542549s, 100 calls @ 542549us\n",
      "\n",
      "[18:05:56] DEBUG: /workspace/src/gbm/gbtree.cc:130: Using tree method: 3\n"
     ]
    },
    {
     "name": "stderr",
     "output_type": "stream",
     "text": [
      "/tmp/ipykernel_13654/829001706.py:6: FutureWarning: suggest_loguniform has been deprecated in v3.0.0. This feature will be removed in v6.0.0. See https://github.com/optuna/optuna/releases/tag/v3.0.0. Use suggest_float(..., log=True) instead.\n",
      "  'lambda': trail.suggest_loguniform('lambda', 1e-10, 1e-4), # lambda uses L2 regularization\n",
      "/tmp/ipykernel_13654/829001706.py:7: FutureWarning: suggest_loguniform has been deprecated in v3.0.0. This feature will be removed in v6.0.0. See https://github.com/optuna/optuna/releases/tag/v3.0.0. Use suggest_float(..., log=True) instead.\n",
      "  'alpha': trail.suggest_loguniform('alpha', 1e-10, 1e-4),\n",
      "/home/aazzioui/Documents/WS/TIMSS-2019_student_score_prediction/env/lib/python3.11/site-packages/xgboost/core.py:160: UserWarning: [18:05:56] WARNING: /workspace/src/learner.cc:742: \n",
      "Parameters: { \"n_estimator\" } are not used.\n",
      "\n",
      "  warnings.warn(smsg, UserWarning)\n"
     ]
    },
    {
     "name": "stdout",
     "output_type": "stream",
     "text": [
      "[18:05:56] ======== Monitor (0): HostSketchContainer ========\n",
      "[18:05:56] AllReduce: 0.005683s, 1 calls @ 5683us\n",
      "\n",
      "[18:05:56] MakeCuts: 0.022351s, 1 calls @ 22351us\n",
      "\n",
      "[18:05:56] DEBUG: /workspace/src/gbm/gbtree.cc:130: Using tree method: 3\n",
      "[0]\tvalidation_0-rmse:58.23070\n"
     ]
    },
    {
     "name": "stderr",
     "output_type": "stream",
     "text": [
      "[I 2023-11-06 18:05:57,421] Trial 85 finished with value: 3390.8141100741204 and parameters: {'lambda': 1.4962261160138012e-06, 'alpha': 3.2433114783481945e-08, 'colsample_bytree': 0.4, 'subsample': 0.7, 'learning_rate': 1, 'max_depth': 10, 'random_state': 10, 'min_child_weight': 7}. Best is trial 84 with value: 3103.686250579581.\n"
     ]
    },
    {
     "name": "stdout",
     "output_type": "stream",
     "text": [
      "[18:05:57] ======== Monitor (0): Learner ========\n",
      "[18:05:57] Configure: 0.000859s, 1 calls @ 859us\n",
      "\n",
      "[18:05:57] EvalOneIter: 0.00077s, 1 calls @ 770us\n",
      "\n",
      "[18:05:57] GetGradient: 9e-06s, 1 calls @ 9us\n",
      "\n",
      "[18:05:57] PredictRaw: 4e-06s, 1 calls @ 4us\n",
      "\n",
      "[18:05:57] UpdateOneIter: 0.442435s, 1 calls @ 442435us\n",
      "\n",
      "[18:05:57] ======== Monitor (0): GBTree ========\n",
      "[18:05:57] BoostNewTrees: 0.414914s, 1 calls @ 414914us\n",
      "\n",
      "[18:05:57] CommitModel: 3e-06s, 1 calls @ 3us\n",
      "\n",
      "[18:05:57] ======== Monitor (0): HistUpdater ========\n",
      "[18:05:57] BuildHistogram: 0.124947s, 752 calls @ 124947us\n",
      "\n",
      "[18:05:57] EvaluateSplits: 0.091s, 852 calls @ 91000us\n",
      "\n",
      "[18:05:57] InitData: 0.009519s, 100 calls @ 9519us\n",
      "\n",
      "[18:05:57] InitRoot: 0.002816s, 100 calls @ 2816us\n",
      "\n",
      "[18:05:57] LeafPartition: 2.2e-05s, 100 calls @ 22us\n",
      "\n",
      "[18:05:57] UpdatePosition: 0.155323s, 755 calls @ 155323us\n",
      "\n",
      "[18:05:57] UpdateTree: 0.387962s, 100 calls @ 387962us\n",
      "\n",
      "[18:05:57] DEBUG: /workspace/src/gbm/gbtree.cc:130: Using tree method: 3\n",
      "[18:05:57] ======== Monitor (0): HostSketchContainer ========\n"
     ]
    },
    {
     "name": "stderr",
     "output_type": "stream",
     "text": [
      "/tmp/ipykernel_13654/829001706.py:6: FutureWarning: suggest_loguniform has been deprecated in v3.0.0. This feature will be removed in v6.0.0. See https://github.com/optuna/optuna/releases/tag/v3.0.0. Use suggest_float(..., log=True) instead.\n",
      "  'lambda': trail.suggest_loguniform('lambda', 1e-10, 1e-4), # lambda uses L2 regularization\n",
      "/tmp/ipykernel_13654/829001706.py:7: FutureWarning: suggest_loguniform has been deprecated in v3.0.0. This feature will be removed in v6.0.0. See https://github.com/optuna/optuna/releases/tag/v3.0.0. Use suggest_float(..., log=True) instead.\n",
      "  'alpha': trail.suggest_loguniform('alpha', 1e-10, 1e-4),\n"
     ]
    },
    {
     "name": "stdout",
     "output_type": "stream",
     "text": [
      "[18:05:57] AllReduce: 0.012262s, 1 calls @ 12262us\n",
      "\n",
      "[18:05:57] MakeCuts: 0.015632s, 1 calls @ 15632us\n",
      "\n",
      "[18:05:57] DEBUG: /workspace/src/gbm/gbtree.cc:130: Using tree method: 3\n"
     ]
    },
    {
     "name": "stderr",
     "output_type": "stream",
     "text": [
      "/home/aazzioui/Documents/WS/TIMSS-2019_student_score_prediction/env/lib/python3.11/site-packages/xgboost/core.py:160: UserWarning: [18:05:57] WARNING: /workspace/src/learner.cc:742: \n",
      "Parameters: { \"n_estimator\" } are not used.\n",
      "\n",
      "  warnings.warn(smsg, UserWarning)\n"
     ]
    },
    {
     "name": "stdout",
     "output_type": "stream",
     "text": [
      "[0]\tvalidation_0-rmse:58.40738\n"
     ]
    },
    {
     "name": "stderr",
     "output_type": "stream",
     "text": [
      "[I 2023-11-06 18:05:58,240] Trial 86 finished with value: 3411.4218421655387 and parameters: {'lambda': 8.07406856520705e-07, 'alpha': 1.1479864852196757e-08, 'colsample_bytree': 0.9, 'subsample': 0.7, 'learning_rate': 0.5, 'max_depth': 10, 'random_state': 10, 'min_child_weight': 12}. Best is trial 84 with value: 3103.686250579581.\n"
     ]
    },
    {
     "name": "stdout",
     "output_type": "stream",
     "text": [
      "[18:05:58] ======== Monitor (0): Learner ========\n",
      "[18:05:58] Configure: 0.001385s, 1 calls @ 1385us\n",
      "\n",
      "[18:05:58] EvalOneIter: 0.000852s, 1 calls @ 852us\n",
      "\n",
      "[18:05:58] GetGradient: 8e-06s, 1 calls @ 8us\n",
      "\n",
      "[18:05:58] PredictRaw: 4e-06s, 1 calls @ 4us\n",
      "\n",
      "[18:05:58] UpdateOneIter: 0.408923s, 1 calls @ 408923us\n",
      "\n",
      "[18:05:58] ======== Monitor (0): GBTree ========\n",
      "[18:05:58] BoostNewTrees: 0.364279s, 1 calls @ 364279us\n",
      "\n",
      "[18:05:58] CommitModel: 2e-06s, 1 calls @ 2us\n",
      "\n",
      "[18:05:58] ======== Monitor (0): HistUpdater ========\n",
      "[18:05:58] BuildHistogram: 0.104097s, 854 calls @ 104097us\n",
      "\n",
      "[18:05:58] EvaluateSplits: 0.048898s, 954 calls @ 48898us\n",
      "\n",
      "[18:05:58] InitData: 0.045667s, 100 calls @ 45667us\n",
      "\n",
      "[18:05:58] InitRoot: 0.009632s, 100 calls @ 9632us\n",
      "\n",
      "[18:05:58] LeafPartition: 2.6e-05s, 100 calls @ 26us\n",
      "\n",
      "[18:05:58] UpdatePosition: 0.14367s, 867 calls @ 143670us\n",
      "\n",
      "[18:05:58] UpdateTree: 0.354842s, 100 calls @ 354842us\n",
      "\n",
      "[18:05:58] DEBUG: /workspace/src/gbm/gbtree.cc:130: Using tree method: 3\n",
      "[18:05:58] ======== Monitor (0): HostSketchContainer ========\n",
      "[18:05:58] AllReduce: 0.005515s, 1 calls @ 5515us\n",
      "\n",
      "[18:05:58] MakeCuts: 0.005533s, 1 calls @ 5533us\n",
      "\n"
     ]
    },
    {
     "name": "stderr",
     "output_type": "stream",
     "text": [
      "/tmp/ipykernel_13654/829001706.py:6: FutureWarning: suggest_loguniform has been deprecated in v3.0.0. This feature will be removed in v6.0.0. See https://github.com/optuna/optuna/releases/tag/v3.0.0. Use suggest_float(..., log=True) instead.\n",
      "  'lambda': trail.suggest_loguniform('lambda', 1e-10, 1e-4), # lambda uses L2 regularization\n",
      "/tmp/ipykernel_13654/829001706.py:7: FutureWarning: suggest_loguniform has been deprecated in v3.0.0. This feature will be removed in v6.0.0. See https://github.com/optuna/optuna/releases/tag/v3.0.0. Use suggest_float(..., log=True) instead.\n",
      "  'alpha': trail.suggest_loguniform('alpha', 1e-10, 1e-4),\n",
      "/home/aazzioui/Documents/WS/TIMSS-2019_student_score_prediction/env/lib/python3.11/site-packages/xgboost/core.py:160: UserWarning: [18:05:58] WARNING: /workspace/src/learner.cc:742: \n",
      "Parameters: { \"n_estimator\" } are not used.\n",
      "\n",
      "  warnings.warn(smsg, UserWarning)\n"
     ]
    },
    {
     "name": "stdout",
     "output_type": "stream",
     "text": [
      "[18:05:58] DEBUG: /workspace/src/gbm/gbtree.cc:130: Using tree method: 3\n",
      "[0]\tvalidation_0-rmse:55.71074\n"
     ]
    },
    {
     "name": "stderr",
     "output_type": "stream",
     "text": [
      "[I 2023-11-06 18:05:59,312] Trial 87 finished with value: 3103.686250579581 and parameters: {'lambda': 3.85585875213626e-06, 'alpha': 2.865345557938408e-08, 'colsample_bytree': 0.9, 'subsample': 0.7, 'learning_rate': 1, 'max_depth': 10, 'random_state': 10, 'min_child_weight': 6}. Best is trial 84 with value: 3103.686250579581.\n"
     ]
    },
    {
     "name": "stdout",
     "output_type": "stream",
     "text": [
      "[18:05:59] ======== Monitor (0): Learner ========\n",
      "[18:05:59] Configure: 0.002354s, 1 calls @ 2354us\n",
      "\n",
      "[18:05:59] EvalOneIter: 0.012353s, 1 calls @ 12353us\n",
      "\n",
      "[18:05:59] GetGradient: 6e-06s, 1 calls @ 6us\n",
      "\n",
      "[18:05:59] PredictRaw: 4e-06s, 1 calls @ 4us\n",
      "\n",
      "[18:05:59] UpdateOneIter: 0.804648s, 1 calls @ 804648us\n",
      "\n",
      "[18:05:59] ======== Monitor (0): GBTree ========\n",
      "[18:05:59] BoostNewTrees: 0.802178s, 1 calls @ 802178us\n",
      "\n",
      "[18:05:59] CommitModel: 2e-06s, 1 calls @ 2us\n",
      "\n",
      "[18:05:59] ======== Monitor (0): HistUpdater ========\n",
      "[18:05:59] BuildHistogram: 0.204693s, 900 calls @ 204693us\n",
      "\n",
      "[18:05:59] EvaluateSplits: 0.192368s, 1000 calls @ 192368us\n",
      "\n",
      "[18:05:59] InitData: 0.055653s, 100 calls @ 55653us\n",
      "\n",
      "[18:05:59] InitRoot: 0.177155s, 100 calls @ 177155us\n",
      "\n",
      "[18:05:59] LeafPartition: 2.6e-05s, 100 calls @ 26us\n",
      "\n",
      "[18:05:59] UpdatePosition: 0.208892s, 997 calls @ 208892us\n",
      "\n",
      "[18:05:59] UpdateTree: 0.767293s, 100 calls @ 767293us\n",
      "\n",
      "[18:05:59] DEBUG: /workspace/src/gbm/gbtree.cc:130: Using tree method: 3\n",
      "[18:05:59] ======== Monitor (0): HostSketchContainer ========\n",
      "[18:05:59] AllReduce: 1.4e-05s, 1 calls @ 14us\n",
      "\n",
      "[18:05:59] MakeCuts: 2.5e-05s, 1 calls @ 25us\n",
      "\n",
      "[18:05:59] DEBUG: /workspace/src/gbm/gbtree.cc:130: Using tree method: 3\n"
     ]
    },
    {
     "name": "stderr",
     "output_type": "stream",
     "text": [
      "/tmp/ipykernel_13654/829001706.py:6: FutureWarning: suggest_loguniform has been deprecated in v3.0.0. This feature will be removed in v6.0.0. See https://github.com/optuna/optuna/releases/tag/v3.0.0. Use suggest_float(..., log=True) instead.\n",
      "  'lambda': trail.suggest_loguniform('lambda', 1e-10, 1e-4), # lambda uses L2 regularization\n",
      "/tmp/ipykernel_13654/829001706.py:7: FutureWarning: suggest_loguniform has been deprecated in v3.0.0. This feature will be removed in v6.0.0. See https://github.com/optuna/optuna/releases/tag/v3.0.0. Use suggest_float(..., log=True) instead.\n",
      "  'alpha': trail.suggest_loguniform('alpha', 1e-10, 1e-4),\n",
      "/home/aazzioui/Documents/WS/TIMSS-2019_student_score_prediction/env/lib/python3.11/site-packages/xgboost/core.py:160: UserWarning: [18:05:59] WARNING: /workspace/src/learner.cc:742: \n",
      "Parameters: { \"n_estimator\" } are not used.\n",
      "\n",
      "  warnings.warn(smsg, UserWarning)\n"
     ]
    },
    {
     "name": "stdout",
     "output_type": "stream",
     "text": [
      "[0]\tvalidation_0-rmse:62.91228\n"
     ]
    },
    {
     "name": "stderr",
     "output_type": "stream",
     "text": [
      "[I 2023-11-06 18:05:59,841] Trial 88 finished with value: 3957.9551874544245 and parameters: {'lambda': 4.325740571474875e-06, 'alpha': 2.564868114110155e-08, 'colsample_bytree': 0.2, 'subsample': 0.7, 'learning_rate': 1e-05, 'max_depth': 10, 'random_state': 30, 'min_child_weight': 6}. Best is trial 84 with value: 3103.686250579581.\n"
     ]
    },
    {
     "name": "stdout",
     "output_type": "stream",
     "text": [
      "[18:05:59] ======== Monitor (0): Learner ========\n",
      "[18:05:59] Configure: 0.000847s, 1 calls @ 847us\n",
      "\n",
      "[18:05:59] EvalOneIter: 0.00043s, 1 calls @ 430us\n",
      "\n",
      "[18:05:59] GetGradient: 6e-06s, 1 calls @ 6us\n",
      "\n",
      "[18:05:59] PredictRaw: 2e-06s, 1 calls @ 2us\n",
      "\n",
      "[18:05:59] UpdateOneIter: 0.319095s, 1 calls @ 319095us\n",
      "\n",
      "[18:05:59] ======== Monitor (0): GBTree ========\n",
      "[18:05:59] BoostNewTrees: 0.31815s, 1 calls @ 318150us\n",
      "\n",
      "[18:05:59] CommitModel: 3e-06s, 1 calls @ 3us\n",
      "\n",
      "[18:05:59] ======== Monitor (0): HistUpdater ========\n",
      "[18:05:59] BuildHistogram: 0.119114s, 424 calls @ 119114us\n",
      "\n",
      "[18:05:59] EvaluateSplits: 0.026037s, 524 calls @ 26037us\n",
      "\n",
      "[18:05:59] InitData: 0.002517s, 100 calls @ 2517us\n",
      "\n",
      "[18:05:59] InitRoot: 0.082911s, 100 calls @ 82911us\n",
      "\n",
      "[18:05:59] LeafPartition: 1.9e-05s, 100 calls @ 19us\n",
      "\n",
      "[18:05:59] UpdatePosition: 0.092244s, 424 calls @ 92244us\n",
      "\n",
      "[18:05:59] UpdateTree: 0.309755s, 100 calls @ 309755us\n",
      "\n",
      "[18:05:59] DEBUG: /workspace/src/gbm/gbtree.cc:130: Using tree method: 3\n"
     ]
    },
    {
     "name": "stderr",
     "output_type": "stream",
     "text": [
      "/tmp/ipykernel_13654/829001706.py:6: FutureWarning: suggest_loguniform has been deprecated in v3.0.0. This feature will be removed in v6.0.0. See https://github.com/optuna/optuna/releases/tag/v3.0.0. Use suggest_float(..., log=True) instead.\n",
      "  'lambda': trail.suggest_loguniform('lambda', 1e-10, 1e-4), # lambda uses L2 regularization\n",
      "/tmp/ipykernel_13654/829001706.py:7: FutureWarning: suggest_loguniform has been deprecated in v3.0.0. This feature will be removed in v6.0.0. See https://github.com/optuna/optuna/releases/tag/v3.0.0. Use suggest_float(..., log=True) instead.\n",
      "  'alpha': trail.suggest_loguniform('alpha', 1e-10, 1e-4),\n"
     ]
    },
    {
     "name": "stdout",
     "output_type": "stream",
     "text": [
      "[18:06:00] ======== Monitor (0): HostSketchContainer ========\n",
      "[18:06:00] AllReduce: 0.011356s, 1 calls @ 11356us\n",
      "\n",
      "[18:06:00] MakeCuts: 0.023343s, 1 calls @ 23343us\n",
      "\n",
      "[18:06:00] DEBUG: /workspace/src/gbm/gbtree.cc:130: Using tree method: 3\n",
      "[0]\tvalidation_0-rmse:59.58086\n",
      "[18:06:00] ======== Monitor (0): Learner ========\n",
      "[18:06:00] Configure: 0.000868s, 1 calls @ 868us\n",
      "\n",
      "[18:06:00] EvalOneIter: 0.000651s, 1 calls @ 651us\n",
      "\n",
      "[18:06:00] GetGradient: 6e-06s, 1 calls @ 6us\n",
      "\n",
      "[18:06:00] PredictRaw: 3e-06s, 1 calls @ 3us\n",
      "\n",
      "[18:06:00] UpdateOneIter: 0.099786s, 1 calls @ 99786us\n",
      "\n",
      "[18:06:00] ======== Monitor (0): GBTree ========\n",
      "[18:06:00] BoostNewTrees: 0.098721s, 1 calls @ 98721us\n",
      "\n",
      "[18:06:00] CommitModel: 3e-06s, 1 calls @ 3us\n",
      "\n",
      "[18:06:00] ======== Monitor (0): HistUpdater ========\n",
      "[18:06:00] BuildHistogram: 0.032517s, 637 calls @ 32517us\n",
      "\n",
      "[18:06:00] EvaluateSplits: 0.027702s, 737 calls @ 27702us\n",
      "\n",
      "[18:06:00] InitData: 0.00296s, 100 calls @ 2960us\n",
      "\n",
      "[18:06:00] InitRoot: 0.002509s, 100 calls @ 2509us\n",
      "\n",
      "[18:06:00] LeafPartition: 2.1e-05s, 100 calls @ 21us\n",
      "\n",
      "[18:06:00] UpdatePosition: 0.028001s, 637 calls @ 28001us\n",
      "\n",
      "[18:06:00] UpdateTree: 0.096334s, 100 calls @ 96334us\n",
      "\n",
      "[18:06:00] DEBUG: /workspace/src/gbm/gbtree.cc:130: Using tree method: 3\n"
     ]
    },
    {
     "name": "stderr",
     "output_type": "stream",
     "text": [
      "/home/aazzioui/Documents/WS/TIMSS-2019_student_score_prediction/env/lib/python3.11/site-packages/xgboost/core.py:160: UserWarning: [18:06:00] WARNING: /workspace/src/learner.cc:742: \n",
      "Parameters: { \"n_estimator\" } are not used.\n",
      "\n",
      "  warnings.warn(smsg, UserWarning)\n",
      "[I 2023-11-06 18:06:00,403] Trial 89 finished with value: 3549.8783272307487 and parameters: {'lambda': 1.8800862592128478e-06, 'alpha': 9.486781349086192e-09, 'colsample_bytree': 0.3, 'subsample': 0.7, 'learning_rate': 1, 'max_depth': 10, 'random_state': 10, 'min_child_weight': 6}. Best is trial 84 with value: 3103.686250579581.\n",
      "/tmp/ipykernel_13654/829001706.py:6: FutureWarning: suggest_loguniform has been deprecated in v3.0.0. This feature will be removed in v6.0.0. See https://github.com/optuna/optuna/releases/tag/v3.0.0. Use suggest_float(..., log=True) instead.\n",
      "  'lambda': trail.suggest_loguniform('lambda', 1e-10, 1e-4), # lambda uses L2 regularization\n",
      "/tmp/ipykernel_13654/829001706.py:7: FutureWarning: suggest_loguniform has been deprecated in v3.0.0. This feature will be removed in v6.0.0. See https://github.com/optuna/optuna/releases/tag/v3.0.0. Use suggest_float(..., log=True) instead.\n",
      "  'alpha': trail.suggest_loguniform('alpha', 1e-10, 1e-4),\n",
      "/home/aazzioui/Documents/WS/TIMSS-2019_student_score_prediction/env/lib/python3.11/site-packages/xgboost/core.py:160: UserWarning: [18:06:00] WARNING: /workspace/src/learner.cc:742: \n",
      "Parameters: { \"n_estimator\" } are not used.\n",
      "\n",
      "  warnings.warn(smsg, UserWarning)\n"
     ]
    },
    {
     "name": "stdout",
     "output_type": "stream",
     "text": [
      "[18:06:00] ======== Monitor (0): HostSketchContainer ========\n",
      "[18:06:00] AllReduce: 0.000546s, 1 calls @ 546us\n",
      "\n",
      "[18:06:00] MakeCuts: 0.00072s, 1 calls @ 720us\n",
      "\n",
      "[18:06:00] DEBUG: /workspace/src/gbm/gbtree.cc:130: Using tree method: 3\n",
      "[0]\tvalidation_0-rmse:56.26813\n"
     ]
    },
    {
     "name": "stderr",
     "output_type": "stream",
     "text": [
      "[I 2023-11-06 18:06:01,033] Trial 90 finished with value: 3166.1022077493108 and parameters: {'lambda': 2.7361396757987957e-06, 'alpha': 1.5406407501394734e-08, 'colsample_bytree': 0.9, 'subsample': 0.7, 'learning_rate': 1, 'max_depth': 10, 'random_state': 10, 'min_child_weight': 12}. Best is trial 84 with value: 3103.686250579581.\n"
     ]
    },
    {
     "name": "stdout",
     "output_type": "stream",
     "text": [
      "[18:06:01] ======== Monitor (0): Learner ========\n",
      "[18:06:01] Configure: 0.000809s, 1 calls @ 809us\n",
      "\n",
      "[18:06:01] EvalOneIter: 0.009016s, 1 calls @ 9016us\n",
      "\n",
      "[18:06:01] GetGradient: 6e-06s, 1 calls @ 6us\n",
      "\n",
      "[18:06:01] PredictRaw: 2e-06s, 1 calls @ 2us\n",
      "\n",
      "[18:06:01] UpdateOneIter: 0.400792s, 1 calls @ 400792us\n",
      "\n",
      "[18:06:01] ======== Monitor (0): GBTree ========\n",
      "[18:06:01] BoostNewTrees: 0.399893s, 1 calls @ 399893us\n",
      "\n",
      "[18:06:01] CommitModel: 3e-06s, 1 calls @ 3us\n",
      "\n",
      "[18:06:01] ======== Monitor (0): HistUpdater ========\n",
      "[18:06:01] BuildHistogram: 0.127749s, 854 calls @ 127749us\n",
      "\n",
      "[18:06:01] EvaluateSplits: 0.079738s, 954 calls @ 79738us\n",
      "\n",
      "[18:06:01] InitData: 0.011774s, 100 calls @ 11774us\n",
      "\n",
      "[18:06:01] InitRoot: 0.006674s, 100 calls @ 6674us\n",
      "\n",
      "[18:06:01] LeafPartition: 2.2e-05s, 100 calls @ 22us\n",
      "\n",
      "[18:06:01] UpdatePosition: 0.141642s, 867 calls @ 141642us\n",
      "\n",
      "[18:06:01] UpdateTree: 0.372017s, 100 calls @ 372017us\n",
      "\n",
      "[18:06:01] DEBUG: /workspace/src/gbm/gbtree.cc:130: Using tree method: 3\n",
      "[18:06:01] ======== Monitor (0): HostSketchContainer ========\n",
      "[18:06:01] AllReduce: 5e-06s, 1 calls @ 5us\n",
      "\n",
      "[18:06:01] MakeCuts: 1.8e-05s, 1 calls @ 18us\n",
      "\n"
     ]
    },
    {
     "name": "stderr",
     "output_type": "stream",
     "text": [
      "/tmp/ipykernel_13654/829001706.py:6: FutureWarning: suggest_loguniform has been deprecated in v3.0.0. This feature will be removed in v6.0.0. See https://github.com/optuna/optuna/releases/tag/v3.0.0. Use suggest_float(..., log=True) instead.\n",
      "  'lambda': trail.suggest_loguniform('lambda', 1e-10, 1e-4), # lambda uses L2 regularization\n",
      "/tmp/ipykernel_13654/829001706.py:7: FutureWarning: suggest_loguniform has been deprecated in v3.0.0. This feature will be removed in v6.0.0. See https://github.com/optuna/optuna/releases/tag/v3.0.0. Use suggest_float(..., log=True) instead.\n",
      "  'alpha': trail.suggest_loguniform('alpha', 1e-10, 1e-4),\n"
     ]
    },
    {
     "name": "stdout",
     "output_type": "stream",
     "text": [
      "[18:06:01] DEBUG: /workspace/src/gbm/gbtree.cc:130: Using tree method: 3\n"
     ]
    },
    {
     "name": "stderr",
     "output_type": "stream",
     "text": [
      "/home/aazzioui/Documents/WS/TIMSS-2019_student_score_prediction/env/lib/python3.11/site-packages/xgboost/core.py:160: UserWarning: [18:06:01] WARNING: /workspace/src/learner.cc:742: \n",
      "Parameters: { \"n_estimator\" } are not used.\n",
      "\n",
      "  warnings.warn(smsg, UserWarning)\n"
     ]
    },
    {
     "name": "stdout",
     "output_type": "stream",
     "text": [
      "[0]\tvalidation_0-rmse:55.95963\n"
     ]
    },
    {
     "name": "stderr",
     "output_type": "stream",
     "text": [
      "[I 2023-11-06 18:06:02,535] Trial 91 finished with value: 3131.480098120946 and parameters: {'lambda': 5.854893222973925e-06, 'alpha': 1.3300507338430614e-08, 'colsample_bytree': 0.9, 'subsample': 0.7, 'learning_rate': 1, 'max_depth': 10, 'random_state': 10, 'min_child_weight': 10}. Best is trial 84 with value: 3103.686250579581.\n"
     ]
    },
    {
     "name": "stdout",
     "output_type": "stream",
     "text": [
      "[18:06:02] ======== Monitor (0): Learner ========\n",
      "[18:06:02] Configure: 0.025433s, 1 calls @ 25433us\n",
      "\n",
      "[18:06:02] EvalOneIter: 0.000896s, 1 calls @ 896us\n",
      "\n",
      "[18:06:02] GetGradient: 1e-05s, 1 calls @ 10us\n",
      "\n",
      "[18:06:02] PredictRaw: 5e-06s, 1 calls @ 5us\n",
      "\n",
      "[18:06:02] UpdateOneIter: 1.24379s, 1 calls @ 1243788us\n",
      "\n",
      "[18:06:02] ======== Monitor (0): GBTree ========\n",
      "[18:06:02] BoostNewTrees: 1.15054s, 1 calls @ 1150543us\n",
      "\n",
      "[18:06:02] CommitModel: 3e-06s, 1 calls @ 3us\n",
      "\n",
      "[18:06:02] ======== Monitor (0): HistUpdater ========\n",
      "[18:06:02] BuildHistogram: 0.442047s, 883 calls @ 442047us\n",
      "\n",
      "[18:06:02] EvaluateSplits: 0.202413s, 983 calls @ 202413us\n",
      "\n",
      "[18:06:02] InitData: 0.026105s, 100 calls @ 26105us\n",
      "\n",
      "[18:06:02] InitRoot: 0.035402s, 100 calls @ 35402us\n",
      "\n",
      "[18:06:02] LeafPartition: 2.6e-05s, 100 calls @ 26us\n",
      "\n",
      "[18:06:02] UpdatePosition: 0.44009s, 915 calls @ 440090us\n",
      "\n",
      "[18:06:02] UpdateTree: 1.14219s, 100 calls @ 1142194us\n",
      "\n",
      "[18:06:02] DEBUG: /workspace/src/gbm/gbtree.cc:130: Using tree method: 3\n",
      "[18:06:02] ======== Monitor (0): HostSketchContainer ========\n",
      "[18:06:02] AllReduce: 6e-06s, 1 calls @ 6us\n",
      "\n",
      "[18:06:02] MakeCuts: 1.5e-05s, 1 calls @ 15us\n",
      "\n",
      "[18:06:02] DEBUG: /workspace/src/gbm/gbtree.cc:130: Using tree method: 3\n"
     ]
    },
    {
     "name": "stderr",
     "output_type": "stream",
     "text": [
      "/tmp/ipykernel_13654/829001706.py:6: FutureWarning: suggest_loguniform has been deprecated in v3.0.0. This feature will be removed in v6.0.0. See https://github.com/optuna/optuna/releases/tag/v3.0.0. Use suggest_float(..., log=True) instead.\n",
      "  'lambda': trail.suggest_loguniform('lambda', 1e-10, 1e-4), # lambda uses L2 regularization\n",
      "/tmp/ipykernel_13654/829001706.py:7: FutureWarning: suggest_loguniform has been deprecated in v3.0.0. This feature will be removed in v6.0.0. See https://github.com/optuna/optuna/releases/tag/v3.0.0. Use suggest_float(..., log=True) instead.\n",
      "  'alpha': trail.suggest_loguniform('alpha', 1e-10, 1e-4),\n",
      "/home/aazzioui/Documents/WS/TIMSS-2019_student_score_prediction/env/lib/python3.11/site-packages/xgboost/core.py:160: UserWarning: [18:06:02] WARNING: /workspace/src/learner.cc:742: \n",
      "Parameters: { \"n_estimator\" } are not used.\n",
      "\n",
      "  warnings.warn(smsg, UserWarning)\n"
     ]
    },
    {
     "name": "stdout",
     "output_type": "stream",
     "text": [
      "[0]\tvalidation_0-rmse:56.52939\n"
     ]
    },
    {
     "name": "stderr",
     "output_type": "stream",
     "text": [
      "[I 2023-11-06 18:06:02,866] Trial 92 finished with value: 3195.5719576966903 and parameters: {'lambda': 2.7194529375469447e-06, 'alpha': 6.733838817447895e-09, 'colsample_bytree': 0.9, 'subsample': 0.7, 'learning_rate': 1, 'max_depth': 10, 'random_state': 10, 'min_child_weight': 13}. Best is trial 84 with value: 3103.686250579581.\n"
     ]
    },
    {
     "name": "stdout",
     "output_type": "stream",
     "text": [
      "[18:06:02] ======== Monitor (0): Learner ========\n",
      "[18:06:02] Configure: 0.000896s, 1 calls @ 896us\n",
      "\n",
      "[18:06:02] EvalOneIter: 0.00228s, 1 calls @ 2280us\n",
      "\n",
      "[18:06:02] GetGradient: 7e-06s, 1 calls @ 7us\n",
      "\n",
      "[18:06:02] PredictRaw: 4e-06s, 1 calls @ 4us\n",
      "\n",
      "[18:06:02] UpdateOneIter: 0.183911s, 1 calls @ 183911us\n",
      "\n",
      "[18:06:02] ======== Monitor (0): GBTree ========\n",
      "[18:06:02] BoostNewTrees: 0.18204s, 1 calls @ 182040us\n",
      "\n",
      "[18:06:02] CommitModel: 3e-06s, 1 calls @ 3us\n",
      "\n",
      "[18:06:02] ======== Monitor (0): HistUpdater ========\n",
      "[18:06:02] BuildHistogram: 0.0353s, 837 calls @ 35300us\n",
      "\n",
      "[18:06:02] EvaluateSplits: 0.039053s, 937 calls @ 39053us\n",
      "\n",
      "[18:06:02] InitData: 0.002211s, 100 calls @ 2211us\n",
      "\n",
      "[18:06:02] InitRoot: 0.034755s, 100 calls @ 34755us\n",
      "\n",
      "[18:06:02] LeafPartition: 2.1e-05s, 100 calls @ 21us\n",
      "\n",
      "[18:06:02] UpdatePosition: 0.06361s, 849 calls @ 63610us\n",
      "\n",
      "[18:06:02] UpdateTree: 0.179062s, 100 calls @ 179062us\n",
      "\n",
      "[18:06:02] DEBUG: /workspace/src/gbm/gbtree.cc:130: Using tree method: 3\n",
      "[18:06:02] ======== Monitor (0): HostSketchContainer ========\n",
      "[18:06:02] AllReduce: 5e-06s, 1 calls @ 5us\n",
      "\n",
      "[18:06:02] MakeCuts: 1.5e-05s, 1 calls @ 15us\n",
      "\n",
      "[18:06:02] DEBUG: /workspace/src/gbm/gbtree.cc:130: Using tree method: 3\n"
     ]
    },
    {
     "name": "stderr",
     "output_type": "stream",
     "text": [
      "/tmp/ipykernel_13654/829001706.py:6: FutureWarning: suggest_loguniform has been deprecated in v3.0.0. This feature will be removed in v6.0.0. See https://github.com/optuna/optuna/releases/tag/v3.0.0. Use suggest_float(..., log=True) instead.\n",
      "  'lambda': trail.suggest_loguniform('lambda', 1e-10, 1e-4), # lambda uses L2 regularization\n",
      "/tmp/ipykernel_13654/829001706.py:7: FutureWarning: suggest_loguniform has been deprecated in v3.0.0. This feature will be removed in v6.0.0. See https://github.com/optuna/optuna/releases/tag/v3.0.0. Use suggest_float(..., log=True) instead.\n",
      "  'alpha': trail.suggest_loguniform('alpha', 1e-10, 1e-4),\n",
      "/home/aazzioui/Documents/WS/TIMSS-2019_student_score_prediction/env/lib/python3.11/site-packages/xgboost/core.py:160: UserWarning: [18:06:02] WARNING: /workspace/src/learner.cc:742: \n",
      "Parameters: { \"n_estimator\" } are not used.\n",
      "\n",
      "  warnings.warn(smsg, UserWarning)\n"
     ]
    },
    {
     "name": "stdout",
     "output_type": "stream",
     "text": [
      "[0]\tvalidation_0-rmse:55.86082\n"
     ]
    },
    {
     "name": "stderr",
     "output_type": "stream",
     "text": [
      "[I 2023-11-06 18:06:03,391] Trial 93 finished with value: 3120.430874362225 and parameters: {'lambda': 4.305845653893265e-06, 'alpha': 1.2587347145782052e-08, 'colsample_bytree': 0.9, 'subsample': 0.7, 'learning_rate': 1, 'max_depth': 10, 'random_state': 10, 'min_child_weight': 4}. Best is trial 84 with value: 3103.686250579581.\n"
     ]
    },
    {
     "name": "stdout",
     "output_type": "stream",
     "text": [
      "[18:06:03] ======== Monitor (0): Learner ========\n",
      "[18:06:03] Configure: 0.009022s, 1 calls @ 9022us\n",
      "\n",
      "[18:06:03] EvalOneIter: 0.01042s, 1 calls @ 10420us\n",
      "\n",
      "[18:06:03] GetGradient: 6e-06s, 1 calls @ 6us\n",
      "\n",
      "[18:06:03] PredictRaw: 3e-06s, 1 calls @ 3us\n",
      "\n",
      "[18:06:03] UpdateOneIter: 0.361229s, 1 calls @ 361229us\n",
      "\n",
      "[18:06:03] ======== Monitor (0): GBTree ========\n",
      "[18:06:03] BoostNewTrees: 0.352094s, 1 calls @ 352094us\n",
      "\n",
      "[18:06:03] CommitModel: 2e-06s, 1 calls @ 2us\n",
      "\n",
      "[18:06:03] ======== Monitor (0): HistUpdater ========\n",
      "[18:06:03] BuildHistogram: 0.089631s, 900 calls @ 89631us\n",
      "\n",
      "[18:06:03] EvaluateSplits: 0.092992s, 1000 calls @ 92992us\n",
      "\n",
      "[18:06:03] InitData: 0.004305s, 100 calls @ 4305us\n",
      "\n",
      "[18:06:03] InitRoot: 0.003255s, 100 calls @ 3255us\n",
      "\n",
      "[18:06:03] LeafPartition: 2.6e-05s, 100 calls @ 26us\n",
      "\n",
      "[18:06:03] UpdatePosition: 0.144507s, 1000 calls @ 144507us\n",
      "\n",
      "[18:06:03] UpdateTree: 0.349527s, 100 calls @ 349527us\n",
      "\n",
      "[18:06:03] DEBUG: /workspace/src/gbm/gbtree.cc:130: Using tree method: 3\n",
      "[18:06:03] ======== Monitor (0): HostSketchContainer ========\n",
      "[18:06:03] AllReduce: 5e-06s, 1 calls @ 5us\n",
      "\n",
      "[18:06:03] MakeCuts: 1.7e-05s, 1 calls @ 17us\n",
      "\n",
      "[18:06:03] DEBUG: /workspace/src/gbm/gbtree.cc:130: Using tree method: 3\n"
     ]
    },
    {
     "name": "stderr",
     "output_type": "stream",
     "text": [
      "/tmp/ipykernel_13654/829001706.py:6: FutureWarning: suggest_loguniform has been deprecated in v3.0.0. This feature will be removed in v6.0.0. See https://github.com/optuna/optuna/releases/tag/v3.0.0. Use suggest_float(..., log=True) instead.\n",
      "  'lambda': trail.suggest_loguniform('lambda', 1e-10, 1e-4), # lambda uses L2 regularization\n",
      "/tmp/ipykernel_13654/829001706.py:7: FutureWarning: suggest_loguniform has been deprecated in v3.0.0. This feature will be removed in v6.0.0. See https://github.com/optuna/optuna/releases/tag/v3.0.0. Use suggest_float(..., log=True) instead.\n",
      "  'alpha': trail.suggest_loguniform('alpha', 1e-10, 1e-4),\n",
      "/home/aazzioui/Documents/WS/TIMSS-2019_student_score_prediction/env/lib/python3.11/site-packages/xgboost/core.py:160: UserWarning: [18:06:03] WARNING: /workspace/src/learner.cc:742: \n",
      "Parameters: { \"n_estimator\" } are not used.\n",
      "\n",
      "  warnings.warn(smsg, UserWarning)\n"
     ]
    },
    {
     "name": "stdout",
     "output_type": "stream",
     "text": [
      "[0]\tvalidation_0-rmse:55.86082\n"
     ]
    },
    {
     "name": "stderr",
     "output_type": "stream",
     "text": [
      "[I 2023-11-06 18:06:04,211] Trial 94 finished with value: 3120.430874362225 and parameters: {'lambda': 5.260930171410902e-06, 'alpha': 1.567612706142988e-08, 'colsample_bytree': 0.9, 'subsample': 0.7, 'learning_rate': 1, 'max_depth': 10, 'random_state': 10, 'min_child_weight': 4}. Best is trial 84 with value: 3103.686250579581.\n"
     ]
    },
    {
     "name": "stdout",
     "output_type": "stream",
     "text": [
      "[18:06:04] ======== Monitor (0): Learner ========\n",
      "[18:06:04] Configure: 0.000903s, 1 calls @ 903us\n",
      "\n",
      "[18:06:04] EvalOneIter: 0.008854s, 1 calls @ 8854us\n",
      "\n",
      "[18:06:04] GetGradient: 8e-06s, 1 calls @ 8us\n",
      "\n",
      "[18:06:04] PredictRaw: 4e-06s, 1 calls @ 4us\n",
      "\n",
      "[18:06:04] UpdateOneIter: 0.654059s, 1 calls @ 654059us\n",
      "\n",
      "[18:06:04] ======== Monitor (0): GBTree ========\n",
      "[18:06:04] BoostNewTrees: 0.648194s, 1 calls @ 648194us\n",
      "\n",
      "[18:06:04] CommitModel: 3e-06s, 1 calls @ 3us\n",
      "\n",
      "[18:06:04] ======== Monitor (0): HistUpdater ========\n",
      "[18:06:04] BuildHistogram: 0.21287s, 900 calls @ 212870us\n",
      "\n",
      "[18:06:04] EvaluateSplits: 0.161789s, 1000 calls @ 161789us\n",
      "\n",
      "[18:06:04] InitData: 0.019144s, 100 calls @ 19144us\n",
      "\n",
      "[18:06:04] InitRoot: 0.055881s, 100 calls @ 55881us\n",
      "\n",
      "[18:06:04] LeafPartition: 2.6e-05s, 100 calls @ 26us\n",
      "\n",
      "[18:06:04] UpdatePosition: 0.183698s, 1000 calls @ 183698us\n",
      "\n",
      "[18:06:04] UpdateTree: 0.642819s, 100 calls @ 642819us\n",
      "\n",
      "[18:06:04] DEBUG: /workspace/src/gbm/gbtree.cc:130: Using tree method: 3\n"
     ]
    },
    {
     "name": "stderr",
     "output_type": "stream",
     "text": [
      "/tmp/ipykernel_13654/829001706.py:6: FutureWarning: suggest_loguniform has been deprecated in v3.0.0. This feature will be removed in v6.0.0. See https://github.com/optuna/optuna/releases/tag/v3.0.0. Use suggest_float(..., log=True) instead.\n",
      "  'lambda': trail.suggest_loguniform('lambda', 1e-10, 1e-4), # lambda uses L2 regularization\n",
      "/tmp/ipykernel_13654/829001706.py:7: FutureWarning: suggest_loguniform has been deprecated in v3.0.0. This feature will be removed in v6.0.0. See https://github.com/optuna/optuna/releases/tag/v3.0.0. Use suggest_float(..., log=True) instead.\n",
      "  'alpha': trail.suggest_loguniform('alpha', 1e-10, 1e-4),\n"
     ]
    },
    {
     "name": "stdout",
     "output_type": "stream",
     "text": [
      "[18:06:04] ======== Monitor (0): HostSketchContainer ========\n",
      "[18:06:04] AllReduce: 0.01044s, 1 calls @ 10440us\n",
      "\n",
      "[18:06:04] MakeCuts: 0.024942s, 1 calls @ 24942us\n",
      "\n",
      "[18:06:04] DEBUG: /workspace/src/gbm/gbtree.cc:130: Using tree method: 3\n"
     ]
    },
    {
     "name": "stderr",
     "output_type": "stream",
     "text": [
      "/home/aazzioui/Documents/WS/TIMSS-2019_student_score_prediction/env/lib/python3.11/site-packages/xgboost/core.py:160: UserWarning: [18:06:04] WARNING: /workspace/src/learner.cc:742: \n",
      "Parameters: { \"n_estimator\" } are not used.\n",
      "\n",
      "  warnings.warn(smsg, UserWarning)\n"
     ]
    },
    {
     "name": "stdout",
     "output_type": "stream",
     "text": [
      "[0]\tvalidation_0-rmse:55.95963\n"
     ]
    },
    {
     "name": "stderr",
     "output_type": "stream",
     "text": [
      "[I 2023-11-06 18:06:06,279] Trial 95 finished with value: 3131.480098120946 and parameters: {'lambda': 4.999845406036161e-06, 'alpha': 1.751277677727132e-08, 'colsample_bytree': 0.9, 'subsample': 0.7, 'learning_rate': 1, 'max_depth': 10, 'random_state': 10, 'min_child_weight': 10}. Best is trial 84 with value: 3103.686250579581.\n"
     ]
    },
    {
     "name": "stdout",
     "output_type": "stream",
     "text": [
      "[18:06:06] ======== Monitor (0): Learner ========\n",
      "[18:06:06] Configure: 0.001206s, 1 calls @ 1206us\n",
      "\n",
      "[18:06:06] EvalOneIter: 0.001132s, 1 calls @ 1132us\n",
      "\n",
      "[18:06:06] GetGradient: 1.5e-05s, 1 calls @ 15us\n",
      "\n",
      "[18:06:06] PredictRaw: 5e-06s, 1 calls @ 5us\n",
      "\n",
      "[18:06:06] UpdateOneIter: 1.75248s, 1 calls @ 1752477us\n",
      "\n",
      "[18:06:06] ======== Monitor (0): GBTree ========\n",
      "[18:06:06] BoostNewTrees: 1.67184s, 1 calls @ 1671840us\n",
      "\n",
      "[18:06:06] CommitModel: 3e-06s, 1 calls @ 3us\n",
      "\n",
      "[18:06:06] ======== Monitor (0): HistUpdater ========\n",
      "[18:06:06] BuildHistogram: 0.650004s, 883 calls @ 650004us\n",
      "\n",
      "[18:06:06] EvaluateSplits: 0.303169s, 983 calls @ 303169us\n",
      "\n",
      "[18:06:06] InitData: 0.011876s, 100 calls @ 11876us\n",
      "\n",
      "[18:06:06] InitRoot: 0.083815s, 100 calls @ 83815us\n",
      "\n",
      "[18:06:06] LeafPartition: 2.5e-05s, 100 calls @ 25us\n",
      "\n",
      "[18:06:06] UpdatePosition: 0.616855s, 915 calls @ 616855us\n",
      "\n",
      "[18:06:06] UpdateTree: 1.65586s, 100 calls @ 1655858us\n",
      "\n",
      "[18:06:06] DEBUG: /workspace/src/gbm/gbtree.cc:130: Using tree method: 3\n",
      "[18:06:06] ======== Monitor (0): HostSketchContainer ========\n",
      "[18:06:06] AllReduce: 5e-06s, 1 calls @ 5us\n",
      "\n",
      "[18:06:06] MakeCuts: 1.6e-05s, 1 calls @ 16us\n",
      "\n"
     ]
    },
    {
     "name": "stderr",
     "output_type": "stream",
     "text": [
      "/tmp/ipykernel_13654/829001706.py:6: FutureWarning: suggest_loguniform has been deprecated in v3.0.0. This feature will be removed in v6.0.0. See https://github.com/optuna/optuna/releases/tag/v3.0.0. Use suggest_float(..., log=True) instead.\n",
      "  'lambda': trail.suggest_loguniform('lambda', 1e-10, 1e-4), # lambda uses L2 regularization\n",
      "/tmp/ipykernel_13654/829001706.py:7: FutureWarning: suggest_loguniform has been deprecated in v3.0.0. This feature will be removed in v6.0.0. See https://github.com/optuna/optuna/releases/tag/v3.0.0. Use suggest_float(..., log=True) instead.\n",
      "  'alpha': trail.suggest_loguniform('alpha', 1e-10, 1e-4),\n"
     ]
    },
    {
     "name": "stdout",
     "output_type": "stream",
     "text": [
      "[18:06:06] DEBUG: /workspace/src/gbm/gbtree.cc:130: Using tree method: 3\n"
     ]
    },
    {
     "name": "stderr",
     "output_type": "stream",
     "text": [
      "/home/aazzioui/Documents/WS/TIMSS-2019_student_score_prediction/env/lib/python3.11/site-packages/xgboost/core.py:160: UserWarning: [18:06:06] WARNING: /workspace/src/learner.cc:742: \n",
      "Parameters: { \"n_estimator\" } are not used.\n",
      "\n",
      "  warnings.warn(smsg, UserWarning)\n"
     ]
    },
    {
     "name": "stdout",
     "output_type": "stream",
     "text": [
      "[0]\tvalidation_0-rmse:62.68338\n"
     ]
    },
    {
     "name": "stderr",
     "output_type": "stream",
     "text": [
      "[I 2023-11-06 18:06:07,435] Trial 96 finished with value: 3929.205927023033 and parameters: {'lambda': 4.558912190558437e-06, 'alpha': 1.366710654160952e-08, 'colsample_bytree': 0.9, 'subsample': 0.7, 'learning_rate': 0.02, 'max_depth': 10, 'random_state': 10, 'min_child_weight': 11}. Best is trial 84 with value: 3103.686250579581.\n"
     ]
    },
    {
     "name": "stdout",
     "output_type": "stream",
     "text": [
      "[18:06:07] ======== Monitor (0): Learner ========\n",
      "[18:06:07] Configure: 0.005918s, 1 calls @ 5918us\n",
      "\n",
      "[18:06:07] EvalOneIter: 0.007303s, 1 calls @ 7303us\n",
      "\n",
      "[18:06:07] GetGradient: 8e-06s, 1 calls @ 8us\n",
      "\n",
      "[18:06:07] PredictRaw: 5e-06s, 1 calls @ 5us\n",
      "\n",
      "[18:06:07] UpdateOneIter: 0.789384s, 1 calls @ 789384us\n",
      "\n",
      "[18:06:07] ======== Monitor (0): GBTree ========\n",
      "[18:06:07] BoostNewTrees: 0.775845s, 1 calls @ 775845us\n",
      "\n",
      "[18:06:07] CommitModel: 3e-06s, 1 calls @ 3us\n",
      "\n",
      "[18:06:07] ======== Monitor (0): HistUpdater ========\n",
      "[18:06:07] BuildHistogram: 0.325042s, 878 calls @ 325042us\n",
      "\n",
      "[18:06:07] EvaluateSplits: 0.157844s, 978 calls @ 157844us\n",
      "\n",
      "[18:06:07] InitData: 0.001855s, 100 calls @ 1855us\n",
      "\n",
      "[18:06:07] InitRoot: 0.008083s, 100 calls @ 8083us\n",
      "\n",
      "[18:06:07] LeafPartition: 2.6e-05s, 100 calls @ 26us\n",
      "\n",
      "[18:06:07] UpdatePosition: 0.263872s, 907 calls @ 263872us\n",
      "\n",
      "[18:06:07] UpdateTree: 0.77257s, 100 calls @ 772570us\n",
      "\n",
      "[18:06:07] DEBUG: /workspace/src/gbm/gbtree.cc:130: Using tree method: 3\n",
      "[18:06:07] ======== Monitor (0): HostSketchContainer ========\n",
      "[18:06:07] AllReduce: 5e-06s, 1 calls @ 5us\n",
      "\n",
      "[18:06:07] MakeCuts: 1.6e-05s, 1 calls @ 16us\n",
      "\n"
     ]
    },
    {
     "name": "stderr",
     "output_type": "stream",
     "text": [
      "/tmp/ipykernel_13654/829001706.py:6: FutureWarning: suggest_loguniform has been deprecated in v3.0.0. This feature will be removed in v6.0.0. See https://github.com/optuna/optuna/releases/tag/v3.0.0. Use suggest_float(..., log=True) instead.\n",
      "  'lambda': trail.suggest_loguniform('lambda', 1e-10, 1e-4), # lambda uses L2 regularization\n",
      "/tmp/ipykernel_13654/829001706.py:7: FutureWarning: suggest_loguniform has been deprecated in v3.0.0. This feature will be removed in v6.0.0. See https://github.com/optuna/optuna/releases/tag/v3.0.0. Use suggest_float(..., log=True) instead.\n",
      "  'alpha': trail.suggest_loguniform('alpha', 1e-10, 1e-4),\n"
     ]
    },
    {
     "name": "stdout",
     "output_type": "stream",
     "text": [
      "[18:06:07] DEBUG: /workspace/src/gbm/gbtree.cc:130: Using tree method: 3\n"
     ]
    },
    {
     "name": "stderr",
     "output_type": "stream",
     "text": [
      "/home/aazzioui/Documents/WS/TIMSS-2019_student_score_prediction/env/lib/python3.11/site-packages/xgboost/core.py:160: UserWarning: [18:06:07] WARNING: /workspace/src/learner.cc:742: \n",
      "Parameters: { \"n_estimator\" } are not used.\n",
      "\n",
      "  warnings.warn(smsg, UserWarning)\n"
     ]
    },
    {
     "name": "stdout",
     "output_type": "stream",
     "text": [
      "[0]\tvalidation_0-rmse:62.90845\n"
     ]
    },
    {
     "name": "stderr",
     "output_type": "stream",
     "text": [
      "[I 2023-11-06 18:06:08,656] Trial 97 finished with value: 3957.473244046568 and parameters: {'lambda': 1.5398140478712775e-06, 'alpha': 1.7552845993527992e-08, 'colsample_bytree': 0.9, 'subsample': 0.7, 'learning_rate': 0.0003, 'max_depth': 10, 'random_state': 10, 'min_child_weight': 5}. Best is trial 84 with value: 3103.686250579581.\n"
     ]
    },
    {
     "name": "stdout",
     "output_type": "stream",
     "text": [
      "[18:06:08] ======== Monitor (0): Learner ========\n",
      "[18:06:08] Configure: 0.001282s, 1 calls @ 1282us\n",
      "\n",
      "[18:06:08] EvalOneIter: 0.001062s, 1 calls @ 1062us\n",
      "\n",
      "[18:06:08] GetGradient: 0.003984s, 1 calls @ 3984us\n",
      "\n",
      "[18:06:08] PredictRaw: 5e-06s, 1 calls @ 5us\n",
      "\n",
      "[18:06:08] UpdateOneIter: 0.833685s, 1 calls @ 833685us\n",
      "\n",
      "[18:06:08] ======== Monitor (0): GBTree ========\n",
      "[18:06:08] BoostNewTrees: 0.794582s, 1 calls @ 794582us\n",
      "\n",
      "[18:06:08] CommitModel: 2e-06s, 1 calls @ 2us\n",
      "\n",
      "[18:06:08] ======== Monitor (0): HistUpdater ========\n",
      "[18:06:08] BuildHistogram: 0.306894s, 900 calls @ 306894us\n",
      "\n",
      "[18:06:08] EvaluateSplits: 0.146712s, 1000 calls @ 146712us\n",
      "\n",
      "[18:06:08] InitData: 0.019675s, 100 calls @ 19675us\n",
      "\n",
      "[18:06:08] InitRoot: 0.054806s, 100 calls @ 54806us\n",
      "\n",
      "[18:06:08] LeafPartition: 2.4e-05s, 100 calls @ 24us\n",
      "\n",
      "[18:06:08] UpdatePosition: 0.249858s, 1000 calls @ 249858us\n",
      "\n",
      "[18:06:08] UpdateTree: 0.77187s, 100 calls @ 771870us\n",
      "\n",
      "[18:06:08] DEBUG: /workspace/src/gbm/gbtree.cc:130: Using tree method: 3\n",
      "[18:06:08] ======== Monitor (0): HostSketchContainer ========\n",
      "[18:06:08] AllReduce: 6e-06s, 1 calls @ 6us\n",
      "\n",
      "[18:06:08] MakeCuts: 1.9e-05s, 1 calls @ 19us\n",
      "\n",
      "[18:06:08] DEBUG: /workspace/src/gbm/gbtree.cc:130: Using tree method: 3\n"
     ]
    },
    {
     "name": "stderr",
     "output_type": "stream",
     "text": [
      "/tmp/ipykernel_13654/829001706.py:6: FutureWarning: suggest_loguniform has been deprecated in v3.0.0. This feature will be removed in v6.0.0. See https://github.com/optuna/optuna/releases/tag/v3.0.0. Use suggest_float(..., log=True) instead.\n",
      "  'lambda': trail.suggest_loguniform('lambda', 1e-10, 1e-4), # lambda uses L2 regularization\n",
      "/tmp/ipykernel_13654/829001706.py:7: FutureWarning: suggest_loguniform has been deprecated in v3.0.0. This feature will be removed in v6.0.0. See https://github.com/optuna/optuna/releases/tag/v3.0.0. Use suggest_float(..., log=True) instead.\n",
      "  'alpha': trail.suggest_loguniform('alpha', 1e-10, 1e-4),\n",
      "/home/aazzioui/Documents/WS/TIMSS-2019_student_score_prediction/env/lib/python3.11/site-packages/xgboost/core.py:160: UserWarning: [18:06:08] WARNING: /workspace/src/learner.cc:742: \n",
      "Parameters: { \"n_estimator\" } are not used.\n",
      "\n",
      "  warnings.warn(smsg, UserWarning)\n"
     ]
    },
    {
     "name": "stdout",
     "output_type": "stream",
     "text": [
      "[0]\tvalidation_0-rmse:56.24481\n"
     ]
    },
    {
     "name": "stderr",
     "output_type": "stream",
     "text": [
      "[I 2023-11-06 18:06:09,464] Trial 98 finished with value: 3163.4788354086545 and parameters: {'lambda': 6.626606681797246e-06, 'alpha': 6.111545675859228e-09, 'colsample_bytree': 0.9, 'subsample': 0.7, 'learning_rate': 1, 'max_depth': 10, 'random_state': 10, 'min_child_weight': 9}. Best is trial 84 with value: 3103.686250579581.\n"
     ]
    },
    {
     "name": "stdout",
     "output_type": "stream",
     "text": [
      "[18:06:09] ======== Monitor (0): Learner ========\n",
      "[18:06:09] Configure: 0.003284s, 1 calls @ 3284us\n",
      "\n",
      "[18:06:09] EvalOneIter: 0.001923s, 1 calls @ 1923us\n",
      "\n",
      "[18:06:09] GetGradient: 9e-06s, 1 calls @ 9us\n",
      "\n",
      "[18:06:09] PredictRaw: 4e-06s, 1 calls @ 4us\n",
      "\n",
      "[18:06:09] UpdateOneIter: 0.52314s, 1 calls @ 523140us\n",
      "\n",
      "[18:06:09] ======== Monitor (0): GBTree ========\n",
      "[18:06:09] BoostNewTrees: 0.512955s, 1 calls @ 512955us\n",
      "\n",
      "[18:06:09] CommitModel: 3e-06s, 1 calls @ 3us\n",
      "\n",
      "[18:06:09] ======== Monitor (0): HistUpdater ========\n",
      "[18:06:09] BuildHistogram: 0.133323s, 891 calls @ 133323us\n",
      "\n",
      "[18:06:09] EvaluateSplits: 0.091871s, 991 calls @ 91871us\n",
      "\n",
      "[18:06:09] InitData: 0.002723s, 100 calls @ 2723us\n",
      "\n",
      "[18:06:09] InitRoot: 0.021935s, 100 calls @ 21935us\n",
      "\n",
      "[18:06:09] LeafPartition: 2.3e-05s, 100 calls @ 23us\n",
      "\n",
      "[18:06:09] UpdatePosition: 0.251211s, 935 calls @ 251211us\n",
      "\n",
      "[18:06:09] UpdateTree: 0.507551s, 100 calls @ 507551us\n",
      "\n",
      "[18:06:09] DEBUG: /workspace/src/gbm/gbtree.cc:130: Using tree method: 3\n"
     ]
    },
    {
     "name": "stderr",
     "output_type": "stream",
     "text": [
      "/tmp/ipykernel_13654/829001706.py:6: FutureWarning: suggest_loguniform has been deprecated in v3.0.0. This feature will be removed in v6.0.0. See https://github.com/optuna/optuna/releases/tag/v3.0.0. Use suggest_float(..., log=True) instead.\n",
      "  'lambda': trail.suggest_loguniform('lambda', 1e-10, 1e-4), # lambda uses L2 regularization\n",
      "/tmp/ipykernel_13654/829001706.py:7: FutureWarning: suggest_loguniform has been deprecated in v3.0.0. This feature will be removed in v6.0.0. See https://github.com/optuna/optuna/releases/tag/v3.0.0. Use suggest_float(..., log=True) instead.\n",
      "  'alpha': trail.suggest_loguniform('alpha', 1e-10, 1e-4),\n"
     ]
    },
    {
     "name": "stdout",
     "output_type": "stream",
     "text": [
      "[18:06:09] ======== Monitor (0): HostSketchContainer ========\n",
      "[18:06:09] AllReduce: 0.014818s, 1 calls @ 14818us\n",
      "\n",
      "[18:06:09] MakeCuts: 0.036123s, 1 calls @ 36123us\n",
      "\n",
      "[18:06:09] DEBUG: /workspace/src/gbm/gbtree.cc:130: Using tree method: 3\n"
     ]
    },
    {
     "name": "stderr",
     "output_type": "stream",
     "text": [
      "/home/aazzioui/Documents/WS/TIMSS-2019_student_score_prediction/env/lib/python3.11/site-packages/xgboost/core.py:160: UserWarning: [18:06:09] WARNING: /workspace/src/learner.cc:742: \n",
      "Parameters: { \"n_estimator\" } are not used.\n",
      "\n",
      "  warnings.warn(smsg, UserWarning)\n"
     ]
    },
    {
     "name": "stdout",
     "output_type": "stream",
     "text": [
      "[0]\tvalidation_0-rmse:200.57784\n"
     ]
    },
    {
     "name": "stderr",
     "output_type": "stream",
     "text": [
      "[I 2023-11-06 18:06:10,816] Trial 99 finished with value: 40231.46895034342 and parameters: {'lambda': 6.027423170320085e-06, 'alpha': 5.626587159863953e-09, 'colsample_bytree': 0.9, 'subsample': 0.7, 'learning_rate': 10, 'max_depth': 10, 'random_state': 10, 'min_child_weight': 28}. Best is trial 84 with value: 3103.686250579581.\n"
     ]
    },
    {
     "name": "stdout",
     "output_type": "stream",
     "text": [
      "[18:06:10] ======== Monitor (0): Learner ========\n",
      "[18:06:10] Configure: 0.001172s, 1 calls @ 1172us\n",
      "\n",
      "[18:06:10] EvalOneIter: 0.000772s, 1 calls @ 772us\n",
      "\n",
      "[18:06:10] GetGradient: 0.019993s, 1 calls @ 19993us\n",
      "\n",
      "[18:06:10] PredictRaw: 5e-06s, 1 calls @ 5us\n",
      "\n",
      "[18:06:10] UpdateOneIter: 0.750947s, 1 calls @ 750947us\n",
      "\n",
      "[18:06:10] ======== Monitor (0): GBTree ========\n",
      "[18:06:10] BoostNewTrees: 0.663481s, 1 calls @ 663481us\n",
      "\n",
      "[18:06:10] CommitModel: 3e-06s, 1 calls @ 3us\n",
      "\n",
      "[18:06:10] ======== Monitor (0): HistUpdater ========\n",
      "[18:06:10] BuildHistogram: 0.174174s, 573 calls @ 174174us\n",
      "\n",
      "[18:06:10] EvaluateSplits: 0.087785s, 673 calls @ 87785us\n",
      "\n",
      "[18:06:10] InitData: 0.084558s, 100 calls @ 84558us\n",
      "\n",
      "[18:06:10] InitRoot: 0.164155s, 100 calls @ 164155us\n",
      "\n",
      "[18:06:10] LeafPartition: 2.1e-05s, 100 calls @ 21us\n",
      "\n",
      "[18:06:10] UpdatePosition: 0.156648s, 573 calls @ 156648us\n",
      "\n",
      "[18:06:10] UpdateTree: 0.629154s, 100 calls @ 629154us\n",
      "\n",
      "[18:06:10] DEBUG: /workspace/src/gbm/gbtree.cc:130: Using tree method: 3\n"
     ]
    },
    {
     "data": {
      "text/plain": [
       "{'lambda': 3.709591043437966e-06,\n",
       " 'alpha': 3.470264495040167e-08,\n",
       " 'colsample_bytree': 0.9,\n",
       " 'subsample': 0.7,\n",
       " 'learning_rate': 1,\n",
       " 'max_depth': 10,\n",
       " 'random_state': 10,\n",
       " 'min_child_weight': 6}"
      ]
     },
     "execution_count": 131,
     "metadata": {},
     "output_type": "execute_result"
    }
   ],
   "source": [
    "find_param = optuna.create_study(direction='minimize')\n",
    "find_param.optimize(objective, n_trials = 100)\n",
    "find_param.best_params"
   ]
  },
  {
   "cell_type": "code",
   "execution_count": 132,
   "metadata": {},
   "outputs": [
    {
     "data": {
      "text/html": [
       "<div>\n",
       "<style scoped>\n",
       "    .dataframe tbody tr th:only-of-type {\n",
       "        vertical-align: middle;\n",
       "    }\n",
       "\n",
       "    .dataframe tbody tr th {\n",
       "        vertical-align: top;\n",
       "    }\n",
       "\n",
       "    .dataframe thead th {\n",
       "        text-align: right;\n",
       "    }\n",
       "</style>\n",
       "<table border=\"1\" class=\"dataframe\">\n",
       "  <thead>\n",
       "    <tr style=\"text-align: right;\">\n",
       "      <th></th>\n",
       "      <th>number</th>\n",
       "      <th>value</th>\n",
       "      <th>datetime_start</th>\n",
       "      <th>datetime_complete</th>\n",
       "      <th>duration</th>\n",
       "      <th>params_alpha</th>\n",
       "      <th>params_colsample_bytree</th>\n",
       "      <th>params_lambda</th>\n",
       "      <th>params_learning_rate</th>\n",
       "      <th>params_max_depth</th>\n",
       "      <th>params_min_child_weight</th>\n",
       "      <th>params_random_state</th>\n",
       "      <th>params_subsample</th>\n",
       "      <th>state</th>\n",
       "    </tr>\n",
       "  </thead>\n",
       "  <tbody>\n",
       "    <tr>\n",
       "      <th>0</th>\n",
       "      <td>0</td>\n",
       "      <td>3937.530399</td>\n",
       "      <td>2023-11-06 18:05:12.575889</td>\n",
       "      <td>2023-11-06 18:05:12.681425</td>\n",
       "      <td>0 days 00:00:00.105536</td>\n",
       "      <td>1.195952e-10</td>\n",
       "      <td>0.9</td>\n",
       "      <td>4.080866e-05</td>\n",
       "      <td>1.00000</td>\n",
       "      <td>3</td>\n",
       "      <td>138</td>\n",
       "      <td>30</td>\n",
       "      <td>0.4</td>\n",
       "      <td>COMPLETE</td>\n",
       "    </tr>\n",
       "    <tr>\n",
       "      <th>1</th>\n",
       "      <td>1</td>\n",
       "      <td>5912.444335</td>\n",
       "      <td>2023-11-06 18:05:12.682424</td>\n",
       "      <td>2023-11-06 18:05:12.920700</td>\n",
       "      <td>0 days 00:00:00.238276</td>\n",
       "      <td>9.994301e-08</td>\n",
       "      <td>0.3</td>\n",
       "      <td>3.067967e-06</td>\n",
       "      <td>10.00000</td>\n",
       "      <td>5</td>\n",
       "      <td>68</td>\n",
       "      <td>10</td>\n",
       "      <td>0.8</td>\n",
       "      <td>COMPLETE</td>\n",
       "    </tr>\n",
       "    <tr>\n",
       "      <th>2</th>\n",
       "      <td>2</td>\n",
       "      <td>3957.955187</td>\n",
       "      <td>2023-11-06 18:05:12.923901</td>\n",
       "      <td>2023-11-06 18:05:13.626978</td>\n",
       "      <td>0 days 00:00:00.703077</td>\n",
       "      <td>2.608837e-08</td>\n",
       "      <td>0.3</td>\n",
       "      <td>5.969519e-09</td>\n",
       "      <td>0.00001</td>\n",
       "      <td>4</td>\n",
       "      <td>3</td>\n",
       "      <td>30</td>\n",
       "      <td>0.9</td>\n",
       "      <td>COMPLETE</td>\n",
       "    </tr>\n",
       "    <tr>\n",
       "      <th>3</th>\n",
       "      <td>3</td>\n",
       "      <td>3736.977683</td>\n",
       "      <td>2023-11-06 18:05:13.630399</td>\n",
       "      <td>2023-11-06 18:05:13.863696</td>\n",
       "      <td>0 days 00:00:00.233297</td>\n",
       "      <td>5.629740e-09</td>\n",
       "      <td>0.2</td>\n",
       "      <td>1.844228e-09</td>\n",
       "      <td>1.00000</td>\n",
       "      <td>11</td>\n",
       "      <td>53</td>\n",
       "      <td>30</td>\n",
       "      <td>0.4</td>\n",
       "      <td>COMPLETE</td>\n",
       "    </tr>\n",
       "    <tr>\n",
       "      <th>4</th>\n",
       "      <td>4</td>\n",
       "      <td>3957.955187</td>\n",
       "      <td>2023-11-06 18:05:13.869094</td>\n",
       "      <td>2023-11-06 18:05:13.987864</td>\n",
       "      <td>0 days 00:00:00.118770</td>\n",
       "      <td>1.029122e-09</td>\n",
       "      <td>0.2</td>\n",
       "      <td>1.759553e-08</td>\n",
       "      <td>10.00000</td>\n",
       "      <td>8</td>\n",
       "      <td>197</td>\n",
       "      <td>30</td>\n",
       "      <td>0.2</td>\n",
       "      <td>COMPLETE</td>\n",
       "    </tr>\n",
       "    <tr>\n",
       "      <th>...</th>\n",
       "      <td>...</td>\n",
       "      <td>...</td>\n",
       "      <td>...</td>\n",
       "      <td>...</td>\n",
       "      <td>...</td>\n",
       "      <td>...</td>\n",
       "      <td>...</td>\n",
       "      <td>...</td>\n",
       "      <td>...</td>\n",
       "      <td>...</td>\n",
       "      <td>...</td>\n",
       "      <td>...</td>\n",
       "      <td>...</td>\n",
       "      <td>...</td>\n",
       "    </tr>\n",
       "    <tr>\n",
       "      <th>95</th>\n",
       "      <td>95</td>\n",
       "      <td>3131.480098</td>\n",
       "      <td>2023-11-06 18:06:04.213220</td>\n",
       "      <td>2023-11-06 18:06:06.279622</td>\n",
       "      <td>0 days 00:00:02.066402</td>\n",
       "      <td>1.751278e-08</td>\n",
       "      <td>0.9</td>\n",
       "      <td>4.999845e-06</td>\n",
       "      <td>1.00000</td>\n",
       "      <td>10</td>\n",
       "      <td>10</td>\n",
       "      <td>10</td>\n",
       "      <td>0.7</td>\n",
       "      <td>COMPLETE</td>\n",
       "    </tr>\n",
       "    <tr>\n",
       "      <th>96</th>\n",
       "      <td>96</td>\n",
       "      <td>3929.205927</td>\n",
       "      <td>2023-11-06 18:06:06.289365</td>\n",
       "      <td>2023-11-06 18:06:07.434858</td>\n",
       "      <td>0 days 00:00:01.145493</td>\n",
       "      <td>1.366711e-08</td>\n",
       "      <td>0.9</td>\n",
       "      <td>4.558912e-06</td>\n",
       "      <td>0.02000</td>\n",
       "      <td>10</td>\n",
       "      <td>11</td>\n",
       "      <td>10</td>\n",
       "      <td>0.7</td>\n",
       "      <td>COMPLETE</td>\n",
       "    </tr>\n",
       "    <tr>\n",
       "      <th>97</th>\n",
       "      <td>97</td>\n",
       "      <td>3957.473244</td>\n",
       "      <td>2023-11-06 18:06:07.436490</td>\n",
       "      <td>2023-11-06 18:06:08.656147</td>\n",
       "      <td>0 days 00:00:01.219657</td>\n",
       "      <td>1.755285e-08</td>\n",
       "      <td>0.9</td>\n",
       "      <td>1.539814e-06</td>\n",
       "      <td>0.00030</td>\n",
       "      <td>10</td>\n",
       "      <td>5</td>\n",
       "      <td>10</td>\n",
       "      <td>0.7</td>\n",
       "      <td>COMPLETE</td>\n",
       "    </tr>\n",
       "    <tr>\n",
       "      <th>98</th>\n",
       "      <td>98</td>\n",
       "      <td>3163.478835</td>\n",
       "      <td>2023-11-06 18:06:08.658383</td>\n",
       "      <td>2023-11-06 18:06:09.464439</td>\n",
       "      <td>0 days 00:00:00.806056</td>\n",
       "      <td>6.111546e-09</td>\n",
       "      <td>0.9</td>\n",
       "      <td>6.626607e-06</td>\n",
       "      <td>1.00000</td>\n",
       "      <td>10</td>\n",
       "      <td>9</td>\n",
       "      <td>10</td>\n",
       "      <td>0.7</td>\n",
       "      <td>COMPLETE</td>\n",
       "    </tr>\n",
       "    <tr>\n",
       "      <th>99</th>\n",
       "      <td>99</td>\n",
       "      <td>40231.468950</td>\n",
       "      <td>2023-11-06 18:06:09.465504</td>\n",
       "      <td>2023-11-06 18:06:10.816163</td>\n",
       "      <td>0 days 00:00:01.350659</td>\n",
       "      <td>5.626587e-09</td>\n",
       "      <td>0.9</td>\n",
       "      <td>6.027423e-06</td>\n",
       "      <td>10.00000</td>\n",
       "      <td>10</td>\n",
       "      <td>28</td>\n",
       "      <td>10</td>\n",
       "      <td>0.7</td>\n",
       "      <td>COMPLETE</td>\n",
       "    </tr>\n",
       "  </tbody>\n",
       "</table>\n",
       "<p>100 rows × 14 columns</p>\n",
       "</div>"
      ],
      "text/plain": [
       "    number         value             datetime_start  \\\n",
       "0        0   3937.530399 2023-11-06 18:05:12.575889   \n",
       "1        1   5912.444335 2023-11-06 18:05:12.682424   \n",
       "2        2   3957.955187 2023-11-06 18:05:12.923901   \n",
       "3        3   3736.977683 2023-11-06 18:05:13.630399   \n",
       "4        4   3957.955187 2023-11-06 18:05:13.869094   \n",
       "..     ...           ...                        ...   \n",
       "95      95   3131.480098 2023-11-06 18:06:04.213220   \n",
       "96      96   3929.205927 2023-11-06 18:06:06.289365   \n",
       "97      97   3957.473244 2023-11-06 18:06:07.436490   \n",
       "98      98   3163.478835 2023-11-06 18:06:08.658383   \n",
       "99      99  40231.468950 2023-11-06 18:06:09.465504   \n",
       "\n",
       "            datetime_complete               duration  params_alpha  \\\n",
       "0  2023-11-06 18:05:12.681425 0 days 00:00:00.105536  1.195952e-10   \n",
       "1  2023-11-06 18:05:12.920700 0 days 00:00:00.238276  9.994301e-08   \n",
       "2  2023-11-06 18:05:13.626978 0 days 00:00:00.703077  2.608837e-08   \n",
       "3  2023-11-06 18:05:13.863696 0 days 00:00:00.233297  5.629740e-09   \n",
       "4  2023-11-06 18:05:13.987864 0 days 00:00:00.118770  1.029122e-09   \n",
       "..                        ...                    ...           ...   \n",
       "95 2023-11-06 18:06:06.279622 0 days 00:00:02.066402  1.751278e-08   \n",
       "96 2023-11-06 18:06:07.434858 0 days 00:00:01.145493  1.366711e-08   \n",
       "97 2023-11-06 18:06:08.656147 0 days 00:00:01.219657  1.755285e-08   \n",
       "98 2023-11-06 18:06:09.464439 0 days 00:00:00.806056  6.111546e-09   \n",
       "99 2023-11-06 18:06:10.816163 0 days 00:00:01.350659  5.626587e-09   \n",
       "\n",
       "    params_colsample_bytree  params_lambda  params_learning_rate  \\\n",
       "0                       0.9   4.080866e-05               1.00000   \n",
       "1                       0.3   3.067967e-06              10.00000   \n",
       "2                       0.3   5.969519e-09               0.00001   \n",
       "3                       0.2   1.844228e-09               1.00000   \n",
       "4                       0.2   1.759553e-08              10.00000   \n",
       "..                      ...            ...                   ...   \n",
       "95                      0.9   4.999845e-06               1.00000   \n",
       "96                      0.9   4.558912e-06               0.02000   \n",
       "97                      0.9   1.539814e-06               0.00030   \n",
       "98                      0.9   6.626607e-06               1.00000   \n",
       "99                      0.9   6.027423e-06              10.00000   \n",
       "\n",
       "    params_max_depth  params_min_child_weight  params_random_state  \\\n",
       "0                  3                      138                   30   \n",
       "1                  5                       68                   10   \n",
       "2                  4                        3                   30   \n",
       "3                 11                       53                   30   \n",
       "4                  8                      197                   30   \n",
       "..               ...                      ...                  ...   \n",
       "95                10                       10                   10   \n",
       "96                10                       11                   10   \n",
       "97                10                        5                   10   \n",
       "98                10                        9                   10   \n",
       "99                10                       28                   10   \n",
       "\n",
       "    params_subsample     state  \n",
       "0                0.4  COMPLETE  \n",
       "1                0.8  COMPLETE  \n",
       "2                0.9  COMPLETE  \n",
       "3                0.4  COMPLETE  \n",
       "4                0.2  COMPLETE  \n",
       "..               ...       ...  \n",
       "95               0.7  COMPLETE  \n",
       "96               0.7  COMPLETE  \n",
       "97               0.7  COMPLETE  \n",
       "98               0.7  COMPLETE  \n",
       "99               0.7  COMPLETE  \n",
       "\n",
       "[100 rows x 14 columns]"
      ]
     },
     "execution_count": 132,
     "metadata": {},
     "output_type": "execute_result"
    }
   ],
   "source": [
    "# put trials details in a dataframe:\n",
    "find_param.trials_dataframe()"
   ]
  },
  {
   "cell_type": "code",
   "execution_count": 138,
   "metadata": {},
   "outputs": [],
   "source": [
    "import plotly"
   ]
  }
 ],
 "metadata": {
  "kernelspec": {
   "display_name": "Python 3",
   "language": "python",
   "name": "python3"
  },
  "language_info": {
   "codemirror_mode": {
    "name": "ipython",
    "version": 3
   },
   "file_extension": ".py",
   "mimetype": "text/x-python",
   "name": "python",
   "nbconvert_exporter": "python",
   "pygments_lexer": "ipython3",
   "version": "3.11.5"
  }
 },
 "nbformat": 4,
 "nbformat_minor": 2
}
