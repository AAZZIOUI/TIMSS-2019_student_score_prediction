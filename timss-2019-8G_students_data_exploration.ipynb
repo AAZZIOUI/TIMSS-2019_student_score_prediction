{
 "cells": [
  {
   "cell_type": "code",
   "execution_count": 3,
   "metadata": {},
   "outputs": [],
   "source": [
    "import numpy as np\n",
    "import pandas as pd\n",
    "import config # a python file that contains path to TIMSS data files\n",
    "import matplotlib.pyplot as plt\n",
    "import seaborn as sb\n",
    "\n",
    "%matplotlib inline"
   ]
  },
  {
   "cell_type": "code",
   "execution_count": 2,
   "metadata": {},
   "outputs": [],
   "source": [
    "df_student_g8 = pd.read_csv(config.cleaned_G8_student_data_path)"
   ]
  },
  {
   "cell_type": "code",
   "execution_count": 5,
   "metadata": {},
   "outputs": [
    {
     "data": {
      "text/plain": [
       "(8458, 107)"
      ]
     },
     "execution_count": 5,
     "metadata": {},
     "output_type": "execute_result"
    }
   ],
   "source": [
    "df_student_g8.shape"
   ]
  },
  {
   "cell_type": "code",
   "execution_count": 4,
   "metadata": {},
   "outputs": [
    {
     "name": "stdout",
     "output_type": "stream",
     "text": [
      "<class 'pandas.core.frame.DataFrame'>\n",
      "RangeIndex: 8458 entries, 0 to 8457\n",
      "Columns: 107 entries, IDSTUD to mean_PV\n",
      "dtypes: float64(10), object(97)\n",
      "memory usage: 6.9+ MB\n"
     ]
    }
   ],
   "source": [
    "df_student_g8.info(show_counts=True)"
   ]
  },
  {
   "cell_type": "markdown",
   "metadata": {},
   "source": [
    "Our objective is to build a ML model that will help us predict a student's TIMSS score based on other existing information related to that student.\n",
    "\n",
    "We do have 106 columns possible features and 1 label which is ***mean_PV***. It is not practicle to build an application and ask people to enter 106 information about one student in order to guess one TIMSS score. We need to drastically reduce the number of features while keeping the most possible information that could help make the wished prediction."
   ]
  },
  {
   "cell_type": "markdown",
   "metadata": {},
   "source": [
    "Based on the \"all_cleaned_profiles.html\" file, we do have many groups of features that are highly correlated with each other. We have to remove multi-colinearity:"
   ]
  },
  {
   "cell_type": "markdown",
   "metadata": {},
   "source": [
    "We have :\n",
    "- 1. BSBGHER, BSBG04, BSBG05D\n",
    "- 2. BSDGHER, 1. BSBGHER, BSBG04\n",
    "- 3. BSBGSSB, BSBDSSB, BSBG13A, BSBG13B, BSBG13C, BSBG13E\n",
    "- 4. BSDGSSB, BSBG13A, BSBG13B, BSBG13C, BSBG13D\n",
    "- 5. BSBGSB, BSDGSB *Both are correlated only with each other* \n",
    "- 6. BSBGSLM, BSBM16A, BSBM16D, BSBM16E, BSBM16F, BSBM16G, BSBM16H, BSBM16I, 8. BSBGICM, 12. BSBGSCM, 14. BSBGSVM\n",
    "- 7. BSDGSLM, 6. BSBGSLM, BSBM16A, BSBM16D, BSBM16E, BSBM16F, BSBM16G, BSBM16H, BSBM16I\n",
    "- 8. BSBGICM, 6. BSBGSLM, BSBM17B, BSBM17C, BSBM17D, BSBM17E, BSBM17F, BSBM17G\n",
    "- 9. BSDGICM, 8. BSBGICM, BSBM17B, BSBM17C, BSBM17D, BSBM17E, BSBM17F, BSBM17G\n",
    "- 10. BSBGDML, 11. BSDGDML\n",
    "- 11. BSDGDML, 10. BSBGDML\n",
    "- 12. BSBGSCM, 6. BSBGSLM, 13. BSDGSCM\n",
    "- 13. BSDGSCM, 12. BSBGSCM\n",
    "- 14. BSBGSVM, 6. BSBGSLM, BSBM20A, BSBM20B, BSBM20C, BSBM20D, BSBM20E, BSBM20F, BSBM20G, BSBM20I, BSDGSVM\n",
    "- 15. BSDGSVM, 14. BSBGSVM, BSBM20B, BSBM20C, BSBM20D, BSBM20F, BSBM20G, BSBM20I"
   ]
  },
  {
   "cell_type": "markdown",
   "metadata": {},
   "source": [
    "The following table represents the summary made by TIMSS researchers based on students data on different students' aspects. Each column was derived from a set of students' answers and all are fairly representing the whole students file:\n",
    "Column | Meaning\n",
    ":---: | :---:\n",
    " | BSBGHER:\t| Home Educational Resources/SCL |\n",
    " | BSDGHER:\t| Home Educational Resources/IDX |\n",
    " | BSBGSSB:\t| Students Sense of School Belonging/SCL  |\n",
    " | BSDGSSB:\t| Students Sense of School Belonging/IDX  |\n",
    " | BSBGSB: \t| Student Bullying/SCL  |\n",
    " | BSDGSB: \t| Student Bullying/IDX  |\n",
    " | BSBGSLM:\t| Students Like Learning Mathematics Lessons/SCL  |\n",
    " | BSDGSLM:\t| Students Like Learning Mathematics Lessons/IDX  |\n",
    " | BSBGICM: |  Instructional Clarity in Mathematics Lessons/SCL  |\n",
    " | BSDGICM:\t| Instructional Clarity in Mathematics Lessons/IDX  |\n",
    " | BSBGDML:\t| Disorderly Behavior during Math Lessons/SCL  |\n",
    " | BSDGDML:\t| Disorderly Behavior during Math Lessons/IDX  |\n",
    " | BSBGSCM:\t| Student Confident in Mathematics/SCL |\n",
    " | BSDGSCM:\t| Student Confident in Mathematics/IDX |\n",
    " | BSBGSVM:\t| Students Value Mathematics/SCL  |\n",
    " | BSDGSVM:\t| Students Value Mathematics/IDX  |\n"
   ]
  },
  {
   "cell_type": "markdown",
   "metadata": {},
   "source": [
    "We have seen above that every column from the derived summary is highly correlated with 1 or more columns from the actual questionnaires answered by students except for 2 pairs of columns that are only correlated with each other. \n",
    "\n",
    "Since we can't get those derived answers only if we got all answers from students' questionnaire, we can replace these derived answers that are representing all students' ansewrs with one of there highly correlated actual students' answers. For the exception 2 pairs of columns we can find all the actual columns they are representing and keep all of them at the moment."
   ]
  },
  {
   "cell_type": "code",
   "execution_count": null,
   "metadata": {},
   "outputs": [],
   "source": []
  }
 ],
 "metadata": {
  "kernelspec": {
   "display_name": "Python 3",
   "language": "python",
   "name": "python3"
  },
  "language_info": {
   "codemirror_mode": {
    "name": "ipython",
    "version": 3
   },
   "file_extension": ".py",
   "mimetype": "text/x-python",
   "name": "python",
   "nbconvert_exporter": "python",
   "pygments_lexer": "ipython3",
   "version": "3.11.5"
  }
 },
 "nbformat": 4,
 "nbformat_minor": 2
}
