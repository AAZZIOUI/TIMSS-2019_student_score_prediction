{
 "cells": [
  {
   "cell_type": "markdown",
   "metadata": {},
   "source": [
    "# Students Data Wrangling:\n",
    "## Table of Contents\n",
    "<ul>\n",
    "<li><a href=\"#intro\">Introduction</a></li>\n",
    "<li><a href=\"#gather\">Gathering data</a></li>\n",
    "<li><a href=\"#assess\">Assessing data</a></li>\n",
    "<li><a href=\"#clean\">Cleaning data</a></li>\n",
    "<li><a href=\"#store\">Storing data</a></li>\n",
    "<li><a href=\"#analyze\">Analyze & Visualize</a></li>\n",
    "</ul>"
   ]
  },
  {
   "cell_type": "markdown",
   "metadata": {},
   "source": [
    "<a id='intro'></a>\n",
    "## ***Introduction***\n",
    "\n",
    "After the validation of our understand on how the country score is calculated, we will take the data we have, assess it, clean it and store it in a new file in order to start analyzing it.\n",
    "\n",
    "Let's start by importing all needed libraries:"
   ]
  },
  {
   "cell_type": "code",
   "execution_count": 1,
   "metadata": {},
   "outputs": [],
   "source": [
    "import numpy as np\n",
    "import pandas as pd\n",
    "import config # a python file that contains path to TIMSS data files"
   ]
  },
  {
   "cell_type": "markdown",
   "metadata": {},
   "source": [
    "<a id='gather'></a>\n",
    "## ***Gathering Data***\n",
    "\n",
    "We believe that data from teachers could also impact the final score of students, that's why we will explore their context data at a later phase.\n",
    "\n",
    "At this stage we intend to work only with data of $8^{th}$ grade Moroccan students:\n"
   ]
  },
  {
   "cell_type": "code",
   "execution_count": 2,
   "metadata": {},
   "outputs": [],
   "source": [
    "# Students Data Context\n",
    "df_all_Students_data = pd.read_spss(config.student_data_path_G8)"
   ]
  },
  {
   "cell_type": "markdown",
   "metadata": {},
   "source": [
    "### The Columns we might be interested in within student's context data are:\n",
    "\n",
    "<table>\n",
    "    <thead>\n",
    "        <tr>\n",
    "            <th>Student Context</th>\n",
    "            <th>Details</th>\n",
    "            <th>Columns (intervals)</th>\n",
    "        </tr>\n",
    "    </thead>\n",
    "    <tbody>\n",
    "        <tr>\n",
    "            <td rowspan=6>Home</td>\n",
    "            <td>Student's personal information</td>\n",
    "            <td>]4:7]</td>\n",
    "        </tr>\n",
    "        <tr>\n",
    "            <td>Student's technology belongings</td>\n",
    "            <td>]7:17]</td>\n",
    "        </tr>\n",
    "        <tr>\n",
    "            <td>Parent's education</td>\n",
    "            <td>]17:19]</td>\n",
    "        </tr>\n",
    "        <tr>\n",
    "            <td>How far do students think they could go in education</td>\n",
    "            <td>[20]</td>\n",
    "        </tr>\n",
    "        <tr>\n",
    "            <td>How often the student is absent from school</td>\n",
    "            <td>[25]</td>\n",
    "        <tr>\n",
    "            <td>Student's Internet usage</td>\n",
    "            <td>]27:33]</td>\n",
    "        </tr>\n",
    "        <tr>\n",
    "            <td rowspan=2>School</td>\n",
    "            <td>Student's school perception</td>\n",
    "            <td>]33:38]</td>\n",
    "        </tr>\n",
    "        <tr>\n",
    "            <td>Student's feelings</td>\n",
    "            <td>]38:54]</td>\n",
    "        </tr>\n",
    "        <tr>\n",
    "            <td colspan=2>Teachers from students' eyes</td>\n",
    "            <td>]62:69]</td>\n",
    "        </tr>\n",
    "        <tr>\n",
    "            <td colspan=2>Classes from students' eyes</td>\n",
    "            <td>]69:75]</td>\n",
    "        </tr>\n",
    "        <tr>\n",
    "            <td colspan=2>Math Likability</td>\n",
    "            <td>]52:62]</td>\n",
    "        </tr>\n",
    "        <tr>\n",
    "            <td colspan=2>Math perception</td>\n",
    "            <td>]75:84]</td>\n",
    "        </tr>\n",
    "        <tr>\n",
    "            <td colspan=2>Math Importance</td>\n",
    "            <td>]84:93]</td>\n",
    "        </tr>\n",
    "        <tr>\n",
    "            <td colspan=2>Math Homeworks & Extra Lessons</td>\n",
    "            <td>[128,130,132,134,249,254,259,261]</td>\n",
    "        </tr>\n",
    "        <tr>\n",
    "            <td colspan=2>Technology usage</td>\n",
    "            <td>]269:288]</td>\n",
    "        </tr>\n",
    "        <tr>\n",
    "            <td colspan=2>Plausible Math Values</td>\n",
    "            <td>]309:314]</td>\n",
    "        </tr>\n",
    "        <tr>\n",
    "            <td colspan=2>Math data Summary</td>\n",
    "            <td>]404:420]</td>\n",
    "        </tr>\n",
    "    </tbody>\n",
    "</table>"
   ]
  },
  {
   "cell_type": "code",
   "execution_count": 4,
   "metadata": {},
   "outputs": [],
   "source": []
  }
 ],
 "metadata": {
  "kernelspec": {
   "display_name": "Python 3",
   "language": "python",
   "name": "python3"
  },
  "language_info": {
   "codemirror_mode": {
    "name": "ipython",
    "version": 3
   },
   "file_extension": ".py",
   "mimetype": "text/x-python",
   "name": "python",
   "nbconvert_exporter": "python",
   "pygments_lexer": "ipython3",
   "version": "3.11.5"
  }
 },
 "nbformat": 4,
 "nbformat_minor": 2
}
