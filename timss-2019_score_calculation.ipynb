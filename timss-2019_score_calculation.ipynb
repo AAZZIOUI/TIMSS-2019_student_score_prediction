{
 "cells": [
  {
   "cell_type": "code",
   "execution_count": 1,
   "metadata": {},
   "outputs": [],
   "source": [
    "import numpy as np\n",
    "import pandas as pd\n",
    "import config # a python file that contains path to TIMSS data files"
   ]
  },
  {
   "cell_type": "code",
   "execution_count": 80,
   "metadata": {},
   "outputs": [],
   "source": [
    "# Read both files in a dataframe\n",
    "df_original_G8 = pd.read_spss(config.file_path_G8)\n",
    "df_original_G4 = pd.read_spss(config.file_path_G4)"
   ]
  },
  {
   "cell_type": "code",
   "execution_count": 81,
   "metadata": {},
   "outputs": [
    {
     "data": {
      "text/plain": [
       "(8458, 460)"
      ]
     },
     "execution_count": 81,
     "metadata": {},
     "output_type": "execute_result"
    }
   ],
   "source": [
    "df_original_G8.shape"
   ]
  },
  {
   "cell_type": "code",
   "execution_count": 87,
   "metadata": {},
   "outputs": [
    {
     "data": {
      "text/plain": [
       "(7723, 244)"
      ]
     },
     "execution_count": 87,
     "metadata": {},
     "output_type": "execute_result"
    }
   ],
   "source": [
    "df_original_G4.shape"
   ]
  },
  {
   "cell_type": "code",
   "execution_count": 82,
   "metadata": {},
   "outputs": [
    {
     "data": {
      "text/plain": [
       "IDCNTRY     category\n",
       "IDBOOK      category\n",
       "IDSCHOOL    category\n",
       "IDCLASS     category\n",
       "IDSTUD      category\n",
       "              ...   \n",
       "BSDGEDUP    category\n",
       "BSDMLOWP    category\n",
       "BSDSLOWP    category\n",
       "VERSION     category\n",
       "SCOPE       category\n",
       "Length: 460, dtype: object"
      ]
     },
     "execution_count": 82,
     "metadata": {},
     "output_type": "execute_result"
    }
   ],
   "source": [
    "df_original_G8.dtypes"
   ]
  },
  {
   "cell_type": "code",
   "execution_count": 83,
   "metadata": {},
   "outputs": [
    {
     "data": {
      "text/html": [
       "<div>\n",
       "<style scoped>\n",
       "    .dataframe tbody tr th:only-of-type {\n",
       "        vertical-align: middle;\n",
       "    }\n",
       "\n",
       "    .dataframe tbody tr th {\n",
       "        vertical-align: top;\n",
       "    }\n",
       "\n",
       "    .dataframe thead th {\n",
       "        text-align: right;\n",
       "    }\n",
       "</style>\n",
       "<table border=\"1\" class=\"dataframe\">\n",
       "  <thead>\n",
       "    <tr style=\"text-align: right;\">\n",
       "      <th></th>\n",
       "      <th>IDCNTRY</th>\n",
       "      <th>IDBOOK</th>\n",
       "      <th>IDSCHOOL</th>\n",
       "      <th>IDCLASS</th>\n",
       "      <th>IDSTUD</th>\n",
       "      <th>BSBG01</th>\n",
       "      <th>BSBG03</th>\n",
       "      <th>BSBG04</th>\n",
       "      <th>BSBG05A</th>\n",
       "      <th>BSBG05B</th>\n",
       "      <th>...</th>\n",
       "      <th>BSBGSCP</th>\n",
       "      <th>BSDGSCP</th>\n",
       "      <th>BSBGSEC</th>\n",
       "      <th>BSDGSEC</th>\n",
       "      <th>BSDG05S</th>\n",
       "      <th>BSDGEDUP</th>\n",
       "      <th>BSDMLOWP</th>\n",
       "      <th>BSDSLOWP</th>\n",
       "      <th>VERSION</th>\n",
       "      <th>SCOPE</th>\n",
       "    </tr>\n",
       "  </thead>\n",
       "  <tbody>\n",
       "    <tr>\n",
       "      <th>count</th>\n",
       "      <td>8458.0</td>\n",
       "      <td>8458</td>\n",
       "      <td>8458.0</td>\n",
       "      <td>8458.0</td>\n",
       "      <td>8458.0</td>\n",
       "      <td>8456</td>\n",
       "      <td>7314</td>\n",
       "      <td>8341</td>\n",
       "      <td>8373</td>\n",
       "      <td>8366</td>\n",
       "      <td>...</td>\n",
       "      <td>7794.00000</td>\n",
       "      <td>7794</td>\n",
       "      <td>0</td>\n",
       "      <td>0</td>\n",
       "      <td>8235</td>\n",
       "      <td>8370</td>\n",
       "      <td>8431</td>\n",
       "      <td>8444</td>\n",
       "      <td>8458.0</td>\n",
       "      <td>8458</td>\n",
       "    </tr>\n",
       "    <tr>\n",
       "      <th>unique</th>\n",
       "      <td>1.0</td>\n",
       "      <td>14</td>\n",
       "      <td>251.0</td>\n",
       "      <td>261.0</td>\n",
       "      <td>8458.0</td>\n",
       "      <td>2</td>\n",
       "      <td>4</td>\n",
       "      <td>5</td>\n",
       "      <td>2</td>\n",
       "      <td>2</td>\n",
       "      <td>...</td>\n",
       "      <td>269.00000</td>\n",
       "      <td>3</td>\n",
       "      <td>0</td>\n",
       "      <td>0</td>\n",
       "      <td>3</td>\n",
       "      <td>6</td>\n",
       "      <td>2</td>\n",
       "      <td>2</td>\n",
       "      <td>1.0</td>\n",
       "      <td>1</td>\n",
       "    </tr>\n",
       "    <tr>\n",
       "      <th>top</th>\n",
       "      <td>504.0</td>\n",
       "      <td>Booklet 04</td>\n",
       "      <td>5076.0</td>\n",
       "      <td>524205.0</td>\n",
       "      <td>50010201.0</td>\n",
       "      <td>Girl</td>\n",
       "      <td>Sometimes</td>\n",
       "      <td>None or very few (0–10 books)</td>\n",
       "      <td>Yes</td>\n",
       "      <td>Yes</td>\n",
       "      <td>...</td>\n",
       "      <td>9.41328</td>\n",
       "      <td>Somewhat Confident in Physics</td>\n",
       "      <td>NaN</td>\n",
       "      <td>NaN</td>\n",
       "      <td>Either Own Room or Internet Connection</td>\n",
       "      <td>Some Primary, Lower Secondary or No School</td>\n",
       "      <td>No</td>\n",
       "      <td>No</td>\n",
       "      <td>4.0</td>\n",
       "      <td>Public Use File (PUF)</td>\n",
       "    </tr>\n",
       "    <tr>\n",
       "      <th>freq</th>\n",
       "      <td>8458.0</td>\n",
       "      <td>612</td>\n",
       "      <td>75.0</td>\n",
       "      <td>47.0</td>\n",
       "      <td>1.0</td>\n",
       "      <td>4237</td>\n",
       "      <td>3470</td>\n",
       "      <td>4139</td>\n",
       "      <td>5647</td>\n",
       "      <td>4310</td>\n",
       "      <td>...</td>\n",
       "      <td>1167.00000</td>\n",
       "      <td>3412</td>\n",
       "      <td>NaN</td>\n",
       "      <td>NaN</td>\n",
       "      <td>3418</td>\n",
       "      <td>2375</td>\n",
       "      <td>6237</td>\n",
       "      <td>7436</td>\n",
       "      <td>8458.0</td>\n",
       "      <td>8458</td>\n",
       "    </tr>\n",
       "  </tbody>\n",
       "</table>\n",
       "<p>4 rows × 460 columns</p>\n",
       "</div>"
      ],
      "text/plain": [
       "        IDCNTRY      IDBOOK  IDSCHOOL   IDCLASS      IDSTUD BSBG01     BSBG03  \\\n",
       "count    8458.0        8458    8458.0    8458.0      8458.0   8456       7314   \n",
       "unique      1.0          14     251.0     261.0      8458.0      2          4   \n",
       "top       504.0  Booklet 04    5076.0  524205.0  50010201.0   Girl  Sometimes   \n",
       "freq     8458.0         612      75.0      47.0         1.0   4237       3470   \n",
       "\n",
       "                               BSBG04 BSBG05A BSBG05B  ...     BSBGSCP  \\\n",
       "count                            8341    8373    8366  ...  7794.00000   \n",
       "unique                              5       2       2  ...   269.00000   \n",
       "top     None or very few (0–10 books)     Yes     Yes  ...     9.41328   \n",
       "freq                             4139    5647    4310  ...  1167.00000   \n",
       "\n",
       "                              BSDGSCP BSBGSEC BSDGSEC  \\\n",
       "count                            7794       0       0   \n",
       "unique                              3       0       0   \n",
       "top     Somewhat Confident in Physics     NaN     NaN   \n",
       "freq                             3412     NaN     NaN   \n",
       "\n",
       "                                       BSDG05S  \\\n",
       "count                                     8235   \n",
       "unique                                       3   \n",
       "top     Either Own Room or Internet Connection   \n",
       "freq                                      3418   \n",
       "\n",
       "                                          BSDGEDUP BSDMLOWP BSDSLOWP VERSION  \\\n",
       "count                                         8370     8431     8444  8458.0   \n",
       "unique                                           6        2        2     1.0   \n",
       "top     Some Primary, Lower Secondary or No School       No       No     4.0   \n",
       "freq                                          2375     6237     7436  8458.0   \n",
       "\n",
       "                        SCOPE  \n",
       "count                    8458  \n",
       "unique                      1  \n",
       "top     Public Use File (PUF)  \n",
       "freq                     8458  \n",
       "\n",
       "[4 rows x 460 columns]"
      ]
     },
     "execution_count": 83,
     "metadata": {},
     "output_type": "execute_result"
    }
   ],
   "source": [
    "df_original_G8.describe()"
   ]
  },
  {
   "cell_type": "markdown",
   "metadata": {},
   "source": [
    "## Data understanding:"
   ]
  },
  {
   "cell_type": "markdown",
   "metadata": {},
   "source": [
    " ### In the T19_G8_Codebook.xlsx --> \n",
    " #### BSGM7 sheet which contains \"Student Context Data Files\"\n",
    " we find:\n",
    " - Columns related to General information about the student: [4:52]\n",
    "    - Columns related to Student's personal information: [4:7]\n",
    "    - Columns related to Student's technology belongings: [7:17]\n",
    "    - Columns related to Parent's education: [17:19]\n",
    "    - Column about How far does the student think he/she could go in education: [19]\n",
    "    - Column about How often the student is absent from school: [24]\n",
    "    - Columns related to Student's Internet usage: [27:33]\n",
    "    - Columns related to Student's school perception: [33:38]\n",
    "    - Columns related to Student's feelings: [38:52]\n",
    " \n",
    " - Columns related to Student's math Likability : [52:62] like (\"Enjoy learning math\", \"Math is boring\" ..etc)\n",
    " - Columns related to Teachers from students point of view: [62:69]\n",
    " - Columns related to Class from student's point of view: [69:75]\n",
    " - Columns related to Studen't math perception: [75:84]\n",
    " - Columns related to Student's math importance perception [84:93]\n",
    " - Columns related to Student's math homeworks & Extra lessons: [128,130,132,134,249,254,259,261]\n",
    " - Columns related to unforced difficulties or errors during the plausible_math [263:269] like (\"No good place for answer\",\"Slow computer or tablet\" ..etc)\n",
    " - Columns related to Student's technology usage: [269,288]\n",
    " - Columns related to weight: [298,309]\n",
    " - Columns related to Plausible value mathematics score: [309:314]\n",
    " - Columns related to PV ALGEBRA: [319:324]\n",
    " - Columns related to PV MATH APPLYING: [324:329]\n",
    " - Columns related to PV DATA & PROBABILITY: [329:334]\n",
    " - Columns related to PV GEOMETRY: [334:339]\n",
    " - Columns related to PV MATH KNOWING: [339:344]\n",
    " - Columns related to PV NUMBER: [344:349]\n",
    " - Columns related to PV MATH REASONING: [349:354]\n",
    " - Columns related to MATH BENCH REACHED WITH ALL PVs: [394:399]\n",
    " - Columns summarizing student's math data: [404:420]\n",
    " - Columns related to Derived data: [454:457] "
   ]
  },
  {
   "cell_type": "markdown",
   "metadata": {},
   "source": [
    "### in this notebook, We try to replicate the country's score calculation in order to make sure that we are trying to find the right score for students in our model. \n",
    "#### We have to understand what are the columns from which the country's math score is generated:\n",
    "\n",
    "In what concerns our data, we know that Morocco scored : **388** in the **8th** grade, and **383** in the **4th** grade as published by TIMSS in their final report."
   ]
  },
  {
   "cell_type": "markdown",
   "metadata": {},
   "source": [
    "### HOW IS THE FINAL SCORE CALCULATED?\n",
    "While we couldn't find any direct answer to this question, we thoughtfully read many official resources and references. We believe the country score is most likely being calculated as follows:\n",
    "1. Creating the mean of all \"plausible math values\" (PV) for each student:\n",
    " **PV** = mean(1st_math_PV,2nd_math_PV,3rd_math_PV,4th_math_PV,5th_math_PV)\n",
    "2. Multiply each **mean_plausible_math_score**  of each student by the Total weight of that student ( in **TOTWGT** column)\n",
    "3. Calculate the Moroccan Score: \n",
    "$$ SCORE_{4^{th}G} = \\frac {\\Sigma_{i=1}^{n=7723} (PV_{i} \\times WEIGHT_{i})}{\\Sigma_{i=1}^{n=7723}  WEIGHT_{i}}$$  \n",
    "with 7723 being the number of Moroccan students participating in the study from 4th grade.\n",
    "\n",
    "$$ SCORE_{8^{th}G} = \\frac {\\Sigma_{i=1}^{n=8458} (PV_{i} \\times WEIGHT_{i})}{\\Sigma_{i=1}^{n=8458}  WEIGHT_{i}}$$ \n",
    "with 8458 being the number of Moroccan students participating in the study from 8th grade.\n",
    "\n",
    "Let's find out:"
   ]
  },
  {
   "cell_type": "code",
   "execution_count": 84,
   "metadata": {},
   "outputs": [
    {
     "data": {
      "text/html": [
       "<div>\n",
       "<style scoped>\n",
       "    .dataframe tbody tr th:only-of-type {\n",
       "        vertical-align: middle;\n",
       "    }\n",
       "\n",
       "    .dataframe tbody tr th {\n",
       "        vertical-align: top;\n",
       "    }\n",
       "\n",
       "    .dataframe thead th {\n",
       "        text-align: right;\n",
       "    }\n",
       "</style>\n",
       "<table border=\"1\" class=\"dataframe\">\n",
       "  <thead>\n",
       "    <tr style=\"text-align: right;\">\n",
       "      <th></th>\n",
       "      <th>ASMMAT01</th>\n",
       "      <th>ASMMAT02</th>\n",
       "      <th>ASMMAT03</th>\n",
       "      <th>ASMMAT04</th>\n",
       "      <th>ASMMAT05</th>\n",
       "    </tr>\n",
       "  </thead>\n",
       "  <tbody>\n",
       "    <tr>\n",
       "      <th>5103</th>\n",
       "      <td>538.07140</td>\n",
       "      <td>482.29411</td>\n",
       "      <td>474.37512</td>\n",
       "      <td>501.91816</td>\n",
       "      <td>442.52379</td>\n",
       "    </tr>\n",
       "    <tr>\n",
       "      <th>6177</th>\n",
       "      <td>430.23881</td>\n",
       "      <td>405.28422</td>\n",
       "      <td>437.27760</td>\n",
       "      <td>412.67185</td>\n",
       "      <td>402.53143</td>\n",
       "    </tr>\n",
       "    <tr>\n",
       "      <th>7260</th>\n",
       "      <td>432.81496</td>\n",
       "      <td>433.65853</td>\n",
       "      <td>443.51013</td>\n",
       "      <td>393.51714</td>\n",
       "      <td>430.52613</td>\n",
       "    </tr>\n",
       "  </tbody>\n",
       "</table>\n",
       "</div>"
      ],
      "text/plain": [
       "       ASMMAT01   ASMMAT02   ASMMAT03   ASMMAT04   ASMMAT05\n",
       "5103  538.07140  482.29411  474.37512  501.91816  442.52379\n",
       "6177  430.23881  405.28422  437.27760  412.67185  402.53143\n",
       "7260  432.81496  433.65853  443.51013  393.51714  430.52613"
      ]
     },
     "execution_count": 84,
     "metadata": {},
     "output_type": "execute_result"
    }
   ],
   "source": [
    "# We Extract only plausible math values for each grade into a separate dataframe:\n",
    "\n",
    "df_plausible_math_g8 = df_original_G8.iloc[:, np.r_[309:314]]\n",
    "df_plausible_math_g4 = df_original_G4.iloc[:, np.r_[132:137]]\n",
    "#df_plausible_math = df_original_G8.iloc[:, np.r_[4:7,19,24,349:354]]\n",
    "\n",
    "df_plausible_math_g4.sample(3)"
   ]
  },
  {
   "cell_type": "code",
   "execution_count": 85,
   "metadata": {},
   "outputs": [
    {
     "data": {
      "text/html": [
       "<div>\n",
       "<style scoped>\n",
       "    .dataframe tbody tr th:only-of-type {\n",
       "        vertical-align: middle;\n",
       "    }\n",
       "\n",
       "    .dataframe tbody tr th {\n",
       "        vertical-align: top;\n",
       "    }\n",
       "\n",
       "    .dataframe thead th {\n",
       "        text-align: right;\n",
       "    }\n",
       "</style>\n",
       "<table border=\"1\" class=\"dataframe\">\n",
       "  <thead>\n",
       "    <tr style=\"text-align: right;\">\n",
       "      <th></th>\n",
       "      <th>BSMMAT01</th>\n",
       "      <th>BSMMAT02</th>\n",
       "      <th>BSMMAT03</th>\n",
       "      <th>BSMMAT04</th>\n",
       "      <th>BSMMAT05</th>\n",
       "    </tr>\n",
       "  </thead>\n",
       "  <tbody>\n",
       "    <tr>\n",
       "      <th>count</th>\n",
       "      <td>8458.00000</td>\n",
       "      <td>8458.00000</td>\n",
       "      <td>8458.00000</td>\n",
       "      <td>8458.00000</td>\n",
       "      <td>8458.00000</td>\n",
       "    </tr>\n",
       "    <tr>\n",
       "      <th>unique</th>\n",
       "      <td>8427.00000</td>\n",
       "      <td>8440.00000</td>\n",
       "      <td>8438.00000</td>\n",
       "      <td>8438.00000</td>\n",
       "      <td>8443.00000</td>\n",
       "    </tr>\n",
       "    <tr>\n",
       "      <th>top</th>\n",
       "      <td>349.91873</td>\n",
       "      <td>338.13368</td>\n",
       "      <td>358.37952</td>\n",
       "      <td>374.83693</td>\n",
       "      <td>419.64798</td>\n",
       "    </tr>\n",
       "    <tr>\n",
       "      <th>freq</th>\n",
       "      <td>2.00000</td>\n",
       "      <td>2.00000</td>\n",
       "      <td>2.00000</td>\n",
       "      <td>2.00000</td>\n",
       "      <td>2.00000</td>\n",
       "    </tr>\n",
       "  </tbody>\n",
       "</table>\n",
       "</div>"
      ],
      "text/plain": [
       "          BSMMAT01    BSMMAT02    BSMMAT03    BSMMAT04    BSMMAT05\n",
       "count   8458.00000  8458.00000  8458.00000  8458.00000  8458.00000\n",
       "unique  8427.00000  8440.00000  8438.00000  8438.00000  8443.00000\n",
       "top      349.91873   338.13368   358.37952   374.83693   419.64798\n",
       "freq       2.00000     2.00000     2.00000     2.00000     2.00000"
      ]
     },
     "execution_count": 85,
     "metadata": {},
     "output_type": "execute_result"
    }
   ],
   "source": [
    "df_plausible_math_g8.describe()"
   ]
  },
  {
   "cell_type": "code",
   "execution_count": 86,
   "metadata": {},
   "outputs": [
    {
     "data": {
      "text/html": [
       "<div>\n",
       "<style scoped>\n",
       "    .dataframe tbody tr th:only-of-type {\n",
       "        vertical-align: middle;\n",
       "    }\n",
       "\n",
       "    .dataframe tbody tr th {\n",
       "        vertical-align: top;\n",
       "    }\n",
       "\n",
       "    .dataframe thead th {\n",
       "        text-align: right;\n",
       "    }\n",
       "</style>\n",
       "<table border=\"1\" class=\"dataframe\">\n",
       "  <thead>\n",
       "    <tr style=\"text-align: right;\">\n",
       "      <th></th>\n",
       "      <th>ASMMAT01</th>\n",
       "      <th>ASMMAT02</th>\n",
       "      <th>ASMMAT03</th>\n",
       "      <th>ASMMAT04</th>\n",
       "      <th>ASMMAT05</th>\n",
       "    </tr>\n",
       "  </thead>\n",
       "  <tbody>\n",
       "    <tr>\n",
       "      <th>count</th>\n",
       "      <td>7723.00000</td>\n",
       "      <td>7723.00000</td>\n",
       "      <td>7723.00000</td>\n",
       "      <td>7723.00000</td>\n",
       "      <td>7723.0000</td>\n",
       "    </tr>\n",
       "    <tr>\n",
       "      <th>unique</th>\n",
       "      <td>7712.00000</td>\n",
       "      <td>7713.00000</td>\n",
       "      <td>7714.00000</td>\n",
       "      <td>7713.00000</td>\n",
       "      <td>7713.0000</td>\n",
       "    </tr>\n",
       "    <tr>\n",
       "      <th>top</th>\n",
       "      <td>455.54443</td>\n",
       "      <td>343.67081</td>\n",
       "      <td>486.77344</td>\n",
       "      <td>356.35402</td>\n",
       "      <td>436.4955</td>\n",
       "    </tr>\n",
       "    <tr>\n",
       "      <th>freq</th>\n",
       "      <td>2.00000</td>\n",
       "      <td>2.00000</td>\n",
       "      <td>2.00000</td>\n",
       "      <td>2.00000</td>\n",
       "      <td>2.0000</td>\n",
       "    </tr>\n",
       "  </tbody>\n",
       "</table>\n",
       "</div>"
      ],
      "text/plain": [
       "          ASMMAT01    ASMMAT02    ASMMAT03    ASMMAT04   ASMMAT05\n",
       "count   7723.00000  7723.00000  7723.00000  7723.00000  7723.0000\n",
       "unique  7712.00000  7713.00000  7714.00000  7713.00000  7713.0000\n",
       "top      455.54443   343.67081   486.77344   356.35402   436.4955\n",
       "freq       2.00000     2.00000     2.00000     2.00000     2.0000"
      ]
     },
     "execution_count": 86,
     "metadata": {},
     "output_type": "execute_result"
    }
   ],
   "source": [
    "df_plausible_math_g4.describe()"
   ]
  },
  {
   "cell_type": "code",
   "execution_count": null,
   "metadata": {},
   "outputs": [],
   "source": [
    "# We have 5 plausible math values columns for each student. All the students in both grades are assigned a value\n",
    "# in all 5 columns. \n",
    "# Let's create a new column that contains the mean plausible math values:\n",
    "\n",
    "df_plausible_math_g8['mean_math_plausible_score']=df_plausible_math_g8.mean(axis=1)\n",
    "df_plausible_math_g4['mean_math_plausible_score']=df_plausible_math_g4.mean(axis=1)"
   ]
  },
  {
   "cell_type": "code",
   "execution_count": null,
   "metadata": {},
   "outputs": [],
   "source": [
    "\"\"\"\n",
    "TIMSS assigns crucial weights for ensuring that the sample of students is representative of the entire population,\n",
    "and they allow for the calculation of accurate population-level statistics. \n",
    "The weights are typically calculated in several steps, but TIMSS assigned a total weight (see column \"TOTWGT\") \n",
    "to each student representing all the weights. The weight value is essential to appropriately calculate \n",
    "a country's final score.\n",
    "\"\"\"\n",
    "# Let's add the TOTWGT column to our  \"plausible math values\" dataframe\n",
    "df_plausible_math_g8['TOTWGT']=df_original_G8['TOTWGT']\n",
    "df_plausible_math_g4['TOTWGT']=df_original_G4['TOTWGT']\n"
   ]
  },
  {
   "cell_type": "code",
   "execution_count": 93,
   "metadata": {},
   "outputs": [
    {
     "data": {
      "text/html": [
       "<div>\n",
       "<style scoped>\n",
       "    .dataframe tbody tr th:only-of-type {\n",
       "        vertical-align: middle;\n",
       "    }\n",
       "\n",
       "    .dataframe tbody tr th {\n",
       "        vertical-align: top;\n",
       "    }\n",
       "\n",
       "    .dataframe thead th {\n",
       "        text-align: right;\n",
       "    }\n",
       "</style>\n",
       "<table border=\"1\" class=\"dataframe\">\n",
       "  <thead>\n",
       "    <tr style=\"text-align: right;\">\n",
       "      <th></th>\n",
       "      <th>ASMMAT01</th>\n",
       "      <th>ASMMAT02</th>\n",
       "      <th>ASMMAT03</th>\n",
       "      <th>ASMMAT04</th>\n",
       "      <th>ASMMAT05</th>\n",
       "      <th>mean_math_plausible_score</th>\n",
       "      <th>TOTWGT</th>\n",
       "    </tr>\n",
       "  </thead>\n",
       "  <tbody>\n",
       "    <tr>\n",
       "      <th>4809</th>\n",
       "      <td>478.47476</td>\n",
       "      <td>452.03362</td>\n",
       "      <td>424.13111</td>\n",
       "      <td>479.09494</td>\n",
       "      <td>465.26622</td>\n",
       "      <td>459.800130</td>\n",
       "      <td>231.437679</td>\n",
       "    </tr>\n",
       "    <tr>\n",
       "      <th>1283</th>\n",
       "      <td>384.25723</td>\n",
       "      <td>430.46844</td>\n",
       "      <td>375.61210</td>\n",
       "      <td>375.60256</td>\n",
       "      <td>455.65082</td>\n",
       "      <td>404.318230</td>\n",
       "      <td>179.232090</td>\n",
       "    </tr>\n",
       "    <tr>\n",
       "      <th>3047</th>\n",
       "      <td>564.79212</td>\n",
       "      <td>460.17486</td>\n",
       "      <td>474.75888</td>\n",
       "      <td>443.25038</td>\n",
       "      <td>489.63808</td>\n",
       "      <td>486.522864</td>\n",
       "      <td>1.000000</td>\n",
       "    </tr>\n",
       "  </tbody>\n",
       "</table>\n",
       "</div>"
      ],
      "text/plain": [
       "       ASMMAT01   ASMMAT02   ASMMAT03   ASMMAT04   ASMMAT05  \\\n",
       "4809  478.47476  452.03362  424.13111  479.09494  465.26622   \n",
       "1283  384.25723  430.46844  375.61210  375.60256  455.65082   \n",
       "3047  564.79212  460.17486  474.75888  443.25038  489.63808   \n",
       "\n",
       "      mean_math_plausible_score      TOTWGT  \n",
       "4809                 459.800130  231.437679  \n",
       "1283                 404.318230  179.232090  \n",
       "3047                 486.522864    1.000000  "
      ]
     },
     "execution_count": 93,
     "metadata": {},
     "output_type": "execute_result"
    }
   ],
   "source": [
    "df_plausible_math_g4.sample(3)"
   ]
  },
  {
   "cell_type": "code",
   "execution_count": 91,
   "metadata": {},
   "outputs": [
    {
     "data": {
      "text/plain": [
       "'category'"
      ]
     },
     "execution_count": 91,
     "metadata": {},
     "output_type": "execute_result"
    }
   ],
   "source": [
    "df_plausible_math_g8['TOTWGT'].dtype.name"
   ]
  },
  {
   "cell_type": "code",
   "execution_count": null,
   "metadata": {},
   "outputs": [],
   "source": [
    "# Modify the TOTWGT data type\n",
    "df_plausible_math_g8['TOTWGT'] = df_plausible_math_g8['TOTWGT'].astype(float)\n",
    "df_plausible_math_g4['TOTWGT'] = df_plausible_math_g4['TOTWGT'].astype(float)"
   ]
  },
  {
   "cell_type": "code",
   "execution_count": 63,
   "metadata": {},
   "outputs": [
    {
     "data": {
      "text/plain": [
       "674824.316478"
      ]
     },
     "execution_count": 63,
     "metadata": {},
     "output_type": "execute_result"
    }
   ],
   "source": [
    "# Let's sum the TOTAL WEIGHT\n",
    "Sum_of_weights_g8 = df_plausible_math_g8['TOTWGT'].sum()\n",
    "Sum_of_weights_g4 = df_plausible_math_g4['TOTWGT'].sum()"
   ]
  },
  {
   "cell_type": "code",
   "execution_count": null,
   "metadata": {},
   "outputs": [],
   "source": [
    "df_plausible_math_g8['student_weighted_score'] = df_plausible_math_g8['mean_math_plausible_score'] * df_plausible_math_g8['TOTWGT']\n",
    "df_plausible_math_g4['student_weighted_score'] = df_plausible_math_g4['mean_math_plausible_score'] * df_plausible_math_g4['TOTWGT']"
   ]
  },
  {
   "cell_type": "code",
   "execution_count": 65,
   "metadata": {},
   "outputs": [
    {
     "data": {
      "text/plain": [
       "258719536.9458718"
      ]
     },
     "execution_count": 65,
     "metadata": {},
     "output_type": "execute_result"
    }
   ],
   "source": [
    "sum_of_scores_g8 = df_plausible_math_g8['student_weighted_score'].sum()\n",
    "sum_of_scores_g4 = df_plausible_math_g4['student_weighted_score'].sum()"
   ]
  },
  {
   "cell_type": "code",
   "execution_count": 99,
   "metadata": {},
   "outputs": [
    {
     "name": "stdout",
     "output_type": "stream",
     "text": [
      "Moroccan_score_g8 = 388  and \n",
      "Moroccan_score_g4 = 383\n"
     ]
    }
   ],
   "source": [
    "Moroccan_score_g8 = sum_of_scores_g8 / Sum_of_weights_g8\n",
    "Moroccan_score_g4 = sum_of_scores_g4 / Sum_of_weights_g4\n",
    "\n",
    "print(f'Moroccan_score_g8 = {round(Moroccan_score_g8)}  and \\nMoroccan_score_g4 = {round(Moroccan_score_g4)}')"
   ]
  },
  {
   "cell_type": "markdown",
   "metadata": {},
   "source": [
    "**Bingoo!!**\n",
    "\n",
    "Moroccan_score_g8 = **388**  and Moroccan_score_g4 = **383** are correct. These are the same scores officially published by TIMSS.\n",
    "\n",
    "Now that we are sure about how the countries' scores are calculated. Let's try to find a model that predicts the mean plausible math score of a particular student using some of the context data.\n",
    "\n",
    "Before that Let's do some data wrangling."
   ]
  }
 ],
 "metadata": {
  "kernelspec": {
   "display_name": "Python 3",
   "language": "python",
   "name": "python3"
  },
  "language_info": {
   "codemirror_mode": {
    "name": "ipython",
    "version": 3
   },
   "file_extension": ".py",
   "mimetype": "text/x-python",
   "name": "python",
   "nbconvert_exporter": "python",
   "pygments_lexer": "ipython3",
   "version": "3.11.5"
  }
 },
 "nbformat": 4,
 "nbformat_minor": 2
}
